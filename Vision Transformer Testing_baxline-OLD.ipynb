{
 "cells": [
  {
   "cell_type": "code",
   "execution_count": 12,
   "id": "888382fa",
   "metadata": {},
   "outputs": [],
   "source": [
    "import nibabel as nib\n",
    "import numpy as np\n",
    "import torch\n",
    "import torch.nn as nn\n",
    "import torchvision.transforms as transforms\n",
    "from einops import rearrange, repeat\n",
    "from einops.layers.torch import Rearrange\n",
    "from torch.utils.data import Dataset, DataLoader\n",
    "from pathlib import Path\n",
    "import pandas as pd\n",
    "import torch.nn.functional as F\n",
    "import torch.nn.parallel as parallel\n",
    "import matplotlib.pyplot as plt\n",
    "from datetime import datetime\n",
    "from tqdm import tqdm\n",
    "import time\n",
    "import os\n",
    "import matplotlib.pyplot as plt\n",
    "from IPython.display import display"
   ]
  },
  {
   "cell_type": "code",
   "execution_count": 13,
   "id": "dce3cab3",
   "metadata": {},
   "outputs": [],
   "source": [
    "# Vision Transformer Components\n",
    "class PatchEmbedding(nn.Module):\n",
    "    def __init__(self, image_size=224, patch_size=16, in_channels=3, embed_dim=768):\n",
    "        super().__init__()\n",
    "        self.patch_size = patch_size\n",
    "        self.projection = nn.Sequential(\n",
    "            nn.Conv2d(in_channels, embed_dim, kernel_size=patch_size, stride=patch_size),\n",
    "            Rearrange('b e h w -> b (h w) e')\n",
    "        )\n",
    "        self.cls_token = nn.Parameter(torch.randn(1, 1, embed_dim) * 0.02)\n",
    "        num_patches = (image_size // patch_size) ** 2\n",
    "        self.positions = nn.Parameter(torch.randn(1, num_patches + 1, embed_dim) * 0.02) #nn.Parameter(torch.randn((image_size // patch_size) ** 2 + 1, embed_dim))\n",
    "        self.positions.data += torch.randn_like(self.positions) * 0.01\n",
    "        \n",
    "    def forward(self, x):\n",
    "        b = x.shape[0]\n",
    "        x = self.projection(x)\n",
    "        cls_tokens = repeat(self.cls_token, '1 1 d -> b 1 d', b=b)\n",
    "        x = torch.cat([cls_tokens, x], dim=1)\n",
    "        x += self.positions\n",
    "        return x"
   ]
  },
  {
   "cell_type": "code",
   "execution_count": 14,
   "id": "6a563d54",
   "metadata": {},
   "outputs": [],
   "source": [
    "class MultiHeadAttention(nn.Module):\n",
    "    def __init__(self, embed_dim=768, num_heads=12, dropout=0.1):\n",
    "        super().__init__()\n",
    "        self.num_heads = num_heads\n",
    "        self.head_dim = embed_dim // num_heads\n",
    "        self.qkv = nn.Linear(embed_dim, embed_dim * 3)\n",
    "        self.att_drop = nn.Dropout(dropout)\n",
    "        self.projection = nn.Linear(embed_dim, embed_dim)\n",
    "        \n",
    "    def forward(self, x):\n",
    "        qkv = self.qkv(x)\n",
    "        qkv = rearrange(qkv, 'b n (h d qkv) -> qkv b h n d', \n",
    "                       h=self.num_heads, qkv=3)\n",
    "        q, k, v = qkv[0], qkv[1], qkv[2]\n",
    "        \n",
    "        scaled_dot = torch.matmul(q, k.transpose(-1, -2)) * (self.head_dim ** -0.5)\n",
    "        attention = F.softmax(scaled_dot, dim=-1)\n",
    "        attention = self.att_drop(attention)\n",
    "        \n",
    "        x = torch.matmul(attention, v)\n",
    "        x = rearrange(x, 'b h n d -> b n (h d)')\n",
    "        x = self.projection(x)\n",
    "        return x, attention"
   ]
  },
  {
   "cell_type": "code",
   "execution_count": 15,
   "id": "601a5e7d",
   "metadata": {},
   "outputs": [],
   "source": [
    "class TransformerBlock(nn.Module):\n",
    "    def __init__(self, embed_dim=768, num_heads=12, mlp_ratio=4, dropout=0.1):\n",
    "        super().__init__()\n",
    "        self.norm1 = nn.LayerNorm(embed_dim)\n",
    "        self.attn = MultiHeadAttention(embed_dim, num_heads, dropout)\n",
    "        self.norm2 = nn.LayerNorm(embed_dim)\n",
    "        self.mlp = nn.Sequential(\n",
    "            nn.Linear(embed_dim, int(embed_dim * mlp_ratio)),\n",
    "            nn.GELU(),\n",
    "            nn.Dropout(dropout),\n",
    "            nn.Linear(int(embed_dim * mlp_ratio), embed_dim),\n",
    "            nn.Dropout(dropout)\n",
    "        )\n",
    "        \n",
    "    def forward(self, x):\n",
    "        x_norm = self.norm1(x)\n",
    "        attn_output, attention = self.attn(x_norm)\n",
    "        x = x + attn_output\n",
    "        x = x + self.mlp(self.norm2(x))\n",
    "        return x, attention"
   ]
  },
  {
   "cell_type": "code",
   "execution_count": 16,
   "id": "e629dc5a",
   "metadata": {},
   "outputs": [],
   "source": [
    "class VisionTransformer(nn.Module):\n",
    "    def __init__(self, image_size=224, patch_size=16, in_channels=3, \n",
    "                 num_classes=1000, embed_dim=768, depth=12, \n",
    "                 num_heads=12, mlp_ratio=4, dropout=0.1):\n",
    "        super().__init__()\n",
    "        self.patch_embed = PatchEmbedding(\n",
    "            image_size, patch_size, in_channels, embed_dim)\n",
    "        self.transformer = nn.ModuleList([\n",
    "            TransformerBlock(embed_dim, num_heads, mlp_ratio, dropout)\n",
    "            for _ in range(depth)\n",
    "        ])\n",
    "        self.norm = nn.LayerNorm(embed_dim)\n",
    "        self.head = nn.Linear(embed_dim, num_classes)\n",
    "        \n",
    "    def forward(self, x, return_attention=False):\n",
    "        x = self.patch_embed(x)\n",
    "        attention_maps = []\n",
    "        \n",
    "        for block in self.transformer:\n",
    "            x, attention = block(x)\n",
    "            attention_maps.append(attention)\n",
    "            \n",
    "        x = self.norm(x)\n",
    "        cls_token = x[:, 0]\n",
    "        output = self.head(cls_token)\n",
    "        \n",
    "        if return_attention:\n",
    "            return output, attention_maps\n",
    "        return output"
   ]
  },
  {
   "cell_type": "code",
   "execution_count": 17,
   "id": "778fd039",
   "metadata": {},
   "outputs": [],
   "source": [
    "class HemorrhageDataset(Dataset):\n",
    "    def __init__(self, root_dir, transform=None, silent=False):\n",
    "        self.root_dir = Path(root_dir)\n",
    "        self.transform = transform\n",
    "        self.file_paths = []\n",
    "        self.labels = []\n",
    "        self.hemorrhage_types = ['epidural', 'intraparenchymal', 'intraventricular', \n",
    "                               'subarachnoid', 'subdural', 'any']\n",
    "        \n",
    "        # Initialize patient_folders here\n",
    "        self.patient_folders = [f for f in self.root_dir.iterdir() if f.is_dir()] if root_dir else []\n",
    "        \n",
    "        if root_dir and not silent:  # Only load dataset if root_dir is provided and not silent\n",
    "            print(\"Loading dataset...\")\n",
    "            self._load_dataset()\n",
    "            print(f\"Found {len(self.file_paths)} valid samples\")\n",
    "\n",
    "    def _load_dataset(self):\n",
    "        for patient_folder in self.patient_folders:\n",
    "            # Find the NIFTI file\n",
    "            nifti_files = list(patient_folder.glob(f\"{patient_folder.name}_*.nii.gz\"))\n",
    "            if not nifti_files:\n",
    "                continue\n",
    "            \n",
    "            # Get the labels file\n",
    "            labels_file = patient_folder / \"hemorrhage_labels.csv\"\n",
    "            if not labels_file.exists():\n",
    "                continue\n",
    "                \n",
    "            # Read labels\n",
    "            labels_df = pd.read_csv(labels_file)\n",
    "            \n",
    "            # Extract labels for all hemorrhage types\n",
    "            try:\n",
    "                labels = [int(labels_df[labels_df['hemorrhage_type'] == htype]['label'].values[0])\n",
    "                         for htype in self.hemorrhage_types]\n",
    "                \n",
    "                # Store file path and labels\n",
    "                self.file_paths.append(nifti_files[0])\n",
    "                self.labels.append(labels)\n",
    "            except Exception as e:\n",
    "                print(f\"Error processing {patient_folder}: {e}\")\n",
    "                continue\n",
    "    \n",
    "    def __len__(self):\n",
    "        return len(self.file_paths)\n",
    "\n",
    "    def __getitem__(self, idx):\n",
    "        # Load NIFTI file\n",
    "        nifti_path = self.file_paths[idx]\n",
    "        nifti_img = nib.load(nifti_path)\n",
    "        image = nifti_img.get_fdata()\n",
    "        \n",
    "        # Take middle slice if 3D\n",
    "        if len(image.shape) == 3:\n",
    "            middle_slice = image.shape[2] // 2\n",
    "            image = image[:, :, middle_slice]\n",
    "        \n",
    "        # Normalize the image\n",
    "        image = self.normalize_image(image)\n",
    "        \n",
    "        # Convert to torch tensor\n",
    "        image = torch.from_numpy(image).float()\n",
    "        \n",
    "        # Add channel dimension\n",
    "        image = image.unsqueeze(0)\n",
    "        \n",
    "        # Apply transforms if any\n",
    "        if self.transform:\n",
    "            image = self.transform(image)\n",
    "        \n",
    "        # Get labels\n",
    "        labels = torch.tensor(self.labels[idx], dtype=torch.float32)\n",
    "        \n",
    "        return image, labels\n",
    "\n",
    "    def normalize_image(self, image):\n",
    "        \"\"\"Normalize image values to [0, 1] range\"\"\"\n",
    "        min_val = np.min(image)\n",
    "        max_val = np.max(image)\n",
    "        if max_val != min_val:\n",
    "            image = (image - min_val) / (max_val - min_val)\n",
    "        return image"
   ]
  },
  {
   "cell_type": "code",
   "execution_count": 18,
   "id": "68194601",
   "metadata": {},
   "outputs": [],
   "source": [
    "class GradCAM:\n",
    "    def __init__(self, model, target_layer):\n",
    "        self.model = model\n",
    "        self.target_layer = target_layer\n",
    "        self.gradients = None\n",
    "        self.activations = None\n",
    "        \n",
    "        def save_gradient(module, grad_input, grad_output):\n",
    "            self.gradients = grad_output[0]\n",
    "        \n",
    "        def save_activation(module, input, output):\n",
    "            if isinstance(output, tuple):\n",
    "                self.activations = output[0]\n",
    "            else:\n",
    "                self.activations = output\n",
    "        \n",
    "        self.target_layer.register_forward_hook(save_activation)\n",
    "        self.target_layer.register_full_backward_hook(save_gradient)\n",
    "    \n",
    "    def generate_cam(self, input_image, target_class):\n",
    "        b, c, h, w = input_image.shape\n",
    "        \n",
    "        # Forward pass\n",
    "        self.model.zero_grad()\n",
    "        output, attention_maps = self.model(input_image, return_attention=True)\n",
    "        \n",
    "        # Target for backprop\n",
    "        if target_class is None:\n",
    "            target_class = output.argmax(dim=1)\n",
    "            \n",
    "        one_hot = torch.zeros_like(output)\n",
    "        one_hot[0][target_class] = 1\n",
    "        \n",
    "        # Backward pass\n",
    "        output.backward(gradient=one_hot, retain_graph=True)\n",
    "        \n",
    "        # Generate CAM\n",
    "        with torch.no_grad():\n",
    "            # Get gradients and activations\n",
    "            gradients = self.gradients[0]  # [num_tokens, embed_dim]\n",
    "            activations = self.activations[0]  # [num_tokens, embed_dim]\n",
    "            \n",
    "            # Remove CLS token\n",
    "            gradients = gradients[1:]  # [num_patches, embed_dim]\n",
    "            activations = activations[1:]  # [num_patches, embed_dim]\n",
    "            \n",
    "            # Calculate importance weights\n",
    "            weights = gradients.mean(dim=0).unsqueeze(0)  # [1, embed_dim]\n",
    "            \n",
    "            # Weighted combination of activation maps\n",
    "            cam = torch.matmul(activations, weights.transpose(0, 1))  # [num_patches]\n",
    "            \n",
    "            # Reshape to square grid\n",
    "            num_patches = int(np.sqrt(cam.shape[0]))\n",
    "            cam = cam.reshape(num_patches, num_patches)\n",
    "            \n",
    "            # Normalize\n",
    "            cam = F.relu(cam)\n",
    "            if torch.max(cam) != 0:  # Avoid division by zero\n",
    "                cam = (cam - torch.min(cam)) / (torch.max(cam) - torch.min(cam))\n",
    "            \n",
    "            # Resize to input resolution\n",
    "            cam = cam.unsqueeze(0).unsqueeze(0)  # Add batch and channel dimensions\n",
    "            cam = F.interpolate(cam, size=(h, w), mode='bilinear', align_corners=False)\n",
    "            cam = cam.squeeze()\n",
    "            \n",
    "        return cam, attention_maps"
   ]
  },
  {
   "cell_type": "code",
   "execution_count": 22,
   "id": "43fb85f0",
   "metadata": {},
   "outputs": [],
   "source": [
    "class BCEWithLogitsLossSmooth(torch.nn.Module):\n",
    "    def __init__(self, smooth=0.1):\n",
    "        super(BCEWithLogitsLossSmooth, self).__init__()\n",
    "        self.smooth = smooth\n",
    "        self.bce = torch.nn.BCEWithLogitsLoss()\n",
    "\n",
    "    def forward(self, logits, targets):\n",
    "        # Apply label smoothing\n",
    "        smooth_targets = targets * (1 - self.smooth) + 0.5 * self.smooth\n",
    "        return self.bce(logits, smooth_targets)\n"
   ]
  },
  {
   "cell_type": "code",
   "execution_count": 30,
   "id": "4d35fea7",
   "metadata": {},
   "outputs": [],
   "source": [
    "# Modify ViT for multi-label classification\n",
    "class HemorrhageViT(nn.Module):\n",
    "    def __init__(self, image_size=224, patch_size=8, in_channels=1, \n",
    "                 num_hemorrhage_types=6, embed_dim=768, depth=12, \n",
    "                 num_heads=12, mlp_ratio=4, dropout=0.3):\n",
    "        super().__init__()\n",
    "        self.vit = VisionTransformer(\n",
    "            image_size=image_size,\n",
    "            patch_size=patch_size,\n",
    "            in_channels=in_channels,\n",
    "            num_classes=embed_dim,  # Use embed_dim as intermediate dimension\n",
    "            embed_dim=embed_dim,\n",
    "            depth=depth,\n",
    "            num_heads=num_heads,\n",
    "            mlp_ratio=mlp_ratio,\n",
    "            dropout=dropout\n",
    "        )\n",
    "        # Add multi-label classification head\n",
    "        self.multilabel_head = nn.Sequential(\n",
    "            nn.Linear(embed_dim, embed_dim // 2),\n",
    "            nn.ReLU(),\n",
    "            nn.Dropout(dropout),\n",
    "            nn.Linear(embed_dim // 2, num_hemorrhage_types),\n",
    "            nn.Sigmoid()\n",
    "        )\n",
    "\n",
    "    def forward(self, x, return_attention=False):\n",
    "        if return_attention:\n",
    "            features, attention_maps = self.vit(x, return_attention=True)\n",
    "            output = self.multilabel_head(features)\n",
    "            return output, attention_maps\n",
    "        else:\n",
    "            features = self.vit(x)\n",
    "            output = self.multilabel_head(features)\n",
    "            return output\n",
    "        \n",
    "def save_training_metrics(batch_losses, epoch_losses, timestamp=None):\n",
    "    \"\"\"Save training metrics to CSV files\"\"\"\n",
    "    if timestamp is None:\n",
    "        timestamp = datetime.now().strftime('%Y%m%d_%H%M%S')\n",
    "    \n",
    "    # Save batch losses\n",
    "    batch_df = pd.DataFrame({'batch_number': range(len(batch_losses)), 'loss': batch_losses})\n",
    "    batch_df.to_csv(f'batch_losses_ben_{timestamp}.csv', index=False)\n",
    "    \n",
    "    # Save epoch losses\n",
    "    epoch_df = pd.DataFrame({'epoch_number': range(len(epoch_losses)), 'loss': epoch_losses})\n",
    "    epoch_df.to_csv(f'epoch_losses_ben_{timestamp}.csv', index=False)\n",
    "    \n",
    "    return timestamp\n",
    "\n",
    "\n",
    "def plot_training_metrics(csv_path, metric_type='batch', save_path=None, display=True):\n",
    "    \"\"\"Generate publication-quality training metric plots\"\"\"\n",
    "    print(f\"Reading metrics from: {csv_path}\")\n",
    "    df = pd.read_csv(csv_path)\n",
    "    print(f\"Found {len(df)} {metric_type} records\")\n",
    "    \n",
    "    plt.figure(figsize=(12, 6))\n",
    "    \n",
    "    # Create the plot\n",
    "    plt.plot(df[f'{metric_type}_number'], df['loss'], \n",
    "            color='#2671b8', linewidth=2, \n",
    "            marker='o' if metric_type == 'epoch' else None)\n",
    "    \n",
    "    # Customize the plot\n",
    "    plt.title(f'{metric_type.capitalize()} Loss During Training', \n",
    "             fontsize=14, pad=20)\n",
    "    plt.xlabel(f'{metric_type.capitalize()} Number', fontsize=12)\n",
    "    plt.ylabel('Loss', fontsize=12)\n",
    "    plt.grid(True, linestyle='--', alpha=0.7)\n",
    "    plt.tight_layout()\n",
    "    \n",
    "    # Save the plot\n",
    "    if save_path is None:\n",
    "        save_path = f'{metric_type}_losses_plot_publication.pdf'\n",
    "    plt.savefig(save_path, dpi=300, bbox_inches='tight')\n",
    "    print(f\"Saved plot to: {save_path}\")\n",
    "    \n",
    "    # Display in notebook if requested\n",
    "    if display:\n",
    "        plt.show()\n",
    "    else:\n",
    "        plt.close()\n",
    "\n",
    "        \n",
    "def train_hemorrhage_model(root_dir, num_epochs=10, batch_size=8):\n",
    "    # Set up GPU devices and metrics tracking\n",
    "    timestamp = datetime.now().strftime('%Y%m%d_%H%M%S')\n",
    "    batch_losses = []\n",
    "    epoch_losses = []\n",
    "    \n",
    "    if torch.cuda.is_available():\n",
    "        num_gpus = torch.cuda.device_count()\n",
    "        print(f\"Using {num_gpus} GPUs!\")\n",
    "        device = torch.device(\"cuda\")\n",
    "    else:\n",
    "        print(\"No GPU available, using CPU\")\n",
    "        device = torch.device(\"cpu\")\n",
    "    \n",
    "    # Prepare dataset\n",
    "    transform = transforms.Compose([\n",
    "#         transforms.Resize((224, 224)),\n",
    "#         transforms.Normalize(mean=[0.485], std=[0.229])\n",
    "        transforms.RandomHorizontalFlip(),\n",
    "        transforms.RandomRotation(10),\n",
    "        transforms.ColorJitter(brightness=0.2, contrast=0.2),\n",
    "        transforms.RandomResizedCrop(224, scale=(0.8, 1.0)),\n",
    "        transforms.Normalize(mean=[0.5], std=[0.5]),\n",
    "    ])\n",
    "    \n",
    "    dataset = HemorrhageDataset(root_dir=root_dir, transform=transform)\n",
    "    if len(dataset) == 0:\n",
    "        raise ValueError(\"No valid samples found in the dataset!\")\n",
    "        \n",
    "    dataloader = DataLoader(\n",
    "        dataset, \n",
    "        batch_size=batch_size * num_gpus if torch.cuda.is_available() else batch_size, \n",
    "        shuffle=True, \n",
    "        num_workers=4 * num_gpus if torch.cuda.is_available() else 4\n",
    "    )\n",
    "    \n",
    "    # Initialize model\n",
    "    model = HemorrhageViT(\n",
    "        image_size=224,\n",
    "        patch_size=16,\n",
    "        in_channels=1,\n",
    "        num_hemorrhage_types=6\n",
    "    )\n",
    "    \n",
    "    if torch.cuda.device_count() > 1:\n",
    "        model = nn.DataParallel(model)\n",
    "    model = model.to(device)\n",
    "    \n",
    "#     criterion = nn.BCELoss()\n",
    "#     criterion = BCEWithLogitsLoss(smooth=0.1)\n",
    "    criterion = nn.BCEWithLogitsLoss()\n",
    "#     optimizer = torch.optim.Adam(model.parameters(), lr=1e-4)\n",
    "    optimizer = torch.optim.AdamW(model.parameters(), lr = 1e-5, weight_decay=1e-2)\n",
    "    \n",
    "    total_batches = len(dataloader)\n",
    "    print(f\"Total batches per epoch: {total_batches}\")\n",
    "    \n",
    "    for epoch in range(num_epochs):\n",
    "        model.train()\n",
    "        epoch_loss = 0.0\n",
    "        \n",
    "        print(f\"\\nEpoch {epoch+1}/{num_epochs}\")\n",
    "        print(\"=\" * 50)\n",
    "        \n",
    "        pbar = tqdm(enumerate(dataloader), total=total_batches, \n",
    "                   desc=f\"Epoch {epoch+1}/{num_epochs}\",\n",
    "                   bar_format='{l_bar}{bar:30}{r_bar}')\n",
    "        \n",
    "        for batch_idx, (images, labels) in pbar:\n",
    "            images = images.to(device)\n",
    "            labels = labels.to(device)\n",
    "            \n",
    "            optimizer.zero_grad()\n",
    "            outputs = model(images)\n",
    "            loss = criterion(outputs, labels)\n",
    "            loss.backward()\n",
    "            optimizer.step()\n",
    "            \n",
    "            batch_loss = loss.item()\n",
    "            epoch_loss += batch_loss\n",
    "            batch_losses.append(batch_loss)\n",
    "            \n",
    "            pbar.set_description(f\"Epoch {epoch+1}/{num_epochs} | Loss: {batch_loss:.4f}\")\n",
    "            print(f\"Batch [{batch_idx+1}/{total_batches}] Loss: {batch_loss:.4f}\")\n",
    "        \n",
    "        avg_epoch_loss = epoch_loss / total_batches\n",
    "        epoch_losses.append(avg_epoch_loss)\n",
    "        \n",
    "        print(f\"\\nEpoch {epoch+1} Summary:\")\n",
    "        print(f\"Average Loss: {avg_epoch_loss:.4f}\")\n",
    "        \n",
    "        # Save checkpoint\n",
    "        checkpoint = {\n",
    "            'epoch': epoch,\n",
    "            'model_state_dict': model.state_dict(),\n",
    "            'optimizer_state_dict': optimizer.state_dict(),\n",
    "            'loss': avg_epoch_loss,\n",
    "            'batch_losses': batch_losses,\n",
    "            'epoch_losses': epoch_losses\n",
    "        }\n",
    "        torch.save(checkpoint, f'hemorrhage_model_epochBen_{epoch+1}.pth')\n",
    "    \n",
    "    # Save metrics\n",
    "    save_training_metrics(batch_losses, epoch_losses, timestamp)\n",
    "    \n",
    "    print(\"\\nTraining completed!\")\n",
    "    return model.eval(), timestamp  # Return both model and timestamp\n",
    "\n",
    "\n",
    "def analyze_hemorrhage_with_gradcam(model, nifti_path):\n",
    "    \"\"\"Analyze a CT scan for hemorrhages and visualize with Grad-CAM\"\"\"\n",
    "    device = torch.device(\"cuda\" if torch.cuda.is_available() else \"cpu\")\n",
    "    \n",
    "    # Load and preprocess the image\n",
    "    nifti_img = nib.load(nifti_path)\n",
    "    image = nifti_img.get_fdata()\n",
    "    \n",
    "    # Take middle slice if 3D\n",
    "    if len(image.shape) == 3:\n",
    "        middle_slice = image.shape[2] // 2\n",
    "        image = image[:, :, middle_slice]\n",
    "    \n",
    "    # Create temporary dataset instance for normalization\n",
    "    temp_dataset = HemorrhageDataset(root_dir=\"\", silent=True)\n",
    "    image = temp_dataset.normalize_image(image)\n",
    "    \n",
    "    # Prepare image tensor\n",
    "    image = torch.from_numpy(image).float().unsqueeze(0).unsqueeze(0)\n",
    "    image = F.interpolate(image, size=(224, 224), mode='bilinear', align_corners=False)\n",
    "    image = image.to(device)\n",
    "    \n",
    "    # Initialize Grad-CAM\n",
    "    target_layer = model.module.vit.transformer[-1] if hasattr(model, 'module') else model.vit.transformer[-1]\n",
    "    grad_cam = GradCAM(model, target_layer)\n",
    "    \n",
    "    # Get predictions and CAM for each hemorrhage type\n",
    "    hemorrhage_types = ['epidural', 'intraparenchymal', 'intraventricular', \n",
    "                       'subarachnoid', 'subdural', 'any']\n",
    "    results = []\n",
    "    \n",
    "    with torch.no_grad():\n",
    "        predictions = model(image)\n",
    "        \n",
    "    # Print predictions\n",
    "    print(\"\\nPredicted Hemorrhage Types:\")\n",
    "    print(\"-\" * 40)\n",
    "    detected_types = []\n",
    "    \n",
    "    for idx, h_type in enumerate(hemorrhage_types):\n",
    "        prob = predictions[0, idx].item()\n",
    "        if prob > 0.5:\n",
    "            detected_types.append(h_type)\n",
    "            print(f\"{h_type}: {prob:.3f}\")\n",
    "        \n",
    "        cam, attention_maps = grad_cam.generate_cam(image, target_class=idx)\n",
    "        results.append({\n",
    "            'type': h_type,\n",
    "            'probability': prob,\n",
    "            'cam': cam,\n",
    "            'attention_maps': attention_maps\n",
    "        })\n",
    "    \n",
    "    if not detected_types:\n",
    "        print(\"No hemorrhages detected\")\n",
    "    \n",
    "    return results, image\n",
    "\n",
    "\n",
    "def visualize_gradcam_results(image, results, save_dir='gradcam_results', display=True):\n",
    "    \"\"\"\n",
    "    Visualize and save Grad-CAM results for each detected hemorrhage type\n",
    "    \"\"\"\n",
    "    # Move tensors to CPU before visualization\n",
    "    image = image.cpu().detach() if isinstance(image, torch.Tensor) else image\n",
    "    \n",
    "    # Create directory if it doesn't exist\n",
    "    os.makedirs(save_dir, exist_ok=True)\n",
    "    \n",
    "    # Convert image to numpy for visualization\n",
    "    orig_image = image.squeeze().numpy()\n",
    "    \n",
    "    if not results:\n",
    "        print(\"No hemorrhages detected above threshold. Displaying all predictions anyway.\")\n",
    "    \n",
    "    for result in results:\n",
    "        h_type = result['type']\n",
    "        prob = result['probability']\n",
    "        cam = result['cam'].squeeze().cpu().detach().numpy()\n",
    "        \n",
    "        # Create figure with subplots\n",
    "        fig, (ax1, ax2, ax3) = plt.subplots(1, 3, figsize=(20, 6))\n",
    "        \n",
    "        # Original image\n",
    "        ax1.imshow(orig_image, cmap='gray')\n",
    "        ax1.set_title('Original CT Scan')\n",
    "        ax1.axis('off')\n",
    "        \n",
    "        # Grad-CAM heatmap\n",
    "        ax2.imshow(orig_image, cmap='gray')\n",
    "        heatmap = ax2.imshow(cam, cmap='jet', alpha=0.5)\n",
    "        ax2.set_title(f'{h_type} Hemorrhage\\nProbability: {prob:.3f}')\n",
    "        ax2.axis('off')\n",
    "        plt.colorbar(heatmap, ax=ax2)\n",
    "        \n",
    "        # Attention map\n",
    "        if result['attention_maps']:\n",
    "            att_map = result['attention_maps'][-1][0, 0].mean(0).cpu().detach().numpy()\n",
    "            att_size = int(np.sqrt(att_map.shape[0] - 1))\n",
    "            att_map = att_map[1:].reshape(att_size, att_size)\n",
    "            ax3.imshow(att_map, cmap='viridis')\n",
    "            ax3.set_title('Attention Map')\n",
    "            ax3.axis('off')\n",
    "            plt.colorbar(plt.cm.ScalarMappable(cmap='viridis'), ax=ax3)\n",
    "        \n",
    "        plt.suptitle(f'Grad-CAM Visualization for {h_type} Hemorrhage', y=1.05)\n",
    "        plt.tight_layout()\n",
    "        \n",
    "        # Save figure\n",
    "        save_path = os.path.join(save_dir, f'gradcam_{h_type.lower()}.pdf')\n",
    "        plt.savefig(save_path, dpi=300, bbox_inches='tight')\n",
    "        \n",
    "        # Display in notebook if requested\n",
    "        if display:\n",
    "            plt.show()\n",
    "        else:\n",
    "            plt.close()\n",
    "        \n",
    "        print(f\"Saved Grad-CAM visualization for {h_type} to {save_path}\")"
   ]
  },
  {
   "cell_type": "code",
   "execution_count": 33,
   "id": "2e416839",
   "metadata": {},
   "outputs": [
    {
     "name": "stdout",
     "output_type": "stream",
     "text": [
      "Starting model training...\n",
      "Using 1 GPUs!\n",
      "Loading dataset...\n",
      "Found 1831 valid samples\n",
      "Total batches per epoch: 229\n",
      "\n",
      "Epoch 1/10\n",
      "==================================================\n"
     ]
    },
    {
     "name": "stderr",
     "output_type": "stream",
     "text": [
      "Epoch 1/10 | Loss: 0.8643:   1%|▍                             | 3/229 [00:01<01:35,  2.37it/s]"
     ]
    },
    {
     "name": "stdout",
     "output_type": "stream",
     "text": [
      "Batch [1/229] Loss: 0.9078\n",
      "Batch [2/229] Loss: 0.8756\n",
      "Batch [3/229] Loss: 0.8961\n",
      "Batch [4/229] Loss: 0.8643\n"
     ]
    },
    {
     "name": "stderr",
     "output_type": "stream",
     "text": [
      "Epoch 1/10 | Loss: 0.8321:   3%|█                             | 8/229 [00:02<01:00,  3.67it/s]"
     ]
    },
    {
     "name": "stdout",
     "output_type": "stream",
     "text": [
      "Batch [5/229] Loss: 0.8448\n",
      "Batch [6/229] Loss: 0.8118\n",
      "Batch [7/229] Loss: 0.8141\n",
      "Batch [8/229] Loss: 0.8321\n"
     ]
    },
    {
     "name": "stderr",
     "output_type": "stream",
     "text": [
      "Epoch 1/10 | Loss: 0.7906:   4%|█▎                            | 10/229 [00:04<01:29,  2.45it/s]"
     ]
    },
    {
     "name": "stdout",
     "output_type": "stream",
     "text": [
      "Batch [9/229] Loss: 0.8063\n",
      "Batch [10/229] Loss: 0.8284\n",
      "Batch [11/229] Loss: 0.7906\n"
     ]
    },
    {
     "name": "stderr",
     "output_type": "stream",
     "text": [
      "Epoch 1/10 | Loss: 0.7693:   5%|█▌                            | 12/229 [00:04<01:07,  3.21it/s]"
     ]
    },
    {
     "name": "stdout",
     "output_type": "stream",
     "text": [
      "Batch [12/229] Loss: 0.7693\n"
     ]
    },
    {
     "name": "stderr",
     "output_type": "stream",
     "text": [
      "Epoch 1/10 | Loss: 0.8108:   6%|█▋                            | 13/229 [00:05<01:38,  2.20it/s]"
     ]
    },
    {
     "name": "stdout",
     "output_type": "stream",
     "text": [
      "Batch [13/229] Loss: 0.7831\n",
      "Batch [14/229] Loss: 0.7866\n",
      "Batch [15/229] Loss: 0.8108\n"
     ]
    },
    {
     "name": "stderr",
     "output_type": "stream",
     "text": [
      "Epoch 1/10 | Loss: 0.7604:   7%|██                            | 16/229 [00:05<01:04,  3.31it/s]"
     ]
    },
    {
     "name": "stdout",
     "output_type": "stream",
     "text": [
      "Batch [16/229] Loss: 0.7604\n"
     ]
    },
    {
     "name": "stderr",
     "output_type": "stream",
     "text": [
      "Epoch 1/10 | Loss: 0.7668:   7%|██▏                           | 17/229 [00:07<01:40,  2.11it/s]"
     ]
    },
    {
     "name": "stdout",
     "output_type": "stream",
     "text": [
      "Batch [17/229] Loss: 0.8116\n",
      "Batch [18/229] Loss: 0.7753\n",
      "Batch [19/229] Loss: 0.7668\n"
     ]
    },
    {
     "name": "stderr",
     "output_type": "stream",
     "text": [
      "Epoch 1/10 | Loss: 0.7478:   9%|██▌                           | 20/229 [00:07<01:04,  3.23it/s]"
     ]
    },
    {
     "name": "stdout",
     "output_type": "stream",
     "text": [
      "Batch [20/229] Loss: 0.7478\n"
     ]
    },
    {
     "name": "stderr",
     "output_type": "stream",
     "text": [
      "Epoch 1/10 | Loss: 0.7878:   9%|██▊                           | 21/229 [00:08<01:33,  2.23it/s]"
     ]
    },
    {
     "name": "stdout",
     "output_type": "stream",
     "text": [
      "Batch [21/229] Loss: 0.7599\n",
      "Batch [22/229] Loss: 0.7688\n",
      "Batch [23/229] Loss: 0.7878\n"
     ]
    },
    {
     "name": "stderr",
     "output_type": "stream",
     "text": [
      "Epoch 1/10 | Loss: 0.7649:  10%|███▏                          | 24/229 [00:08<00:59,  3.42it/s]"
     ]
    },
    {
     "name": "stdout",
     "output_type": "stream",
     "text": [
      "Batch [24/229] Loss: 0.7649\n"
     ]
    },
    {
     "name": "stderr",
     "output_type": "stream",
     "text": [
      "Epoch 1/10 | Loss: 0.7477:  12%|███▋                          | 28/229 [00:10<00:54,  3.69it/s]"
     ]
    },
    {
     "name": "stdout",
     "output_type": "stream",
     "text": [
      "Batch [25/229] Loss: 0.7422\n",
      "Batch [26/229] Loss: 0.7447\n",
      "Batch [27/229] Loss: 0.7425\n",
      "Batch [28/229] Loss: 0.7477\n"
     ]
    },
    {
     "name": "stderr",
     "output_type": "stream",
     "text": [
      "Epoch 1/10 | Loss: 0.7520:  14%|████▏                         | 32/229 [00:11<00:54,  3.63it/s]"
     ]
    },
    {
     "name": "stdout",
     "output_type": "stream",
     "text": [
      "Batch [29/229] Loss: 0.7563\n",
      "Batch [30/229] Loss: 0.7446\n",
      "Batch [31/229] Loss: 0.7623\n",
      "Batch [32/229] Loss: 0.7520\n"
     ]
    },
    {
     "name": "stderr",
     "output_type": "stream",
     "text": [
      "Epoch 1/10 | Loss: 0.7409:  15%|████▍                         | 34/229 [00:12<01:13,  2.65it/s]"
     ]
    },
    {
     "name": "stdout",
     "output_type": "stream",
     "text": [
      "Batch [33/229] Loss: 0.7767\n",
      "Batch [34/229] Loss: 0.7271\n",
      "Batch [35/229] Loss: 0.7409\n"
     ]
    },
    {
     "name": "stderr",
     "output_type": "stream",
     "text": [
      "Epoch 1/10 | Loss: 0.7346:  16%|████▋                         | 36/229 [00:13<00:59,  3.25it/s]"
     ]
    },
    {
     "name": "stdout",
     "output_type": "stream",
     "text": [
      "Batch [36/229] Loss: 0.7346\n"
     ]
    },
    {
     "name": "stderr",
     "output_type": "stream",
     "text": [
      "Epoch 1/10 | Loss: 0.7617:  17%|█████                         | 39/229 [00:14<01:03,  3.01it/s]"
     ]
    },
    {
     "name": "stdout",
     "output_type": "stream",
     "text": [
      "Batch [37/229] Loss: 0.7574\n",
      "Batch [38/229] Loss: 0.7432\n",
      "Batch [39/229] Loss: 0.7439\n",
      "Batch [40/229] Loss: 0.7617\n"
     ]
    },
    {
     "name": "stderr",
     "output_type": "stream",
     "text": [
      "Epoch 1/10 | Loss: 0.7301:  19%|█████▊                        | 44/229 [00:15<00:50,  3.63it/s]"
     ]
    },
    {
     "name": "stdout",
     "output_type": "stream",
     "text": [
      "Batch [41/229] Loss: 0.7204\n",
      "Batch [42/229] Loss: 0.7360\n",
      "Batch [43/229] Loss: 0.7439\n",
      "Batch [44/229] Loss: 0.7301\n"
     ]
    },
    {
     "name": "stderr",
     "output_type": "stream",
     "text": [
      "Epoch 1/10 | Loss: 0.7195:  20%|██████                        | 46/229 [00:17<01:12,  2.52it/s]"
     ]
    },
    {
     "name": "stdout",
     "output_type": "stream",
     "text": [
      "Batch [45/229] Loss: 0.7434\n",
      "Batch [46/229] Loss: 0.7302\n",
      "Batch [47/229] Loss: 0.7293\n",
      "Batch [48/229] Loss: 0.7195\n"
     ]
    },
    {
     "name": "stderr",
     "output_type": "stream",
     "text": [
      "Epoch 1/10 | Loss: 0.7262:  23%|██████▊                       | 52/229 [00:18<00:50,  3.53it/s]"
     ]
    },
    {
     "name": "stdout",
     "output_type": "stream",
     "text": [
      "Batch [49/229] Loss: 0.7125\n",
      "Batch [50/229] Loss: 0.7314\n",
      "Batch [51/229] Loss: 0.7346\n",
      "Batch [52/229] Loss: 0.7262\n"
     ]
    },
    {
     "name": "stderr",
     "output_type": "stream",
     "text": [
      "Epoch 1/10 | Loss: 0.7194:  24%|███████                       | 54/229 [00:20<01:07,  2.61it/s]"
     ]
    },
    {
     "name": "stdout",
     "output_type": "stream",
     "text": [
      "Batch [53/229] Loss: 0.7327\n",
      "Batch [54/229] Loss: 0.7169\n",
      "Batch [55/229] Loss: 0.7134\n",
      "Batch [56/229] Loss: 0.7194\n"
     ]
    },
    {
     "name": "stderr",
     "output_type": "stream",
     "text": [
      "Epoch 1/10 | Loss: 0.7258:  26%|███████▊                      | 60/229 [00:21<00:47,  3.53it/s]"
     ]
    },
    {
     "name": "stdout",
     "output_type": "stream",
     "text": [
      "Batch [57/229] Loss: 0.7185\n",
      "Batch [58/229] Loss: 0.7100\n",
      "Batch [59/229] Loss: 0.7122\n",
      "Batch [60/229] Loss: 0.7258\n"
     ]
    },
    {
     "name": "stderr",
     "output_type": "stream",
     "text": [
      "Epoch 1/10 | Loss: 0.7136:  27%|████████                      | 62/229 [00:22<01:02,  2.66it/s]"
     ]
    },
    {
     "name": "stdout",
     "output_type": "stream",
     "text": [
      "Batch [61/229] Loss: 0.7077\n",
      "Batch [62/229] Loss: 0.7114\n",
      "Batch [63/229] Loss: 0.7265\n",
      "Batch [64/229] Loss: 0.7136\n"
     ]
    },
    {
     "name": "stderr",
     "output_type": "stream",
     "text": [
      "Epoch 1/10 | Loss: 0.7163:  30%|████████▉                     | 68/229 [00:24<00:46,  3.49it/s]"
     ]
    },
    {
     "name": "stdout",
     "output_type": "stream",
     "text": [
      "Batch [65/229] Loss: 0.7107\n",
      "Batch [66/229] Loss: 0.7256\n",
      "Batch [67/229] Loss: 0.7134\n",
      "Batch [68/229] Loss: 0.7163\n"
     ]
    },
    {
     "name": "stderr",
     "output_type": "stream",
     "text": [
      "Epoch 1/10 | Loss: 0.7234:  31%|█████████▏                    | 70/229 [00:25<01:02,  2.56it/s]"
     ]
    },
    {
     "name": "stdout",
     "output_type": "stream",
     "text": [
      "Batch [69/229] Loss: 0.7107\n",
      "Batch [70/229] Loss: 0.7233\n",
      "Batch [71/229] Loss: 0.7079\n",
      "Batch [72/229] Loss: 0.7234\n"
     ]
    },
    {
     "name": "stderr",
     "output_type": "stream",
     "text": [
      "Epoch 1/10 | Loss: 0.7129:  33%|█████████▉                    | 76/229 [00:27<00:44,  3.41it/s]"
     ]
    },
    {
     "name": "stdout",
     "output_type": "stream",
     "text": [
      "Batch [73/229] Loss: 0.7151\n",
      "Batch [74/229] Loss: 0.7023\n",
      "Batch [75/229] Loss: 0.7107\n",
      "Batch [76/229] Loss: 0.7129\n"
     ]
    },
    {
     "name": "stderr",
     "output_type": "stream",
     "text": [
      "Epoch 1/10 | Loss: 0.7019:  34%|██████████▏                   | 78/229 [00:28<00:57,  2.61it/s]"
     ]
    },
    {
     "name": "stdout",
     "output_type": "stream",
     "text": [
      "Batch [77/229] Loss: 0.7255\n",
      "Batch [78/229] Loss: 0.7175\n",
      "Batch [79/229] Loss: 0.7142\n",
      "Batch [80/229] Loss: 0.7019\n"
     ]
    },
    {
     "name": "stderr",
     "output_type": "stream",
     "text": [
      "Epoch 1/10 | Loss: 0.7149:  37%|███████████                   | 84/229 [00:30<00:43,  3.33it/s]"
     ]
    },
    {
     "name": "stdout",
     "output_type": "stream",
     "text": [
      "Batch [81/229] Loss: 0.7172\n",
      "Batch [82/229] Loss: 0.6918\n",
      "Batch [83/229] Loss: 0.7138\n",
      "Batch [84/229] Loss: 0.7149\n"
     ]
    },
    {
     "name": "stderr",
     "output_type": "stream",
     "text": [
      "Epoch 1/10 | Loss: 0.7047:  38%|███████████▎                  | 86/229 [00:31<00:53,  2.69it/s]"
     ]
    },
    {
     "name": "stdout",
     "output_type": "stream",
     "text": [
      "Batch [85/229] Loss: 0.6954\n",
      "Batch [86/229] Loss: 0.7093\n",
      "Batch [87/229] Loss: 0.7080\n",
      "Batch [88/229] Loss: 0.7047\n"
     ]
    },
    {
     "name": "stderr",
     "output_type": "stream",
     "text": [
      "Epoch 1/10 | Loss: 0.7020:  40%|████████████                  | 92/229 [00:33<00:41,  3.30it/s]"
     ]
    },
    {
     "name": "stdout",
     "output_type": "stream",
     "text": [
      "Batch [89/229] Loss: 0.7065\n",
      "Batch [90/229] Loss: 0.7011\n",
      "Batch [91/229] Loss: 0.6991\n",
      "Batch [92/229] Loss: 0.7020\n"
     ]
    },
    {
     "name": "stderr",
     "output_type": "stream",
     "text": [
      "Epoch 1/10 | Loss: 0.6925:  41%|████████████▎                 | 94/229 [00:34<00:52,  2.57it/s]"
     ]
    },
    {
     "name": "stdout",
     "output_type": "stream",
     "text": [
      "Batch [93/229] Loss: 0.6927\n",
      "Batch [94/229] Loss: 0.7274\n",
      "Batch [95/229] Loss: 0.6989\n",
      "Batch [96/229] Loss: 0.6925\n"
     ]
    },
    {
     "name": "stderr",
     "output_type": "stream",
     "text": [
      "Epoch 1/10 | Loss: 0.6989:  44%|█████████████                 | 100/229 [00:36<00:37,  3.47it/s]"
     ]
    },
    {
     "name": "stdout",
     "output_type": "stream",
     "text": [
      "Batch [97/229] Loss: 0.7021\n",
      "Batch [98/229] Loss: 0.7070\n",
      "Batch [99/229] Loss: 0.6837\n",
      "Batch [100/229] Loss: 0.6989\n"
     ]
    },
    {
     "name": "stderr",
     "output_type": "stream",
     "text": [
      "Epoch 1/10 | Loss: 0.7130:  45%|█████████████▎                | 102/229 [00:37<00:47,  2.65it/s]"
     ]
    },
    {
     "name": "stdout",
     "output_type": "stream",
     "text": [
      "Batch [101/229] Loss: 0.7079\n",
      "Batch [102/229] Loss: 0.7103\n",
      "Batch [103/229] Loss: 0.7003\n",
      "Batch [104/229] Loss: 0.7130\n"
     ]
    },
    {
     "name": "stderr",
     "output_type": "stream",
     "text": [
      "Epoch 1/10 | Loss: 0.7094:  47%|██████████████▏               | 108/229 [00:38<00:34,  3.50it/s]"
     ]
    },
    {
     "name": "stdout",
     "output_type": "stream",
     "text": [
      "Batch [105/229] Loss: 0.7086\n",
      "Batch [106/229] Loss: 0.6890\n",
      "Batch [107/229] Loss: 0.6987\n",
      "Batch [108/229] Loss: 0.7094\n"
     ]
    },
    {
     "name": "stderr",
     "output_type": "stream",
     "text": [
      "Epoch 1/10 | Loss: 0.7045:  48%|██████████████▍               | 110/229 [00:40<00:43,  2.72it/s]"
     ]
    },
    {
     "name": "stdout",
     "output_type": "stream",
     "text": [
      "Batch [109/229] Loss: 0.6873\n",
      "Batch [110/229] Loss: 0.7121\n",
      "Batch [111/229] Loss: 0.7021\n",
      "Batch [112/229] Loss: 0.7045\n"
     ]
    },
    {
     "name": "stderr",
     "output_type": "stream",
     "text": [
      "Epoch 1/10 | Loss: 0.7059:  51%|███████████████▏              | 116/229 [00:41<00:32,  3.53it/s]"
     ]
    },
    {
     "name": "stdout",
     "output_type": "stream",
     "text": [
      "Batch [113/229] Loss: 0.7126\n",
      "Batch [114/229] Loss: 0.7117\n",
      "Batch [115/229] Loss: 0.6968\n",
      "Batch [116/229] Loss: 0.7059\n"
     ]
    },
    {
     "name": "stderr",
     "output_type": "stream",
     "text": [
      "Epoch 1/10 | Loss: 0.6927:  52%|███████████████▍              | 118/229 [00:43<00:42,  2.60it/s]"
     ]
    },
    {
     "name": "stdout",
     "output_type": "stream",
     "text": [
      "Batch [117/229] Loss: 0.7095\n",
      "Batch [118/229] Loss: 0.7081\n",
      "Batch [119/229] Loss: 0.7043\n",
      "Batch [120/229] Loss: 0.6927\n"
     ]
    },
    {
     "name": "stderr",
     "output_type": "stream",
     "text": [
      "Epoch 1/10 | Loss: 0.7074:  54%|████████████████▏             | 124/229 [00:44<00:27,  3.75it/s]"
     ]
    },
    {
     "name": "stdout",
     "output_type": "stream",
     "text": [
      "Batch [121/229] Loss: 0.6827\n",
      "Batch [122/229] Loss: 0.7115\n",
      "Batch [123/229] Loss: 0.7032\n",
      "Batch [124/229] Loss: 0.7074\n"
     ]
    },
    {
     "name": "stderr",
     "output_type": "stream",
     "text": [
      "Epoch 1/10 | Loss: 0.6935:  55%|████████████████▌             | 126/229 [00:45<00:37,  2.75it/s]"
     ]
    },
    {
     "name": "stdout",
     "output_type": "stream",
     "text": [
      "Batch [125/229] Loss: 0.7063\n",
      "Batch [126/229] Loss: 0.6961\n",
      "Batch [127/229] Loss: 0.7016\n",
      "Batch [128/229] Loss: 0.6935\n"
     ]
    },
    {
     "name": "stderr",
     "output_type": "stream",
     "text": [
      "Epoch 1/10 | Loss: 0.6959:  58%|█████████████████▎            | 132/229 [00:47<00:28,  3.41it/s]"
     ]
    },
    {
     "name": "stdout",
     "output_type": "stream",
     "text": [
      "Batch [129/229] Loss: 0.7023\n",
      "Batch [130/229] Loss: 0.6991\n",
      "Batch [131/229] Loss: 0.6775\n",
      "Batch [132/229] Loss: 0.6959\n"
     ]
    },
    {
     "name": "stderr",
     "output_type": "stream",
     "text": [
      "Epoch 1/10 | Loss: 0.7065:  59%|█████████████████▌            | 134/229 [00:48<00:35,  2.64it/s]"
     ]
    },
    {
     "name": "stdout",
     "output_type": "stream",
     "text": [
      "Batch [133/229] Loss: 0.6986\n",
      "Batch [134/229] Loss: 0.7009\n",
      "Batch [135/229] Loss: 0.6963\n",
      "Batch [136/229] Loss: 0.7065\n"
     ]
    },
    {
     "name": "stderr",
     "output_type": "stream",
     "text": [
      "Epoch 1/10 | Loss: 0.6867:  61%|██████████████████▎           | 140/229 [00:50<00:26,  3.40it/s]"
     ]
    },
    {
     "name": "stdout",
     "output_type": "stream",
     "text": [
      "Batch [137/229] Loss: 0.7072\n",
      "Batch [138/229] Loss: 0.7029\n",
      "Batch [139/229] Loss: 0.6948\n",
      "Batch [140/229] Loss: 0.6867\n"
     ]
    },
    {
     "name": "stderr",
     "output_type": "stream",
     "text": [
      "Epoch 1/10 | Loss: 0.6998:  62%|██████████████████▌           | 142/229 [00:51<00:30,  2.83it/s]"
     ]
    },
    {
     "name": "stdout",
     "output_type": "stream",
     "text": [
      "Batch [141/229] Loss: 0.6854\n",
      "Batch [142/229] Loss: 0.6859\n",
      "Batch [143/229] Loss: 0.7206\n",
      "Batch [144/229] Loss: 0.6998\n"
     ]
    },
    {
     "name": "stderr",
     "output_type": "stream",
     "text": [
      "Epoch 1/10 | Loss: 0.6835:  65%|███████████████████▍          | 148/229 [00:52<00:22,  3.62it/s]"
     ]
    },
    {
     "name": "stdout",
     "output_type": "stream",
     "text": [
      "Batch [145/229] Loss: 0.6949\n",
      "Batch [146/229] Loss: 0.6976\n",
      "Batch [147/229] Loss: 0.6949\n",
      "Batch [148/229] Loss: 0.6835\n"
     ]
    },
    {
     "name": "stderr",
     "output_type": "stream",
     "text": [
      "Epoch 1/10 | Loss: 0.6973:  66%|███████████████████▋          | 150/229 [00:54<00:30,  2.62it/s]"
     ]
    },
    {
     "name": "stdout",
     "output_type": "stream",
     "text": [
      "Batch [149/229] Loss: 0.6939\n",
      "Batch [150/229] Loss: 0.6863\n",
      "Batch [151/229] Loss: 0.6974\n",
      "Batch [152/229] Loss: 0.6973\n"
     ]
    },
    {
     "name": "stderr",
     "output_type": "stream",
     "text": [
      "Epoch 1/10 | Loss: 0.7016:  68%|████████████████████▍         | 156/229 [00:55<00:20,  3.60it/s]"
     ]
    },
    {
     "name": "stdout",
     "output_type": "stream",
     "text": [
      "Batch [153/229] Loss: 0.7013\n",
      "Batch [154/229] Loss: 0.6844\n",
      "Batch [155/229] Loss: 0.6922\n",
      "Batch [156/229] Loss: 0.7016\n"
     ]
    },
    {
     "name": "stderr",
     "output_type": "stream",
     "text": [
      "Epoch 1/10 | Loss: 0.6815:  69%|████████████████████▋         | 158/229 [00:56<00:25,  2.82it/s]"
     ]
    },
    {
     "name": "stdout",
     "output_type": "stream",
     "text": [
      "Batch [157/229] Loss: 0.6932\n",
      "Batch [158/229] Loss: 0.6831\n",
      "Batch [159/229] Loss: 0.6777\n",
      "Batch [160/229] Loss: 0.6815\n"
     ]
    },
    {
     "name": "stderr",
     "output_type": "stream",
     "text": [
      "Epoch 1/10 | Loss: 0.6888:  72%|█████████████████████▍        | 164/229 [00:58<00:18,  3.60it/s]"
     ]
    },
    {
     "name": "stdout",
     "output_type": "stream",
     "text": [
      "Batch [161/229] Loss: 0.7098\n",
      "Batch [162/229] Loss: 0.6844\n",
      "Batch [163/229] Loss: 0.6894\n",
      "Batch [164/229] Loss: 0.6888\n"
     ]
    },
    {
     "name": "stderr",
     "output_type": "stream",
     "text": [
      "Epoch 1/10 | Loss: 0.6984:  72%|█████████████████████▋        | 166/229 [00:59<00:22,  2.83it/s]"
     ]
    },
    {
     "name": "stdout",
     "output_type": "stream",
     "text": [
      "Batch [165/229] Loss: 0.7007\n",
      "Batch [166/229] Loss: 0.6934\n",
      "Batch [167/229] Loss: 0.6881\n",
      "Batch [168/229] Loss: 0.6984\n"
     ]
    },
    {
     "name": "stderr",
     "output_type": "stream",
     "text": [
      "Epoch 1/10 | Loss: 0.7022:  75%|██████████████████████▌       | 172/229 [01:00<00:16,  3.48it/s]"
     ]
    },
    {
     "name": "stdout",
     "output_type": "stream",
     "text": [
      "Batch [169/229] Loss: 0.7116\n",
      "Batch [170/229] Loss: 0.6964\n",
      "Batch [171/229] Loss: 0.6923\n",
      "Batch [172/229] Loss: 0.7022\n"
     ]
    },
    {
     "name": "stderr",
     "output_type": "stream",
     "text": [
      "Epoch 1/10 | Loss: 0.6981:  76%|██████████████████████▊       | 174/229 [01:02<00:21,  2.61it/s]"
     ]
    },
    {
     "name": "stdout",
     "output_type": "stream",
     "text": [
      "Batch [173/229] Loss: 0.6936\n",
      "Batch [174/229] Loss: 0.6879\n",
      "Batch [175/229] Loss: 0.6913\n",
      "Batch [176/229] Loss: 0.6981\n"
     ]
    },
    {
     "name": "stderr",
     "output_type": "stream",
     "text": [
      "Epoch 1/10 | Loss: 0.6870:  79%|███████████████████████▌      | 180/229 [01:03<00:14,  3.48it/s]"
     ]
    },
    {
     "name": "stdout",
     "output_type": "stream",
     "text": [
      "Batch [177/229] Loss: 0.6961\n",
      "Batch [178/229] Loss: 0.6868\n",
      "Batch [179/229] Loss: 0.6947\n",
      "Batch [180/229] Loss: 0.6870\n"
     ]
    },
    {
     "name": "stderr",
     "output_type": "stream",
     "text": [
      "Epoch 1/10 | Loss: 0.6979:  79%|███████████████████████▊      | 182/229 [01:05<00:16,  2.84it/s]"
     ]
    },
    {
     "name": "stdout",
     "output_type": "stream",
     "text": [
      "Batch [181/229] Loss: 0.7044\n",
      "Batch [182/229] Loss: 0.6870\n",
      "Batch [183/229] Loss: 0.6980\n",
      "Batch [184/229] Loss: 0.6979\n"
     ]
    },
    {
     "name": "stderr",
     "output_type": "stream",
     "text": [
      "Epoch 1/10 | Loss: 0.6990:  82%|████████████████████████▋     | 188/229 [01:06<00:11,  3.57it/s]"
     ]
    },
    {
     "name": "stdout",
     "output_type": "stream",
     "text": [
      "Batch [185/229] Loss: 0.7025\n",
      "Batch [186/229] Loss: 0.6915\n",
      "Batch [187/229] Loss: 0.6892\n",
      "Batch [188/229] Loss: 0.6990\n"
     ]
    },
    {
     "name": "stderr",
     "output_type": "stream",
     "text": [
      "Epoch 1/10 | Loss: 0.6871:  83%|████████████████████████▉     | 190/229 [01:07<00:14,  2.73it/s]"
     ]
    },
    {
     "name": "stdout",
     "output_type": "stream",
     "text": [
      "Batch [189/229] Loss: 0.6995\n",
      "Batch [190/229] Loss: 0.7012\n",
      "Batch [191/229] Loss: 0.7072\n",
      "Batch [192/229] Loss: 0.6871\n"
     ]
    },
    {
     "name": "stderr",
     "output_type": "stream",
     "text": [
      "Epoch 1/10 | Loss: 0.6918:  86%|█████████████████████████▋    | 196/229 [01:09<00:09,  3.62it/s]"
     ]
    },
    {
     "name": "stdout",
     "output_type": "stream",
     "text": [
      "Batch [193/229] Loss: 0.6989\n",
      "Batch [194/229] Loss: 0.6974\n",
      "Batch [195/229] Loss: 0.6847\n",
      "Batch [196/229] Loss: 0.6918\n"
     ]
    },
    {
     "name": "stderr",
     "output_type": "stream",
     "text": [
      "Epoch 1/10 | Loss: 0.6828:  86%|█████████████████████████▉    | 198/229 [01:10<00:10,  2.84it/s]"
     ]
    },
    {
     "name": "stdout",
     "output_type": "stream",
     "text": [
      "Batch [197/229] Loss: 0.6893\n",
      "Batch [198/229] Loss: 0.6819\n",
      "Batch [199/229] Loss: 0.6981\n",
      "Batch [200/229] Loss: 0.6828\n"
     ]
    },
    {
     "name": "stderr",
     "output_type": "stream",
     "text": [
      "Epoch 1/10 | Loss: 0.6778:  89%|██████████████████████████▋   | 204/229 [01:11<00:06,  3.66it/s]"
     ]
    },
    {
     "name": "stdout",
     "output_type": "stream",
     "text": [
      "Batch [201/229] Loss: 0.6856\n",
      "Batch [202/229] Loss: 0.6945\n",
      "Batch [203/229] Loss: 0.6962\n",
      "Batch [204/229] Loss: 0.6778\n"
     ]
    },
    {
     "name": "stderr",
     "output_type": "stream",
     "text": [
      "Epoch 1/10 | Loss: 0.6769:  90%|██████████████████████████▉   | 206/229 [01:12<00:07,  3.05it/s]"
     ]
    },
    {
     "name": "stdout",
     "output_type": "stream",
     "text": [
      "Batch [205/229] Loss: 0.6772\n",
      "Batch [206/229] Loss: 0.6861\n",
      "Batch [207/229] Loss: 0.6843\n",
      "Batch [208/229] Loss: 0.6769\n"
     ]
    },
    {
     "name": "stderr",
     "output_type": "stream",
     "text": [
      "Epoch 1/10 | Loss: 0.6946:  93%|███████████████████████████▊  | 212/229 [01:14<00:04,  3.74it/s]"
     ]
    },
    {
     "name": "stdout",
     "output_type": "stream",
     "text": [
      "Batch [209/229] Loss: 0.7019\n",
      "Batch [210/229] Loss: 0.6929\n",
      "Batch [211/229] Loss: 0.7252\n",
      "Batch [212/229] Loss: 0.6946\n"
     ]
    },
    {
     "name": "stderr",
     "output_type": "stream",
     "text": [
      "Epoch 1/10 | Loss: 0.6901:  93%|████████████████████████████  | 214/229 [01:16<00:05,  2.61it/s]"
     ]
    },
    {
     "name": "stdout",
     "output_type": "stream",
     "text": [
      "Batch [213/229] Loss: 0.6837\n",
      "Batch [214/229] Loss: 0.7036\n",
      "Batch [215/229] Loss: 0.6904\n",
      "Batch [216/229] Loss: 0.6901\n"
     ]
    },
    {
     "name": "stderr",
     "output_type": "stream",
     "text": [
      "Epoch 1/10 | Loss: 0.7002:  96%|████████████████████████████▊ | 220/229 [01:17<00:02,  3.28it/s]"
     ]
    },
    {
     "name": "stdout",
     "output_type": "stream",
     "text": [
      "Batch [217/229] Loss: 0.6796\n",
      "Batch [218/229] Loss: 0.6834\n",
      "Batch [219/229] Loss: 0.6893\n",
      "Batch [220/229] Loss: 0.7002\n"
     ]
    },
    {
     "name": "stderr",
     "output_type": "stream",
     "text": [
      "Epoch 1/10 | Loss: 0.6936:  97%|█████████████████████████████ | 222/229 [01:19<00:02,  2.44it/s]"
     ]
    },
    {
     "name": "stdout",
     "output_type": "stream",
     "text": [
      "Batch [221/229] Loss: 0.7123\n",
      "Batch [222/229] Loss: 0.7291\n",
      "Batch [223/229] Loss: 0.6732\n",
      "Batch [224/229] Loss: 0.6936\n"
     ]
    },
    {
     "name": "stderr",
     "output_type": "stream",
     "text": [
      "Epoch 1/10 | Loss: 0.7076: 100%|█████████████████████████████▊| 228/229 [01:20<00:00,  3.34it/s]"
     ]
    },
    {
     "name": "stdout",
     "output_type": "stream",
     "text": [
      "Batch [225/229] Loss: 0.6763\n",
      "Batch [226/229] Loss: 0.7001\n",
      "Batch [227/229] Loss: 0.6806\n",
      "Batch [228/229] Loss: 0.7076\n"
     ]
    },
    {
     "name": "stderr",
     "output_type": "stream",
     "text": [
      "Epoch 1/10 | Loss: 0.6947: 100%|██████████████████████████████| 229/229 [01:21<00:00,  2.81it/s]\n"
     ]
    },
    {
     "name": "stdout",
     "output_type": "stream",
     "text": [
      "Batch [229/229] Loss: 0.6947\n",
      "\n",
      "Epoch 1 Summary:\n",
      "Average Loss: 0.7161\n",
      "\n",
      "Epoch 2/10\n",
      "==================================================\n"
     ]
    },
    {
     "name": "stderr",
     "output_type": "stream",
     "text": [
      "Epoch 2/10 | Loss: 0.7006:   1%|▍                             | 3/229 [00:01<01:25,  2.65it/s]"
     ]
    },
    {
     "name": "stdout",
     "output_type": "stream",
     "text": [
      "Batch [1/229] Loss: 0.7002\n",
      "Batch [2/229] Loss: 0.6807\n",
      "Batch [3/229] Loss: 0.7006\n"
     ]
    },
    {
     "name": "stderr",
     "output_type": "stream",
     "text": [
      "\r",
      "Epoch 2/10 | Loss: 0.6950:   1%|▍                             | 3/229 [00:01<01:25,  2.65it/s]"
     ]
    },
    {
     "name": "stdout",
     "output_type": "stream",
     "text": [
      "Batch [4/229] Loss: 0.6950\n"
     ]
    },
    {
     "name": "stderr",
     "output_type": "stream",
     "text": [
      "Epoch 2/10 | Loss: 0.6865:   3%|█                             | 8/229 [00:02<00:59,  3.70it/s]"
     ]
    },
    {
     "name": "stdout",
     "output_type": "stream",
     "text": [
      "Batch [5/229] Loss: 0.6814\n",
      "Batch [6/229] Loss: 0.6964\n",
      "Batch [7/229] Loss: 0.6817\n",
      "Batch [8/229] Loss: 0.6865\n"
     ]
    },
    {
     "name": "stderr",
     "output_type": "stream",
     "text": [
      "Epoch 2/10 | Loss: 0.6821:   4%|█▎                            | 10/229 [00:04<01:26,  2.52it/s]"
     ]
    },
    {
     "name": "stdout",
     "output_type": "stream",
     "text": [
      "Batch [9/229] Loss: 0.6938\n",
      "Batch [10/229] Loss: 0.6840\n",
      "Batch [11/229] Loss: 0.6821\n"
     ]
    },
    {
     "name": "stderr",
     "output_type": "stream",
     "text": [
      "\r",
      "Epoch 2/10 | Loss: 0.6861:   4%|█▎                            | 10/229 [00:04<01:26,  2.52it/s]"
     ]
    },
    {
     "name": "stdout",
     "output_type": "stream",
     "text": [
      "Batch [12/229] Loss: 0.6861\n"
     ]
    },
    {
     "name": "stderr",
     "output_type": "stream",
     "text": [
      "Epoch 2/10 | Loss: 0.6918:   6%|█▊                            | 14/229 [00:05<01:10,  3.03it/s]"
     ]
    },
    {
     "name": "stdout",
     "output_type": "stream",
     "text": [
      "Batch [13/229] Loss: 0.6671\n",
      "Batch [14/229] Loss: 0.6918\n"
     ]
    },
    {
     "name": "stderr",
     "output_type": "stream",
     "text": [
      "Epoch 2/10 | Loss: 0.6870:   7%|█▉                            | 15/229 [00:05<01:04,  3.34it/s]"
     ]
    },
    {
     "name": "stdout",
     "output_type": "stream",
     "text": [
      "Batch [15/229] Loss: 0.6859\n",
      "Batch [16/229] Loss: 0.6870\n"
     ]
    },
    {
     "name": "stderr",
     "output_type": "stream",
     "text": [
      "Epoch 2/10 | Loss: 0.6922:   7%|██▏                           | 17/229 [00:06<01:14,  2.83it/s]"
     ]
    },
    {
     "name": "stdout",
     "output_type": "stream",
     "text": [
      "Batch [17/229] Loss: 0.6922\n"
     ]
    },
    {
     "name": "stderr",
     "output_type": "stream",
     "text": [
      "Epoch 2/10 | Loss: 0.6827:   8%|██▍                           | 19/229 [00:06<00:59,  3.56it/s]"
     ]
    },
    {
     "name": "stdout",
     "output_type": "stream",
     "text": [
      "Batch [18/229] Loss: 0.6891\n",
      "Batch [19/229] Loss: 0.6827\n"
     ]
    },
    {
     "name": "stderr",
     "output_type": "stream",
     "text": [
      "Epoch 2/10 | Loss: 0.6896:   9%|██▌                           | 20/229 [00:06<00:55,  3.73it/s]"
     ]
    },
    {
     "name": "stdout",
     "output_type": "stream",
     "text": [
      "Batch [20/229] Loss: 0.6896\n"
     ]
    },
    {
     "name": "stderr",
     "output_type": "stream",
     "text": [
      "Epoch 2/10 | Loss: 0.6820:   9%|██▊                           | 21/229 [00:07<01:17,  2.70it/s]"
     ]
    },
    {
     "name": "stdout",
     "output_type": "stream",
     "text": [
      "Batch [21/229] Loss: 0.6820\n"
     ]
    },
    {
     "name": "stderr",
     "output_type": "stream",
     "text": [
      "Epoch 2/10 | Loss: 0.7115:  10%|██▉                           | 22/229 [00:07<01:14,  2.80it/s]"
     ]
    },
    {
     "name": "stdout",
     "output_type": "stream",
     "text": [
      "Batch [22/229] Loss: 0.7115\n"
     ]
    },
    {
     "name": "stderr",
     "output_type": "stream",
     "text": [
      "Epoch 2/10 | Loss: 0.6908:  10%|███                           | 23/229 [00:08<01:07,  3.04it/s]"
     ]
    },
    {
     "name": "stdout",
     "output_type": "stream",
     "text": [
      "Batch [23/229] Loss: 0.6908\n"
     ]
    },
    {
     "name": "stderr",
     "output_type": "stream",
     "text": [
      "Epoch 2/10 | Loss: 0.6780:  10%|███▏                          | 24/229 [00:08<01:00,  3.39it/s]"
     ]
    },
    {
     "name": "stdout",
     "output_type": "stream",
     "text": [
      "Batch [24/229] Loss: 0.6780\n"
     ]
    },
    {
     "name": "stderr",
     "output_type": "stream",
     "text": [
      "Epoch 2/10 | Loss: 0.6952:  11%|███▎                          | 25/229 [00:09<01:20,  2.54it/s]"
     ]
    },
    {
     "name": "stdout",
     "output_type": "stream",
     "text": [
      "Batch [25/229] Loss: 0.6952\n"
     ]
    },
    {
     "name": "stderr",
     "output_type": "stream",
     "text": [
      "Epoch 2/10 | Loss: 0.6814:  11%|███▍                          | 26/229 [00:09<01:14,  2.72it/s]"
     ]
    },
    {
     "name": "stdout",
     "output_type": "stream",
     "text": [
      "Batch [26/229] Loss: 0.6850\n",
      "Batch [27/229] Loss: 0.6814\n"
     ]
    },
    {
     "name": "stderr",
     "output_type": "stream",
     "text": [
      "Epoch 2/10 | Loss: 0.7010:  12%|███▋                          | 28/229 [00:09<00:59,  3.36it/s]"
     ]
    },
    {
     "name": "stdout",
     "output_type": "stream",
     "text": [
      "Batch [28/229] Loss: 0.7010\n"
     ]
    },
    {
     "name": "stderr",
     "output_type": "stream",
     "text": [
      "Epoch 2/10 | Loss: 0.6720:  13%|███▊                          | 29/229 [00:10<01:12,  2.75it/s]"
     ]
    },
    {
     "name": "stdout",
     "output_type": "stream",
     "text": [
      "Batch [29/229] Loss: 0.6720\n"
     ]
    },
    {
     "name": "stderr",
     "output_type": "stream",
     "text": [
      "Epoch 2/10 | Loss: 0.6711:  13%|███▉                          | 30/229 [00:10<01:05,  3.02it/s]"
     ]
    },
    {
     "name": "stdout",
     "output_type": "stream",
     "text": [
      "Batch [30/229] Loss: 0.6711\n"
     ]
    },
    {
     "name": "stderr",
     "output_type": "stream",
     "text": [
      "Epoch 2/10 | Loss: 0.6871:  14%|████▏                         | 32/229 [00:10<00:52,  3.72it/s]"
     ]
    },
    {
     "name": "stdout",
     "output_type": "stream",
     "text": [
      "Batch [31/229] Loss: 0.6863\n",
      "Batch [32/229] Loss: 0.6871\n"
     ]
    },
    {
     "name": "stderr",
     "output_type": "stream",
     "text": [
      "Epoch 2/10 | Loss: 0.6865:  14%|████▎                         | 33/229 [00:11<01:19,  2.47it/s]"
     ]
    },
    {
     "name": "stdout",
     "output_type": "stream",
     "text": [
      "Batch [33/229] Loss: 0.6865\n"
     ]
    },
    {
     "name": "stderr",
     "output_type": "stream",
     "text": [
      "Epoch 2/10 | Loss: 0.6965:  15%|████▍                         | 34/229 [00:12<01:12,  2.69it/s]"
     ]
    },
    {
     "name": "stdout",
     "output_type": "stream",
     "text": [
      "Batch [34/229] Loss: 0.6803\n"
     ]
    },
    {
     "name": "stderr",
     "output_type": "stream",
     "text": [
      "Epoch 2/10 | Loss: 0.7007:  15%|████▌                         | 35/229 [00:12<01:02,  3.10it/s]"
     ]
    },
    {
     "name": "stdout",
     "output_type": "stream",
     "text": [
      "Batch [35/229] Loss: 0.6965\n",
      "Batch [36/229] Loss: 0.7007\n"
     ]
    },
    {
     "name": "stderr",
     "output_type": "stream",
     "text": [
      "Epoch 2/10 | Loss: 0.6662:  16%|████▊                         | 37/229 [00:12<01:08,  2.80it/s]"
     ]
    },
    {
     "name": "stdout",
     "output_type": "stream",
     "text": [
      "Batch [37/229] Loss: 0.6662\n"
     ]
    },
    {
     "name": "stderr",
     "output_type": "stream",
     "text": [
      "Epoch 2/10 | Loss: 0.6773:  17%|████▉                         | 38/229 [00:13<01:05,  2.92it/s]"
     ]
    },
    {
     "name": "stdout",
     "output_type": "stream",
     "text": [
      "Batch [38/229] Loss: 0.6773\n"
     ]
    },
    {
     "name": "stderr",
     "output_type": "stream",
     "text": [
      "Epoch 2/10 | Loss: 0.6907:  17%|█████                         | 39/229 [00:13<01:12,  2.61it/s]"
     ]
    },
    {
     "name": "stdout",
     "output_type": "stream",
     "text": [
      "Batch [39/229] Loss: 0.6843\n",
      "Batch [40/229] Loss: 0.6907\n"
     ]
    },
    {
     "name": "stderr",
     "output_type": "stream",
     "text": [
      "Epoch 2/10 | Loss: 0.6812:  18%|█████▎                        | 41/229 [00:14<01:03,  2.96it/s]"
     ]
    },
    {
     "name": "stdout",
     "output_type": "stream",
     "text": [
      "Batch [41/229] Loss: 0.6812\n"
     ]
    },
    {
     "name": "stderr",
     "output_type": "stream",
     "text": [
      "Epoch 2/10 | Loss: 0.6782:  18%|█████▌                        | 42/229 [00:14<01:00,  3.08it/s]"
     ]
    },
    {
     "name": "stdout",
     "output_type": "stream",
     "text": [
      "Batch [42/229] Loss: 0.6782\n"
     ]
    },
    {
     "name": "stderr",
     "output_type": "stream",
     "text": [
      "Epoch 2/10 | Loss: 0.6936:  19%|█████▋                        | 43/229 [00:15<01:18,  2.38it/s]"
     ]
    },
    {
     "name": "stdout",
     "output_type": "stream",
     "text": [
      "Batch [43/229] Loss: 0.6995\n",
      "Batch [44/229] Loss: 0.6936\n"
     ]
    },
    {
     "name": "stderr",
     "output_type": "stream",
     "text": [
      "Epoch 2/10 | Loss: 0.6757:  20%|██████                        | 46/229 [00:15<00:55,  3.30it/s]"
     ]
    },
    {
     "name": "stdout",
     "output_type": "stream",
     "text": [
      "Batch [45/229] Loss: 0.6874\n",
      "Batch [46/229] Loss: 0.6757\n"
     ]
    },
    {
     "name": "stderr",
     "output_type": "stream",
     "text": [
      "Epoch 2/10 | Loss: 0.6882:  21%|██████▏                       | 47/229 [00:16<01:14,  2.44it/s]"
     ]
    },
    {
     "name": "stdout",
     "output_type": "stream",
     "text": [
      "Batch [47/229] Loss: 0.6805\n",
      "Batch [48/229] Loss: 0.6882\n"
     ]
    },
    {
     "name": "stderr",
     "output_type": "stream",
     "text": [
      "Epoch 2/10 | Loss: 0.6927:  22%|██████▌                       | 50/229 [00:17<00:58,  3.07it/s]"
     ]
    },
    {
     "name": "stdout",
     "output_type": "stream",
     "text": [
      "Batch [49/229] Loss: 0.6962\n",
      "Batch [50/229] Loss: 0.6927\n"
     ]
    },
    {
     "name": "stderr",
     "output_type": "stream",
     "text": [
      "Epoch 2/10 | Loss: 0.6937:  22%|██████▋                       | 51/229 [00:17<01:01,  2.89it/s]"
     ]
    },
    {
     "name": "stdout",
     "output_type": "stream",
     "text": [
      "Batch [51/229] Loss: 0.6968\n",
      "Batch [52/229] Loss: 0.6937\n"
     ]
    },
    {
     "name": "stderr",
     "output_type": "stream",
     "text": [
      "Epoch 2/10 | Loss: 0.6747:  23%|██████▉                       | 53/229 [00:18<01:05,  2.68it/s]"
     ]
    },
    {
     "name": "stdout",
     "output_type": "stream",
     "text": [
      "Batch [53/229] Loss: 0.6747\n"
     ]
    },
    {
     "name": "stderr",
     "output_type": "stream",
     "text": [
      "Epoch 2/10 | Loss: 0.6822:  24%|███████▏                      | 55/229 [00:19<00:52,  3.32it/s]"
     ]
    },
    {
     "name": "stdout",
     "output_type": "stream",
     "text": [
      "Batch [54/229] Loss: 0.6993\n",
      "Batch [55/229] Loss: 0.6822\n"
     ]
    },
    {
     "name": "stderr",
     "output_type": "stream",
     "text": [
      "\r",
      "Epoch 2/10 | Loss: 0.6830:  24%|███████▏                      | 55/229 [00:19<00:52,  3.32it/s]"
     ]
    },
    {
     "name": "stdout",
     "output_type": "stream",
     "text": [
      "Batch [56/229] Loss: 0.6830\n"
     ]
    },
    {
     "name": "stderr",
     "output_type": "stream",
     "text": [
      "Epoch 2/10 | Loss: 0.6792:  25%|███████▌                      | 58/229 [00:20<00:54,  3.13it/s]"
     ]
    },
    {
     "name": "stdout",
     "output_type": "stream",
     "text": [
      "Batch [57/229] Loss: 0.6986\n",
      "Batch [58/229] Loss: 0.6792\n"
     ]
    },
    {
     "name": "stderr",
     "output_type": "stream",
     "text": [
      "Epoch 2/10 | Loss: 0.6822:  26%|███████▋                      | 59/229 [00:20<00:46,  3.67it/s]"
     ]
    },
    {
     "name": "stdout",
     "output_type": "stream",
     "text": [
      "Batch [59/229] Loss: 0.6822\n"
     ]
    },
    {
     "name": "stderr",
     "output_type": "stream",
     "text": [
      "Epoch 2/10 | Loss: 0.6825:  26%|███████▊                      | 60/229 [00:20<00:43,  3.92it/s]"
     ]
    },
    {
     "name": "stdout",
     "output_type": "stream",
     "text": [
      "Batch [60/229] Loss: 0.6825\n"
     ]
    },
    {
     "name": "stderr",
     "output_type": "stream",
     "text": [
      "Epoch 2/10 | Loss: 0.6768:  27%|███████▉                      | 61/229 [00:21<01:03,  2.63it/s]"
     ]
    },
    {
     "name": "stdout",
     "output_type": "stream",
     "text": [
      "Batch [61/229] Loss: 0.6768\n"
     ]
    },
    {
     "name": "stderr",
     "output_type": "stream",
     "text": [
      "Epoch 2/10 | Loss: 0.6868:  28%|████████▎                     | 63/229 [00:21<00:49,  3.34it/s]"
     ]
    },
    {
     "name": "stdout",
     "output_type": "stream",
     "text": [
      "Batch [62/229] Loss: 0.6927\n",
      "Batch [63/229] Loss: 0.6868\n"
     ]
    },
    {
     "name": "stderr",
     "output_type": "stream",
     "text": [
      "\r",
      "Epoch 2/10 | Loss: 0.6777:  28%|████████▎                     | 63/229 [00:21<00:49,  3.34it/s]"
     ]
    },
    {
     "name": "stdout",
     "output_type": "stream",
     "text": [
      "Batch [64/229] Loss: 0.6777\n"
     ]
    },
    {
     "name": "stderr",
     "output_type": "stream",
     "text": [
      "Epoch 2/10 | Loss: 0.6737:  28%|████████▌                     | 65/229 [00:22<01:01,  2.68it/s]"
     ]
    },
    {
     "name": "stdout",
     "output_type": "stream",
     "text": [
      "Batch [65/229] Loss: 0.7078\n",
      "Batch [66/229] Loss: 0.6737\n"
     ]
    },
    {
     "name": "stderr",
     "output_type": "stream",
     "text": [
      "Epoch 2/10 | Loss: 0.6974:  29%|████████▊                     | 67/229 [00:23<00:49,  3.26it/s]"
     ]
    },
    {
     "name": "stdout",
     "output_type": "stream",
     "text": [
      "Batch [67/229] Loss: 0.6816\n",
      "Batch [68/229] Loss: 0.6974\n"
     ]
    },
    {
     "name": "stderr",
     "output_type": "stream",
     "text": [
      "Epoch 2/10 | Loss: 0.6809:  30%|█████████                     | 69/229 [00:23<00:51,  3.09it/s]"
     ]
    },
    {
     "name": "stdout",
     "output_type": "stream",
     "text": [
      "Batch [69/229] Loss: 0.6809\n"
     ]
    },
    {
     "name": "stderr",
     "output_type": "stream",
     "text": [
      "Epoch 2/10 | Loss: 0.6833:  31%|█████████▎                    | 71/229 [00:24<00:48,  3.26it/s]"
     ]
    },
    {
     "name": "stdout",
     "output_type": "stream",
     "text": [
      "Batch [70/229] Loss: 0.6931\n",
      "Batch [71/229] Loss: 0.6833\n"
     ]
    },
    {
     "name": "stderr",
     "output_type": "stream",
     "text": [
      "\r",
      "Epoch 2/10 | Loss: 0.6879:  31%|█████████▎                    | 71/229 [00:24<00:48,  3.26it/s]"
     ]
    },
    {
     "name": "stdout",
     "output_type": "stream",
     "text": [
      "Batch [72/229] Loss: 0.6879\n"
     ]
    },
    {
     "name": "stderr",
     "output_type": "stream",
     "text": [
      "Epoch 2/10 | Loss: 0.6935:  32%|█████████▌                    | 73/229 [00:25<00:51,  3.04it/s]"
     ]
    },
    {
     "name": "stdout",
     "output_type": "stream",
     "text": [
      "Batch [73/229] Loss: 0.6935\n"
     ]
    },
    {
     "name": "stderr",
     "output_type": "stream",
     "text": [
      "Epoch 2/10 | Loss: 0.7000:  32%|█████████▋                    | 74/229 [00:25<00:56,  2.76it/s]"
     ]
    },
    {
     "name": "stdout",
     "output_type": "stream",
     "text": [
      "Batch [74/229] Loss: 0.7000\n"
     ]
    },
    {
     "name": "stderr",
     "output_type": "stream",
     "text": [
      "Epoch 2/10 | Loss: 0.6790:  33%|█████████▊                    | 75/229 [00:25<00:51,  2.98it/s]"
     ]
    },
    {
     "name": "stdout",
     "output_type": "stream",
     "text": [
      "Batch [75/229] Loss: 0.6857\n",
      "Batch [76/229] Loss: 0.6790\n"
     ]
    },
    {
     "name": "stderr",
     "output_type": "stream",
     "text": [
      "Epoch 2/10 | Loss: 0.6963:  34%|██████████                    | 77/229 [00:26<00:55,  2.73it/s]"
     ]
    },
    {
     "name": "stdout",
     "output_type": "stream",
     "text": [
      "Batch [77/229] Loss: 0.6963\n"
     ]
    },
    {
     "name": "stderr",
     "output_type": "stream",
     "text": [
      "Epoch 2/10 | Loss: 0.6887:  35%|██████████▍                   | 80/229 [00:27<00:38,  3.88it/s]"
     ]
    },
    {
     "name": "stdout",
     "output_type": "stream",
     "text": [
      "Batch [78/229] Loss: 0.6751\n",
      "Batch [79/229] Loss: 0.6672\n",
      "Batch [80/229] Loss: 0.6887\n"
     ]
    },
    {
     "name": "stderr",
     "output_type": "stream",
     "text": [
      "Epoch 2/10 | Loss: 0.6818:  35%|██████████▌                   | 81/229 [00:27<00:51,  2.90it/s]"
     ]
    },
    {
     "name": "stdout",
     "output_type": "stream",
     "text": [
      "Batch [81/229] Loss: 0.6818\n"
     ]
    },
    {
     "name": "stderr",
     "output_type": "stream",
     "text": [
      "Epoch 2/10 | Loss: 0.6710:  37%|███████████                   | 84/229 [00:28<00:37,  3.85it/s]"
     ]
    },
    {
     "name": "stdout",
     "output_type": "stream",
     "text": [
      "Batch [82/229] Loss: 0.7057\n",
      "Batch [83/229] Loss: 0.6807\n",
      "Batch [84/229] Loss: 0.6710\n"
     ]
    },
    {
     "name": "stderr",
     "output_type": "stream",
     "text": [
      "Epoch 2/10 | Loss: 0.6890:  37%|███████████▏                  | 85/229 [00:29<00:49,  2.93it/s]"
     ]
    },
    {
     "name": "stdout",
     "output_type": "stream",
     "text": [
      "Batch [85/229] Loss: 0.6890\n"
     ]
    },
    {
     "name": "stderr",
     "output_type": "stream",
     "text": [
      "Epoch 2/10 | Loss: 0.7023:  38%|███████████▎                  | 86/229 [00:29<00:57,  2.49it/s]"
     ]
    },
    {
     "name": "stdout",
     "output_type": "stream",
     "text": [
      "Batch [86/229] Loss: 0.6989\n",
      "Batch [87/229] Loss: 0.7018\n",
      "Batch [88/229] Loss: 0.7023\n"
     ]
    },
    {
     "name": "stderr",
     "output_type": "stream",
     "text": [
      "Epoch 2/10 | Loss: 0.6956:  39%|███████████▋                  | 89/229 [00:30<00:48,  2.87it/s]"
     ]
    },
    {
     "name": "stdout",
     "output_type": "stream",
     "text": [
      "Batch [89/229] Loss: 0.6956\n"
     ]
    },
    {
     "name": "stderr",
     "output_type": "stream",
     "text": [
      "Epoch 2/10 | Loss: 0.6788:  39%|███████████▊                  | 90/229 [00:31<00:46,  2.97it/s]"
     ]
    },
    {
     "name": "stdout",
     "output_type": "stream",
     "text": [
      "Batch [90/229] Loss: 0.6691\n",
      "Batch [91/229] Loss: 0.6799\n",
      "Batch [92/229] Loss: 0.6788\n"
     ]
    },
    {
     "name": "stderr",
     "output_type": "stream",
     "text": [
      "Epoch 2/10 | Loss: 0.6691:  41%|████████████▏                 | 93/229 [00:31<00:44,  3.02it/s]"
     ]
    },
    {
     "name": "stdout",
     "output_type": "stream",
     "text": [
      "Batch [93/229] Loss: 0.6691\n"
     ]
    },
    {
     "name": "stderr",
     "output_type": "stream",
     "text": [
      "Epoch 2/10 | Loss: 0.7100:  41%|████████████▎                 | 94/229 [00:32<00:47,  2.85it/s]"
     ]
    },
    {
     "name": "stdout",
     "output_type": "stream",
     "text": [
      "Batch [94/229] Loss: 0.6843\n",
      "Batch [95/229] Loss: 0.6959\n",
      "Batch [96/229] Loss: 0.7100\n"
     ]
    },
    {
     "name": "stderr",
     "output_type": "stream",
     "text": [
      "Epoch 2/10 | Loss: 0.6728:  42%|████████████▋                 | 97/229 [00:33<00:46,  2.87it/s]"
     ]
    },
    {
     "name": "stdout",
     "output_type": "stream",
     "text": [
      "Batch [97/229] Loss: 0.6728\n"
     ]
    },
    {
     "name": "stderr",
     "output_type": "stream",
     "text": [
      "Epoch 2/10 | Loss: 0.6889:  43%|████████████▊                 | 98/229 [00:34<00:48,  2.68it/s]"
     ]
    },
    {
     "name": "stdout",
     "output_type": "stream",
     "text": [
      "Batch [98/229] Loss: 0.6894\n",
      "Batch [99/229] Loss: 0.6874\n",
      "Batch [100/229] Loss: 0.6889\n"
     ]
    },
    {
     "name": "stderr",
     "output_type": "stream",
     "text": [
      "Epoch 2/10 | Loss: 0.7274:  44%|█████████████▏                | 101/229 [00:35<00:47,  2.72it/s]"
     ]
    },
    {
     "name": "stdout",
     "output_type": "stream",
     "text": [
      "Batch [101/229] Loss: 0.7274\n"
     ]
    },
    {
     "name": "stderr",
     "output_type": "stream",
     "text": [
      "Epoch 2/10 | Loss: 0.6900:  45%|█████████████▎                | 102/229 [00:35<00:47,  2.65it/s]"
     ]
    },
    {
     "name": "stdout",
     "output_type": "stream",
     "text": [
      "Batch [102/229] Loss: 0.6823\n",
      "Batch [103/229] Loss: 0.6705\n",
      "Batch [104/229] Loss: 0.6900\n"
     ]
    },
    {
     "name": "stderr",
     "output_type": "stream",
     "text": [
      "Epoch 2/10 | Loss: 0.6832:  46%|█████████████▊                | 105/229 [00:36<00:40,  3.06it/s]"
     ]
    },
    {
     "name": "stdout",
     "output_type": "stream",
     "text": [
      "Batch [105/229] Loss: 0.6832\n"
     ]
    },
    {
     "name": "stderr",
     "output_type": "stream",
     "text": [
      "Epoch 2/10 | Loss: 0.6839:  46%|█████████████▉                | 106/229 [00:37<00:48,  2.53it/s]"
     ]
    },
    {
     "name": "stdout",
     "output_type": "stream",
     "text": [
      "Batch [106/229] Loss: 0.6930\n",
      "Batch [107/229] Loss: 0.6890\n",
      "Batch [108/229] Loss: 0.6839\n"
     ]
    },
    {
     "name": "stderr",
     "output_type": "stream",
     "text": [
      "Epoch 2/10 | Loss: 0.6721:  48%|██████████████▎               | 109/229 [00:37<00:37,  3.21it/s]"
     ]
    },
    {
     "name": "stdout",
     "output_type": "stream",
     "text": [
      "Batch [109/229] Loss: 0.6721\n"
     ]
    },
    {
     "name": "stderr",
     "output_type": "stream",
     "text": [
      "Epoch 2/10 | Loss: 0.6971:  48%|██████████████▍               | 110/229 [00:38<00:45,  2.63it/s]"
     ]
    },
    {
     "name": "stdout",
     "output_type": "stream",
     "text": [
      "Batch [110/229] Loss: 0.7016\n",
      "Batch [111/229] Loss: 0.6981\n",
      "Batch [112/229] Loss: 0.6971\n"
     ]
    },
    {
     "name": "stderr",
     "output_type": "stream",
     "text": [
      "Epoch 2/10 | Loss: 0.6739:  49%|██████████████▊               | 113/229 [00:38<00:35,  3.31it/s]"
     ]
    },
    {
     "name": "stdout",
     "output_type": "stream",
     "text": [
      "Batch [113/229] Loss: 0.6739\n"
     ]
    },
    {
     "name": "stderr",
     "output_type": "stream",
     "text": [
      "Epoch 2/10 | Loss: 0.6723:  50%|██████████████▉               | 114/229 [00:39<00:40,  2.87it/s]"
     ]
    },
    {
     "name": "stdout",
     "output_type": "stream",
     "text": [
      "Batch [114/229] Loss: 0.6762\n",
      "Batch [115/229] Loss: 0.6907\n",
      "Batch [116/229] Loss: 0.6723\n"
     ]
    },
    {
     "name": "stderr",
     "output_type": "stream",
     "text": [
      "Epoch 2/10 | Loss: 0.7003:  51%|███████████████▎              | 117/229 [00:40<00:34,  3.20it/s]"
     ]
    },
    {
     "name": "stdout",
     "output_type": "stream",
     "text": [
      "Batch [117/229] Loss: 0.7003\n"
     ]
    },
    {
     "name": "stderr",
     "output_type": "stream",
     "text": [
      "Epoch 2/10 | Loss: 0.6694:  52%|███████████████▍              | 118/229 [00:40<00:37,  2.93it/s]"
     ]
    },
    {
     "name": "stdout",
     "output_type": "stream",
     "text": [
      "Batch [118/229] Loss: 0.7069\n",
      "Batch [119/229] Loss: 0.6812\n",
      "Batch [120/229] Loss: 0.6694\n"
     ]
    },
    {
     "name": "stderr",
     "output_type": "stream",
     "text": [
      "Epoch 2/10 | Loss: 0.6931:  53%|███████████████▊              | 121/229 [00:41<00:32,  3.29it/s]"
     ]
    },
    {
     "name": "stdout",
     "output_type": "stream",
     "text": [
      "Batch [121/229] Loss: 0.6931\n"
     ]
    },
    {
     "name": "stderr",
     "output_type": "stream",
     "text": [
      "Epoch 2/10 | Loss: 0.6707:  53%|███████████████▉              | 122/229 [00:42<00:36,  2.91it/s]"
     ]
    },
    {
     "name": "stdout",
     "output_type": "stream",
     "text": [
      "Batch [122/229] Loss: 0.6684\n",
      "Batch [123/229] Loss: 0.6661\n",
      "Batch [124/229] Loss: 0.6707\n"
     ]
    },
    {
     "name": "stderr",
     "output_type": "stream",
     "text": [
      "Epoch 2/10 | Loss: 0.6832:  55%|████████████████▍             | 125/229 [00:42<00:34,  3.06it/s]"
     ]
    },
    {
     "name": "stdout",
     "output_type": "stream",
     "text": [
      "Batch [125/229] Loss: 0.6832\n"
     ]
    },
    {
     "name": "stderr",
     "output_type": "stream",
     "text": [
      "Epoch 2/10 | Loss: 0.6835:  55%|████████████████▌             | 126/229 [00:43<00:38,  2.66it/s]"
     ]
    },
    {
     "name": "stdout",
     "output_type": "stream",
     "text": [
      "Batch [126/229] Loss: 0.6803\n",
      "Batch [127/229] Loss: 0.6648\n",
      "Batch [128/229] Loss: 0.6835\n"
     ]
    },
    {
     "name": "stderr",
     "output_type": "stream",
     "text": [
      "Epoch 2/10 | Loss: 0.7003:  56%|████████████████▉             | 129/229 [00:44<00:37,  2.68it/s]"
     ]
    },
    {
     "name": "stdout",
     "output_type": "stream",
     "text": [
      "Batch [129/229] Loss: 0.7003\n"
     ]
    },
    {
     "name": "stderr",
     "output_type": "stream",
     "text": [
      "Epoch 2/10 | Loss: 0.6810:  57%|█████████████████             | 130/229 [00:44<00:34,  2.88it/s]"
     ]
    },
    {
     "name": "stdout",
     "output_type": "stream",
     "text": [
      "Batch [130/229] Loss: 0.6793\n",
      "Batch [131/229] Loss: 0.6999\n",
      "Batch [132/229] Loss: 0.6810\n"
     ]
    },
    {
     "name": "stderr",
     "output_type": "stream",
     "text": [
      "Epoch 2/10 | Loss: 0.6764:  59%|█████████████████▊            | 136/229 [00:46<00:25,  3.70it/s]"
     ]
    },
    {
     "name": "stdout",
     "output_type": "stream",
     "text": [
      "Batch [133/229] Loss: 0.6955\n",
      "Batch [134/229] Loss: 0.6701\n",
      "Batch [135/229] Loss: 0.7102\n",
      "Batch [136/229] Loss: 0.6764\n"
     ]
    },
    {
     "name": "stderr",
     "output_type": "stream",
     "text": [
      "Epoch 2/10 | Loss: 0.6961:  61%|██████████████████▏           | 139/229 [00:47<00:29,  3.09it/s]"
     ]
    },
    {
     "name": "stdout",
     "output_type": "stream",
     "text": [
      "Batch [137/229] Loss: 0.6735\n",
      "Batch [138/229] Loss: 0.6875\n",
      "Batch [139/229] Loss: 0.6875\n",
      "Batch [140/229] Loss: 0.6961\n"
     ]
    },
    {
     "name": "stderr",
     "output_type": "stream",
     "text": [
      "Epoch 2/10 | Loss: 0.6734:  62%|██████████████████▌           | 142/229 [00:49<00:30,  2.82it/s]"
     ]
    },
    {
     "name": "stdout",
     "output_type": "stream",
     "text": [
      "Batch [141/229] Loss: 0.6805\n",
      "Batch [142/229] Loss: 0.6768\n",
      "Batch [143/229] Loss: 0.6734\n"
     ]
    },
    {
     "name": "stderr",
     "output_type": "stream",
     "text": [
      "\r",
      "Epoch 2/10 | Loss: 0.6998:  62%|██████████████████▌           | 142/229 [00:49<00:30,  2.82it/s]"
     ]
    },
    {
     "name": "stdout",
     "output_type": "stream",
     "text": [
      "Batch [144/229] Loss: 0.6998\n"
     ]
    },
    {
     "name": "stderr",
     "output_type": "stream",
     "text": [
      "Epoch 2/10 | Loss: 0.6963:  64%|███████████████████▏          | 146/229 [00:50<00:27,  2.99it/s]"
     ]
    },
    {
     "name": "stdout",
     "output_type": "stream",
     "text": [
      "Batch [145/229] Loss: 0.7006\n",
      "Batch [146/229] Loss: 0.6963\n"
     ]
    },
    {
     "name": "stderr",
     "output_type": "stream",
     "text": [
      "Epoch 2/10 | Loss: 0.7076:  64%|███████████████████▏          | 146/229 [00:50<00:27,  2.99it/s]"
     ]
    },
    {
     "name": "stdout",
     "output_type": "stream",
     "text": [
      "Batch [147/229] Loss: 0.6888\n",
      "Batch [148/229] Loss: 0.7076\n"
     ]
    },
    {
     "name": "stderr",
     "output_type": "stream",
     "text": [
      "Epoch 2/10 | Loss: 0.6839:  66%|███████████████████▉          | 152/229 [00:52<00:19,  3.86it/s]"
     ]
    },
    {
     "name": "stdout",
     "output_type": "stream",
     "text": [
      "Batch [149/229] Loss: 0.7006\n",
      "Batch [150/229] Loss: 0.7078\n",
      "Batch [151/229] Loss: 0.6814\n",
      "Batch [152/229] Loss: 0.6839\n"
     ]
    },
    {
     "name": "stderr",
     "output_type": "stream",
     "text": [
      "Epoch 2/10 | Loss: 0.7139:  67%|████████████████████▏         | 154/229 [00:53<00:25,  2.95it/s]"
     ]
    },
    {
     "name": "stdout",
     "output_type": "stream",
     "text": [
      "Batch [153/229] Loss: 0.6705\n",
      "Batch [154/229] Loss: 0.6943\n",
      "Batch [155/229] Loss: 0.7139\n"
     ]
    },
    {
     "name": "stderr",
     "output_type": "stream",
     "text": [
      "\r",
      "Epoch 2/10 | Loss: 0.6972:  67%|████████████████████▏         | 154/229 [00:53<00:25,  2.95it/s]"
     ]
    },
    {
     "name": "stdout",
     "output_type": "stream",
     "text": [
      "Batch [156/229] Loss: 0.6972\n"
     ]
    },
    {
     "name": "stderr",
     "output_type": "stream",
     "text": [
      "Epoch 2/10 | Loss: 0.6964:  70%|████████████████████▉         | 160/229 [00:54<00:18,  3.73it/s]"
     ]
    },
    {
     "name": "stdout",
     "output_type": "stream",
     "text": [
      "Batch [157/229] Loss: 0.6854\n",
      "Batch [158/229] Loss: 0.6870\n",
      "Batch [159/229] Loss: 0.6824\n",
      "Batch [160/229] Loss: 0.6964\n"
     ]
    },
    {
     "name": "stderr",
     "output_type": "stream",
     "text": [
      "Epoch 2/10 | Loss: 0.6790:  72%|█████████████████████▍        | 164/229 [00:56<00:17,  3.61it/s]"
     ]
    },
    {
     "name": "stdout",
     "output_type": "stream",
     "text": [
      "Batch [161/229] Loss: 0.6849\n",
      "Batch [162/229] Loss: 0.6843\n",
      "Batch [163/229] Loss: 0.6840\n",
      "Batch [164/229] Loss: 0.6790\n"
     ]
    },
    {
     "name": "stderr",
     "output_type": "stream",
     "text": [
      "Epoch 2/10 | Loss: 0.6880:  72%|█████████████████████▋        | 166/229 [00:57<00:24,  2.62it/s]"
     ]
    },
    {
     "name": "stdout",
     "output_type": "stream",
     "text": [
      "Batch [165/229] Loss: 0.7037\n",
      "Batch [166/229] Loss: 0.6619\n",
      "Batch [167/229] Loss: 0.6756\n",
      "Batch [168/229] Loss: 0.6880\n"
     ]
    },
    {
     "name": "stderr",
     "output_type": "stream",
     "text": [
      "Epoch 2/10 | Loss: 0.6893:  75%|██████████████████████▌       | 172/229 [00:59<00:16,  3.55it/s]"
     ]
    },
    {
     "name": "stdout",
     "output_type": "stream",
     "text": [
      "Batch [169/229] Loss: 0.6751\n",
      "Batch [170/229] Loss: 0.6902\n",
      "Batch [171/229] Loss: 0.6964\n",
      "Batch [172/229] Loss: 0.6893\n"
     ]
    },
    {
     "name": "stderr",
     "output_type": "stream",
     "text": [
      "Epoch 2/10 | Loss: 0.6799:  76%|██████████████████████▊       | 174/229 [01:00<00:19,  2.76it/s]"
     ]
    },
    {
     "name": "stdout",
     "output_type": "stream",
     "text": [
      "Batch [173/229] Loss: 0.6678\n",
      "Batch [174/229] Loss: 0.6890\n",
      "Batch [175/229] Loss: 0.6852\n",
      "Batch [176/229] Loss: 0.6799\n"
     ]
    },
    {
     "name": "stderr",
     "output_type": "stream",
     "text": [
      "Epoch 2/10 | Loss: 0.7036:  78%|███████████████████████▍      | 179/229 [01:01<00:14,  3.35it/s]"
     ]
    },
    {
     "name": "stdout",
     "output_type": "stream",
     "text": [
      "Batch [177/229] Loss: 0.6914\n",
      "Batch [178/229] Loss: 0.6852\n",
      "Batch [179/229] Loss: 0.6781\n",
      "Batch [180/229] Loss: 0.7036\n"
     ]
    },
    {
     "name": "stderr",
     "output_type": "stream",
     "text": [
      "Epoch 2/10 | Loss: 0.6738:  80%|████████████████████████      | 184/229 [01:03<00:12,  3.55it/s]"
     ]
    },
    {
     "name": "stdout",
     "output_type": "stream",
     "text": [
      "Batch [181/229] Loss: 0.6944\n",
      "Batch [182/229] Loss: 0.6799\n",
      "Batch [183/229] Loss: 0.6903\n",
      "Batch [184/229] Loss: 0.6738\n"
     ]
    },
    {
     "name": "stderr",
     "output_type": "stream",
     "text": [
      "Epoch 2/10 | Loss: 0.7097:  81%|████████████████████████▎     | 186/229 [01:04<00:17,  2.51it/s]"
     ]
    },
    {
     "name": "stdout",
     "output_type": "stream",
     "text": [
      "Batch [185/229] Loss: 0.7003\n",
      "Batch [186/229] Loss: 0.6950\n",
      "Batch [187/229] Loss: 0.6912\n",
      "Batch [188/229] Loss: 0.7097\n"
     ]
    },
    {
     "name": "stderr",
     "output_type": "stream",
     "text": [
      "Epoch 2/10 | Loss: 0.6886:  84%|█████████████████████████▏    | 192/229 [01:06<00:11,  3.35it/s]"
     ]
    },
    {
     "name": "stdout",
     "output_type": "stream",
     "text": [
      "Batch [189/229] Loss: 0.6946\n",
      "Batch [190/229] Loss: 0.6934\n",
      "Batch [191/229] Loss: 0.6800\n",
      "Batch [192/229] Loss: 0.6886\n"
     ]
    },
    {
     "name": "stderr",
     "output_type": "stream",
     "text": [
      "Epoch 2/10 | Loss: 0.6769:  85%|█████████████████████████▍    | 194/229 [01:07<00:13,  2.61it/s]"
     ]
    },
    {
     "name": "stdout",
     "output_type": "stream",
     "text": [
      "Batch [193/229] Loss: 0.6901\n",
      "Batch [194/229] Loss: 0.6831\n",
      "Batch [195/229] Loss: 0.6804\n",
      "Batch [196/229] Loss: 0.6769\n"
     ]
    },
    {
     "name": "stderr",
     "output_type": "stream",
     "text": [
      "Epoch 2/10 | Loss: 0.6866:  87%|██████████████████████████▏   | 200/229 [01:08<00:07,  3.66it/s]"
     ]
    },
    {
     "name": "stdout",
     "output_type": "stream",
     "text": [
      "Batch [197/229] Loss: 0.6882\n",
      "Batch [198/229] Loss: 0.6810\n",
      "Batch [199/229] Loss: 0.6797\n",
      "Batch [200/229] Loss: 0.6866\n"
     ]
    },
    {
     "name": "stderr",
     "output_type": "stream",
     "text": [
      "Epoch 2/10 | Loss: 0.6730:  88%|██████████████████████████▍   | 202/229 [01:10<00:10,  2.68it/s]"
     ]
    },
    {
     "name": "stdout",
     "output_type": "stream",
     "text": [
      "Batch [201/229] Loss: 0.7049\n",
      "Batch [202/229] Loss: 0.6876\n",
      "Batch [203/229] Loss: 0.6730\n"
     ]
    },
    {
     "name": "stderr",
     "output_type": "stream",
     "text": [
      "\r",
      "Epoch 2/10 | Loss: 0.6819:  88%|██████████████████████████▍   | 202/229 [01:10<00:10,  2.68it/s]"
     ]
    },
    {
     "name": "stdout",
     "output_type": "stream",
     "text": [
      "Batch [204/229] Loss: 0.6819\n"
     ]
    },
    {
     "name": "stderr",
     "output_type": "stream",
     "text": [
      "Epoch 2/10 | Loss: 0.6812:  90%|██████████████████████████▉   | 206/229 [01:11<00:07,  2.97it/s]"
     ]
    },
    {
     "name": "stdout",
     "output_type": "stream",
     "text": [
      "Batch [205/229] Loss: 0.6868\n",
      "Batch [206/229] Loss: 0.6812\n"
     ]
    },
    {
     "name": "stderr",
     "output_type": "stream",
     "text": [
      "Epoch 2/10 | Loss: 0.6782:  90%|██████████████████████████▉   | 206/229 [01:11<00:07,  2.97it/s]"
     ]
    },
    {
     "name": "stdout",
     "output_type": "stream",
     "text": [
      "Batch [207/229] Loss: 0.6864\n",
      "Batch [208/229] Loss: 0.6782\n"
     ]
    },
    {
     "name": "stderr",
     "output_type": "stream",
     "text": [
      "Epoch 2/10 | Loss: 0.6846:  93%|███████████████████████████▊  | 212/229 [01:12<00:04,  3.80it/s]"
     ]
    },
    {
     "name": "stdout",
     "output_type": "stream",
     "text": [
      "Batch [209/229] Loss: 0.6959\n",
      "Batch [210/229] Loss: 0.6733\n",
      "Batch [211/229] Loss: 0.6868\n",
      "Batch [212/229] Loss: 0.6846\n"
     ]
    },
    {
     "name": "stderr",
     "output_type": "stream",
     "text": [
      "Epoch 2/10 | Loss: 0.6821:  94%|████████████████████████████▎ | 216/229 [01:14<00:03,  3.57it/s]"
     ]
    },
    {
     "name": "stdout",
     "output_type": "stream",
     "text": [
      "Batch [213/229] Loss: 0.6907\n",
      "Batch [214/229] Loss: 0.6756\n",
      "Batch [215/229] Loss: 0.6782\n",
      "Batch [216/229] Loss: 0.6821\n"
     ]
    },
    {
     "name": "stderr",
     "output_type": "stream",
     "text": [
      "Epoch 2/10 | Loss: 0.7118:  95%|████████████████████████████▌ | 218/229 [01:15<00:04,  2.64it/s]"
     ]
    },
    {
     "name": "stdout",
     "output_type": "stream",
     "text": [
      "Batch [217/229] Loss: 0.6786\n",
      "Batch [218/229] Loss: 0.6981\n",
      "Batch [219/229] Loss: 0.6739\n",
      "Batch [220/229] Loss: 0.7118\n"
     ]
    },
    {
     "name": "stderr",
     "output_type": "stream",
     "text": [
      "Epoch 2/10 | Loss: 0.7080:  98%|█████████████████████████████▎| 224/229 [01:17<00:01,  3.77it/s]"
     ]
    },
    {
     "name": "stdout",
     "output_type": "stream",
     "text": [
      "Batch [221/229] Loss: 0.6802\n",
      "Batch [222/229] Loss: 0.6785\n",
      "Batch [223/229] Loss: 0.6862\n",
      "Batch [224/229] Loss: 0.7080\n"
     ]
    },
    {
     "name": "stderr",
     "output_type": "stream",
     "text": [
      "Epoch 2/10 | Loss: 0.6630:  99%|█████████████████████████████▌| 226/229 [01:18<00:01,  2.86it/s]"
     ]
    },
    {
     "name": "stdout",
     "output_type": "stream",
     "text": [
      "Batch [225/229] Loss: 0.6786\n",
      "Batch [226/229] Loss: 0.6795\n",
      "Batch [227/229] Loss: 0.6905\n",
      "Batch [228/229] Loss: 0.6630\n"
     ]
    },
    {
     "name": "stderr",
     "output_type": "stream",
     "text": [
      "Epoch 2/10 | Loss: 0.6857: 100%|██████████████████████████████| 229/229 [01:19<00:00,  2.88it/s]\n"
     ]
    },
    {
     "name": "stdout",
     "output_type": "stream",
     "text": [
      "Batch [229/229] Loss: 0.6857\n",
      "\n",
      "Epoch 2 Summary:\n",
      "Average Loss: 0.6867\n",
      "\n",
      "Epoch 3/10\n",
      "==================================================\n"
     ]
    },
    {
     "name": "stderr",
     "output_type": "stream",
     "text": [
      "Epoch 3/10 | Loss: 0.6947:   1%|▎                             | 2/229 [00:01<02:30,  1.50it/s]"
     ]
    },
    {
     "name": "stdout",
     "output_type": "stream",
     "text": [
      "Batch [1/229] Loss: 0.6954\n",
      "Batch [2/229] Loss: 0.6792\n",
      "Batch [3/229] Loss: 0.6947\n"
     ]
    },
    {
     "name": "stderr",
     "output_type": "stream",
     "text": [
      "\r",
      "Epoch 3/10 | Loss: 0.6620:   1%|▎                             | 2/229 [00:01<02:30,  1.50it/s]"
     ]
    },
    {
     "name": "stdout",
     "output_type": "stream",
     "text": [
      "Batch [4/229] Loss: 0.6620\n"
     ]
    },
    {
     "name": "stderr",
     "output_type": "stream",
     "text": [
      "Epoch 3/10 | Loss: 0.6951:   2%|▋                             | 5/229 [00:02<01:46,  2.10it/s]"
     ]
    },
    {
     "name": "stdout",
     "output_type": "stream",
     "text": [
      "Batch [5/229] Loss: 0.6951\n"
     ]
    },
    {
     "name": "stderr",
     "output_type": "stream",
     "text": [
      "Epoch 3/10 | Loss: 0.6703:   3%|▊                             | 6/229 [00:03<01:40,  2.22it/s]"
     ]
    },
    {
     "name": "stdout",
     "output_type": "stream",
     "text": [
      "Batch [6/229] Loss: 0.7041\n",
      "Batch [7/229] Loss: 0.6945\n",
      "Batch [8/229] Loss: 0.6703\n"
     ]
    },
    {
     "name": "stderr",
     "output_type": "stream",
     "text": [
      "Epoch 3/10 | Loss: 0.6757:   5%|█▌                            | 12/229 [00:04<00:58,  3.72it/s]"
     ]
    },
    {
     "name": "stdout",
     "output_type": "stream",
     "text": [
      "Batch [9/229] Loss: 0.6901\n",
      "Batch [10/229] Loss: 0.6842\n",
      "Batch [11/229] Loss: 0.6793\n",
      "Batch [12/229] Loss: 0.6757\n"
     ]
    },
    {
     "name": "stderr",
     "output_type": "stream",
     "text": [
      "Epoch 3/10 | Loss: 0.7247:   7%|██                            | 16/229 [00:06<01:02,  3.43it/s]"
     ]
    },
    {
     "name": "stdout",
     "output_type": "stream",
     "text": [
      "Batch [13/229] Loss: 0.6880\n",
      "Batch [14/229] Loss: 0.6941\n",
      "Batch [15/229] Loss: 0.6798\n",
      "Batch [16/229] Loss: 0.7247\n"
     ]
    },
    {
     "name": "stderr",
     "output_type": "stream",
     "text": [
      "Epoch 3/10 | Loss: 0.6644:   8%|██▎                           | 18/229 [00:07<01:17,  2.74it/s]"
     ]
    },
    {
     "name": "stdout",
     "output_type": "stream",
     "text": [
      "Batch [17/229] Loss: 0.6812\n",
      "Batch [18/229] Loss: 0.6801\n",
      "Batch [19/229] Loss: 0.6947\n",
      "Batch [20/229] Loss: 0.6644\n"
     ]
    },
    {
     "name": "stderr",
     "output_type": "stream",
     "text": [
      "Epoch 3/10 | Loss: 0.6804:  10%|███▏                          | 24/229 [00:08<00:54,  3.77it/s]"
     ]
    },
    {
     "name": "stdout",
     "output_type": "stream",
     "text": [
      "Batch [21/229] Loss: 0.6992\n",
      "Batch [22/229] Loss: 0.6796\n",
      "Batch [23/229] Loss: 0.6868\n",
      "Batch [24/229] Loss: 0.6804\n"
     ]
    },
    {
     "name": "stderr",
     "output_type": "stream",
     "text": [
      "Epoch 3/10 | Loss: 0.7098:  12%|███▌                          | 27/229 [00:09<00:59,  3.37it/s]"
     ]
    },
    {
     "name": "stdout",
     "output_type": "stream",
     "text": [
      "Batch [25/229] Loss: 0.6759\n",
      "Batch [26/229] Loss: 0.6976\n",
      "Batch [27/229] Loss: 0.7098\n"
     ]
    },
    {
     "name": "stderr",
     "output_type": "stream",
     "text": [
      "\r",
      "Epoch 3/10 | Loss: 0.6806:  12%|███▌                          | 27/229 [00:09<00:59,  3.37it/s]"
     ]
    },
    {
     "name": "stdout",
     "output_type": "stream",
     "text": [
      "Batch [28/229] Loss: 0.6806\n"
     ]
    },
    {
     "name": "stderr",
     "output_type": "stream",
     "text": [
      "Epoch 3/10 | Loss: 0.6802:  13%|███▊                          | 29/229 [00:10<01:14,  2.70it/s]"
     ]
    },
    {
     "name": "stdout",
     "output_type": "stream",
     "text": [
      "Batch [29/229] Loss: 0.6913\n",
      "Batch [30/229] Loss: 0.6802\n"
     ]
    },
    {
     "name": "stderr",
     "output_type": "stream",
     "text": [
      "Epoch 3/10 | Loss: 0.6789:  14%|████                          | 31/229 [00:11<01:01,  3.20it/s]"
     ]
    },
    {
     "name": "stdout",
     "output_type": "stream",
     "text": [
      "Batch [31/229] Loss: 0.6990\n",
      "Batch [32/229] Loss: 0.6789\n"
     ]
    },
    {
     "name": "stderr",
     "output_type": "stream",
     "text": [
      "Epoch 3/10 | Loss: 0.6834:  14%|████▎                         | 33/229 [00:12<01:12,  2.71it/s]"
     ]
    },
    {
     "name": "stdout",
     "output_type": "stream",
     "text": [
      "Batch [33/229] Loss: 0.6789\n",
      "Batch [34/229] Loss: 0.6834\n"
     ]
    },
    {
     "name": "stderr",
     "output_type": "stream",
     "text": [
      "Epoch 3/10 | Loss: 0.6994:  15%|████▌                         | 35/229 [00:12<01:00,  3.18it/s]"
     ]
    },
    {
     "name": "stdout",
     "output_type": "stream",
     "text": [
      "Batch [35/229] Loss: 0.6916\n",
      "Batch [36/229] Loss: 0.6994\n"
     ]
    },
    {
     "name": "stderr",
     "output_type": "stream",
     "text": [
      "Epoch 3/10 | Loss: 0.6894:  16%|████▊                         | 37/229 [00:13<01:12,  2.67it/s]"
     ]
    },
    {
     "name": "stdout",
     "output_type": "stream",
     "text": [
      "Batch [37/229] Loss: 0.6872\n",
      "Batch [38/229] Loss: 0.6894\n"
     ]
    },
    {
     "name": "stderr",
     "output_type": "stream",
     "text": [
      "Epoch 3/10 | Loss: 0.6799:  17%|█████                         | 39/229 [00:14<01:01,  3.11it/s]"
     ]
    },
    {
     "name": "stdout",
     "output_type": "stream",
     "text": [
      "Batch [39/229] Loss: 0.6844\n",
      "Batch [40/229] Loss: 0.6799\n"
     ]
    },
    {
     "name": "stderr",
     "output_type": "stream",
     "text": [
      "Epoch 3/10 | Loss: 0.6883:  18%|█████▎                        | 41/229 [00:15<01:12,  2.60it/s]"
     ]
    },
    {
     "name": "stdout",
     "output_type": "stream",
     "text": [
      "Batch [41/229] Loss: 0.6863\n",
      "Batch [42/229] Loss: 0.6883\n"
     ]
    },
    {
     "name": "stderr",
     "output_type": "stream",
     "text": [
      "Epoch 3/10 | Loss: 0.7036:  19%|█████▋                        | 43/229 [00:15<00:58,  3.20it/s]"
     ]
    },
    {
     "name": "stdout",
     "output_type": "stream",
     "text": [
      "Batch [43/229] Loss: 0.6809\n",
      "Batch [44/229] Loss: 0.7036\n"
     ]
    },
    {
     "name": "stderr",
     "output_type": "stream",
     "text": [
      "Epoch 3/10 | Loss: 0.6873:  21%|██████▏                       | 47/229 [00:16<00:53,  3.40it/s]"
     ]
    },
    {
     "name": "stdout",
     "output_type": "stream",
     "text": [
      "Batch [45/229] Loss: 0.6717\n",
      "Batch [46/229] Loss: 0.6876\n",
      "Batch [47/229] Loss: 0.6873\n"
     ]
    },
    {
     "name": "stderr",
     "output_type": "stream",
     "text": [
      "\r",
      "Epoch 3/10 | Loss: 0.6783:  21%|██████▏                       | 47/229 [00:16<00:53,  3.40it/s]"
     ]
    },
    {
     "name": "stdout",
     "output_type": "stream",
     "text": [
      "Batch [48/229] Loss: 0.6783\n"
     ]
    },
    {
     "name": "stderr",
     "output_type": "stream",
     "text": [
      "Epoch 3/10 | Loss: 0.6880:  21%|██████▍                       | 49/229 [00:17<01:06,  2.71it/s]"
     ]
    },
    {
     "name": "stdout",
     "output_type": "stream",
     "text": [
      "Batch [49/229] Loss: 0.6808\n",
      "Batch [50/229] Loss: 0.6880\n"
     ]
    },
    {
     "name": "stderr",
     "output_type": "stream",
     "text": [
      "Epoch 3/10 | Loss: 0.6781:  22%|██████▋                       | 51/229 [00:17<00:52,  3.41it/s]"
     ]
    },
    {
     "name": "stdout",
     "output_type": "stream",
     "text": [
      "Batch [51/229] Loss: 0.6876\n",
      "Batch [52/229] Loss: 0.6781\n"
     ]
    },
    {
     "name": "stderr",
     "output_type": "stream",
     "text": [
      "Epoch 3/10 | Loss: 0.7024:  24%|███████▏                      | 55/229 [00:19<00:48,  3.57it/s]"
     ]
    },
    {
     "name": "stdout",
     "output_type": "stream",
     "text": [
      "Batch [53/229] Loss: 0.6765\n",
      "Batch [54/229] Loss: 0.6907\n",
      "Batch [55/229] Loss: 0.6841\n",
      "Batch [56/229] Loss: 0.7024\n"
     ]
    },
    {
     "name": "stderr",
     "output_type": "stream",
     "text": [
      "Epoch 3/10 | Loss: 0.6864:  26%|███████▊                      | 60/229 [00:20<00:43,  3.88it/s]"
     ]
    },
    {
     "name": "stdout",
     "output_type": "stream",
     "text": [
      "Batch [57/229] Loss: 0.6809\n",
      "Batch [58/229] Loss: 0.6991\n",
      "Batch [59/229] Loss: 0.6949\n",
      "Batch [60/229] Loss: 0.6864\n"
     ]
    },
    {
     "name": "stderr",
     "output_type": "stream",
     "text": [
      "Epoch 3/10 | Loss: 0.6781:  27%|████████                      | 62/229 [00:21<01:02,  2.68it/s]"
     ]
    },
    {
     "name": "stdout",
     "output_type": "stream",
     "text": [
      "Batch [61/229] Loss: 0.6814\n",
      "Batch [62/229] Loss: 0.6781\n"
     ]
    },
    {
     "name": "stderr",
     "output_type": "stream",
     "text": [
      "Epoch 3/10 | Loss: 0.6619:  28%|████████▎                     | 63/229 [00:22<00:56,  2.93it/s]"
     ]
    },
    {
     "name": "stdout",
     "output_type": "stream",
     "text": [
      "Batch [63/229] Loss: 0.6991\n",
      "Batch [64/229] Loss: 0.6619\n"
     ]
    },
    {
     "name": "stderr",
     "output_type": "stream",
     "text": [
      "Epoch 3/10 | Loss: 0.6716:  29%|████████▊                     | 67/229 [00:23<00:50,  3.20it/s]"
     ]
    },
    {
     "name": "stdout",
     "output_type": "stream",
     "text": [
      "Batch [65/229] Loss: 0.6871\n",
      "Batch [66/229] Loss: 0.7004\n",
      "Batch [67/229] Loss: 0.6785\n",
      "Batch [68/229] Loss: 0.6716\n"
     ]
    },
    {
     "name": "stderr",
     "output_type": "stream",
     "text": [
      "Epoch 3/10 | Loss: 0.6865:  31%|█████████▍                    | 72/229 [00:24<00:42,  3.67it/s]"
     ]
    },
    {
     "name": "stdout",
     "output_type": "stream",
     "text": [
      "Batch [69/229] Loss: 0.6954\n",
      "Batch [70/229] Loss: 0.6642\n",
      "Batch [71/229] Loss: 0.6926\n",
      "Batch [72/229] Loss: 0.6865\n"
     ]
    },
    {
     "name": "stderr",
     "output_type": "stream",
     "text": [
      "Epoch 3/10 | Loss: 0.6871:  32%|█████████▋                    | 74/229 [00:26<00:56,  2.72it/s]"
     ]
    },
    {
     "name": "stdout",
     "output_type": "stream",
     "text": [
      "Batch [73/229] Loss: 0.6718\n",
      "Batch [74/229] Loss: 0.6783\n",
      "Batch [75/229] Loss: 0.6862\n",
      "Batch [76/229] Loss: 0.6871\n"
     ]
    },
    {
     "name": "stderr",
     "output_type": "stream",
     "text": [
      "Epoch 3/10 | Loss: 0.6792:  35%|██████████▍                   | 80/229 [00:27<00:39,  3.73it/s]"
     ]
    },
    {
     "name": "stdout",
     "output_type": "stream",
     "text": [
      "Batch [77/229] Loss: 0.6709\n",
      "Batch [78/229] Loss: 0.6831\n",
      "Batch [79/229] Loss: 0.6832\n",
      "Batch [80/229] Loss: 0.6792\n"
     ]
    },
    {
     "name": "stderr",
     "output_type": "stream",
     "text": [
      "Epoch 3/10 | Loss: 0.6943:  36%|██████████▋                   | 82/229 [00:29<00:55,  2.67it/s]"
     ]
    },
    {
     "name": "stdout",
     "output_type": "stream",
     "text": [
      "Batch [81/229] Loss: 0.7035\n",
      "Batch [82/229] Loss: 0.6926\n",
      "Batch [83/229] Loss: 0.6942\n",
      "Batch [84/229] Loss: 0.6943\n"
     ]
    },
    {
     "name": "stderr",
     "output_type": "stream",
     "text": [
      "Epoch 3/10 | Loss: 0.6935:  38%|███████████▍                  | 87/229 [00:30<00:45,  3.14it/s]"
     ]
    },
    {
     "name": "stdout",
     "output_type": "stream",
     "text": [
      "Batch [85/229] Loss: 0.6856\n",
      "Batch [86/229] Loss: 0.6630\n",
      "Batch [87/229] Loss: 0.7062\n",
      "Batch [88/229] Loss: 0.6935\n"
     ]
    },
    {
     "name": "stderr",
     "output_type": "stream",
     "text": [
      "Epoch 3/10 | Loss: 0.6861:  39%|███████████▋                  | 89/229 [00:31<00:51,  2.74it/s]"
     ]
    },
    {
     "name": "stdout",
     "output_type": "stream",
     "text": [
      "Batch [89/229] Loss: 0.6980\n",
      "Batch [90/229] Loss: 0.6861\n"
     ]
    },
    {
     "name": "stderr",
     "output_type": "stream",
     "text": [
      "Epoch 3/10 | Loss: 0.6873:  40%|███████████▉                  | 91/229 [00:32<00:46,  2.96it/s]"
     ]
    },
    {
     "name": "stdout",
     "output_type": "stream",
     "text": [
      "Batch [91/229] Loss: 0.6782\n",
      "Batch [92/229] Loss: 0.6873\n"
     ]
    },
    {
     "name": "stderr",
     "output_type": "stream",
     "text": [
      "Epoch 3/10 | Loss: 0.6948:  41%|████████████▏                 | 93/229 [00:32<00:45,  2.98it/s]"
     ]
    },
    {
     "name": "stdout",
     "output_type": "stream",
     "text": [
      "Batch [93/229] Loss: 0.6780\n",
      "Batch [94/229] Loss: 0.6948\n"
     ]
    },
    {
     "name": "stderr",
     "output_type": "stream",
     "text": [
      "Epoch 3/10 | Loss: 0.6941:  41%|████████████▍                 | 95/229 [00:33<00:47,  2.82it/s]"
     ]
    },
    {
     "name": "stdout",
     "output_type": "stream",
     "text": [
      "Batch [95/229] Loss: 0.6846\n",
      "Batch [96/229] Loss: 0.6941\n"
     ]
    },
    {
     "name": "stderr",
     "output_type": "stream",
     "text": [
      "Epoch 3/10 | Loss: 0.6788:  42%|████████████▋                 | 97/229 [00:33<00:40,  3.22it/s]"
     ]
    },
    {
     "name": "stdout",
     "output_type": "stream",
     "text": [
      "Batch [97/229] Loss: 0.6738\n",
      "Batch [98/229] Loss: 0.6788\n"
     ]
    },
    {
     "name": "stderr",
     "output_type": "stream",
     "text": [
      "Epoch 3/10 | Loss: 0.6561:  43%|████████████▉                 | 99/229 [00:35<00:51,  2.52it/s]"
     ]
    },
    {
     "name": "stdout",
     "output_type": "stream",
     "text": [
      "Batch [99/229] Loss: 0.6934\n",
      "Batch [100/229] Loss: 0.6561\n"
     ]
    },
    {
     "name": "stderr",
     "output_type": "stream",
     "text": [
      "Epoch 3/10 | Loss: 0.6808:  44%|█████████████▏                | 101/229 [00:35<00:41,  3.05it/s]"
     ]
    },
    {
     "name": "stdout",
     "output_type": "stream",
     "text": [
      "Batch [101/229] Loss: 0.6884\n",
      "Batch [102/229] Loss: 0.6808\n"
     ]
    },
    {
     "name": "stderr",
     "output_type": "stream",
     "text": [
      "Epoch 3/10 | Loss: 0.6786:  45%|█████████████▍                | 103/229 [00:36<00:49,  2.55it/s]"
     ]
    },
    {
     "name": "stdout",
     "output_type": "stream",
     "text": [
      "Batch [103/229] Loss: 0.7015\n",
      "Batch [104/229] Loss: 0.6786\n"
     ]
    },
    {
     "name": "stderr",
     "output_type": "stream",
     "text": [
      "Epoch 3/10 | Loss: 0.6628:  46%|█████████████▊                | 105/229 [00:36<00:41,  2.98it/s]"
     ]
    },
    {
     "name": "stdout",
     "output_type": "stream",
     "text": [
      "Batch [105/229] Loss: 0.6939\n",
      "Batch [106/229] Loss: 0.6628\n"
     ]
    },
    {
     "name": "stderr",
     "output_type": "stream",
     "text": [
      "Epoch 3/10 | Loss: 0.6809:  47%|██████████████                | 107/229 [00:37<00:45,  2.67it/s]"
     ]
    },
    {
     "name": "stdout",
     "output_type": "stream",
     "text": [
      "Batch [107/229] Loss: 0.6507\n",
      "Batch [108/229] Loss: 0.6809\n"
     ]
    },
    {
     "name": "stderr",
     "output_type": "stream",
     "text": [
      "Epoch 3/10 | Loss: 0.6635:  48%|██████████████▎               | 109/229 [00:38<00:41,  2.86it/s]"
     ]
    },
    {
     "name": "stdout",
     "output_type": "stream",
     "text": [
      "Batch [109/229] Loss: 0.6725\n",
      "Batch [110/229] Loss: 0.6635\n"
     ]
    },
    {
     "name": "stderr",
     "output_type": "stream",
     "text": [
      "Epoch 3/10 | Loss: 0.6935:  49%|██████████████▊               | 113/229 [00:39<00:34,  3.32it/s]"
     ]
    },
    {
     "name": "stdout",
     "output_type": "stream",
     "text": [
      "Batch [111/229] Loss: 0.6871\n",
      "Batch [112/229] Loss: 0.6953\n",
      "Batch [113/229] Loss: 0.6935\n"
     ]
    },
    {
     "name": "stderr",
     "output_type": "stream",
     "text": [
      "\r",
      "Epoch 3/10 | Loss: 0.6933:  49%|██████████████▊               | 113/229 [00:39<00:34,  3.32it/s]"
     ]
    },
    {
     "name": "stdout",
     "output_type": "stream",
     "text": [
      "Batch [114/229] Loss: 0.6933\n"
     ]
    },
    {
     "name": "stderr",
     "output_type": "stream",
     "text": [
      "Epoch 3/10 | Loss: 0.6814:  50%|███████████████               | 115/229 [00:40<00:43,  2.62it/s]"
     ]
    },
    {
     "name": "stdout",
     "output_type": "stream",
     "text": [
      "Batch [115/229] Loss: 0.6692\n",
      "Batch [116/229] Loss: 0.6814\n"
     ]
    },
    {
     "name": "stderr",
     "output_type": "stream",
     "text": [
      "Epoch 3/10 | Loss: 0.6913:  51%|███████████████▎              | 117/229 [00:41<00:34,  3.26it/s]"
     ]
    },
    {
     "name": "stdout",
     "output_type": "stream",
     "text": [
      "Batch [117/229] Loss: 0.6992\n",
      "Batch [118/229] Loss: 0.6913\n"
     ]
    },
    {
     "name": "stderr",
     "output_type": "stream",
     "text": [
      "Epoch 3/10 | Loss: 0.6710:  52%|███████████████▌              | 119/229 [00:41<00:38,  2.83it/s]"
     ]
    },
    {
     "name": "stdout",
     "output_type": "stream",
     "text": [
      "Batch [119/229] Loss: 0.6784\n",
      "Batch [120/229] Loss: 0.6710\n"
     ]
    },
    {
     "name": "stderr",
     "output_type": "stream",
     "text": [
      "Epoch 3/10 | Loss: 0.6706:  53%|███████████████▊              | 121/229 [00:42<00:34,  3.09it/s]"
     ]
    },
    {
     "name": "stdout",
     "output_type": "stream",
     "text": [
      "Batch [121/229] Loss: 0.6791\n",
      "Batch [122/229] Loss: 0.6706\n"
     ]
    },
    {
     "name": "stderr",
     "output_type": "stream",
     "text": [
      "Epoch 3/10 | Loss: 0.6941:  54%|████████████████              | 123/229 [00:43<00:35,  2.96it/s]"
     ]
    },
    {
     "name": "stdout",
     "output_type": "stream",
     "text": [
      "Batch [123/229] Loss: 0.6824\n",
      "Batch [124/229] Loss: 0.6941\n"
     ]
    },
    {
     "name": "stderr",
     "output_type": "stream",
     "text": [
      "Epoch 3/10 | Loss: 0.6708:  55%|████████████████▍             | 125/229 [00:43<00:33,  3.09it/s]"
     ]
    },
    {
     "name": "stdout",
     "output_type": "stream",
     "text": [
      "Batch [125/229] Loss: 0.6661\n",
      "Batch [126/229] Loss: 0.6708\n"
     ]
    },
    {
     "name": "stderr",
     "output_type": "stream",
     "text": [
      "Epoch 3/10 | Loss: 0.6988:  55%|████████████████▋             | 127/229 [00:44<00:35,  2.84it/s]"
     ]
    },
    {
     "name": "stdout",
     "output_type": "stream",
     "text": [
      "Batch [127/229] Loss: 0.6943\n",
      "Batch [128/229] Loss: 0.6988\n"
     ]
    },
    {
     "name": "stderr",
     "output_type": "stream",
     "text": [
      "Epoch 3/10 | Loss: 0.6942:  56%|████████████████▉             | 129/229 [00:45<00:33,  2.97it/s]"
     ]
    },
    {
     "name": "stdout",
     "output_type": "stream",
     "text": [
      "Batch [129/229] Loss: 0.6787\n",
      "Batch [130/229] Loss: 0.6942\n"
     ]
    },
    {
     "name": "stderr",
     "output_type": "stream",
     "text": [
      "Epoch 3/10 | Loss: 0.6861:  57%|█████████████████▏            | 131/229 [00:46<00:35,  2.80it/s]"
     ]
    },
    {
     "name": "stdout",
     "output_type": "stream",
     "text": [
      "Batch [131/229] Loss: 0.6865\n",
      "Batch [132/229] Loss: 0.6861\n"
     ]
    },
    {
     "name": "stderr",
     "output_type": "stream",
     "text": [
      "Epoch 3/10 | Loss: 0.6944:  58%|█████████████████▍            | 133/229 [00:46<00:32,  2.94it/s]"
     ]
    },
    {
     "name": "stdout",
     "output_type": "stream",
     "text": [
      "Batch [133/229] Loss: 0.6701\n",
      "Batch [134/229] Loss: 0.6944\n"
     ]
    },
    {
     "name": "stderr",
     "output_type": "stream",
     "text": [
      "Epoch 3/10 | Loss: 0.6932:  59%|█████████████████▋            | 135/229 [00:47<00:32,  2.89it/s]"
     ]
    },
    {
     "name": "stdout",
     "output_type": "stream",
     "text": [
      "Batch [135/229] Loss: 0.6716\n",
      "Batch [136/229] Loss: 0.6932\n"
     ]
    },
    {
     "name": "stderr",
     "output_type": "stream",
     "text": [
      "Epoch 3/10 | Loss: 0.6712:  60%|█████████████████▉            | 137/229 [00:48<00:31,  2.95it/s]"
     ]
    },
    {
     "name": "stdout",
     "output_type": "stream",
     "text": [
      "Batch [137/229] Loss: 0.6809\n",
      "Batch [138/229] Loss: 0.6712\n"
     ]
    },
    {
     "name": "stderr",
     "output_type": "stream",
     "text": [
      "Epoch 3/10 | Loss: 0.6714:  61%|██████████████████▏           | 139/229 [00:48<00:32,  2.77it/s]"
     ]
    },
    {
     "name": "stdout",
     "output_type": "stream",
     "text": [
      "Batch [139/229] Loss: 0.6773\n",
      "Batch [140/229] Loss: 0.6714\n"
     ]
    },
    {
     "name": "stderr",
     "output_type": "stream",
     "text": [
      "Epoch 3/10 | Loss: 0.6808:  62%|██████████████████▍           | 141/229 [00:49<00:31,  2.83it/s]"
     ]
    },
    {
     "name": "stdout",
     "output_type": "stream",
     "text": [
      "Batch [141/229] Loss: 0.6862\n",
      "Batch [142/229] Loss: 0.6808\n"
     ]
    },
    {
     "name": "stderr",
     "output_type": "stream",
     "text": [
      "Epoch 3/10 | Loss: 0.6859:  62%|██████████████████▋           | 143/229 [00:50<00:30,  2.84it/s]"
     ]
    },
    {
     "name": "stdout",
     "output_type": "stream",
     "text": [
      "Batch [143/229] Loss: 0.6782\n",
      "Batch [144/229] Loss: 0.6859\n"
     ]
    },
    {
     "name": "stderr",
     "output_type": "stream",
     "text": [
      "Epoch 3/10 | Loss: 0.6966:  63%|██████████████████▉           | 145/229 [00:51<00:31,  2.69it/s]"
     ]
    },
    {
     "name": "stdout",
     "output_type": "stream",
     "text": [
      "Batch [145/229] Loss: 0.6784\n",
      "Batch [146/229] Loss: 0.6966\n"
     ]
    },
    {
     "name": "stderr",
     "output_type": "stream",
     "text": [
      "Epoch 3/10 | Loss: 0.6867:  64%|███████████████████▎          | 147/229 [00:51<00:26,  3.04it/s]"
     ]
    },
    {
     "name": "stdout",
     "output_type": "stream",
     "text": [
      "Batch [147/229] Loss: 0.6854\n",
      "Batch [148/229] Loss: 0.6867\n"
     ]
    },
    {
     "name": "stderr",
     "output_type": "stream",
     "text": [
      "Epoch 3/10 | Loss: 0.6639:  65%|███████████████████▌          | 149/229 [00:52<00:30,  2.63it/s]"
     ]
    },
    {
     "name": "stdout",
     "output_type": "stream",
     "text": [
      "Batch [149/229] Loss: 0.6841\n",
      "Batch [150/229] Loss: 0.6639\n"
     ]
    },
    {
     "name": "stderr",
     "output_type": "stream",
     "text": [
      "Epoch 3/10 | Loss: 0.6911:  66%|███████████████████▊          | 151/229 [00:53<00:26,  2.91it/s]"
     ]
    },
    {
     "name": "stdout",
     "output_type": "stream",
     "text": [
      "Batch [151/229] Loss: 0.6936\n",
      "Batch [152/229] Loss: 0.6911\n"
     ]
    },
    {
     "name": "stderr",
     "output_type": "stream",
     "text": [
      "Epoch 3/10 | Loss: 0.7183:  67%|████████████████████          | 153/229 [00:54<00:30,  2.49it/s]"
     ]
    },
    {
     "name": "stdout",
     "output_type": "stream",
     "text": [
      "Batch [153/229] Loss: 0.6704\n",
      "Batch [154/229] Loss: 0.7183\n"
     ]
    },
    {
     "name": "stderr",
     "output_type": "stream",
     "text": [
      "Epoch 3/10 | Loss: 0.6836:  68%|████████████████████▎         | 155/229 [00:54<00:24,  3.04it/s]"
     ]
    },
    {
     "name": "stdout",
     "output_type": "stream",
     "text": [
      "Batch [155/229] Loss: 0.6772\n",
      "Batch [156/229] Loss: 0.6836\n"
     ]
    },
    {
     "name": "stderr",
     "output_type": "stream",
     "text": [
      "Epoch 3/10 | Loss: 0.6842:  69%|████████████████████▌         | 157/229 [00:55<00:26,  2.77it/s]"
     ]
    },
    {
     "name": "stdout",
     "output_type": "stream",
     "text": [
      "Batch [157/229] Loss: 0.7030\n",
      "Batch [158/229] Loss: 0.6842\n"
     ]
    },
    {
     "name": "stderr",
     "output_type": "stream",
     "text": [
      "Epoch 3/10 | Loss: 0.6787:  69%|████████████████████▊         | 159/229 [00:55<00:22,  3.12it/s]"
     ]
    },
    {
     "name": "stdout",
     "output_type": "stream",
     "text": [
      "Batch [159/229] Loss: 0.6620\n",
      "Batch [160/229] Loss: 0.6787\n"
     ]
    },
    {
     "name": "stderr",
     "output_type": "stream",
     "text": [
      "Epoch 3/10 | Loss: 0.6919:  70%|█████████████████████         | 161/229 [00:56<00:24,  2.75it/s]"
     ]
    },
    {
     "name": "stdout",
     "output_type": "stream",
     "text": [
      "Batch [161/229] Loss: 0.6867\n",
      "Batch [162/229] Loss: 0.6919\n"
     ]
    },
    {
     "name": "stderr",
     "output_type": "stream",
     "text": [
      "Epoch 3/10 | Loss: 0.6659:  71%|█████████████████████▎        | 163/229 [00:57<00:21,  3.05it/s]"
     ]
    },
    {
     "name": "stdout",
     "output_type": "stream",
     "text": [
      "Batch [163/229] Loss: 0.6858\n",
      "Batch [164/229] Loss: 0.6659\n"
     ]
    },
    {
     "name": "stderr",
     "output_type": "stream",
     "text": [
      "Epoch 3/10 | Loss: 0.6933:  72%|█████████████████████▌        | 165/229 [00:58<00:24,  2.62it/s]"
     ]
    },
    {
     "name": "stdout",
     "output_type": "stream",
     "text": [
      "Batch [165/229] Loss: 0.6811\n",
      "Batch [166/229] Loss: 0.6933\n"
     ]
    },
    {
     "name": "stderr",
     "output_type": "stream",
     "text": [
      "Epoch 3/10 | Loss: 0.6896:  73%|█████████████████████▉        | 167/229 [00:58<00:19,  3.17it/s]"
     ]
    },
    {
     "name": "stdout",
     "output_type": "stream",
     "text": [
      "Batch [167/229] Loss: 0.6706\n",
      "Batch [168/229] Loss: 0.6896\n"
     ]
    },
    {
     "name": "stderr",
     "output_type": "stream",
     "text": [
      "Epoch 3/10 | Loss: 0.6710:  75%|██████████████████████▌       | 172/229 [00:59<00:14,  3.90it/s]"
     ]
    },
    {
     "name": "stdout",
     "output_type": "stream",
     "text": [
      "Batch [169/229] Loss: 0.6786\n",
      "Batch [170/229] Loss: 0.6792\n",
      "Batch [171/229] Loss: 0.6823\n",
      "Batch [172/229] Loss: 0.6710\n"
     ]
    },
    {
     "name": "stderr",
     "output_type": "stream",
     "text": [
      "Epoch 3/10 | Loss: 0.6941:  77%|███████████████████████       | 176/229 [01:01<00:14,  3.59it/s]"
     ]
    },
    {
     "name": "stdout",
     "output_type": "stream",
     "text": [
      "Batch [173/229] Loss: 0.6986\n",
      "Batch [174/229] Loss: 0.6837\n",
      "Batch [175/229] Loss: 0.6639\n",
      "Batch [176/229] Loss: 0.6941\n"
     ]
    },
    {
     "name": "stderr",
     "output_type": "stream",
     "text": [
      "Epoch 3/10 | Loss: 0.6839:  78%|███████████████████████▎      | 178/229 [01:02<00:17,  2.88it/s]"
     ]
    },
    {
     "name": "stdout",
     "output_type": "stream",
     "text": [
      "Batch [177/229] Loss: 0.6814\n",
      "Batch [178/229] Loss: 0.6861\n",
      "Batch [179/229] Loss: 0.6832\n",
      "Batch [180/229] Loss: 0.6839\n"
     ]
    },
    {
     "name": "stderr",
     "output_type": "stream",
     "text": [
      "Epoch 3/10 | Loss: 0.6742:  80%|███████████████████████▉      | 183/229 [01:03<00:13,  3.45it/s]"
     ]
    },
    {
     "name": "stdout",
     "output_type": "stream",
     "text": [
      "Batch [181/229] Loss: 0.6712\n",
      "Batch [182/229] Loss: 0.6795\n",
      "Batch [183/229] Loss: 0.6767\n",
      "Batch [184/229] Loss: 0.6742\n"
     ]
    },
    {
     "name": "stderr",
     "output_type": "stream",
     "text": [
      "Epoch 3/10 | Loss: 0.6711:  82%|████████████████████████▋     | 188/229 [01:05<00:11,  3.70it/s]"
     ]
    },
    {
     "name": "stdout",
     "output_type": "stream",
     "text": [
      "Batch [185/229] Loss: 0.6859\n",
      "Batch [186/229] Loss: 0.6874\n",
      "Batch [187/229] Loss: 0.6938\n",
      "Batch [188/229] Loss: 0.6711\n"
     ]
    },
    {
     "name": "stderr",
     "output_type": "stream",
     "text": [
      "Epoch 3/10 | Loss: 0.6940:  83%|████████████████████████▉     | 190/229 [01:06<00:14,  2.73it/s]"
     ]
    },
    {
     "name": "stdout",
     "output_type": "stream",
     "text": [
      "Batch [189/229] Loss: 0.6906\n",
      "Batch [190/229] Loss: 0.7042\n",
      "Batch [191/229] Loss: 0.6638\n",
      "Batch [192/229] Loss: 0.6940\n"
     ]
    },
    {
     "name": "stderr",
     "output_type": "stream",
     "text": [
      "Epoch 3/10 | Loss: 0.6858:  84%|█████████████████████████▎    | 193/229 [01:07<00:12,  2.78it/s]"
     ]
    },
    {
     "name": "stdout",
     "output_type": "stream",
     "text": [
      "Batch [193/229] Loss: 0.6789\n",
      "Batch [194/229] Loss: 0.6858\n"
     ]
    },
    {
     "name": "stderr",
     "output_type": "stream",
     "text": [
      "Epoch 3/10 | Loss: 0.6783:  85%|█████████████████████████▌    | 195/229 [01:07<00:10,  3.27it/s]"
     ]
    },
    {
     "name": "stdout",
     "output_type": "stream",
     "text": [
      "Batch [195/229] Loss: 0.6681\n",
      "Batch [196/229] Loss: 0.6783\n"
     ]
    },
    {
     "name": "stderr",
     "output_type": "stream",
     "text": [
      "Epoch 3/10 | Loss: 0.7037:  87%|██████████████████████████▏   | 200/229 [01:09<00:07,  3.91it/s]"
     ]
    },
    {
     "name": "stdout",
     "output_type": "stream",
     "text": [
      "Batch [197/229] Loss: 0.6900\n",
      "Batch [198/229] Loss: 0.6650\n",
      "Batch [199/229] Loss: 0.6763\n",
      "Batch [200/229] Loss: 0.7037\n"
     ]
    },
    {
     "name": "stderr",
     "output_type": "stream",
     "text": [
      "Epoch 3/10 | Loss: 0.6990:  88%|██████████████████████████▎   | 201/229 [01:10<00:10,  2.78it/s]"
     ]
    },
    {
     "name": "stdout",
     "output_type": "stream",
     "text": [
      "Batch [201/229] Loss: 0.6627\n",
      "Batch [202/229] Loss: 0.6990\n"
     ]
    },
    {
     "name": "stderr",
     "output_type": "stream",
     "text": [
      "Epoch 3/10 | Loss: 0.6705:  89%|██████████████████████████▌   | 203/229 [01:10<00:07,  3.31it/s]"
     ]
    },
    {
     "name": "stdout",
     "output_type": "stream",
     "text": [
      "Batch [203/229] Loss: 0.6782\n",
      "Batch [204/229] Loss: 0.6705\n"
     ]
    },
    {
     "name": "stderr",
     "output_type": "stream",
     "text": [
      "Epoch 3/10 | Loss: 0.6827:  90%|██████████████████████████▊   | 205/229 [01:11<00:08,  2.67it/s]"
     ]
    },
    {
     "name": "stdout",
     "output_type": "stream",
     "text": [
      "Batch [205/229] Loss: 0.6851\n",
      "Batch [206/229] Loss: 0.6827\n"
     ]
    },
    {
     "name": "stderr",
     "output_type": "stream",
     "text": [
      "Epoch 3/10 | Loss: 0.6919:  91%|███████████████████████████▏  | 208/229 [01:11<00:05,  3.53it/s]"
     ]
    },
    {
     "name": "stdout",
     "output_type": "stream",
     "text": [
      "Batch [207/229] Loss: 0.6840\n",
      "Batch [208/229] Loss: 0.6919\n"
     ]
    },
    {
     "name": "stderr",
     "output_type": "stream",
     "text": [
      "Epoch 3/10 | Loss: 0.6720:  93%|███████████████████████████▊  | 212/229 [01:13<00:04,  3.64it/s]"
     ]
    },
    {
     "name": "stdout",
     "output_type": "stream",
     "text": [
      "Batch [209/229] Loss: 0.6933\n",
      "Batch [210/229] Loss: 0.6951\n",
      "Batch [211/229] Loss: 0.6552\n",
      "Batch [212/229] Loss: 0.6720\n"
     ]
    },
    {
     "name": "stderr",
     "output_type": "stream",
     "text": [
      "Epoch 3/10 | Loss: 0.6785:  93%|███████████████████████████▉  | 213/229 [01:14<00:06,  2.47it/s]"
     ]
    },
    {
     "name": "stdout",
     "output_type": "stream",
     "text": [
      "Batch [213/229] Loss: 0.6707\n",
      "Batch [214/229] Loss: 0.6804\n",
      "Batch [215/229] Loss: 0.6785\n"
     ]
    },
    {
     "name": "stderr",
     "output_type": "stream",
     "text": [
      "Epoch 3/10 | Loss: 0.6864:  94%|████████████████████████████▎ | 216/229 [01:14<00:03,  3.54it/s]"
     ]
    },
    {
     "name": "stdout",
     "output_type": "stream",
     "text": [
      "Batch [216/229] Loss: 0.6864\n"
     ]
    },
    {
     "name": "stderr",
     "output_type": "stream",
     "text": [
      "Epoch 3/10 | Loss: 0.6704:  95%|████████████████████████████▍ | 217/229 [01:15<00:05,  2.31it/s]"
     ]
    },
    {
     "name": "stdout",
     "output_type": "stream",
     "text": [
      "Batch [217/229] Loss: 0.6777\n",
      "Batch [218/229] Loss: 0.6779\n",
      "Batch [219/229] Loss: 0.6704\n"
     ]
    },
    {
     "name": "stderr",
     "output_type": "stream",
     "text": [
      "Epoch 3/10 | Loss: 0.6707:  96%|████████████████████████████▊ | 220/229 [01:16<00:02,  3.42it/s]"
     ]
    },
    {
     "name": "stdout",
     "output_type": "stream",
     "text": [
      "Batch [220/229] Loss: 0.6707\n"
     ]
    },
    {
     "name": "stderr",
     "output_type": "stream",
     "text": [
      "Epoch 3/10 | Loss: 0.6930:  97%|████████████████████████████▉ | 221/229 [01:17<00:03,  2.39it/s]"
     ]
    },
    {
     "name": "stdout",
     "output_type": "stream",
     "text": [
      "Batch [221/229] Loss: 0.6623\n",
      "Batch [222/229] Loss: 0.6819\n",
      "Batch [223/229] Loss: 0.6930\n"
     ]
    },
    {
     "name": "stderr",
     "output_type": "stream",
     "text": [
      "Epoch 3/10 | Loss: 0.6847:  98%|█████████████████████████████▎| 224/229 [01:17<00:01,  3.27it/s]"
     ]
    },
    {
     "name": "stdout",
     "output_type": "stream",
     "text": [
      "Batch [224/229] Loss: 0.6847\n"
     ]
    },
    {
     "name": "stderr",
     "output_type": "stream",
     "text": [
      "Epoch 3/10 | Loss: 0.6671:  98%|█████████████████████████████▍| 225/229 [01:18<00:01,  2.38it/s]"
     ]
    },
    {
     "name": "stdout",
     "output_type": "stream",
     "text": [
      "Batch [225/229] Loss: 0.6773\n",
      "Batch [226/229] Loss: 0.7001\n",
      "Batch [227/229] Loss: 0.6671\n"
     ]
    },
    {
     "name": "stderr",
     "output_type": "stream",
     "text": [
      "Epoch 3/10 | Loss: 0.6856: 100%|█████████████████████████████▊| 228/229 [01:18<00:00,  3.31it/s]"
     ]
    },
    {
     "name": "stdout",
     "output_type": "stream",
     "text": [
      "Batch [228/229] Loss: 0.6856\n"
     ]
    },
    {
     "name": "stderr",
     "output_type": "stream",
     "text": [
      "Epoch 3/10 | Loss: 0.6894: 100%|██████████████████████████████| 229/229 [01:19<00:00,  2.87it/s]\n"
     ]
    },
    {
     "name": "stdout",
     "output_type": "stream",
     "text": [
      "Batch [229/229] Loss: 0.6894\n",
      "\n",
      "Epoch 3 Summary:\n",
      "Average Loss: 0.6837\n",
      "\n",
      "Epoch 4/10\n",
      "==================================================\n"
     ]
    },
    {
     "name": "stderr",
     "output_type": "stream",
     "text": [
      "Epoch 4/10 | Loss: 0.6641:   2%|▌                             | 4/229 [00:01<01:13,  3.05it/s]"
     ]
    },
    {
     "name": "stdout",
     "output_type": "stream",
     "text": [
      "Batch [1/229] Loss: 0.6880\n",
      "Batch [2/229] Loss: 0.6720\n",
      "Batch [3/229] Loss: 0.6854\n",
      "Batch [4/229] Loss: 0.6641\n"
     ]
    },
    {
     "name": "stderr",
     "output_type": "stream",
     "text": [
      "Epoch 4/10 | Loss: 0.6658:   3%|█                             | 8/229 [00:03<01:09,  3.17it/s]"
     ]
    },
    {
     "name": "stdout",
     "output_type": "stream",
     "text": [
      "Batch [5/229] Loss: 0.6781\n",
      "Batch [6/229] Loss: 0.6822\n",
      "Batch [7/229] Loss: 0.6704\n",
      "Batch [8/229] Loss: 0.6658\n"
     ]
    },
    {
     "name": "stderr",
     "output_type": "stream",
     "text": [
      "Epoch 4/10 | Loss: 0.6993:   4%|█▎                            | 10/229 [00:04<01:42,  2.14it/s]"
     ]
    },
    {
     "name": "stdout",
     "output_type": "stream",
     "text": [
      "Batch [9/229] Loss: 0.6721\n",
      "Batch [10/229] Loss: 0.6993\n"
     ]
    },
    {
     "name": "stderr",
     "output_type": "stream",
     "text": [
      "Epoch 4/10 | Loss: 0.6886:   5%|█▌                            | 12/229 [00:04<01:11,  3.05it/s]"
     ]
    },
    {
     "name": "stdout",
     "output_type": "stream",
     "text": [
      "Batch [11/229] Loss: 0.7058\n",
      "Batch [12/229] Loss: 0.6886\n"
     ]
    },
    {
     "name": "stderr",
     "output_type": "stream",
     "text": [
      "Epoch 4/10 | Loss: 0.6477:   7%|██                            | 16/229 [00:06<01:07,  3.13it/s]"
     ]
    },
    {
     "name": "stdout",
     "output_type": "stream",
     "text": [
      "Batch [13/229] Loss: 0.6914\n",
      "Batch [14/229] Loss: 0.6934\n",
      "Batch [15/229] Loss: 0.6986\n",
      "Batch [16/229] Loss: 0.6477\n"
     ]
    },
    {
     "name": "stderr",
     "output_type": "stream",
     "text": [
      "Epoch 4/10 | Loss: 0.6709:   8%|██▎                           | 18/229 [00:07<01:29,  2.35it/s]"
     ]
    },
    {
     "name": "stdout",
     "output_type": "stream",
     "text": [
      "Batch [17/229] Loss: 0.6746\n",
      "Batch [18/229] Loss: 0.6992\n",
      "Batch [19/229] Loss: 0.7076\n",
      "Batch [20/229] Loss: 0.6709\n"
     ]
    },
    {
     "name": "stderr",
     "output_type": "stream",
     "text": [
      "Epoch 4/10 | Loss: 0.6831:  10%|██▉                           | 22/229 [00:08<01:16,  2.69it/s]"
     ]
    },
    {
     "name": "stdout",
     "output_type": "stream",
     "text": [
      "Batch [21/229] Loss: 0.6782\n",
      "Batch [22/229] Loss: 0.6831\n"
     ]
    },
    {
     "name": "stderr",
     "output_type": "stream",
     "text": [
      "Epoch 4/10 | Loss: 0.6992:  10%|██▉                           | 22/229 [00:08<01:16,  2.69it/s]"
     ]
    },
    {
     "name": "stdout",
     "output_type": "stream",
     "text": [
      "Batch [23/229] Loss: 0.6879\n",
      "Batch [24/229] Loss: 0.6992\n"
     ]
    },
    {
     "name": "stderr",
     "output_type": "stream",
     "text": [
      "Epoch 4/10 | Loss: 0.7047:  11%|███▎                          | 25/229 [00:10<01:19,  2.56it/s]"
     ]
    },
    {
     "name": "stdout",
     "output_type": "stream",
     "text": [
      "Batch [25/229] Loss: 0.7047\n"
     ]
    },
    {
     "name": "stderr",
     "output_type": "stream",
     "text": [
      "Epoch 4/10 | Loss: 0.6706:  11%|███▍                          | 26/229 [00:10<01:17,  2.62it/s]"
     ]
    },
    {
     "name": "stdout",
     "output_type": "stream",
     "text": [
      "Batch [26/229] Loss: 0.7191\n",
      "Batch [27/229] Loss: 0.6789\n",
      "Batch [28/229] Loss: 0.6706\n"
     ]
    },
    {
     "name": "stderr",
     "output_type": "stream",
     "text": [
      "Epoch 4/10 | Loss: 0.6992:  13%|███▊                          | 29/229 [00:11<01:12,  2.77it/s]"
     ]
    },
    {
     "name": "stdout",
     "output_type": "stream",
     "text": [
      "Batch [29/229] Loss: 0.6992\n"
     ]
    },
    {
     "name": "stderr",
     "output_type": "stream",
     "text": [
      "Epoch 4/10 | Loss: 0.6785:  13%|███▉                          | 30/229 [00:12<01:18,  2.53it/s]"
     ]
    },
    {
     "name": "stdout",
     "output_type": "stream",
     "text": [
      "Batch [30/229] Loss: 0.6870\n",
      "Batch [31/229] Loss: 0.6865\n",
      "Batch [32/229] Loss: 0.6785\n"
     ]
    },
    {
     "name": "stderr",
     "output_type": "stream",
     "text": [
      "Epoch 4/10 | Loss: 0.6625:  14%|████▎                         | 33/229 [00:12<01:04,  3.03it/s]"
     ]
    },
    {
     "name": "stdout",
     "output_type": "stream",
     "text": [
      "Batch [33/229] Loss: 0.6625\n"
     ]
    },
    {
     "name": "stderr",
     "output_type": "stream",
     "text": [
      "Epoch 4/10 | Loss: 0.6860:  15%|████▍                         | 34/229 [00:13<01:18,  2.49it/s]"
     ]
    },
    {
     "name": "stdout",
     "output_type": "stream",
     "text": [
      "Batch [34/229] Loss: 0.6707\n",
      "Batch [35/229] Loss: 0.6786\n",
      "Batch [36/229] Loss: 0.6860\n"
     ]
    },
    {
     "name": "stderr",
     "output_type": "stream",
     "text": [
      "Epoch 4/10 | Loss: 0.6983:  16%|████▊                         | 37/229 [00:14<01:01,  3.13it/s]"
     ]
    },
    {
     "name": "stdout",
     "output_type": "stream",
     "text": [
      "Batch [37/229] Loss: 0.6983\n"
     ]
    },
    {
     "name": "stderr",
     "output_type": "stream",
     "text": [
      "Epoch 4/10 | Loss: 0.6779:  17%|████▉                         | 38/229 [00:14<01:12,  2.63it/s]"
     ]
    },
    {
     "name": "stdout",
     "output_type": "stream",
     "text": [
      "Batch [38/229] Loss: 0.6940\n",
      "Batch [39/229] Loss: 0.6859\n",
      "Batch [40/229] Loss: 0.6779\n"
     ]
    },
    {
     "name": "stderr",
     "output_type": "stream",
     "text": [
      "Epoch 4/10 | Loss: 0.7045:  18%|█████▎                        | 41/229 [00:15<00:58,  3.20it/s]"
     ]
    },
    {
     "name": "stdout",
     "output_type": "stream",
     "text": [
      "Batch [41/229] Loss: 0.7045\n"
     ]
    },
    {
     "name": "stderr",
     "output_type": "stream",
     "text": [
      "Epoch 4/10 | Loss: 0.6803:  18%|█████▌                        | 42/229 [00:16<01:06,  2.79it/s]"
     ]
    },
    {
     "name": "stdout",
     "output_type": "stream",
     "text": [
      "Batch [42/229] Loss: 0.6630\n",
      "Batch [43/229] Loss: 0.6781\n",
      "Batch [44/229] Loss: 0.6803\n"
     ]
    },
    {
     "name": "stderr",
     "output_type": "stream",
     "text": [
      "Epoch 4/10 | Loss: 0.6953:  20%|█████▉                        | 45/229 [00:16<00:56,  3.27it/s]"
     ]
    },
    {
     "name": "stdout",
     "output_type": "stream",
     "text": [
      "Batch [45/229] Loss: 0.6953\n"
     ]
    },
    {
     "name": "stderr",
     "output_type": "stream",
     "text": [
      "Epoch 4/10 | Loss: 0.6786:  20%|██████                        | 46/229 [00:17<01:00,  3.01it/s]"
     ]
    },
    {
     "name": "stdout",
     "output_type": "stream",
     "text": [
      "Batch [46/229] Loss: 0.6703\n",
      "Batch [47/229] Loss: 0.6748\n",
      "Batch [48/229] Loss: 0.6786\n"
     ]
    },
    {
     "name": "stderr",
     "output_type": "stream",
     "text": [
      "Epoch 4/10 | Loss: 0.6622:  21%|██████▍                       | 49/229 [00:18<00:55,  3.22it/s]"
     ]
    },
    {
     "name": "stdout",
     "output_type": "stream",
     "text": [
      "Batch [49/229] Loss: 0.6622\n"
     ]
    },
    {
     "name": "stderr",
     "output_type": "stream",
     "text": [
      "Epoch 4/10 | Loss: 0.6978:  22%|██████▌                       | 50/229 [00:18<01:03,  2.84it/s]"
     ]
    },
    {
     "name": "stdout",
     "output_type": "stream",
     "text": [
      "Batch [50/229] Loss: 0.7046\n",
      "Batch [51/229] Loss: 0.6643\n",
      "Batch [52/229] Loss: 0.6978\n"
     ]
    },
    {
     "name": "stderr",
     "output_type": "stream",
     "text": [
      "Epoch 4/10 | Loss: 0.7057:  23%|██████▉                       | 53/229 [00:19<01:02,  2.81it/s]"
     ]
    },
    {
     "name": "stdout",
     "output_type": "stream",
     "text": [
      "Batch [53/229] Loss: 0.7057\n"
     ]
    },
    {
     "name": "stderr",
     "output_type": "stream",
     "text": [
      "Epoch 4/10 | Loss: 0.6671:  24%|███████                       | 54/229 [00:20<01:02,  2.80it/s]"
     ]
    },
    {
     "name": "stdout",
     "output_type": "stream",
     "text": [
      "Batch [54/229] Loss: 0.6746\n",
      "Batch [55/229] Loss: 0.6790\n",
      "Batch [56/229] Loss: 0.6671\n"
     ]
    },
    {
     "name": "stderr",
     "output_type": "stream",
     "text": [
      "Epoch 4/10 | Loss: 0.6705:  25%|███████▌                      | 58/229 [00:21<00:54,  3.14it/s]"
     ]
    },
    {
     "name": "stdout",
     "output_type": "stream",
     "text": [
      "Batch [57/229] Loss: 0.7035\n",
      "Batch [58/229] Loss: 0.7088\n",
      "Batch [59/229] Loss: 0.6705\n"
     ]
    },
    {
     "name": "stderr",
     "output_type": "stream",
     "text": [
      "\r",
      "Epoch 4/10 | Loss: 0.6862:  25%|███████▌                      | 58/229 [00:21<00:54,  3.14it/s]"
     ]
    },
    {
     "name": "stdout",
     "output_type": "stream",
     "text": [
      "Batch [60/229] Loss: 0.6862\n"
     ]
    },
    {
     "name": "stderr",
     "output_type": "stream",
     "text": [
      "Epoch 4/10 | Loss: 0.6910:  27%|████████                      | 62/229 [00:22<00:55,  2.98it/s]"
     ]
    },
    {
     "name": "stdout",
     "output_type": "stream",
     "text": [
      "Batch [61/229] Loss: 0.6754\n",
      "Batch [62/229] Loss: 0.6910\n"
     ]
    },
    {
     "name": "stderr",
     "output_type": "stream",
     "text": [
      "Epoch 4/10 | Loss: 0.6961:  27%|████████                      | 62/229 [00:22<00:55,  2.98it/s]"
     ]
    },
    {
     "name": "stdout",
     "output_type": "stream",
     "text": [
      "Batch [63/229] Loss: 0.7042\n",
      "Batch [64/229] Loss: 0.6961\n"
     ]
    },
    {
     "name": "stderr",
     "output_type": "stream",
     "text": [
      "Epoch 4/10 | Loss: 0.7044:  28%|████████▌                     | 65/229 [00:23<00:57,  2.84it/s]"
     ]
    },
    {
     "name": "stdout",
     "output_type": "stream",
     "text": [
      "Batch [65/229] Loss: 0.7044\n"
     ]
    },
    {
     "name": "stderr",
     "output_type": "stream",
     "text": [
      "Epoch 4/10 | Loss: 0.6673:  29%|████████▋                     | 66/229 [00:24<01:08,  2.38it/s]"
     ]
    },
    {
     "name": "stdout",
     "output_type": "stream",
     "text": [
      "Batch [66/229] Loss: 0.7037\n",
      "Batch [67/229] Loss: 0.6668\n",
      "Batch [68/229] Loss: 0.6673\n"
     ]
    },
    {
     "name": "stderr",
     "output_type": "stream",
     "text": [
      "Epoch 4/10 | Loss: 0.7189:  30%|█████████                     | 69/229 [00:25<00:54,  2.93it/s]"
     ]
    },
    {
     "name": "stdout",
     "output_type": "stream",
     "text": [
      "Batch [69/229] Loss: 0.7189\n"
     ]
    },
    {
     "name": "stderr",
     "output_type": "stream",
     "text": [
      "Epoch 4/10 | Loss: 0.6853:  31%|█████████▏                    | 70/229 [00:26<01:03,  2.49it/s]"
     ]
    },
    {
     "name": "stdout",
     "output_type": "stream",
     "text": [
      "Batch [70/229] Loss: 0.7394\n",
      "Batch [71/229] Loss: 0.7563\n",
      "Batch [72/229] Loss: 0.6853\n"
     ]
    },
    {
     "name": "stderr",
     "output_type": "stream",
     "text": [
      "Epoch 4/10 | Loss: 0.6879:  32%|█████████▌                    | 73/229 [00:26<00:49,  3.17it/s]"
     ]
    },
    {
     "name": "stdout",
     "output_type": "stream",
     "text": [
      "Batch [73/229] Loss: 0.6879\n"
     ]
    },
    {
     "name": "stderr",
     "output_type": "stream",
     "text": [
      "Epoch 4/10 | Loss: 0.6938:  32%|█████████▋                    | 74/229 [00:27<00:59,  2.60it/s]"
     ]
    },
    {
     "name": "stdout",
     "output_type": "stream",
     "text": [
      "Batch [74/229] Loss: 0.7132\n",
      "Batch [75/229] Loss: 0.6879\n",
      "Batch [76/229] Loss: 0.6938\n"
     ]
    },
    {
     "name": "stderr",
     "output_type": "stream",
     "text": [
      "Epoch 4/10 | Loss: 0.6809:  34%|██████████                    | 77/229 [00:27<00:44,  3.41it/s]"
     ]
    },
    {
     "name": "stdout",
     "output_type": "stream",
     "text": [
      "Batch [77/229] Loss: 0.6809\n"
     ]
    },
    {
     "name": "stderr",
     "output_type": "stream",
     "text": [
      "Epoch 4/10 | Loss: 0.6835:  35%|██████████▌                   | 81/229 [00:29<00:40,  3.62it/s]"
     ]
    },
    {
     "name": "stdout",
     "output_type": "stream",
     "text": [
      "Batch [78/229] Loss: 0.6881\n",
      "Batch [79/229] Loss: 0.6807\n",
      "Batch [80/229] Loss: 0.6671\n",
      "Batch [81/229] Loss: 0.6835\n"
     ]
    },
    {
     "name": "stderr",
     "output_type": "stream",
     "text": [
      "Epoch 4/10 | Loss: 0.6947:  36%|██████████▋                   | 82/229 [00:30<01:00,  2.43it/s]"
     ]
    },
    {
     "name": "stdout",
     "output_type": "stream",
     "text": [
      "Batch [82/229] Loss: 0.6767\n",
      "Batch [83/229] Loss: 0.6936\n",
      "Batch [84/229] Loss: 0.6947\n"
     ]
    },
    {
     "name": "stderr",
     "output_type": "stream",
     "text": [
      "Epoch 4/10 | Loss: 0.6872:  37%|███████████▏                  | 85/229 [00:30<00:43,  3.29it/s]"
     ]
    },
    {
     "name": "stdout",
     "output_type": "stream",
     "text": [
      "Batch [85/229] Loss: 0.6872\n"
     ]
    },
    {
     "name": "stderr",
     "output_type": "stream",
     "text": [
      "Epoch 4/10 | Loss: 0.7040:  38%|███████████▎                  | 86/229 [00:31<00:59,  2.42it/s]"
     ]
    },
    {
     "name": "stdout",
     "output_type": "stream",
     "text": [
      "Batch [86/229] Loss: 0.6869\n",
      "Batch [87/229] Loss: 0.6936\n",
      "Batch [88/229] Loss: 0.7040\n"
     ]
    },
    {
     "name": "stderr",
     "output_type": "stream",
     "text": [
      "Epoch 4/10 | Loss: 0.6983:  39%|███████████▋                  | 89/229 [00:32<00:43,  3.21it/s]"
     ]
    },
    {
     "name": "stdout",
     "output_type": "stream",
     "text": [
      "Batch [89/229] Loss: 0.6983\n"
     ]
    },
    {
     "name": "stderr",
     "output_type": "stream",
     "text": [
      "Epoch 4/10 | Loss: 0.6874:  39%|███████████▊                  | 90/229 [00:33<00:56,  2.45it/s]"
     ]
    },
    {
     "name": "stdout",
     "output_type": "stream",
     "text": [
      "Batch [90/229] Loss: 0.6670\n",
      "Batch [91/229] Loss: 0.6863\n",
      "Batch [92/229] Loss: 0.6874\n"
     ]
    },
    {
     "name": "stderr",
     "output_type": "stream",
     "text": [
      "Epoch 4/10 | Loss: 0.6801:  41%|████████████▏                 | 93/229 [00:33<00:41,  3.27it/s]"
     ]
    },
    {
     "name": "stdout",
     "output_type": "stream",
     "text": [
      "Batch [93/229] Loss: 0.6801\n"
     ]
    },
    {
     "name": "stderr",
     "output_type": "stream",
     "text": [
      "Epoch 4/10 | Loss: 0.6972:  41%|████████████▎                 | 94/229 [00:34<00:52,  2.57it/s]"
     ]
    },
    {
     "name": "stdout",
     "output_type": "stream",
     "text": [
      "Batch [94/229] Loss: 0.6796\n",
      "Batch [95/229] Loss: 0.7080\n",
      "Batch [96/229] Loss: 0.6972\n"
     ]
    },
    {
     "name": "stderr",
     "output_type": "stream",
     "text": [
      "Epoch 4/10 | Loss: 0.6931:  42%|████████████▋                 | 97/229 [00:34<00:41,  3.17it/s]"
     ]
    },
    {
     "name": "stdout",
     "output_type": "stream",
     "text": [
      "Batch [97/229] Loss: 0.6931\n"
     ]
    },
    {
     "name": "stderr",
     "output_type": "stream",
     "text": [
      "Epoch 4/10 | Loss: 0.6919:  43%|████████████▊                 | 98/229 [00:35<00:48,  2.70it/s]"
     ]
    },
    {
     "name": "stdout",
     "output_type": "stream",
     "text": [
      "Batch [98/229] Loss: 0.6815\n",
      "Batch [99/229] Loss: 0.6737\n",
      "Batch [100/229] Loss: 0.6919\n"
     ]
    },
    {
     "name": "stderr",
     "output_type": "stream",
     "text": [
      "Epoch 4/10 | Loss: 0.6969:  44%|█████████████▏                | 101/229 [00:36<00:39,  3.27it/s]"
     ]
    },
    {
     "name": "stdout",
     "output_type": "stream",
     "text": [
      "Batch [101/229] Loss: 0.6969\n"
     ]
    },
    {
     "name": "stderr",
     "output_type": "stream",
     "text": [
      "Epoch 4/10 | Loss: 0.6809:  45%|█████████████▎                | 102/229 [00:36<00:42,  2.96it/s]"
     ]
    },
    {
     "name": "stdout",
     "output_type": "stream",
     "text": [
      "Batch [102/229] Loss: 0.6677\n",
      "Batch [103/229] Loss: 0.6795\n",
      "Batch [104/229] Loss: 0.6809\n"
     ]
    },
    {
     "name": "stderr",
     "output_type": "stream",
     "text": [
      "Epoch 4/10 | Loss: 0.6783:  46%|█████████████▊                | 105/229 [00:37<00:40,  3.05it/s]"
     ]
    },
    {
     "name": "stdout",
     "output_type": "stream",
     "text": [
      "Batch [105/229] Loss: 0.6783\n"
     ]
    },
    {
     "name": "stderr",
     "output_type": "stream",
     "text": [
      "Epoch 4/10 | Loss: 0.6671:  46%|█████████████▉                | 106/229 [00:38<00:41,  2.97it/s]"
     ]
    },
    {
     "name": "stdout",
     "output_type": "stream",
     "text": [
      "Batch [106/229] Loss: 0.6799\n",
      "Batch [107/229] Loss: 0.6783\n",
      "Batch [108/229] Loss: 0.6671\n"
     ]
    },
    {
     "name": "stderr",
     "output_type": "stream",
     "text": [
      "Epoch 4/10 | Loss: 0.6919:  48%|██████████████▎               | 109/229 [00:39<00:39,  3.02it/s]"
     ]
    },
    {
     "name": "stdout",
     "output_type": "stream",
     "text": [
      "Batch [109/229] Loss: 0.6919\n"
     ]
    },
    {
     "name": "stderr",
     "output_type": "stream",
     "text": [
      "Epoch 4/10 | Loss: 0.6711:  48%|██████████████▍               | 110/229 [00:39<00:39,  3.02it/s]"
     ]
    },
    {
     "name": "stdout",
     "output_type": "stream",
     "text": [
      "Batch [110/229] Loss: 0.7155\n",
      "Batch [111/229] Loss: 0.6791\n",
      "Batch [112/229] Loss: 0.6711\n"
     ]
    },
    {
     "name": "stderr",
     "output_type": "stream",
     "text": [
      "Epoch 4/10 | Loss: 0.6700:  49%|██████████████▊               | 113/229 [00:40<00:38,  3.05it/s]"
     ]
    },
    {
     "name": "stdout",
     "output_type": "stream",
     "text": [
      "Batch [113/229] Loss: 0.6700\n"
     ]
    },
    {
     "name": "stderr",
     "output_type": "stream",
     "text": [
      "Epoch 4/10 | Loss: 0.6937:  50%|██████████████▉               | 114/229 [00:40<00:38,  2.96it/s]"
     ]
    },
    {
     "name": "stdout",
     "output_type": "stream",
     "text": [
      "Batch [114/229] Loss: 0.6953\n",
      "Batch [115/229] Loss: 0.6856\n",
      "Batch [116/229] Loss: 0.6937\n"
     ]
    },
    {
     "name": "stderr",
     "output_type": "stream",
     "text": [
      "Epoch 4/10 | Loss: 0.6571:  52%|███████████████▍              | 118/229 [00:41<00:34,  3.18it/s]"
     ]
    },
    {
     "name": "stdout",
     "output_type": "stream",
     "text": [
      "Batch [117/229] Loss: 0.6778\n",
      "Batch [118/229] Loss: 0.6571\n"
     ]
    },
    {
     "name": "stderr",
     "output_type": "stream",
     "text": [
      "Epoch 4/10 | Loss: 0.6936:  52%|███████████████▍              | 118/229 [00:42<00:34,  3.18it/s]"
     ]
    },
    {
     "name": "stdout",
     "output_type": "stream",
     "text": [
      "Batch [119/229] Loss: 0.6872\n",
      "Batch [120/229] Loss: 0.6936\n"
     ]
    },
    {
     "name": "stderr",
     "output_type": "stream",
     "text": [
      "Epoch 4/10 | Loss: 0.6713:  54%|████████████████▏             | 124/229 [00:43<00:26,  4.03it/s]"
     ]
    },
    {
     "name": "stdout",
     "output_type": "stream",
     "text": [
      "Batch [121/229] Loss: 0.6578\n",
      "Batch [122/229] Loss: 0.6702\n",
      "Batch [123/229] Loss: 0.6983\n",
      "Batch [124/229] Loss: 0.6713\n"
     ]
    },
    {
     "name": "stderr",
     "output_type": "stream",
     "text": [
      "Epoch 4/10 | Loss: 0.6978:  56%|████████████████▊             | 128/229 [00:44<00:25,  3.98it/s]"
     ]
    },
    {
     "name": "stdout",
     "output_type": "stream",
     "text": [
      "Batch [125/229] Loss: 0.6932\n",
      "Batch [126/229] Loss: 0.6779\n",
      "Batch [127/229] Loss: 0.6749\n",
      "Batch [128/229] Loss: 0.6978\n"
     ]
    },
    {
     "name": "stderr",
     "output_type": "stream",
     "text": [
      "Epoch 4/10 | Loss: 0.6784:  57%|█████████████████             | 130/229 [00:46<00:36,  2.74it/s]"
     ]
    },
    {
     "name": "stdout",
     "output_type": "stream",
     "text": [
      "Batch [129/229] Loss: 0.6932\n",
      "Batch [130/229] Loss: 0.6701\n",
      "Batch [131/229] Loss: 0.6702\n",
      "Batch [132/229] Loss: 0.6784\n"
     ]
    },
    {
     "name": "stderr",
     "output_type": "stream",
     "text": [
      "Epoch 4/10 | Loss: 0.6780:  59%|█████████████████▊            | 136/229 [00:47<00:25,  3.65it/s]"
     ]
    },
    {
     "name": "stdout",
     "output_type": "stream",
     "text": [
      "Batch [133/229] Loss: 0.6778\n",
      "Batch [134/229] Loss: 0.6614\n",
      "Batch [135/229] Loss: 0.6856\n",
      "Batch [136/229] Loss: 0.6780\n"
     ]
    },
    {
     "name": "stderr",
     "output_type": "stream",
     "text": [
      "Epoch 4/10 | Loss: 0.6698:  60%|██████████████████            | 138/229 [00:48<00:30,  2.97it/s]"
     ]
    },
    {
     "name": "stdout",
     "output_type": "stream",
     "text": [
      "Batch [137/229] Loss: 0.6626\n",
      "Batch [138/229] Loss: 0.6781\n",
      "Batch [139/229] Loss: 0.7198\n",
      "Batch [140/229] Loss: 0.6698\n"
     ]
    },
    {
     "name": "stderr",
     "output_type": "stream",
     "text": [
      "Epoch 4/10 | Loss: 0.6781:  63%|██████████████████▊           | 144/229 [00:49<00:22,  3.81it/s]"
     ]
    },
    {
     "name": "stdout",
     "output_type": "stream",
     "text": [
      "Batch [141/229] Loss: 0.6778\n",
      "Batch [142/229] Loss: 0.6699\n",
      "Batch [143/229] Loss: 0.6700\n",
      "Batch [144/229] Loss: 0.6781\n"
     ]
    },
    {
     "name": "stderr",
     "output_type": "stream",
     "text": [
      "Epoch 4/10 | Loss: 0.6880:  64%|███████████████████▏          | 146/229 [00:51<00:32,  2.58it/s]"
     ]
    },
    {
     "name": "stdout",
     "output_type": "stream",
     "text": [
      "Batch [145/229] Loss: 0.6933\n",
      "Batch [146/229] Loss: 0.6855\n",
      "Batch [147/229] Loss: 0.6627\n",
      "Batch [148/229] Loss: 0.6880\n"
     ]
    },
    {
     "name": "stderr",
     "output_type": "stream",
     "text": [
      "Epoch 4/10 | Loss: 0.6787:  66%|███████████████████▉          | 152/229 [00:52<00:22,  3.46it/s]"
     ]
    },
    {
     "name": "stdout",
     "output_type": "stream",
     "text": [
      "Batch [149/229] Loss: 0.6781\n",
      "Batch [150/229] Loss: 0.6783\n",
      "Batch [151/229] Loss: 0.6956\n",
      "Batch [152/229] Loss: 0.6787\n"
     ]
    },
    {
     "name": "stderr",
     "output_type": "stream",
     "text": [
      "Epoch 4/10 | Loss: 0.6991:  67%|████████████████████▏         | 154/229 [00:54<00:26,  2.81it/s]"
     ]
    },
    {
     "name": "stdout",
     "output_type": "stream",
     "text": [
      "Batch [153/229] Loss: 0.6814\n",
      "Batch [154/229] Loss: 0.6782\n",
      "Batch [155/229] Loss: 0.6704\n",
      "Batch [156/229] Loss: 0.6991\n"
     ]
    },
    {
     "name": "stderr",
     "output_type": "stream",
     "text": [
      "Epoch 4/10 | Loss: 0.7129:  70%|████████████████████▉         | 160/229 [00:55<00:18,  3.65it/s]"
     ]
    },
    {
     "name": "stdout",
     "output_type": "stream",
     "text": [
      "Batch [157/229] Loss: 0.6857\n",
      "Batch [158/229] Loss: 0.6706\n",
      "Batch [159/229] Loss: 0.6937\n",
      "Batch [160/229] Loss: 0.7129\n"
     ]
    },
    {
     "name": "stderr",
     "output_type": "stream",
     "text": [
      "Epoch 4/10 | Loss: 0.6904:  71%|█████████████████████▏        | 162/229 [00:56<00:23,  2.83it/s]"
     ]
    },
    {
     "name": "stdout",
     "output_type": "stream",
     "text": [
      "Batch [161/229] Loss: 0.6966\n",
      "Batch [162/229] Loss: 0.6879\n",
      "Batch [163/229] Loss: 0.6913\n",
      "Batch [164/229] Loss: 0.6904\n"
     ]
    },
    {
     "name": "stderr",
     "output_type": "stream",
     "text": [
      "Epoch 4/10 | Loss: 0.6906:  73%|██████████████████████        | 168/229 [00:58<00:16,  3.64it/s]"
     ]
    },
    {
     "name": "stdout",
     "output_type": "stream",
     "text": [
      "Batch [165/229] Loss: 0.6702\n",
      "Batch [166/229] Loss: 0.6698\n",
      "Batch [167/229] Loss: 0.6904\n",
      "Batch [168/229] Loss: 0.6906\n"
     ]
    },
    {
     "name": "stderr",
     "output_type": "stream",
     "text": [
      "Epoch 4/10 | Loss: 0.6700:  74%|██████████████████████▎       | 170/229 [00:59<00:21,  2.79it/s]"
     ]
    },
    {
     "name": "stdout",
     "output_type": "stream",
     "text": [
      "Batch [169/229] Loss: 0.6795\n",
      "Batch [170/229] Loss: 0.6792\n",
      "Batch [171/229] Loss: 0.6832\n",
      "Batch [172/229] Loss: 0.6700\n"
     ]
    },
    {
     "name": "stderr",
     "output_type": "stream",
     "text": [
      "Epoch 4/10 | Loss: 0.6630:  77%|███████████████████████       | 176/229 [01:00<00:14,  3.67it/s]"
     ]
    },
    {
     "name": "stdout",
     "output_type": "stream",
     "text": [
      "Batch [173/229] Loss: 0.6695\n",
      "Batch [174/229] Loss: 0.6935\n",
      "Batch [175/229] Loss: 0.6698\n",
      "Batch [176/229] Loss: 0.6630\n"
     ]
    },
    {
     "name": "stderr",
     "output_type": "stream",
     "text": [
      "Epoch 4/10 | Loss: 0.6802:  78%|███████████████████████▎      | 178/229 [01:02<00:17,  2.90it/s]"
     ]
    },
    {
     "name": "stdout",
     "output_type": "stream",
     "text": [
      "Batch [177/229] Loss: 0.6699\n",
      "Batch [178/229] Loss: 0.6999\n",
      "Batch [179/229] Loss: 0.6984\n",
      "Batch [180/229] Loss: 0.6802\n"
     ]
    },
    {
     "name": "stderr",
     "output_type": "stream",
     "text": [
      "Epoch 4/10 | Loss: 0.6989:  80%|████████████████████████      | 184/229 [01:03<00:12,  3.73it/s]"
     ]
    },
    {
     "name": "stdout",
     "output_type": "stream",
     "text": [
      "Batch [181/229] Loss: 0.6907\n",
      "Batch [182/229] Loss: 0.6567\n",
      "Batch [183/229] Loss: 0.6830\n",
      "Batch [184/229] Loss: 0.6989\n"
     ]
    },
    {
     "name": "stderr",
     "output_type": "stream",
     "text": [
      "Epoch 4/10 | Loss: 0.6855:  81%|████████████████████████▎     | 186/229 [01:04<00:15,  2.76it/s]"
     ]
    },
    {
     "name": "stdout",
     "output_type": "stream",
     "text": [
      "Batch [185/229] Loss: 0.6854\n",
      "Batch [186/229] Loss: 0.7063\n",
      "Batch [187/229] Loss: 0.6780\n",
      "Batch [188/229] Loss: 0.6855\n"
     ]
    },
    {
     "name": "stderr",
     "output_type": "stream",
     "text": [
      "Epoch 4/10 | Loss: 0.6906:  83%|████████████████████████▊     | 189/229 [01:06<00:14,  2.68it/s]"
     ]
    },
    {
     "name": "stdout",
     "output_type": "stream",
     "text": [
      "Batch [189/229] Loss: 0.6906\n"
     ]
    },
    {
     "name": "stderr",
     "output_type": "stream",
     "text": [
      "Epoch 4/10 | Loss: 0.6858:  83%|████████████████████████▉     | 190/229 [01:06<00:14,  2.71it/s]"
     ]
    },
    {
     "name": "stdout",
     "output_type": "stream",
     "text": [
      "Batch [190/229] Loss: 0.6702\n",
      "Batch [191/229] Loss: 0.6856\n",
      "Batch [192/229] Loss: 0.6858\n"
     ]
    },
    {
     "name": "stderr",
     "output_type": "stream",
     "text": [
      "Epoch 4/10 | Loss: 0.6858:  84%|█████████████████████████▎    | 193/229 [01:07<00:13,  2.68it/s]"
     ]
    },
    {
     "name": "stdout",
     "output_type": "stream",
     "text": [
      "Batch [193/229] Loss: 0.6858\n"
     ]
    },
    {
     "name": "stderr",
     "output_type": "stream",
     "text": [
      "Epoch 4/10 | Loss: 0.6907:  85%|█████████████████████████▍    | 194/229 [01:08<00:13,  2.56it/s]"
     ]
    },
    {
     "name": "stdout",
     "output_type": "stream",
     "text": [
      "Batch [194/229] Loss: 0.6631\n",
      "Batch [195/229] Loss: 0.6909\n",
      "Batch [196/229] Loss: 0.6907\n"
     ]
    },
    {
     "name": "stderr",
     "output_type": "stream",
     "text": [
      "Epoch 4/10 | Loss: 0.6702:  86%|█████████████████████████▊    | 197/229 [01:08<00:11,  2.78it/s]"
     ]
    },
    {
     "name": "stdout",
     "output_type": "stream",
     "text": [
      "Batch [197/229] Loss: 0.6702\n"
     ]
    },
    {
     "name": "stderr",
     "output_type": "stream",
     "text": [
      "Epoch 4/10 | Loss: 0.6888:  86%|█████████████████████████▉    | 198/229 [01:09<00:11,  2.74it/s]"
     ]
    },
    {
     "name": "stdout",
     "output_type": "stream",
     "text": [
      "Batch [198/229] Loss: 0.6779\n",
      "Batch [199/229] Loss: 0.6704\n",
      "Batch [200/229] Loss: 0.6888\n"
     ]
    },
    {
     "name": "stderr",
     "output_type": "stream",
     "text": [
      "Epoch 4/10 | Loss: 0.6715:  89%|██████████████████████████▌   | 203/229 [01:10<00:07,  3.44it/s]"
     ]
    },
    {
     "name": "stdout",
     "output_type": "stream",
     "text": [
      "Batch [201/229] Loss: 0.7065\n",
      "Batch [202/229] Loss: 0.6703\n",
      "Batch [203/229] Loss: 0.6700\n",
      "Batch [204/229] Loss: 0.6715\n"
     ]
    },
    {
     "name": "stderr",
     "output_type": "stream",
     "text": [
      "Epoch 4/10 | Loss: 0.6828:  90%|██████████████████████████▉   | 206/229 [01:12<00:08,  2.80it/s]"
     ]
    },
    {
     "name": "stdout",
     "output_type": "stream",
     "text": [
      "Batch [205/229] Loss: 0.6789\n",
      "Batch [206/229] Loss: 0.6828\n"
     ]
    },
    {
     "name": "stderr",
     "output_type": "stream",
     "text": [
      "Epoch 4/10 | Loss: 0.6855:  90%|██████████████████████████▉   | 206/229 [01:12<00:08,  2.80it/s]"
     ]
    },
    {
     "name": "stdout",
     "output_type": "stream",
     "text": [
      "Batch [207/229] Loss: 0.6829\n",
      "Batch [208/229] Loss: 0.6855\n"
     ]
    },
    {
     "name": "stderr",
     "output_type": "stream",
     "text": [
      "Epoch 4/10 | Loss: 0.6780:  93%|███████████████████████████▊  | 212/229 [01:13<00:04,  3.60it/s]"
     ]
    },
    {
     "name": "stdout",
     "output_type": "stream",
     "text": [
      "Batch [209/229] Loss: 0.6909\n",
      "Batch [210/229] Loss: 0.6699\n",
      "Batch [211/229] Loss: 0.6782\n",
      "Batch [212/229] Loss: 0.6780\n"
     ]
    },
    {
     "name": "stderr",
     "output_type": "stream",
     "text": [
      "Epoch 4/10 | Loss: 0.6713:  94%|████████████████████████████▎ | 216/229 [01:15<00:03,  3.62it/s]"
     ]
    },
    {
     "name": "stdout",
     "output_type": "stream",
     "text": [
      "Batch [213/229] Loss: 0.6868\n",
      "Batch [214/229] Loss: 0.6829\n",
      "Batch [215/229] Loss: 0.7038\n",
      "Batch [216/229] Loss: 0.6713\n"
     ]
    },
    {
     "name": "stderr",
     "output_type": "stream",
     "text": [
      "Epoch 4/10 | Loss: 0.6778:  95%|████████████████████████████▌ | 218/229 [01:16<00:04,  2.69it/s]"
     ]
    },
    {
     "name": "stdout",
     "output_type": "stream",
     "text": [
      "Batch [217/229] Loss: 0.6936\n",
      "Batch [218/229] Loss: 0.6830\n",
      "Batch [219/229] Loss: 0.6823\n",
      "Batch [220/229] Loss: 0.6778\n"
     ]
    },
    {
     "name": "stderr",
     "output_type": "stream",
     "text": [
      "Epoch 4/10 | Loss: 0.6698:  98%|█████████████████████████████▎| 224/229 [01:17<00:01,  3.63it/s]"
     ]
    },
    {
     "name": "stdout",
     "output_type": "stream",
     "text": [
      "Batch [221/229] Loss: 0.6776\n",
      "Batch [222/229] Loss: 0.6825\n",
      "Batch [223/229] Loss: 0.6858\n",
      "Batch [224/229] Loss: 0.6698\n"
     ]
    },
    {
     "name": "stderr",
     "output_type": "stream",
     "text": [
      "Epoch 4/10 | Loss: 0.6700:  99%|█████████████████████████████▌| 226/229 [01:19<00:01,  2.83it/s]"
     ]
    },
    {
     "name": "stdout",
     "output_type": "stream",
     "text": [
      "Batch [225/229] Loss: 0.6935\n",
      "Batch [226/229] Loss: 0.6621\n",
      "Batch [227/229] Loss: 0.7193\n",
      "Batch [228/229] Loss: 0.6700\n"
     ]
    },
    {
     "name": "stderr",
     "output_type": "stream",
     "text": [
      "Epoch 4/10 | Loss: 0.6891: 100%|██████████████████████████████| 229/229 [01:20<00:00,  2.85it/s]\n"
     ]
    },
    {
     "name": "stdout",
     "output_type": "stream",
     "text": [
      "Batch [229/229] Loss: 0.6891\n",
      "\n",
      "Epoch 4 Summary:\n",
      "Average Loss: 0.6843\n",
      "\n",
      "Epoch 5/10\n",
      "==================================================\n"
     ]
    },
    {
     "name": "stderr",
     "output_type": "stream",
     "text": [
      "Epoch 5/10 | Loss: 0.6854:   0%|▏                             | 1/229 [00:01<05:12,  1.37s/it]"
     ]
    },
    {
     "name": "stdout",
     "output_type": "stream",
     "text": [
      "Batch [1/229] Loss: 0.6854\n"
     ]
    },
    {
     "name": "stderr",
     "output_type": "stream",
     "text": [
      "Epoch 5/10 | Loss: 0.6697:   1%|▎                             | 2/229 [00:01<02:50,  1.33it/s]"
     ]
    },
    {
     "name": "stdout",
     "output_type": "stream",
     "text": [
      "Batch [2/229] Loss: 0.7192\n",
      "Batch [3/229] Loss: 0.6910\n",
      "Batch [4/229] Loss: 0.6697\n"
     ]
    },
    {
     "name": "stderr",
     "output_type": "stream",
     "text": [
      "Epoch 5/10 | Loss: 0.6778:   2%|▋                             | 5/229 [00:03<02:04,  1.81it/s]"
     ]
    },
    {
     "name": "stdout",
     "output_type": "stream",
     "text": [
      "Batch [5/229] Loss: 0.6778\n"
     ]
    },
    {
     "name": "stderr",
     "output_type": "stream",
     "text": [
      "Epoch 5/10 | Loss: 0.6700:   3%|▊                             | 6/229 [00:03<01:45,  2.11it/s]"
     ]
    },
    {
     "name": "stdout",
     "output_type": "stream",
     "text": [
      "Batch [6/229] Loss: 0.6700\n",
      "Batch [7/229] Loss: 0.6859\n",
      "Batch [8/229] Loss: 0.6700\n"
     ]
    },
    {
     "name": "stderr",
     "output_type": "stream",
     "text": [
      "Epoch 5/10 | Loss: 0.6934:   5%|█▌                            | 12/229 [00:05<01:06,  3.27it/s]"
     ]
    },
    {
     "name": "stdout",
     "output_type": "stream",
     "text": [
      "Batch [9/229] Loss: 0.6702\n",
      "Batch [10/229] Loss: 0.6856\n",
      "Batch [11/229] Loss: 0.6984\n",
      "Batch [12/229] Loss: 0.6934\n"
     ]
    },
    {
     "name": "stderr",
     "output_type": "stream",
     "text": [
      "Epoch 5/10 | Loss: 0.6857:   7%|██                            | 16/229 [00:06<00:58,  3.62it/s]"
     ]
    },
    {
     "name": "stdout",
     "output_type": "stream",
     "text": [
      "Batch [13/229] Loss: 0.6776\n",
      "Batch [14/229] Loss: 0.6599\n",
      "Batch [15/229] Loss: 0.6778\n",
      "Batch [16/229] Loss: 0.6857\n"
     ]
    },
    {
     "name": "stderr",
     "output_type": "stream",
     "text": [
      "Epoch 5/10 | Loss: 0.6623:   8%|██▎                           | 18/229 [00:07<01:20,  2.64it/s]"
     ]
    },
    {
     "name": "stdout",
     "output_type": "stream",
     "text": [
      "Batch [17/229] Loss: 0.6705\n",
      "Batch [18/229] Loss: 0.6983\n",
      "Batch [19/229] Loss: 0.6786\n",
      "Batch [20/229] Loss: 0.6623\n"
     ]
    },
    {
     "name": "stderr",
     "output_type": "stream",
     "text": [
      "Epoch 5/10 | Loss: 0.6779:  10%|███▏                          | 24/229 [00:09<00:58,  3.49it/s]"
     ]
    },
    {
     "name": "stdout",
     "output_type": "stream",
     "text": [
      "Batch [21/229] Loss: 0.6777\n",
      "Batch [22/229] Loss: 0.6780\n",
      "Batch [23/229] Loss: 0.6858\n",
      "Batch [24/229] Loss: 0.6779\n"
     ]
    },
    {
     "name": "stderr",
     "output_type": "stream",
     "text": [
      "Epoch 5/10 | Loss: 0.6771:  12%|███▋                          | 28/229 [00:10<00:53,  3.73it/s]"
     ]
    },
    {
     "name": "stdout",
     "output_type": "stream",
     "text": [
      "Batch [25/229] Loss: 0.6709\n",
      "Batch [26/229] Loss: 0.6779\n",
      "Batch [27/229] Loss: 0.6619\n",
      "Batch [28/229] Loss: 0.6771\n"
     ]
    },
    {
     "name": "stderr",
     "output_type": "stream",
     "text": [
      "Epoch 5/10 | Loss: 0.6907:  14%|████                          | 31/229 [00:11<00:59,  3.32it/s]"
     ]
    },
    {
     "name": "stdout",
     "output_type": "stream",
     "text": [
      "Batch [29/229] Loss: 0.6702\n",
      "Batch [30/229] Loss: 0.6999\n",
      "Batch [31/229] Loss: 0.6989\n",
      "Batch [32/229] Loss: 0.6907\n"
     ]
    },
    {
     "name": "stderr",
     "output_type": "stream",
     "text": [
      "Epoch 5/10 | Loss: 0.6777:  14%|████▎                         | 33/229 [00:12<01:14,  2.62it/s]"
     ]
    },
    {
     "name": "stdout",
     "output_type": "stream",
     "text": [
      "Batch [33/229] Loss: 0.6544\n",
      "Batch [34/229] Loss: 0.6792\n",
      "Batch [35/229] Loss: 0.6777\n"
     ]
    },
    {
     "name": "stderr",
     "output_type": "stream",
     "text": [
      "Epoch 5/10 | Loss: 0.6860:  16%|████▋                         | 36/229 [00:12<00:51,  3.77it/s]"
     ]
    },
    {
     "name": "stdout",
     "output_type": "stream",
     "text": [
      "Batch [36/229] Loss: 0.6860\n"
     ]
    },
    {
     "name": "stderr",
     "output_type": "stream",
     "text": [
      "Epoch 5/10 | Loss: 0.6750:  16%|████▊                         | 37/229 [00:13<01:09,  2.77it/s]"
     ]
    },
    {
     "name": "stdout",
     "output_type": "stream",
     "text": [
      "Batch [37/229] Loss: 0.6750\n"
     ]
    },
    {
     "name": "stderr",
     "output_type": "stream",
     "text": [
      "Epoch 5/10 | Loss: 0.6392:  17%|█████▏                        | 40/229 [00:14<00:47,  3.98it/s]"
     ]
    },
    {
     "name": "stdout",
     "output_type": "stream",
     "text": [
      "Batch [38/229] Loss: 0.6851\n",
      "Batch [39/229] Loss: 0.6936\n",
      "Batch [40/229] Loss: 0.6392\n"
     ]
    },
    {
     "name": "stderr",
     "output_type": "stream",
     "text": [
      "Epoch 5/10 | Loss: 0.6543:  18%|█████▎                        | 41/229 [00:15<01:07,  2.78it/s]"
     ]
    },
    {
     "name": "stdout",
     "output_type": "stream",
     "text": [
      "Batch [41/229] Loss: 0.6543\n"
     ]
    },
    {
     "name": "stderr",
     "output_type": "stream",
     "text": [
      "Epoch 5/10 | Loss: 0.6776:  18%|█████▌                        | 42/229 [00:15<01:09,  2.70it/s]"
     ]
    },
    {
     "name": "stdout",
     "output_type": "stream",
     "text": [
      "Batch [42/229] Loss: 0.6853\n",
      "Batch [43/229] Loss: 0.6618\n",
      "Batch [44/229] Loss: 0.6776\n"
     ]
    },
    {
     "name": "stderr",
     "output_type": "stream",
     "text": [
      "Epoch 5/10 | Loss: 0.6781:  20%|█████▉                        | 45/229 [00:16<01:04,  2.85it/s]"
     ]
    },
    {
     "name": "stdout",
     "output_type": "stream",
     "text": [
      "Batch [45/229] Loss: 0.6781\n"
     ]
    },
    {
     "name": "stderr",
     "output_type": "stream",
     "text": [
      "Epoch 5/10 | Loss: 0.7062:  21%|██████▎                       | 48/229 [00:16<00:44,  4.10it/s]"
     ]
    },
    {
     "name": "stdout",
     "output_type": "stream",
     "text": [
      "Batch [46/229] Loss: 0.6545\n",
      "Batch [47/229] Loss: 0.6822\n",
      "Batch [48/229] Loss: 0.7062\n"
     ]
    },
    {
     "name": "stderr",
     "output_type": "stream",
     "text": [
      "Epoch 5/10 | Loss: 0.6778:  21%|██████▍                       | 49/229 [00:18<01:15,  2.39it/s]"
     ]
    },
    {
     "name": "stdout",
     "output_type": "stream",
     "text": [
      "Batch [49/229] Loss: 0.6802\n",
      "Batch [50/229] Loss: 0.6778\n"
     ]
    },
    {
     "name": "stderr",
     "output_type": "stream",
     "text": [
      "Epoch 5/10 | Loss: 0.6783:  22%|██████▋                       | 51/229 [00:18<00:55,  3.21it/s]"
     ]
    },
    {
     "name": "stdout",
     "output_type": "stream",
     "text": [
      "Batch [51/229] Loss: 0.6856\n",
      "Batch [52/229] Loss: 0.6783\n"
     ]
    },
    {
     "name": "stderr",
     "output_type": "stream",
     "text": [
      "Epoch 5/10 | Loss: 0.6779:  23%|██████▉                       | 53/229 [00:19<01:03,  2.78it/s]"
     ]
    },
    {
     "name": "stdout",
     "output_type": "stream",
     "text": [
      "Batch [53/229] Loss: 0.6779\n"
     ]
    },
    {
     "name": "stderr",
     "output_type": "stream",
     "text": [
      "Epoch 5/10 | Loss: 0.6937:  24%|███████▏                      | 55/229 [00:19<00:55,  3.15it/s]"
     ]
    },
    {
     "name": "stdout",
     "output_type": "stream",
     "text": [
      "Batch [54/229] Loss: 0.6936\n",
      "Batch [55/229] Loss: 0.6937\n"
     ]
    },
    {
     "name": "stderr",
     "output_type": "stream",
     "text": [
      "\r",
      "Epoch 5/10 | Loss: 0.6774:  24%|███████▏                      | 55/229 [00:19<00:55,  3.15it/s]"
     ]
    },
    {
     "name": "stdout",
     "output_type": "stream",
     "text": [
      "Batch [56/229] Loss: 0.6774\n"
     ]
    },
    {
     "name": "stderr",
     "output_type": "stream",
     "text": [
      "Epoch 5/10 | Loss: 0.6905:  25%|███████▍                      | 57/229 [00:20<01:02,  2.77it/s]"
     ]
    },
    {
     "name": "stdout",
     "output_type": "stream",
     "text": [
      "Batch [57/229] Loss: 0.6905\n"
     ]
    },
    {
     "name": "stderr",
     "output_type": "stream",
     "text": [
      "Epoch 5/10 | Loss: 0.6986:  25%|███████▌                      | 58/229 [00:21<01:03,  2.71it/s]"
     ]
    },
    {
     "name": "stdout",
     "output_type": "stream",
     "text": [
      "Batch [58/229] Loss: 0.6986\n",
      "Batch [59/229] Loss: 0.6982\n",
      "Batch [60/229] Loss: 0.6986\n"
     ]
    },
    {
     "name": "stderr",
     "output_type": "stream",
     "text": [
      "Epoch 5/10 | Loss: 0.6700:  27%|████████                      | 62/229 [00:22<00:55,  3.01it/s]"
     ]
    },
    {
     "name": "stdout",
     "output_type": "stream",
     "text": [
      "Batch [61/229] Loss: 0.6783\n",
      "Batch [62/229] Loss: 0.6700\n"
     ]
    },
    {
     "name": "stderr",
     "output_type": "stream",
     "text": [
      "Epoch 5/10 | Loss: 0.6697:  27%|████████                      | 62/229 [00:22<00:55,  3.01it/s]"
     ]
    },
    {
     "name": "stdout",
     "output_type": "stream",
     "text": [
      "Batch [63/229] Loss: 0.6705\n",
      "Batch [64/229] Loss: 0.6697\n"
     ]
    },
    {
     "name": "stderr",
     "output_type": "stream",
     "text": [
      "Epoch 5/10 | Loss: 0.6577:  28%|████████▌                     | 65/229 [00:23<00:57,  2.86it/s]"
     ]
    },
    {
     "name": "stdout",
     "output_type": "stream",
     "text": [
      "Batch [65/229] Loss: 0.6577\n"
     ]
    },
    {
     "name": "stderr",
     "output_type": "stream",
     "text": [
      "Epoch 5/10 | Loss: 0.6932:  29%|████████▋                     | 66/229 [00:23<00:52,  3.08it/s]"
     ]
    },
    {
     "name": "stdout",
     "output_type": "stream",
     "text": [
      "Batch [66/229] Loss: 0.6698\n",
      "Batch [67/229] Loss: 0.6701\n",
      "Batch [68/229] Loss: 0.6932\n"
     ]
    },
    {
     "name": "stderr",
     "output_type": "stream",
     "text": [
      "Epoch 5/10 | Loss: 0.6777:  30%|█████████                     | 69/229 [00:24<00:52,  3.04it/s]"
     ]
    },
    {
     "name": "stdout",
     "output_type": "stream",
     "text": [
      "Batch [69/229] Loss: 0.6777\n"
     ]
    },
    {
     "name": "stderr",
     "output_type": "stream",
     "text": [
      "Epoch 5/10 | Loss: 0.6750:  31%|█████████▏                    | 70/229 [00:24<00:53,  3.00it/s]"
     ]
    },
    {
     "name": "stdout",
     "output_type": "stream",
     "text": [
      "Batch [70/229] Loss: 0.6777\n",
      "Batch [71/229] Loss: 0.6700\n",
      "Batch [72/229] Loss: 0.6750\n"
     ]
    },
    {
     "name": "stderr",
     "output_type": "stream",
     "text": [
      "Epoch 5/10 | Loss: 0.6696:  32%|█████████▌                    | 73/229 [00:25<00:52,  2.97it/s]"
     ]
    },
    {
     "name": "stdout",
     "output_type": "stream",
     "text": [
      "Batch [73/229] Loss: 0.6696\n"
     ]
    },
    {
     "name": "stderr",
     "output_type": "stream",
     "text": [
      "Epoch 5/10 | Loss: 0.6984:  32%|█████████▋                    | 74/229 [00:26<00:52,  2.98it/s]"
     ]
    },
    {
     "name": "stdout",
     "output_type": "stream",
     "text": [
      "Batch [74/229] Loss: 0.6745\n",
      "Batch [75/229] Loss: 0.7063\n",
      "Batch [76/229] Loss: 0.6984\n"
     ]
    },
    {
     "name": "stderr",
     "output_type": "stream",
     "text": [
      "Epoch 5/10 | Loss: 0.6776:  35%|██████████▍                   | 80/229 [00:27<00:36,  4.07it/s]"
     ]
    },
    {
     "name": "stdout",
     "output_type": "stream",
     "text": [
      "Batch [77/229] Loss: 0.6619\n",
      "Batch [78/229] Loss: 0.6701\n",
      "Batch [79/229] Loss: 0.6696\n",
      "Batch [80/229] Loss: 0.6776\n"
     ]
    },
    {
     "name": "stderr",
     "output_type": "stream",
     "text": [
      "Epoch 5/10 | Loss: 0.6984:  36%|██████████▊                   | 83/229 [00:28<00:42,  3.41it/s]"
     ]
    },
    {
     "name": "stdout",
     "output_type": "stream",
     "text": [
      "Batch [81/229] Loss: 0.6620\n",
      "Batch [82/229] Loss: 0.6987\n",
      "Batch [83/229] Loss: 0.6984\n"
     ]
    },
    {
     "name": "stderr",
     "output_type": "stream",
     "text": [
      "\r",
      "Epoch 5/10 | Loss: 0.6700:  36%|██████████▊                   | 83/229 [00:28<00:42,  3.41it/s]"
     ]
    },
    {
     "name": "stdout",
     "output_type": "stream",
     "text": [
      "Batch [84/229] Loss: 0.6700\n"
     ]
    },
    {
     "name": "stderr",
     "output_type": "stream",
     "text": [
      "Epoch 5/10 | Loss: 0.6783:  37%|███████████▏                  | 85/229 [00:30<00:55,  2.60it/s]"
     ]
    },
    {
     "name": "stdout",
     "output_type": "stream",
     "text": [
      "Batch [85/229] Loss: 0.6701\n",
      "Batch [86/229] Loss: 0.6783\n"
     ]
    },
    {
     "name": "stderr",
     "output_type": "stream",
     "text": [
      "Epoch 5/10 | Loss: 0.6857:  38%|███████████▍                  | 87/229 [00:30<00:44,  3.21it/s]"
     ]
    },
    {
     "name": "stdout",
     "output_type": "stream",
     "text": [
      "Batch [87/229] Loss: 0.6856\n",
      "Batch [88/229] Loss: 0.6857\n"
     ]
    },
    {
     "name": "stderr",
     "output_type": "stream",
     "text": [
      "Epoch 5/10 | Loss: 0.6541:  39%|███████████▋                  | 89/229 [00:31<00:53,  2.62it/s]"
     ]
    },
    {
     "name": "stdout",
     "output_type": "stream",
     "text": [
      "Batch [89/229] Loss: 0.6778\n",
      "Batch [90/229] Loss: 0.6541\n"
     ]
    },
    {
     "name": "stderr",
     "output_type": "stream",
     "text": [
      "Epoch 5/10 | Loss: 0.6877:  40%|███████████▉                  | 91/229 [00:31<00:45,  3.01it/s]"
     ]
    },
    {
     "name": "stdout",
     "output_type": "stream",
     "text": [
      "Batch [91/229] Loss: 0.6775\n",
      "Batch [92/229] Loss: 0.6877\n"
     ]
    },
    {
     "name": "stderr",
     "output_type": "stream",
     "text": [
      "Epoch 5/10 | Loss: 0.6541:  41%|████████████▏                 | 93/229 [00:33<00:52,  2.57it/s]"
     ]
    },
    {
     "name": "stdout",
     "output_type": "stream",
     "text": [
      "Batch [93/229] Loss: 0.6856\n",
      "Batch [94/229] Loss: 0.6541\n"
     ]
    },
    {
     "name": "stderr",
     "output_type": "stream",
     "text": [
      "Epoch 5/10 | Loss: 0.6934:  41%|████████████▍                 | 95/229 [00:33<00:40,  3.27it/s]"
     ]
    },
    {
     "name": "stdout",
     "output_type": "stream",
     "text": [
      "Batch [95/229] Loss: 0.6697\n",
      "Batch [96/229] Loss: 0.6934\n"
     ]
    },
    {
     "name": "stderr",
     "output_type": "stream",
     "text": [
      "Epoch 5/10 | Loss: 0.6935:  44%|█████████████                 | 100/229 [00:34<00:37,  3.49it/s]"
     ]
    },
    {
     "name": "stdout",
     "output_type": "stream",
     "text": [
      "Batch [97/229] Loss: 0.6856\n",
      "Batch [98/229] Loss: 0.6539\n",
      "Batch [99/229] Loss: 0.6844\n",
      "Batch [100/229] Loss: 0.6935\n"
     ]
    },
    {
     "name": "stderr",
     "output_type": "stream",
     "text": [
      "Epoch 5/10 | Loss: 0.6619:  45%|█████████████▍                | 103/229 [00:36<00:38,  3.24it/s]"
     ]
    },
    {
     "name": "stdout",
     "output_type": "stream",
     "text": [
      "Batch [101/229] Loss: 0.6855\n",
      "Batch [102/229] Loss: 0.6868\n",
      "Batch [103/229] Loss: 0.6779\n",
      "Batch [104/229] Loss: 0.6619\n"
     ]
    },
    {
     "name": "stderr",
     "output_type": "stream",
     "text": [
      "Epoch 5/10 | Loss: 0.7031:  47%|██████████████                | 107/229 [00:37<00:36,  3.37it/s]"
     ]
    },
    {
     "name": "stdout",
     "output_type": "stream",
     "text": [
      "Batch [105/229] Loss: 0.6701\n",
      "Batch [106/229] Loss: 0.6854\n",
      "Batch [107/229] Loss: 0.6939\n",
      "Batch [108/229] Loss: 0.7031\n"
     ]
    },
    {
     "name": "stderr",
     "output_type": "stream",
     "text": [
      "Epoch 5/10 | Loss: 0.6783:  49%|██████████████▋               | 112/229 [00:38<00:31,  3.69it/s]"
     ]
    },
    {
     "name": "stdout",
     "output_type": "stream",
     "text": [
      "Batch [109/229] Loss: 0.6855\n",
      "Batch [110/229] Loss: 0.6967\n",
      "Batch [111/229] Loss: 0.6853\n",
      "Batch [112/229] Loss: 0.6783\n"
     ]
    },
    {
     "name": "stderr",
     "output_type": "stream",
     "text": [
      "Epoch 5/10 | Loss: 0.6874:  50%|██████████████▉               | 114/229 [00:40<00:44,  2.58it/s]"
     ]
    },
    {
     "name": "stdout",
     "output_type": "stream",
     "text": [
      "Batch [113/229] Loss: 0.6776\n",
      "Batch [114/229] Loss: 0.6935\n",
      "Batch [115/229] Loss: 0.6857\n",
      "Batch [116/229] Loss: 0.6874\n"
     ]
    },
    {
     "name": "stderr",
     "output_type": "stream",
     "text": [
      "Epoch 5/10 | Loss: 0.6907:  51%|███████████████▎              | 117/229 [00:41<00:43,  2.58it/s]"
     ]
    },
    {
     "name": "stdout",
     "output_type": "stream",
     "text": [
      "Batch [117/229] Loss: 0.6698\n",
      "Batch [118/229] Loss: 0.6907\n"
     ]
    },
    {
     "name": "stderr",
     "output_type": "stream",
     "text": [
      "Epoch 5/10 | Loss: 0.6987:  52%|███████████████▌              | 119/229 [00:41<00:36,  3.05it/s]"
     ]
    },
    {
     "name": "stdout",
     "output_type": "stream",
     "text": [
      "Batch [119/229] Loss: 0.6982\n",
      "Batch [120/229] Loss: 0.6987\n"
     ]
    },
    {
     "name": "stderr",
     "output_type": "stream",
     "text": [
      "Epoch 5/10 | Loss: 0.6701:  53%|███████████████▊              | 121/229 [00:42<00:39,  2.75it/s]"
     ]
    },
    {
     "name": "stdout",
     "output_type": "stream",
     "text": [
      "Batch [121/229] Loss: 0.6780\n",
      "Batch [122/229] Loss: 0.6701\n"
     ]
    },
    {
     "name": "stderr",
     "output_type": "stream",
     "text": [
      "Epoch 5/10 | Loss: 0.6620:  54%|████████████████              | 123/229 [00:43<00:35,  3.03it/s]"
     ]
    },
    {
     "name": "stdout",
     "output_type": "stream",
     "text": [
      "Batch [123/229] Loss: 0.6784\n",
      "Batch [124/229] Loss: 0.6620\n"
     ]
    },
    {
     "name": "stderr",
     "output_type": "stream",
     "text": [
      "Epoch 5/10 | Loss: 0.6698:  55%|████████████████▍             | 125/229 [00:44<00:37,  2.78it/s]"
     ]
    },
    {
     "name": "stdout",
     "output_type": "stream",
     "text": [
      "Batch [125/229] Loss: 0.6778\n",
      "Batch [126/229] Loss: 0.6698\n"
     ]
    },
    {
     "name": "stderr",
     "output_type": "stream",
     "text": [
      "Epoch 5/10 | Loss: 0.6777:  55%|████████████████▋             | 127/229 [00:44<00:34,  2.94it/s]"
     ]
    },
    {
     "name": "stdout",
     "output_type": "stream",
     "text": [
      "Batch [127/229] Loss: 0.6699\n",
      "Batch [128/229] Loss: 0.6777\n"
     ]
    },
    {
     "name": "stderr",
     "output_type": "stream",
     "text": [
      "Epoch 5/10 | Loss: 0.6776:  56%|████████████████▉             | 129/229 [00:45<00:35,  2.79it/s]"
     ]
    },
    {
     "name": "stdout",
     "output_type": "stream",
     "text": [
      "Batch [129/229] Loss: 0.6778\n",
      "Batch [130/229] Loss: 0.6776\n"
     ]
    },
    {
     "name": "stderr",
     "output_type": "stream",
     "text": [
      "Epoch 5/10 | Loss: 0.6697:  57%|█████████████████▏            | 131/229 [00:46<00:33,  2.97it/s]"
     ]
    },
    {
     "name": "stdout",
     "output_type": "stream",
     "text": [
      "Batch [131/229] Loss: 0.6778\n",
      "Batch [132/229] Loss: 0.6697\n"
     ]
    },
    {
     "name": "stderr",
     "output_type": "stream",
     "text": [
      "Epoch 5/10 | Loss: 0.6954:  58%|█████████████████▍            | 133/229 [00:46<00:34,  2.80it/s]"
     ]
    },
    {
     "name": "stdout",
     "output_type": "stream",
     "text": [
      "Batch [133/229] Loss: 0.7060\n",
      "Batch [134/229] Loss: 0.6954\n"
     ]
    },
    {
     "name": "stderr",
     "output_type": "stream",
     "text": [
      "Epoch 5/10 | Loss: 0.7063:  59%|█████████████████▋            | 135/229 [00:47<00:35,  2.67it/s]"
     ]
    },
    {
     "name": "stdout",
     "output_type": "stream",
     "text": [
      "Batch [135/229] Loss: 0.6777\n",
      "Batch [136/229] Loss: 0.7063\n"
     ]
    },
    {
     "name": "stderr",
     "output_type": "stream",
     "text": [
      "Epoch 5/10 | Loss: 0.6856:  60%|█████████████████▉            | 137/229 [00:48<00:33,  2.77it/s]"
     ]
    },
    {
     "name": "stdout",
     "output_type": "stream",
     "text": [
      "Batch [137/229] Loss: 0.6779\n",
      "Batch [138/229] Loss: 0.6856\n"
     ]
    },
    {
     "name": "stderr",
     "output_type": "stream",
     "text": [
      "Epoch 5/10 | Loss: 0.6857:  61%|██████████████████▏           | 139/229 [00:49<00:32,  2.81it/s]"
     ]
    },
    {
     "name": "stdout",
     "output_type": "stream",
     "text": [
      "Batch [139/229] Loss: 0.6701\n",
      "Batch [140/229] Loss: 0.6857\n"
     ]
    },
    {
     "name": "stderr",
     "output_type": "stream",
     "text": [
      "Epoch 5/10 | Loss: 0.6753:  62%|██████████████████▍           | 141/229 [00:49<00:31,  2.79it/s]"
     ]
    },
    {
     "name": "stdout",
     "output_type": "stream",
     "text": [
      "Batch [141/229] Loss: 0.6982\n",
      "Batch [142/229] Loss: 0.6753\n"
     ]
    },
    {
     "name": "stderr",
     "output_type": "stream",
     "text": [
      "Epoch 5/10 | Loss: 0.6699:  62%|██████████████████▋           | 143/229 [00:50<00:28,  3.07it/s]"
     ]
    },
    {
     "name": "stdout",
     "output_type": "stream",
     "text": [
      "Batch [143/229] Loss: 0.6931\n",
      "Batch [144/229] Loss: 0.6699\n"
     ]
    },
    {
     "name": "stderr",
     "output_type": "stream",
     "text": [
      "Epoch 5/10 | Loss: 0.6984:  63%|██████████████████▉           | 145/229 [00:51<00:30,  2.75it/s]"
     ]
    },
    {
     "name": "stdout",
     "output_type": "stream",
     "text": [
      "Batch [145/229] Loss: 0.7108\n",
      "Batch [146/229] Loss: 0.6984\n"
     ]
    },
    {
     "name": "stderr",
     "output_type": "stream",
     "text": [
      "Epoch 5/10 | Loss: 0.6856:  64%|███████████████████▎          | 147/229 [00:51<00:25,  3.24it/s]"
     ]
    },
    {
     "name": "stdout",
     "output_type": "stream",
     "text": [
      "Batch [147/229] Loss: 0.6776\n",
      "Batch [148/229] Loss: 0.6856\n"
     ]
    },
    {
     "name": "stderr",
     "output_type": "stream",
     "text": [
      "Epoch 5/10 | Loss: 0.6777:  65%|███████████████████▌          | 149/229 [00:52<00:28,  2.85it/s]"
     ]
    },
    {
     "name": "stdout",
     "output_type": "stream",
     "text": [
      "Batch [149/229] Loss: 0.6777\n",
      "Batch [150/229] Loss: 0.6777\n"
     ]
    },
    {
     "name": "stderr",
     "output_type": "stream",
     "text": [
      "Epoch 5/10 | Loss: 0.6623:  66%|███████████████████▊          | 151/229 [00:52<00:23,  3.28it/s]"
     ]
    },
    {
     "name": "stdout",
     "output_type": "stream",
     "text": [
      "Batch [151/229] Loss: 0.6790\n",
      "Batch [152/229] Loss: 0.6623\n"
     ]
    },
    {
     "name": "stderr",
     "output_type": "stream",
     "text": [
      "Epoch 5/10 | Loss: 0.6855:  67%|████████████████████          | 153/229 [00:53<00:26,  2.85it/s]"
     ]
    },
    {
     "name": "stdout",
     "output_type": "stream",
     "text": [
      "Batch [153/229] Loss: 0.6898\n",
      "Batch [154/229] Loss: 0.6855\n"
     ]
    },
    {
     "name": "stderr",
     "output_type": "stream",
     "text": [
      "Epoch 5/10 | Loss: 0.6981:  68%|████████████████████▎         | 155/229 [00:54<00:22,  3.32it/s]"
     ]
    },
    {
     "name": "stdout",
     "output_type": "stream",
     "text": [
      "Batch [155/229] Loss: 0.6700\n",
      "Batch [156/229] Loss: 0.6981\n"
     ]
    },
    {
     "name": "stderr",
     "output_type": "stream",
     "text": [
      "Epoch 5/10 | Loss: 0.6696:  69%|████████████████████▌         | 157/229 [00:55<00:27,  2.60it/s]"
     ]
    },
    {
     "name": "stdout",
     "output_type": "stream",
     "text": [
      "Batch [157/229] Loss: 0.6908\n",
      "Batch [158/229] Loss: 0.6696\n"
     ]
    },
    {
     "name": "stderr",
     "output_type": "stream",
     "text": [
      "Epoch 5/10 | Loss: 0.6861:  69%|████████████████████▊         | 159/229 [00:55<00:23,  2.96it/s]"
     ]
    },
    {
     "name": "stdout",
     "output_type": "stream",
     "text": [
      "Batch [159/229] Loss: 0.6894\n",
      "Batch [160/229] Loss: 0.6861\n"
     ]
    },
    {
     "name": "stderr",
     "output_type": "stream",
     "text": [
      "Epoch 5/10 | Loss: 0.6540:  70%|█████████████████████         | 161/229 [00:56<00:24,  2.80it/s]"
     ]
    },
    {
     "name": "stdout",
     "output_type": "stream",
     "text": [
      "Batch [161/229] Loss: 0.6621\n",
      "Batch [162/229] Loss: 0.6540\n"
     ]
    },
    {
     "name": "stderr",
     "output_type": "stream",
     "text": [
      "Epoch 5/10 | Loss: 0.6778:  71%|█████████████████████▎        | 163/229 [00:57<00:22,  2.99it/s]"
     ]
    },
    {
     "name": "stdout",
     "output_type": "stream",
     "text": [
      "Batch [163/229] Loss: 0.6855\n",
      "Batch [164/229] Loss: 0.6778\n"
     ]
    },
    {
     "name": "stderr",
     "output_type": "stream",
     "text": [
      "Epoch 5/10 | Loss: 0.6881:  72%|█████████████████████▌        | 165/229 [00:57<00:21,  2.92it/s]"
     ]
    },
    {
     "name": "stdout",
     "output_type": "stream",
     "text": [
      "Batch [165/229] Loss: 0.6861\n",
      "Batch [166/229] Loss: 0.6881\n"
     ]
    },
    {
     "name": "stderr",
     "output_type": "stream",
     "text": [
      "Epoch 5/10 | Loss: 0.6934:  73%|█████████████████████▉        | 167/229 [00:58<00:20,  3.05it/s]"
     ]
    },
    {
     "name": "stdout",
     "output_type": "stream",
     "text": [
      "Batch [167/229] Loss: 0.6859\n",
      "Batch [168/229] Loss: 0.6934\n"
     ]
    },
    {
     "name": "stderr",
     "output_type": "stream",
     "text": [
      "Epoch 5/10 | Loss: 0.7085:  74%|██████████████████████▏       | 169/229 [00:59<00:21,  2.82it/s]"
     ]
    },
    {
     "name": "stdout",
     "output_type": "stream",
     "text": [
      "Batch [169/229] Loss: 0.6775\n",
      "Batch [170/229] Loss: 0.7085\n"
     ]
    },
    {
     "name": "stderr",
     "output_type": "stream",
     "text": [
      "Epoch 5/10 | Loss: 0.6700:  75%|██████████████████████▍       | 171/229 [00:59<00:17,  3.27it/s]"
     ]
    },
    {
     "name": "stdout",
     "output_type": "stream",
     "text": [
      "Batch [171/229] Loss: 0.6775\n",
      "Batch [172/229] Loss: 0.6700\n"
     ]
    },
    {
     "name": "stderr",
     "output_type": "stream",
     "text": [
      "Epoch 5/10 | Loss: 0.7238:  76%|██████████████████████▋       | 173/229 [01:00<00:19,  2.86it/s]"
     ]
    },
    {
     "name": "stdout",
     "output_type": "stream",
     "text": [
      "Batch [173/229] Loss: 0.6777\n",
      "Batch [174/229] Loss: 0.7238\n"
     ]
    },
    {
     "name": "stderr",
     "output_type": "stream",
     "text": [
      "Epoch 5/10 | Loss: 0.6699:  76%|██████████████████████▉       | 175/229 [01:01<00:18,  2.91it/s]"
     ]
    },
    {
     "name": "stdout",
     "output_type": "stream",
     "text": [
      "Batch [175/229] Loss: 0.6857\n",
      "Batch [176/229] Loss: 0.6699\n"
     ]
    },
    {
     "name": "stderr",
     "output_type": "stream",
     "text": [
      "Epoch 5/10 | Loss: 0.6775:  77%|███████████████████████▏      | 177/229 [01:01<00:17,  2.91it/s]"
     ]
    },
    {
     "name": "stdout",
     "output_type": "stream",
     "text": [
      "Batch [177/229] Loss: 0.7057\n",
      "Batch [178/229] Loss: 0.6775\n"
     ]
    },
    {
     "name": "stderr",
     "output_type": "stream",
     "text": [
      "Epoch 5/10 | Loss: 0.6777:  78%|███████████████████████▍      | 179/229 [01:02<00:18,  2.65it/s]"
     ]
    },
    {
     "name": "stdout",
     "output_type": "stream",
     "text": [
      "Batch [179/229] Loss: 0.6822\n",
      "Batch [180/229] Loss: 0.6777\n"
     ]
    },
    {
     "name": "stderr",
     "output_type": "stream",
     "text": [
      "Epoch 5/10 | Loss: 0.6777:  79%|███████████████████████▋      | 181/229 [01:03<00:15,  3.10it/s]"
     ]
    },
    {
     "name": "stdout",
     "output_type": "stream",
     "text": [
      "Batch [181/229] Loss: 0.6697\n",
      "Batch [182/229] Loss: 0.6777\n"
     ]
    },
    {
     "name": "stderr",
     "output_type": "stream",
     "text": [
      "Epoch 5/10 | Loss: 0.6986:  80%|███████████████████████▉      | 183/229 [01:04<00:16,  2.79it/s]"
     ]
    },
    {
     "name": "stdout",
     "output_type": "stream",
     "text": [
      "Batch [183/229] Loss: 0.6829\n",
      "Batch [184/229] Loss: 0.6986\n"
     ]
    },
    {
     "name": "stderr",
     "output_type": "stream",
     "text": [
      "Epoch 5/10 | Loss: 0.6777:  81%|████████████████████████▏     | 185/229 [01:04<00:15,  2.90it/s]"
     ]
    },
    {
     "name": "stdout",
     "output_type": "stream",
     "text": [
      "Batch [185/229] Loss: 0.6855\n",
      "Batch [186/229] Loss: 0.6777\n"
     ]
    },
    {
     "name": "stderr",
     "output_type": "stream",
     "text": [
      "Epoch 5/10 | Loss: 0.7189:  82%|████████████████████████▍     | 187/229 [01:05<00:15,  2.78it/s]"
     ]
    },
    {
     "name": "stdout",
     "output_type": "stream",
     "text": [
      "Batch [187/229] Loss: 0.6463\n",
      "Batch [188/229] Loss: 0.7189\n"
     ]
    },
    {
     "name": "stderr",
     "output_type": "stream",
     "text": [
      "Epoch 5/10 | Loss: 0.6940:  83%|████████████████████████▊     | 189/229 [01:06<00:14,  2.85it/s]"
     ]
    },
    {
     "name": "stdout",
     "output_type": "stream",
     "text": [
      "Batch [189/229] Loss: 0.6698\n",
      "Batch [190/229] Loss: 0.6940\n"
     ]
    },
    {
     "name": "stderr",
     "output_type": "stream",
     "text": [
      "Epoch 5/10 | Loss: 0.6698:  84%|█████████████████████████▏    | 192/229 [01:06<00:11,  3.29it/s]"
     ]
    },
    {
     "name": "stdout",
     "output_type": "stream",
     "text": [
      "Batch [191/229] Loss: 0.6623\n",
      "Batch [192/229] Loss: 0.6698\n"
     ]
    },
    {
     "name": "stderr",
     "output_type": "stream",
     "text": [
      "Epoch 5/10 | Loss: 0.6695:  84%|█████████████████████████▎    | 193/229 [01:07<00:14,  2.52it/s]"
     ]
    },
    {
     "name": "stdout",
     "output_type": "stream",
     "text": [
      "Batch [193/229] Loss: 0.6778\n",
      "Batch [194/229] Loss: 0.6695\n"
     ]
    },
    {
     "name": "stderr",
     "output_type": "stream",
     "text": [
      "Epoch 5/10 | Loss: 0.6899:  85%|█████████████████████████▌    | 195/229 [01:08<00:12,  2.80it/s]"
     ]
    },
    {
     "name": "stdout",
     "output_type": "stream",
     "text": [
      "Batch [195/229] Loss: 0.6697\n",
      "Batch [196/229] Loss: 0.6899\n"
     ]
    },
    {
     "name": "stderr",
     "output_type": "stream",
     "text": [
      "Epoch 5/10 | Loss: 0.6622:  86%|█████████████████████████▊    | 197/229 [01:09<00:12,  2.65it/s]"
     ]
    },
    {
     "name": "stdout",
     "output_type": "stream",
     "text": [
      "Batch [197/229] Loss: 0.6855\n",
      "Batch [198/229] Loss: 0.6622\n"
     ]
    },
    {
     "name": "stderr",
     "output_type": "stream",
     "text": [
      "Epoch 5/10 | Loss: 0.6853:  87%|██████████████████████████    | 199/229 [01:09<00:10,  2.74it/s]"
     ]
    },
    {
     "name": "stdout",
     "output_type": "stream",
     "text": [
      "Batch [199/229] Loss: 0.6647\n",
      "Batch [200/229] Loss: 0.6853\n"
     ]
    },
    {
     "name": "stderr",
     "output_type": "stream",
     "text": [
      "Epoch 5/10 | Loss: 0.6780:  88%|██████████████████████████▎   | 201/229 [01:10<00:09,  2.90it/s]"
     ]
    },
    {
     "name": "stdout",
     "output_type": "stream",
     "text": [
      "Batch [201/229] Loss: 0.6852\n",
      "Batch [202/229] Loss: 0.6780\n"
     ]
    },
    {
     "name": "stderr",
     "output_type": "stream",
     "text": [
      "Epoch 5/10 | Loss: 0.6776:  89%|██████████████████████████▌   | 203/229 [01:11<00:08,  2.94it/s]"
     ]
    },
    {
     "name": "stdout",
     "output_type": "stream",
     "text": [
      "Batch [203/229] Loss: 0.7175\n",
      "Batch [204/229] Loss: 0.6776\n"
     ]
    },
    {
     "name": "stderr",
     "output_type": "stream",
     "text": [
      "Epoch 5/10 | Loss: 0.6823:  90%|██████████████████████████▊   | 205/229 [01:11<00:07,  3.31it/s]"
     ]
    },
    {
     "name": "stdout",
     "output_type": "stream",
     "text": [
      "Batch [205/229] Loss: 0.7108\n",
      "Batch [206/229] Loss: 0.6823\n"
     ]
    },
    {
     "name": "stderr",
     "output_type": "stream",
     "text": [
      "Epoch 5/10 | Loss: 0.6936:  90%|███████████████████████████   | 207/229 [01:12<00:07,  2.81it/s]"
     ]
    },
    {
     "name": "stdout",
     "output_type": "stream",
     "text": [
      "Batch [207/229] Loss: 0.6824\n",
      "Batch [208/229] Loss: 0.6936\n"
     ]
    },
    {
     "name": "stderr",
     "output_type": "stream",
     "text": [
      "Epoch 5/10 | Loss: 0.6899:  91%|███████████████████████████▍  | 209/229 [01:12<00:05,  3.37it/s]"
     ]
    },
    {
     "name": "stdout",
     "output_type": "stream",
     "text": [
      "Batch [209/229] Loss: 0.6777\n",
      "Batch [210/229] Loss: 0.6899\n"
     ]
    },
    {
     "name": "stderr",
     "output_type": "stream",
     "text": [
      "Epoch 5/10 | Loss: 0.6957:  93%|████████████████████████████  | 214/229 [01:13<00:03,  4.12it/s]"
     ]
    },
    {
     "name": "stdout",
     "output_type": "stream",
     "text": [
      "Batch [211/229] Loss: 0.6907\n",
      "Batch [212/229] Loss: 0.7032\n",
      "Batch [213/229] Loss: 0.6463\n",
      "Batch [214/229] Loss: 0.6957\n"
     ]
    },
    {
     "name": "stderr",
     "output_type": "stream",
     "text": [
      "Epoch 5/10 | Loss: 0.6784:  95%|████████████████████████████▌ | 218/229 [01:15<00:02,  3.92it/s]"
     ]
    },
    {
     "name": "stdout",
     "output_type": "stream",
     "text": [
      "Batch [215/229] Loss: 0.6858\n",
      "Batch [216/229] Loss: 0.6857\n",
      "Batch [217/229] Loss: 0.6778\n",
      "Batch [218/229] Loss: 0.6784\n"
     ]
    },
    {
     "name": "stderr",
     "output_type": "stream",
     "text": [
      "Epoch 5/10 | Loss: 0.6978:  96%|████████████████████████████▊ | 220/229 [01:16<00:03,  2.70it/s]"
     ]
    },
    {
     "name": "stdout",
     "output_type": "stream",
     "text": [
      "Batch [219/229] Loss: 0.6982\n",
      "Batch [220/229] Loss: 0.7121\n",
      "Batch [221/229] Loss: 0.6702\n",
      "Batch [222/229] Loss: 0.6978\n"
     ]
    },
    {
     "name": "stderr",
     "output_type": "stream",
     "text": [
      "Epoch 5/10 | Loss: 0.6981:  99%|█████████████████████████████▌| 226/229 [01:18<00:00,  3.68it/s]"
     ]
    },
    {
     "name": "stdout",
     "output_type": "stream",
     "text": [
      "Batch [223/229] Loss: 0.6806\n",
      "Batch [224/229] Loss: 0.6702\n",
      "Batch [225/229] Loss: 0.6858\n",
      "Batch [226/229] Loss: 0.6981\n"
     ]
    },
    {
     "name": "stderr",
     "output_type": "stream",
     "text": [
      "Epoch 5/10 | Loss: 0.6846: 100%|██████████████████████████████| 229/229 [01:19<00:00,  2.89it/s]\n"
     ]
    },
    {
     "name": "stdout",
     "output_type": "stream",
     "text": [
      "Batch [227/229] Loss: 0.6627\n",
      "Batch [228/229] Loss: 0.6704\n",
      "Batch [229/229] Loss: 0.6846\n",
      "\n",
      "Epoch 5 Summary:\n",
      "Average Loss: 0.6813\n",
      "\n",
      "Epoch 6/10\n",
      "==================================================\n"
     ]
    },
    {
     "name": "stderr",
     "output_type": "stream",
     "text": [
      "Epoch 6/10 | Loss: 0.6793:   2%|▌                             | 4/229 [00:01<01:10,  3.19it/s]"
     ]
    },
    {
     "name": "stdout",
     "output_type": "stream",
     "text": [
      "Batch [1/229] Loss: 0.6777\n",
      "Batch [2/229] Loss: 0.6624\n",
      "Batch [3/229] Loss: 0.6556\n",
      "Batch [4/229] Loss: 0.6793\n"
     ]
    },
    {
     "name": "stderr",
     "output_type": "stream",
     "text": [
      "Epoch 6/10 | Loss: 0.6619:   3%|█                             | 8/229 [00:02<00:58,  3.77it/s]"
     ]
    },
    {
     "name": "stdout",
     "output_type": "stream",
     "text": [
      "Batch [5/229] Loss: 0.6855\n",
      "Batch [6/229] Loss: 0.6985\n",
      "Batch [7/229] Loss: 0.6705\n",
      "Batch [8/229] Loss: 0.6619\n"
     ]
    },
    {
     "name": "stderr",
     "output_type": "stream",
     "text": [
      "Epoch 6/10 | Loss: 0.6696:   5%|█▌                            | 12/229 [00:03<00:55,  3.90it/s]"
     ]
    },
    {
     "name": "stdout",
     "output_type": "stream",
     "text": [
      "Batch [9/229] Loss: 0.6855\n",
      "Batch [10/229] Loss: 0.6855\n",
      "Batch [11/229] Loss: 0.6697\n",
      "Batch [12/229] Loss: 0.6696\n"
     ]
    },
    {
     "name": "stderr",
     "output_type": "stream",
     "text": [
      "Epoch 6/10 | Loss: 0.6936:   6%|█▊                            | 14/229 [00:05<01:22,  2.60it/s]"
     ]
    },
    {
     "name": "stdout",
     "output_type": "stream",
     "text": [
      "Batch [13/229] Loss: 0.6986\n",
      "Batch [14/229] Loss: 0.6933\n",
      "Batch [15/229] Loss: 0.6619\n",
      "Batch [16/229] Loss: 0.6936\n"
     ]
    },
    {
     "name": "stderr",
     "output_type": "stream",
     "text": [
      "Epoch 6/10 | Loss: 0.6775:   9%|██▌                           | 20/229 [00:06<01:00,  3.46it/s]"
     ]
    },
    {
     "name": "stdout",
     "output_type": "stream",
     "text": [
      "Batch [17/229] Loss: 0.6698\n",
      "Batch [18/229] Loss: 0.6697\n",
      "Batch [19/229] Loss: 0.6697\n",
      "Batch [20/229] Loss: 0.6775\n"
     ]
    },
    {
     "name": "stderr",
     "output_type": "stream",
     "text": [
      "Epoch 6/10 | Loss: 0.6985:  10%|██▉                           | 22/229 [00:08<01:15,  2.74it/s]"
     ]
    },
    {
     "name": "stdout",
     "output_type": "stream",
     "text": [
      "Batch [21/229] Loss: 0.6856\n",
      "Batch [22/229] Loss: 0.6904\n",
      "Batch [23/229] Loss: 0.6698\n",
      "Batch [24/229] Loss: 0.6985\n"
     ]
    },
    {
     "name": "stderr",
     "output_type": "stream",
     "text": [
      "Epoch 6/10 | Loss: 0.6853:  11%|███▎                          | 25/229 [00:09<01:14,  2.74it/s]"
     ]
    },
    {
     "name": "stdout",
     "output_type": "stream",
     "text": [
      "Batch [25/229] Loss: 0.6826\n",
      "Batch [26/229] Loss: 0.6934\n",
      "Batch [27/229] Loss: 0.6853\n"
     ]
    },
    {
     "name": "stderr",
     "output_type": "stream",
     "text": [
      "Epoch 6/10 | Loss: 0.6984:  12%|███▋                          | 28/229 [00:09<00:54,  3.66it/s]"
     ]
    },
    {
     "name": "stdout",
     "output_type": "stream",
     "text": [
      "Batch [28/229] Loss: 0.6984\n"
     ]
    },
    {
     "name": "stderr",
     "output_type": "stream",
     "text": [
      "Epoch 6/10 | Loss: 0.6904:  13%|███▊                          | 29/229 [00:10<01:15,  2.66it/s]"
     ]
    },
    {
     "name": "stdout",
     "output_type": "stream",
     "text": [
      "Batch [29/229] Loss: 0.6829\n",
      "Batch [30/229] Loss: 0.6981\n",
      "Batch [31/229] Loss: 0.6904\n"
     ]
    },
    {
     "name": "stderr",
     "output_type": "stream",
     "text": [
      "Epoch 6/10 | Loss: 0.6933:  14%|████▏                         | 32/229 [00:10<00:58,  3.35it/s]"
     ]
    },
    {
     "name": "stdout",
     "output_type": "stream",
     "text": [
      "Batch [32/229] Loss: 0.6933\n"
     ]
    },
    {
     "name": "stderr",
     "output_type": "stream",
     "text": [
      "Epoch 6/10 | Loss: 0.6775:  14%|████▎                         | 33/229 [00:11<01:06,  2.93it/s]"
     ]
    },
    {
     "name": "stdout",
     "output_type": "stream",
     "text": [
      "Batch [33/229] Loss: 0.6827\n",
      "Batch [34/229] Loss: 0.7063\n",
      "Batch [35/229] Loss: 0.6775\n"
     ]
    },
    {
     "name": "stderr",
     "output_type": "stream",
     "text": [
      "Epoch 6/10 | Loss: 0.6618:  16%|████▋                         | 36/229 [00:11<00:52,  3.66it/s]"
     ]
    },
    {
     "name": "stdout",
     "output_type": "stream",
     "text": [
      "Batch [36/229] Loss: 0.6618\n"
     ]
    },
    {
     "name": "stderr",
     "output_type": "stream",
     "text": [
      "Epoch 6/10 | Loss: 0.6783:  17%|█████                         | 39/229 [00:12<00:49,  3.87it/s]"
     ]
    },
    {
     "name": "stdout",
     "output_type": "stream",
     "text": [
      "Batch [37/229] Loss: 0.6943\n",
      "Batch [38/229] Loss: 0.6777\n",
      "Batch [39/229] Loss: 0.6783\n"
     ]
    },
    {
     "name": "stderr",
     "output_type": "stream",
     "text": [
      "Epoch 6/10 | Loss: 0.6698:  17%|█████▏                        | 40/229 [00:13<00:48,  3.93it/s]"
     ]
    },
    {
     "name": "stdout",
     "output_type": "stream",
     "text": [
      "Batch [40/229] Loss: 0.6698\n"
     ]
    },
    {
     "name": "stderr",
     "output_type": "stream",
     "text": [
      "Epoch 6/10 | Loss: 0.6776:  18%|█████▎                        | 41/229 [00:14<01:16,  2.45it/s]"
     ]
    },
    {
     "name": "stdout",
     "output_type": "stream",
     "text": [
      "Batch [41/229] Loss: 0.6903\n",
      "Batch [42/229] Loss: 0.6985\n",
      "Batch [43/229] Loss: 0.6776\n"
     ]
    },
    {
     "name": "stderr",
     "output_type": "stream",
     "text": [
      "Epoch 6/10 | Loss: 0.6900:  19%|█████▊                        | 44/229 [00:14<00:51,  3.58it/s]"
     ]
    },
    {
     "name": "stdout",
     "output_type": "stream",
     "text": [
      "Batch [44/229] Loss: 0.6900\n"
     ]
    },
    {
     "name": "stderr",
     "output_type": "stream",
     "text": [
      "Epoch 6/10 | Loss: 0.6777:  20%|█████▉                        | 45/229 [00:15<01:09,  2.64it/s]"
     ]
    },
    {
     "name": "stdout",
     "output_type": "stream",
     "text": [
      "Batch [45/229] Loss: 0.6983\n",
      "Batch [46/229] Loss: 0.6617\n",
      "Batch [47/229] Loss: 0.6777\n"
     ]
    },
    {
     "name": "stderr",
     "output_type": "stream",
     "text": [
      "Epoch 6/10 | Loss: 0.6698:  21%|██████▎                       | 48/229 [00:15<00:52,  3.46it/s]"
     ]
    },
    {
     "name": "stdout",
     "output_type": "stream",
     "text": [
      "Batch [48/229] Loss: 0.6698\n"
     ]
    },
    {
     "name": "stderr",
     "output_type": "stream",
     "text": [
      "Epoch 6/10 | Loss: 0.6699:  21%|██████▍                       | 49/229 [00:16<01:06,  2.72it/s]"
     ]
    },
    {
     "name": "stdout",
     "output_type": "stream",
     "text": [
      "Batch [49/229] Loss: 0.6617\n",
      "Batch [50/229] Loss: 0.6854\n",
      "Batch [51/229] Loss: 0.6699\n"
     ]
    },
    {
     "name": "stderr",
     "output_type": "stream",
     "text": [
      "Epoch 6/10 | Loss: 0.6899:  23%|██████▊                       | 52/229 [00:17<00:53,  3.34it/s]"
     ]
    },
    {
     "name": "stdout",
     "output_type": "stream",
     "text": [
      "Batch [52/229] Loss: 0.6899\n"
     ]
    },
    {
     "name": "stderr",
     "output_type": "stream",
     "text": [
      "Epoch 6/10 | Loss: 0.6775:  23%|██████▉                       | 53/229 [00:17<01:00,  2.91it/s]"
     ]
    },
    {
     "name": "stdout",
     "output_type": "stream",
     "text": [
      "Batch [53/229] Loss: 0.6853\n",
      "Batch [54/229] Loss: 0.6621\n",
      "Batch [55/229] Loss: 0.6775\n"
     ]
    },
    {
     "name": "stderr",
     "output_type": "stream",
     "text": [
      "Epoch 6/10 | Loss: 0.6623:  24%|███████▎                      | 56/229 [00:18<00:50,  3.44it/s]"
     ]
    },
    {
     "name": "stdout",
     "output_type": "stream",
     "text": [
      "Batch [56/229] Loss: 0.6623\n"
     ]
    },
    {
     "name": "stderr",
     "output_type": "stream",
     "text": [
      "Epoch 6/10 | Loss: 0.6623:  25%|███████▌                      | 58/229 [00:19<00:50,  3.36it/s]"
     ]
    },
    {
     "name": "stdout",
     "output_type": "stream",
     "text": [
      "Batch [57/229] Loss: 0.6933\n",
      "Batch [58/229] Loss: 0.6828\n",
      "Batch [59/229] Loss: 0.6623\n"
     ]
    },
    {
     "name": "stderr",
     "output_type": "stream",
     "text": [
      "Epoch 6/10 | Loss: 0.6933:  26%|███████▊                      | 60/229 [00:19<00:48,  3.46it/s]"
     ]
    },
    {
     "name": "stdout",
     "output_type": "stream",
     "text": [
      "Batch [60/229] Loss: 0.6933\n"
     ]
    },
    {
     "name": "stderr",
     "output_type": "stream",
     "text": [
      "Epoch 6/10 | Loss: 0.6776:  27%|████████                      | 62/229 [00:20<00:49,  3.36it/s]"
     ]
    },
    {
     "name": "stdout",
     "output_type": "stream",
     "text": [
      "Batch [61/229] Loss: 0.6932\n",
      "Batch [62/229] Loss: 0.6934\n",
      "Batch [63/229] Loss: 0.6776\n"
     ]
    },
    {
     "name": "stderr",
     "output_type": "stream",
     "text": [
      "Epoch 6/10 | Loss: 0.6883:  28%|████████▍                     | 64/229 [00:20<00:51,  3.22it/s]"
     ]
    },
    {
     "name": "stdout",
     "output_type": "stream",
     "text": [
      "Batch [64/229] Loss: 0.6883\n"
     ]
    },
    {
     "name": "stderr",
     "output_type": "stream",
     "text": [
      "Epoch 6/10 | Loss: 0.6620:  29%|████████▋                     | 66/229 [00:21<00:50,  3.21it/s]"
     ]
    },
    {
     "name": "stdout",
     "output_type": "stream",
     "text": [
      "Batch [65/229] Loss: 0.6905\n",
      "Batch [66/229] Loss: 0.6620\n"
     ]
    },
    {
     "name": "stderr",
     "output_type": "stream",
     "text": [
      "\r",
      "Epoch 6/10 | Loss: 0.6618:  29%|████████▋                     | 66/229 [00:21<00:50,  3.21it/s]"
     ]
    },
    {
     "name": "stdout",
     "output_type": "stream",
     "text": [
      "Batch [67/229] Loss: 0.6618\n"
     ]
    },
    {
     "name": "stderr",
     "output_type": "stream",
     "text": [
      "Epoch 6/10 | Loss: 0.6750:  30%|████████▉                     | 68/229 [00:22<00:46,  3.45it/s]"
     ]
    },
    {
     "name": "stdout",
     "output_type": "stream",
     "text": [
      "Batch [68/229] Loss: 0.6750\n"
     ]
    },
    {
     "name": "stderr",
     "output_type": "stream",
     "text": [
      "Epoch 6/10 | Loss: 0.6863:  30%|█████████                     | 69/229 [00:22<00:50,  3.15it/s]"
     ]
    },
    {
     "name": "stdout",
     "output_type": "stream",
     "text": [
      "Batch [69/229] Loss: 0.6863\n"
     ]
    },
    {
     "name": "stderr",
     "output_type": "stream",
     "text": [
      "Epoch 6/10 | Loss: 0.6621:  31%|█████████▏                    | 70/229 [00:23<00:59,  2.68it/s]"
     ]
    },
    {
     "name": "stdout",
     "output_type": "stream",
     "text": [
      "Batch [70/229] Loss: 0.6984\n",
      "Batch [71/229] Loss: 0.6621\n"
     ]
    },
    {
     "name": "stderr",
     "output_type": "stream",
     "text": [
      "Epoch 6/10 | Loss: 0.6777:  31%|█████████▍                    | 72/229 [00:23<00:45,  3.45it/s]"
     ]
    },
    {
     "name": "stdout",
     "output_type": "stream",
     "text": [
      "Batch [72/229] Loss: 0.6777\n"
     ]
    },
    {
     "name": "stderr",
     "output_type": "stream",
     "text": [
      "Epoch 6/10 | Loss: 0.6932:  32%|█████████▌                    | 73/229 [00:24<00:52,  2.95it/s]"
     ]
    },
    {
     "name": "stdout",
     "output_type": "stream",
     "text": [
      "Batch [73/229] Loss: 0.6932\n"
     ]
    },
    {
     "name": "stderr",
     "output_type": "stream",
     "text": [
      "Epoch 6/10 | Loss: 0.6671:  32%|█████████▋                    | 74/229 [00:24<00:57,  2.69it/s]"
     ]
    },
    {
     "name": "stdout",
     "output_type": "stream",
     "text": [
      "Batch [74/229] Loss: 0.6699\n",
      "Batch [75/229] Loss: 0.6671\n"
     ]
    },
    {
     "name": "stderr",
     "output_type": "stream",
     "text": [
      "Epoch 6/10 | Loss: 0.6777:  33%|█████████▉                    | 76/229 [00:24<00:43,  3.52it/s]"
     ]
    },
    {
     "name": "stdout",
     "output_type": "stream",
     "text": [
      "Batch [76/229] Loss: 0.6777\n"
     ]
    },
    {
     "name": "stderr",
     "output_type": "stream",
     "text": [
      "Epoch 6/10 | Loss: 0.6774:  34%|██████████                    | 77/229 [00:25<00:46,  3.26it/s]"
     ]
    },
    {
     "name": "stdout",
     "output_type": "stream",
     "text": [
      "Batch [77/229] Loss: 0.6774\n"
     ]
    },
    {
     "name": "stderr",
     "output_type": "stream",
     "text": [
      "Epoch 6/10 | Loss: 0.6776:  35%|██████████▍                   | 80/229 [00:26<00:40,  3.67it/s]"
     ]
    },
    {
     "name": "stdout",
     "output_type": "stream",
     "text": [
      "Batch [78/229] Loss: 0.6856\n",
      "Batch [79/229] Loss: 0.6826\n",
      "Batch [80/229] Loss: 0.6776\n"
     ]
    },
    {
     "name": "stderr",
     "output_type": "stream",
     "text": [
      "Epoch 6/10 | Loss: 0.6855:  35%|██████████▌                   | 81/229 [00:26<00:41,  3.59it/s]"
     ]
    },
    {
     "name": "stdout",
     "output_type": "stream",
     "text": [
      "Batch [81/229] Loss: 0.6855\n"
     ]
    },
    {
     "name": "stderr",
     "output_type": "stream",
     "text": [
      "Epoch 6/10 | Loss: 0.6774:  36%|██████████▋                   | 82/229 [00:27<01:04,  2.29it/s]"
     ]
    },
    {
     "name": "stdout",
     "output_type": "stream",
     "text": [
      "Batch [82/229] Loss: 0.6698\n",
      "Batch [83/229] Loss: 0.6784\n",
      "Batch [84/229] Loss: 0.6774\n"
     ]
    },
    {
     "name": "stderr",
     "output_type": "stream",
     "text": [
      "Epoch 6/10 | Loss: 0.6697:  37%|███████████▏                  | 85/229 [00:27<00:41,  3.49it/s]"
     ]
    },
    {
     "name": "stdout",
     "output_type": "stream",
     "text": [
      "Batch [85/229] Loss: 0.6697\n"
     ]
    },
    {
     "name": "stderr",
     "output_type": "stream",
     "text": [
      "Epoch 6/10 | Loss: 0.6774:  38%|███████████▎                  | 86/229 [00:28<00:59,  2.41it/s]"
     ]
    },
    {
     "name": "stdout",
     "output_type": "stream",
     "text": [
      "Batch [86/229] Loss: 0.6855\n",
      "Batch [87/229] Loss: 0.6984\n",
      "Batch [88/229] Loss: 0.6774\n"
     ]
    },
    {
     "name": "stderr",
     "output_type": "stream",
     "text": [
      "Epoch 6/10 | Loss: 0.6906:  39%|███████████▋                  | 89/229 [00:29<00:40,  3.44it/s]"
     ]
    },
    {
     "name": "stdout",
     "output_type": "stream",
     "text": [
      "Batch [89/229] Loss: 0.6906\n"
     ]
    },
    {
     "name": "stderr",
     "output_type": "stream",
     "text": [
      "Epoch 6/10 | Loss: 0.6699:  39%|███████████▊                  | 90/229 [00:30<00:55,  2.50it/s]"
     ]
    },
    {
     "name": "stdout",
     "output_type": "stream",
     "text": [
      "Batch [90/229] Loss: 0.6903\n",
      "Batch [91/229] Loss: 0.6774\n",
      "Batch [92/229] Loss: 0.6699\n"
     ]
    },
    {
     "name": "stderr",
     "output_type": "stream",
     "text": [
      "Epoch 6/10 | Loss: 0.6800:  41%|████████████▏                 | 93/229 [00:30<00:39,  3.48it/s]"
     ]
    },
    {
     "name": "stdout",
     "output_type": "stream",
     "text": [
      "Batch [93/229] Loss: 0.6800\n"
     ]
    },
    {
     "name": "stderr",
     "output_type": "stream",
     "text": [
      "Epoch 6/10 | Loss: 0.6696:  42%|████████████▋                 | 97/229 [00:31<00:31,  4.14it/s]"
     ]
    },
    {
     "name": "stdout",
     "output_type": "stream",
     "text": [
      "Batch [94/229] Loss: 0.6696\n",
      "Batch [95/229] Loss: 0.6629\n",
      "Batch [96/229] Loss: 0.6855\n",
      "Batch [97/229] Loss: 0.6696\n"
     ]
    },
    {
     "name": "stderr",
     "output_type": "stream",
     "text": [
      "Epoch 6/10 | Loss: 0.6904:  44%|█████████████▏                | 101/229 [00:32<00:30,  4.15it/s]"
     ]
    },
    {
     "name": "stdout",
     "output_type": "stream",
     "text": [
      "Batch [98/229] Loss: 0.6692\n",
      "Batch [99/229] Loss: 0.6853\n",
      "Batch [100/229] Loss: 0.6908\n",
      "Batch [101/229] Loss: 0.6904\n"
     ]
    },
    {
     "name": "stderr",
     "output_type": "stream",
     "text": [
      "Epoch 6/10 | Loss: 0.6816:  45%|█████████████▍                | 103/229 [00:33<00:40,  3.11it/s]"
     ]
    },
    {
     "name": "stdout",
     "output_type": "stream",
     "text": [
      "Batch [102/229] Loss: 0.7037\n",
      "Batch [103/229] Loss: 0.6777\n",
      "Batch [104/229] Loss: 0.6816\n"
     ]
    },
    {
     "name": "stderr",
     "output_type": "stream",
     "text": [
      "Epoch 6/10 | Loss: 0.6860:  46%|█████████████▊                | 105/229 [00:34<00:36,  3.44it/s]"
     ]
    },
    {
     "name": "stdout",
     "output_type": "stream",
     "text": [
      "Batch [105/229] Loss: 0.6860\n"
     ]
    },
    {
     "name": "stderr",
     "output_type": "stream",
     "text": [
      "Epoch 6/10 | Loss: 0.6696:  46%|█████████████▉                | 106/229 [00:34<00:46,  2.64it/s]"
     ]
    },
    {
     "name": "stdout",
     "output_type": "stream",
     "text": [
      "Batch [106/229] Loss: 0.6933\n",
      "Batch [107/229] Loss: 0.6698\n",
      "Batch [108/229] Loss: 0.6696\n"
     ]
    },
    {
     "name": "stderr",
     "output_type": "stream",
     "text": [
      "Epoch 6/10 | Loss: 0.6854:  48%|██████████████▎               | 109/229 [00:35<00:33,  3.56it/s]"
     ]
    },
    {
     "name": "stdout",
     "output_type": "stream",
     "text": [
      "Batch [109/229] Loss: 0.6854\n"
     ]
    },
    {
     "name": "stderr",
     "output_type": "stream",
     "text": [
      "Epoch 6/10 | Loss: 0.6989:  49%|██████████████▋               | 112/229 [00:36<00:30,  3.88it/s]"
     ]
    },
    {
     "name": "stdout",
     "output_type": "stream",
     "text": [
      "Batch [110/229] Loss: 0.6784\n",
      "Batch [111/229] Loss: 0.6858\n",
      "Batch [112/229] Loss: 0.6989\n"
     ]
    },
    {
     "name": "stderr",
     "output_type": "stream",
     "text": [
      "Epoch 6/10 | Loss: 0.7063:  49%|██████████████▊               | 113/229 [00:36<00:35,  3.31it/s]"
     ]
    },
    {
     "name": "stdout",
     "output_type": "stream",
     "text": [
      "Batch [113/229] Loss: 0.7063\n"
     ]
    },
    {
     "name": "stderr",
     "output_type": "stream",
     "text": [
      "Epoch 6/10 | Loss: 0.6906:  50%|██████████████▉               | 114/229 [00:37<00:39,  2.90it/s]"
     ]
    },
    {
     "name": "stdout",
     "output_type": "stream",
     "text": [
      "Batch [114/229] Loss: 0.6785\n",
      "Batch [115/229] Loss: 0.6748\n",
      "Batch [116/229] Loss: 0.6906\n"
     ]
    },
    {
     "name": "stderr",
     "output_type": "stream",
     "text": [
      "Epoch 6/10 | Loss: 0.6618:  51%|███████████████▎              | 117/229 [00:38<00:36,  3.03it/s]"
     ]
    },
    {
     "name": "stdout",
     "output_type": "stream",
     "text": [
      "Batch [117/229] Loss: 0.6618\n"
     ]
    },
    {
     "name": "stderr",
     "output_type": "stream",
     "text": [
      "Epoch 6/10 | Loss: 0.6982:  52%|███████████████▋              | 120/229 [00:38<00:25,  4.33it/s]"
     ]
    },
    {
     "name": "stdout",
     "output_type": "stream",
     "text": [
      "Batch [118/229] Loss: 0.6695\n",
      "Batch [119/229] Loss: 0.6701\n",
      "Batch [120/229] Loss: 0.6982\n"
     ]
    },
    {
     "name": "stderr",
     "output_type": "stream",
     "text": [
      "Epoch 6/10 | Loss: 0.6776:  54%|████████████████▏             | 124/229 [00:39<00:24,  4.31it/s]"
     ]
    },
    {
     "name": "stdout",
     "output_type": "stream",
     "text": [
      "Batch [121/229] Loss: 0.6902\n",
      "Batch [122/229] Loss: 0.7159\n",
      "Batch [123/229] Loss: 0.6620\n",
      "Batch [124/229] Loss: 0.6776\n"
     ]
    },
    {
     "name": "stderr",
     "output_type": "stream",
     "text": [
      "Epoch 6/10 | Loss: 0.6856:  55%|████████████████▋             | 127/229 [00:40<00:28,  3.58it/s]"
     ]
    },
    {
     "name": "stdout",
     "output_type": "stream",
     "text": [
      "Batch [125/229] Loss: 0.6776\n",
      "Batch [126/229] Loss: 0.6854\n",
      "Batch [127/229] Loss: 0.6856\n"
     ]
    },
    {
     "name": "stderr",
     "output_type": "stream",
     "text": [
      "\r",
      "Epoch 6/10 | Loss: 0.6825:  55%|████████████████▋             | 127/229 [00:40<00:28,  3.58it/s]"
     ]
    },
    {
     "name": "stdout",
     "output_type": "stream",
     "text": [
      "Batch [128/229] Loss: 0.6825\n"
     ]
    },
    {
     "name": "stderr",
     "output_type": "stream",
     "text": [
      "Epoch 6/10 | Loss: 0.6953:  57%|█████████████████             | 130/229 [00:42<00:31,  3.17it/s]"
     ]
    },
    {
     "name": "stdout",
     "output_type": "stream",
     "text": [
      "Batch [129/229] Loss: 0.6700\n",
      "Batch [130/229] Loss: 0.6953\n"
     ]
    },
    {
     "name": "stderr",
     "output_type": "stream",
     "text": [
      "Epoch 6/10 | Loss: 0.6893:  57%|█████████████████▏            | 131/229 [00:42<00:27,  3.62it/s]"
     ]
    },
    {
     "name": "stdout",
     "output_type": "stream",
     "text": [
      "Batch [131/229] Loss: 0.6983\n",
      "Batch [132/229] Loss: 0.6893\n"
     ]
    },
    {
     "name": "stderr",
     "output_type": "stream",
     "text": [
      "Epoch 6/10 | Loss: 0.6986:  58%|█████████████████▍            | 133/229 [00:43<00:34,  2.78it/s]"
     ]
    },
    {
     "name": "stdout",
     "output_type": "stream",
     "text": [
      "Batch [133/229] Loss: 0.6986\n"
     ]
    },
    {
     "name": "stderr",
     "output_type": "stream",
     "text": [
      "Epoch 6/10 | Loss: 0.6617:  59%|█████████████████▌            | 134/229 [00:43<00:31,  3.01it/s]"
     ]
    },
    {
     "name": "stdout",
     "output_type": "stream",
     "text": [
      "Batch [134/229] Loss: 0.6775\n",
      "Batch [135/229] Loss: 0.7160\n",
      "Batch [136/229] Loss: 0.6617\n"
     ]
    },
    {
     "name": "stderr",
     "output_type": "stream",
     "text": [
      "Epoch 6/10 | Loss: 0.6777:  60%|██████████████████            | 138/229 [00:44<00:27,  3.32it/s]"
     ]
    },
    {
     "name": "stdout",
     "output_type": "stream",
     "text": [
      "Batch [137/229] Loss: 0.6902\n",
      "Batch [138/229] Loss: 0.6777\n"
     ]
    },
    {
     "name": "stderr",
     "output_type": "stream",
     "text": [
      "Epoch 6/10 | Loss: 0.6826:  61%|██████████████████▏           | 139/229 [00:44<00:23,  3.76it/s]"
     ]
    },
    {
     "name": "stdout",
     "output_type": "stream",
     "text": [
      "Batch [139/229] Loss: 0.6977\n",
      "Batch [140/229] Loss: 0.6826\n"
     ]
    },
    {
     "name": "stderr",
     "output_type": "stream",
     "text": [
      "Epoch 6/10 | Loss: 0.6984:  62%|██████████████████▍           | 141/229 [00:45<00:30,  2.87it/s]"
     ]
    },
    {
     "name": "stdout",
     "output_type": "stream",
     "text": [
      "Batch [141/229] Loss: 0.6984\n"
     ]
    },
    {
     "name": "stderr",
     "output_type": "stream",
     "text": [
      "Epoch 6/10 | Loss: 0.6720:  62%|██████████████████▌           | 142/229 [00:46<00:30,  2.81it/s]"
     ]
    },
    {
     "name": "stdout",
     "output_type": "stream",
     "text": [
      "Batch [142/229] Loss: 0.6985\n",
      "Batch [143/229] Loss: 0.6776\n",
      "Batch [144/229] Loss: 0.6720\n"
     ]
    },
    {
     "name": "stderr",
     "output_type": "stream",
     "text": [
      "Epoch 6/10 | Loss: 0.6619:  63%|██████████████████▉           | 145/229 [00:46<00:27,  3.03it/s]"
     ]
    },
    {
     "name": "stdout",
     "output_type": "stream",
     "text": [
      "Batch [145/229] Loss: 0.6619\n"
     ]
    },
    {
     "name": "stderr",
     "output_type": "stream",
     "text": [
      "Epoch 6/10 | Loss: 0.6826:  65%|███████████████████▍          | 148/229 [00:47<00:19,  4.09it/s]"
     ]
    },
    {
     "name": "stdout",
     "output_type": "stream",
     "text": [
      "Batch [146/229] Loss: 0.6933\n",
      "Batch [147/229] Loss: 0.7041\n",
      "Batch [148/229] Loss: 0.6826\n"
     ]
    },
    {
     "name": "stderr",
     "output_type": "stream",
     "text": [
      "Epoch 6/10 | Loss: 0.6714:  65%|███████████████████▌          | 149/229 [00:48<00:25,  3.09it/s]"
     ]
    },
    {
     "name": "stdout",
     "output_type": "stream",
     "text": [
      "Batch [149/229] Loss: 0.6714\n"
     ]
    },
    {
     "name": "stderr",
     "output_type": "stream",
     "text": [
      "Epoch 6/10 | Loss: 0.6777:  66%|███████████████████▋          | 150/229 [00:48<00:29,  2.69it/s]"
     ]
    },
    {
     "name": "stdout",
     "output_type": "stream",
     "text": [
      "Batch [150/229] Loss: 0.6938\n",
      "Batch [151/229] Loss: 0.6867\n",
      "Batch [152/229] Loss: 0.6777\n"
     ]
    },
    {
     "name": "stderr",
     "output_type": "stream",
     "text": [
      "Epoch 6/10 | Loss: 0.6904:  67%|████████████████████          | 153/229 [00:49<00:21,  3.59it/s]"
     ]
    },
    {
     "name": "stdout",
     "output_type": "stream",
     "text": [
      "Batch [153/229] Loss: 0.6904\n"
     ]
    },
    {
     "name": "stderr",
     "output_type": "stream",
     "text": [
      "Epoch 6/10 | Loss: 0.6971:  68%|████████████████████▎         | 155/229 [00:50<00:23,  3.08it/s]"
     ]
    },
    {
     "name": "stdout",
     "output_type": "stream",
     "text": [
      "Batch [154/229] Loss: 0.6827\n",
      "Batch [155/229] Loss: 0.6971\n"
     ]
    },
    {
     "name": "stderr",
     "output_type": "stream",
     "text": [
      "\r",
      "Epoch 6/10 | Loss: 0.6826:  68%|████████████████████▎         | 155/229 [00:50<00:23,  3.08it/s]"
     ]
    },
    {
     "name": "stdout",
     "output_type": "stream",
     "text": [
      "Batch [156/229] Loss: 0.6826\n"
     ]
    },
    {
     "name": "stderr",
     "output_type": "stream",
     "text": [
      "Epoch 6/10 | Loss: 0.6696:  69%|████████████████████▌         | 157/229 [00:50<00:20,  3.48it/s]"
     ]
    },
    {
     "name": "stdout",
     "output_type": "stream",
     "text": [
      "Batch [157/229] Loss: 0.6696\n"
     ]
    },
    {
     "name": "stderr",
     "output_type": "stream",
     "text": [
      "Epoch 6/10 | Loss: 0.6694:  69%|████████████████████▋         | 158/229 [00:51<00:24,  2.92it/s]"
     ]
    },
    {
     "name": "stdout",
     "output_type": "stream",
     "text": [
      "Batch [158/229] Loss: 0.6694\n"
     ]
    },
    {
     "name": "stderr",
     "output_type": "stream",
     "text": [
      "Epoch 6/10 | Loss: 0.6706:  69%|████████████████████▊         | 159/229 [00:51<00:21,  3.19it/s]"
     ]
    },
    {
     "name": "stdout",
     "output_type": "stream",
     "text": [
      "Batch [159/229] Loss: 0.6984\n",
      "Batch [160/229] Loss: 0.6706\n"
     ]
    },
    {
     "name": "stderr",
     "output_type": "stream",
     "text": [
      "Epoch 6/10 | Loss: 0.6780:  70%|█████████████████████         | 161/229 [00:51<00:18,  3.76it/s]"
     ]
    },
    {
     "name": "stdout",
     "output_type": "stream",
     "text": [
      "Batch [161/229] Loss: 0.6780\n"
     ]
    },
    {
     "name": "stderr",
     "output_type": "stream",
     "text": [
      "Epoch 6/10 | Loss: 0.7063:  71%|█████████████████████▏        | 162/229 [00:52<00:26,  2.54it/s]"
     ]
    },
    {
     "name": "stdout",
     "output_type": "stream",
     "text": [
      "Batch [162/229] Loss: 0.7063\n"
     ]
    },
    {
     "name": "stderr",
     "output_type": "stream",
     "text": [
      "Epoch 6/10 | Loss: 0.6826:  71%|█████████████████████▎        | 163/229 [00:52<00:23,  2.77it/s]"
     ]
    },
    {
     "name": "stdout",
     "output_type": "stream",
     "text": [
      "Batch [163/229] Loss: 0.6986\n",
      "Batch [164/229] Loss: 0.6853\n",
      "Batch [165/229] Loss: 0.6826\n"
     ]
    },
    {
     "name": "stderr",
     "output_type": "stream",
     "text": [
      "Epoch 6/10 | Loss: 0.6982:  73%|█████████████████████▉        | 167/229 [00:54<00:19,  3.23it/s]"
     ]
    },
    {
     "name": "stdout",
     "output_type": "stream",
     "text": [
      "Batch [166/229] Loss: 0.6819\n",
      "Batch [167/229] Loss: 0.6855\n",
      "Batch [168/229] Loss: 0.6982\n"
     ]
    },
    {
     "name": "stderr",
     "output_type": "stream",
     "text": [
      "\r",
      "Epoch 6/10 | Loss: 0.6983:  73%|█████████████████████▉        | 167/229 [00:54<00:19,  3.23it/s]"
     ]
    },
    {
     "name": "stdout",
     "output_type": "stream",
     "text": [
      "Batch [169/229] Loss: 0.6983\n"
     ]
    },
    {
     "name": "stderr",
     "output_type": "stream",
     "text": [
      "Epoch 6/10 | Loss: 0.6906:  76%|██████████████████████▋       | 173/229 [00:55<00:13,  4.06it/s]"
     ]
    },
    {
     "name": "stdout",
     "output_type": "stream",
     "text": [
      "Batch [170/229] Loss: 0.6697\n",
      "Batch [171/229] Loss: 0.6699\n",
      "Batch [172/229] Loss: 0.6699\n",
      "Batch [173/229] Loss: 0.6906\n"
     ]
    },
    {
     "name": "stderr",
     "output_type": "stream",
     "text": [
      "Epoch 6/10 | Loss: 0.6811:  77%|███████████████████████▏      | 177/229 [00:56<00:13,  3.97it/s]"
     ]
    },
    {
     "name": "stdout",
     "output_type": "stream",
     "text": [
      "Batch [174/229] Loss: 0.6853\n",
      "Batch [175/229] Loss: 0.7184\n",
      "Batch [176/229] Loss: 0.6848\n",
      "Batch [177/229] Loss: 0.6811\n"
     ]
    },
    {
     "name": "stderr",
     "output_type": "stream",
     "text": [
      "Epoch 6/10 | Loss: 0.6746:  78%|███████████████████████▍      | 179/229 [00:57<00:16,  2.98it/s]"
     ]
    },
    {
     "name": "stdout",
     "output_type": "stream",
     "text": [
      "Batch [178/229] Loss: 0.7066\n",
      "Batch [179/229] Loss: 0.7075\n",
      "Batch [180/229] Loss: 0.6620\n",
      "Batch [181/229] Loss: 0.6746\n"
     ]
    },
    {
     "name": "stderr",
     "output_type": "stream",
     "text": [
      "Epoch 6/10 | Loss: 0.6774:  80%|████████████████████████      | 184/229 [00:59<00:12,  3.56it/s]"
     ]
    },
    {
     "name": "stdout",
     "output_type": "stream",
     "text": [
      "Batch [182/229] Loss: 0.6619\n",
      "Batch [183/229] Loss: 0.6813\n",
      "Batch [184/229] Loss: 0.6774\n"
     ]
    },
    {
     "name": "stderr",
     "output_type": "stream",
     "text": [
      "\r",
      "Epoch 6/10 | Loss: 0.6885:  80%|████████████████████████      | 184/229 [00:59<00:12,  3.56it/s]"
     ]
    },
    {
     "name": "stdout",
     "output_type": "stream",
     "text": [
      "Batch [185/229] Loss: 0.6885\n"
     ]
    },
    {
     "name": "stderr",
     "output_type": "stream",
     "text": [
      "Epoch 6/10 | Loss: 0.6620:  81%|████████████████████████▎     | 186/229 [01:00<00:14,  2.95it/s]"
     ]
    },
    {
     "name": "stdout",
     "output_type": "stream",
     "text": [
      "Batch [186/229] Loss: 0.6699\n",
      "Batch [187/229] Loss: 0.6620\n"
     ]
    },
    {
     "name": "stderr",
     "output_type": "stream",
     "text": [
      "Epoch 6/10 | Loss: 0.6774:  83%|████████████████████████▊     | 189/229 [01:00<00:09,  4.06it/s]"
     ]
    },
    {
     "name": "stdout",
     "output_type": "stream",
     "text": [
      "Batch [188/229] Loss: 0.6789\n",
      "Batch [189/229] Loss: 0.6774\n"
     ]
    },
    {
     "name": "stderr",
     "output_type": "stream",
     "text": [
      "Epoch 6/10 | Loss: 0.6697:  84%|█████████████████████████▎    | 193/229 [01:01<00:08,  4.05it/s]"
     ]
    },
    {
     "name": "stdout",
     "output_type": "stream",
     "text": [
      "Batch [190/229] Loss: 0.6780\n",
      "Batch [191/229] Loss: 0.6952\n",
      "Batch [192/229] Loss: 0.6825\n",
      "Batch [193/229] Loss: 0.6697\n"
     ]
    },
    {
     "name": "stderr",
     "output_type": "stream",
     "text": [
      "Epoch 6/10 | Loss: 0.6618:  85%|█████████████████████████▌    | 195/229 [01:02<00:10,  3.15it/s]"
     ]
    },
    {
     "name": "stdout",
     "output_type": "stream",
     "text": [
      "Batch [194/229] Loss: 0.6854\n",
      "Batch [195/229] Loss: 0.6855\n",
      "Batch [196/229] Loss: 0.6618\n"
     ]
    },
    {
     "name": "stderr",
     "output_type": "stream",
     "text": [
      "Epoch 6/10 | Loss: 0.6697:  86%|█████████████████████████▊    | 197/229 [01:02<00:07,  4.04it/s]"
     ]
    },
    {
     "name": "stdout",
     "output_type": "stream",
     "text": [
      "Batch [197/229] Loss: 0.6697\n"
     ]
    },
    {
     "name": "stderr",
     "output_type": "stream",
     "text": [
      "Epoch 6/10 | Loss: 0.6776:  87%|██████████████████████████▏   | 200/229 [01:04<00:08,  3.56it/s]"
     ]
    },
    {
     "name": "stdout",
     "output_type": "stream",
     "text": [
      "Batch [198/229] Loss: 0.6775\n",
      "Batch [199/229] Loss: 0.6854\n",
      "Batch [200/229] Loss: 0.6776\n"
     ]
    },
    {
     "name": "stderr",
     "output_type": "stream",
     "text": [
      "\r",
      "Epoch 6/10 | Loss: 0.6544:  87%|██████████████████████████▏   | 200/229 [01:04<00:08,  3.56it/s]"
     ]
    },
    {
     "name": "stdout",
     "output_type": "stream",
     "text": [
      "Batch [201/229] Loss: 0.6544\n"
     ]
    },
    {
     "name": "stderr",
     "output_type": "stream",
     "text": [
      "Epoch 6/10 | Loss: 0.6776:  89%|██████████████████████████▋   | 204/229 [01:05<00:07,  3.49it/s]"
     ]
    },
    {
     "name": "stdout",
     "output_type": "stream",
     "text": [
      "Batch [202/229] Loss: 0.6991\n",
      "Batch [203/229] Loss: 0.6903\n",
      "Batch [204/229] Loss: 0.6776\n"
     ]
    },
    {
     "name": "stderr",
     "output_type": "stream",
     "text": [
      "Epoch 6/10 | Loss: 0.6866:  90%|██████████████████████████▊   | 205/229 [01:05<00:06,  3.71it/s]"
     ]
    },
    {
     "name": "stdout",
     "output_type": "stream",
     "text": [
      "Batch [205/229] Loss: 0.6866\n"
     ]
    },
    {
     "name": "stderr",
     "output_type": "stream",
     "text": [
      "Epoch 6/10 | Loss: 0.6779:  90%|██████████████████████████▉   | 206/229 [01:06<00:08,  2.71it/s]"
     ]
    },
    {
     "name": "stdout",
     "output_type": "stream",
     "text": [
      "Batch [206/229] Loss: 0.6974\n",
      "Batch [207/229] Loss: 0.6779\n"
     ]
    },
    {
     "name": "stderr",
     "output_type": "stream",
     "text": [
      "Epoch 6/10 | Loss: 0.6775:  91%|███████████████████████████▏  | 208/229 [01:06<00:05,  3.65it/s]"
     ]
    },
    {
     "name": "stdout",
     "output_type": "stream",
     "text": [
      "Batch [208/229] Loss: 0.6775\n"
     ]
    },
    {
     "name": "stderr",
     "output_type": "stream",
     "text": [
      "Epoch 6/10 | Loss: 0.6855:  91%|███████████████████████████▍  | 209/229 [01:06<00:05,  3.72it/s]"
     ]
    },
    {
     "name": "stdout",
     "output_type": "stream",
     "text": [
      "Batch [209/229] Loss: 0.6855\n"
     ]
    },
    {
     "name": "stderr",
     "output_type": "stream",
     "text": [
      "Epoch 6/10 | Loss: 0.6777:  93%|███████████████████████████▊  | 212/229 [01:07<00:04,  3.67it/s]"
     ]
    },
    {
     "name": "stdout",
     "output_type": "stream",
     "text": [
      "Batch [210/229] Loss: 0.6931\n",
      "Batch [211/229] Loss: 0.6783\n",
      "Batch [212/229] Loss: 0.6777\n"
     ]
    },
    {
     "name": "stderr",
     "output_type": "stream",
     "text": [
      "Epoch 6/10 | Loss: 0.6874:  93%|███████████████████████████▉  | 213/229 [01:08<00:04,  3.75it/s]"
     ]
    },
    {
     "name": "stdout",
     "output_type": "stream",
     "text": [
      "Batch [213/229] Loss: 0.6874\n"
     ]
    },
    {
     "name": "stderr",
     "output_type": "stream",
     "text": [
      "Epoch 6/10 | Loss: 0.6983:  93%|████████████████████████████  | 214/229 [01:08<00:05,  2.54it/s]"
     ]
    },
    {
     "name": "stdout",
     "output_type": "stream",
     "text": [
      "Batch [214/229] Loss: 0.6714\n",
      "Batch [215/229] Loss: 0.6983\n"
     ]
    },
    {
     "name": "stderr",
     "output_type": "stream",
     "text": [
      "Epoch 6/10 | Loss: 0.6723:  94%|████████████████████████████▎ | 216/229 [01:09<00:03,  3.33it/s]"
     ]
    },
    {
     "name": "stdout",
     "output_type": "stream",
     "text": [
      "Batch [216/229] Loss: 0.6723\n"
     ]
    },
    {
     "name": "stderr",
     "output_type": "stream",
     "text": [
      "Epoch 6/10 | Loss: 0.6856:  95%|████████████████████████████▍ | 217/229 [01:09<00:03,  3.53it/s]"
     ]
    },
    {
     "name": "stdout",
     "output_type": "stream",
     "text": [
      "Batch [217/229] Loss: 0.6856\n"
     ]
    },
    {
     "name": "stderr",
     "output_type": "stream",
     "text": [
      "Epoch 6/10 | Loss: 0.6698:  95%|████████████████████████████▌ | 218/229 [01:10<00:04,  2.61it/s]"
     ]
    },
    {
     "name": "stdout",
     "output_type": "stream",
     "text": [
      "Batch [218/229] Loss: 0.6774\n",
      "Batch [219/229] Loss: 0.6698\n"
     ]
    },
    {
     "name": "stderr",
     "output_type": "stream",
     "text": [
      "Epoch 6/10 | Loss: 0.6776:  97%|████████████████████████████▉ | 221/229 [01:10<00:02,  3.79it/s]"
     ]
    },
    {
     "name": "stdout",
     "output_type": "stream",
     "text": [
      "Batch [220/229] Loss: 0.6871\n",
      "Batch [221/229] Loss: 0.6776\n"
     ]
    },
    {
     "name": "stderr",
     "output_type": "stream",
     "text": [
      "Epoch 6/10 | Loss: 0.6775:  97%|█████████████████████████████ | 222/229 [01:11<00:02,  2.81it/s]"
     ]
    },
    {
     "name": "stdout",
     "output_type": "stream",
     "text": [
      "Batch [222/229] Loss: 0.6618\n",
      "Batch [223/229] Loss: 0.6775\n"
     ]
    },
    {
     "name": "stderr",
     "output_type": "stream",
     "text": [
      "Epoch 6/10 | Loss: 0.6817:  98%|█████████████████████████████▎| 224/229 [01:11<00:01,  3.35it/s]"
     ]
    },
    {
     "name": "stdout",
     "output_type": "stream",
     "text": [
      "Batch [224/229] Loss: 0.6825\n",
      "Batch [225/229] Loss: 0.6817\n"
     ]
    },
    {
     "name": "stderr",
     "output_type": "stream",
     "text": [
      "Epoch 6/10 | Loss: 0.6775:  99%|█████████████████████████████▌| 226/229 [01:12<00:01,  2.93it/s]"
     ]
    },
    {
     "name": "stdout",
     "output_type": "stream",
     "text": [
      "Batch [226/229] Loss: 0.6714\n",
      "Batch [227/229] Loss: 0.6775\n"
     ]
    },
    {
     "name": "stderr",
     "output_type": "stream",
     "text": [
      "Epoch 6/10 | Loss: 0.6849: 100%|██████████████████████████████| 229/229 [01:12<00:00,  3.14it/s]\n"
     ]
    },
    {
     "name": "stdout",
     "output_type": "stream",
     "text": [
      "Batch [228/229] Loss: 0.6776\n",
      "Batch [229/229] Loss: 0.6849\n",
      "\n",
      "Epoch 6 Summary:\n",
      "Average Loss: 0.6818\n",
      "\n",
      "Epoch 7/10\n",
      "==================================================\n"
     ]
    },
    {
     "name": "stderr",
     "output_type": "stream",
     "text": [
      "Epoch 7/10 | Loss: 0.6618:   1%|▎                             | 2/229 [00:01<02:13,  1.70it/s]"
     ]
    },
    {
     "name": "stdout",
     "output_type": "stream",
     "text": [
      "Batch [1/229] Loss: 0.6776\n",
      "Batch [2/229] Loss: 0.6856\n",
      "Batch [3/229] Loss: 0.6618\n"
     ]
    },
    {
     "name": "stderr",
     "output_type": "stream",
     "text": [
      "\r",
      "Epoch 7/10 | Loss: 0.7054:   1%|▎                             | 2/229 [00:01<02:13,  1.70it/s]"
     ]
    },
    {
     "name": "stdout",
     "output_type": "stream",
     "text": [
      "Batch [4/229] Loss: 0.7054\n"
     ]
    },
    {
     "name": "stderr",
     "output_type": "stream",
     "text": [
      "Epoch 7/10 | Loss: 0.6696:   3%|█                             | 8/229 [00:02<00:51,  4.25it/s]"
     ]
    },
    {
     "name": "stdout",
     "output_type": "stream",
     "text": [
      "Batch [5/229] Loss: 0.6778\n",
      "Batch [6/229] Loss: 0.6801\n",
      "Batch [7/229] Loss: 0.6746\n",
      "Batch [8/229] Loss: 0.6696\n"
     ]
    },
    {
     "name": "stderr",
     "output_type": "stream",
     "text": [
      "\r",
      "Epoch 7/10 | Loss: 0.6853:   3%|█                             | 8/229 [00:03<00:51,  4.25it/s]"
     ]
    },
    {
     "name": "stdout",
     "output_type": "stream",
     "text": [
      "Batch [9/229] Loss: 0.6853\n"
     ]
    },
    {
     "name": "stderr",
     "output_type": "stream",
     "text": [
      "Epoch 7/10 | Loss: 0.6774:   4%|█▎                            | 10/229 [00:04<01:26,  2.55it/s]"
     ]
    },
    {
     "name": "stdout",
     "output_type": "stream",
     "text": [
      "Batch [10/229] Loss: 0.6983\n",
      "Batch [11/229] Loss: 0.6908\n",
      "Batch [12/229] Loss: 0.6774\n"
     ]
    },
    {
     "name": "stderr",
     "output_type": "stream",
     "text": [
      "Epoch 7/10 | Loss: 0.6776:   6%|█▋                            | 13/229 [00:05<01:21,  2.65it/s]"
     ]
    },
    {
     "name": "stdout",
     "output_type": "stream",
     "text": [
      "Batch [13/229] Loss: 0.6776\n"
     ]
    },
    {
     "name": "stderr",
     "output_type": "stream",
     "text": [
      "Epoch 7/10 | Loss: 0.6773:   6%|█▊                            | 14/229 [00:05<01:19,  2.70it/s]"
     ]
    },
    {
     "name": "stdout",
     "output_type": "stream",
     "text": [
      "Batch [14/229] Loss: 0.6857\n",
      "Batch [15/229] Loss: 0.6983\n",
      "Batch [16/229] Loss: 0.6773\n"
     ]
    },
    {
     "name": "stderr",
     "output_type": "stream",
     "text": [
      "Epoch 7/10 | Loss: 0.6815:   7%|██▏                           | 17/229 [00:06<01:08,  3.11it/s]"
     ]
    },
    {
     "name": "stdout",
     "output_type": "stream",
     "text": [
      "Batch [17/229] Loss: 0.6815\n"
     ]
    },
    {
     "name": "stderr",
     "output_type": "stream",
     "text": [
      "Epoch 7/10 | Loss: 0.6776:   8%|██▎                           | 18/229 [00:07<01:23,  2.51it/s]"
     ]
    },
    {
     "name": "stdout",
     "output_type": "stream",
     "text": [
      "Batch [18/229] Loss: 0.6616\n",
      "Batch [19/229] Loss: 0.6776\n",
      "Batch [20/229] Loss: 0.6776\n"
     ]
    },
    {
     "name": "stderr",
     "output_type": "stream",
     "text": [
      "Epoch 7/10 | Loss: 0.6698:   9%|██▊                           | 21/229 [00:07<01:02,  3.35it/s]"
     ]
    },
    {
     "name": "stdout",
     "output_type": "stream",
     "text": [
      "Batch [21/229] Loss: 0.6698\n"
     ]
    },
    {
     "name": "stderr",
     "output_type": "stream",
     "text": [
      "Epoch 7/10 | Loss: 0.6697:  10%|██▉                           | 22/229 [00:08<01:22,  2.52it/s]"
     ]
    },
    {
     "name": "stdout",
     "output_type": "stream",
     "text": [
      "Batch [22/229] Loss: 0.6828\n",
      "Batch [23/229] Loss: 0.6854\n",
      "Batch [24/229] Loss: 0.6697\n"
     ]
    },
    {
     "name": "stderr",
     "output_type": "stream",
     "text": [
      "Epoch 7/10 | Loss: 0.6853:  11%|███▎                          | 25/229 [00:08<00:59,  3.45it/s]"
     ]
    },
    {
     "name": "stdout",
     "output_type": "stream",
     "text": [
      "Batch [25/229] Loss: 0.6853\n"
     ]
    },
    {
     "name": "stderr",
     "output_type": "stream",
     "text": [
      "Epoch 7/10 | Loss: 0.6774:  11%|███▍                          | 26/229 [00:09<01:20,  2.54it/s]"
     ]
    },
    {
     "name": "stdout",
     "output_type": "stream",
     "text": [
      "Batch [26/229] Loss: 0.7064\n",
      "Batch [27/229] Loss: 0.6981\n",
      "Batch [28/229] Loss: 0.6774\n"
     ]
    },
    {
     "name": "stderr",
     "output_type": "stream",
     "text": [
      "Epoch 7/10 | Loss: 0.6770:  13%|███▊                          | 29/229 [00:09<00:54,  3.68it/s]"
     ]
    },
    {
     "name": "stdout",
     "output_type": "stream",
     "text": [
      "Batch [29/229] Loss: 0.6770\n"
     ]
    },
    {
     "name": "stderr",
     "output_type": "stream",
     "text": [
      "Epoch 7/10 | Loss: 0.6854:  13%|███▉                          | 30/229 [00:11<01:15,  2.64it/s]"
     ]
    },
    {
     "name": "stdout",
     "output_type": "stream",
     "text": [
      "Batch [30/229] Loss: 0.6904\n",
      "Batch [31/229] Loss: 0.6904\n",
      "Batch [32/229] Loss: 0.6854\n"
     ]
    },
    {
     "name": "stderr",
     "output_type": "stream",
     "text": [
      "Epoch 7/10 | Loss: 0.6774:  14%|████▎                         | 33/229 [00:11<00:52,  3.73it/s]"
     ]
    },
    {
     "name": "stdout",
     "output_type": "stream",
     "text": [
      "Batch [33/229] Loss: 0.6774\n"
     ]
    },
    {
     "name": "stderr",
     "output_type": "stream",
     "text": [
      "Epoch 7/10 | Loss: 0.6775:  15%|████▍                         | 34/229 [00:12<01:13,  2.64it/s]"
     ]
    },
    {
     "name": "stdout",
     "output_type": "stream",
     "text": [
      "Batch [34/229] Loss: 0.6775\n",
      "Batch [35/229] Loss: 0.6826\n",
      "Batch [36/229] Loss: 0.6775\n"
     ]
    },
    {
     "name": "stderr",
     "output_type": "stream",
     "text": [
      "Epoch 7/10 | Loss: 0.6696:  16%|████▊                         | 37/229 [00:12<00:51,  3.73it/s]"
     ]
    },
    {
     "name": "stdout",
     "output_type": "stream",
     "text": [
      "Batch [37/229] Loss: 0.6696\n"
     ]
    },
    {
     "name": "stderr",
     "output_type": "stream",
     "text": [
      "Epoch 7/10 | Loss: 0.6653:  18%|█████▎                        | 41/229 [00:13<00:45,  4.10it/s]"
     ]
    },
    {
     "name": "stdout",
     "output_type": "stream",
     "text": [
      "Batch [38/229] Loss: 0.6853\n",
      "Batch [39/229] Loss: 0.6778\n",
      "Batch [40/229] Loss: 0.6855\n",
      "Batch [41/229] Loss: 0.6653\n"
     ]
    },
    {
     "name": "stderr",
     "output_type": "stream",
     "text": [
      "Epoch 7/10 | Loss: 0.7061:  18%|█████▌                        | 42/229 [00:14<01:09,  2.71it/s]"
     ]
    },
    {
     "name": "stdout",
     "output_type": "stream",
     "text": [
      "Batch [42/229] Loss: 0.6696\n",
      "Batch [43/229] Loss: 0.6982\n",
      "Batch [44/229] Loss: 0.7061\n"
     ]
    },
    {
     "name": "stderr",
     "output_type": "stream",
     "text": [
      "Epoch 7/10 | Loss: 0.6856:  20%|█████▉                        | 45/229 [00:14<00:44,  4.09it/s]"
     ]
    },
    {
     "name": "stdout",
     "output_type": "stream",
     "text": [
      "Batch [45/229] Loss: 0.6856\n"
     ]
    },
    {
     "name": "stderr",
     "output_type": "stream",
     "text": [
      "Epoch 7/10 | Loss: 0.6913:  21%|██████▍                       | 49/229 [00:16<00:44,  4.04it/s]"
     ]
    },
    {
     "name": "stdout",
     "output_type": "stream",
     "text": [
      "Batch [46/229] Loss: 0.6696\n",
      "Batch [47/229] Loss: 0.6853\n",
      "Batch [48/229] Loss: 0.6697\n",
      "Batch [49/229] Loss: 0.6913\n"
     ]
    },
    {
     "name": "stderr",
     "output_type": "stream",
     "text": [
      "Epoch 7/10 | Loss: 0.6776:  23%|██████▉                       | 53/229 [00:17<00:49,  3.58it/s]"
     ]
    },
    {
     "name": "stdout",
     "output_type": "stream",
     "text": [
      "Batch [50/229] Loss: 0.6985\n",
      "Batch [51/229] Loss: 0.6774\n",
      "Batch [52/229] Loss: 0.6999\n",
      "Batch [53/229] Loss: 0.6776\n"
     ]
    },
    {
     "name": "stderr",
     "output_type": "stream",
     "text": [
      "Epoch 7/10 | Loss: 0.6903:  24%|███████▏                      | 55/229 [00:19<01:06,  2.60it/s]"
     ]
    },
    {
     "name": "stdout",
     "output_type": "stream",
     "text": [
      "Batch [54/229] Loss: 0.6854\n",
      "Batch [55/229] Loss: 0.6699\n",
      "Batch [56/229] Loss: 0.6775\n",
      "Batch [57/229] Loss: 0.6903\n"
     ]
    },
    {
     "name": "stderr",
     "output_type": "stream",
     "text": [
      "Epoch 7/10 | Loss: 0.6824:  27%|███████▉                      | 61/229 [00:20<00:44,  3.79it/s]"
     ]
    },
    {
     "name": "stdout",
     "output_type": "stream",
     "text": [
      "Batch [58/229] Loss: 0.6775\n",
      "Batch [59/229] Loss: 0.6891\n",
      "Batch [60/229] Loss: 0.6933\n",
      "Batch [61/229] Loss: 0.6824\n"
     ]
    },
    {
     "name": "stderr",
     "output_type": "stream",
     "text": [
      "Epoch 7/10 | Loss: 0.6906:  28%|████████▎                     | 63/229 [00:21<00:53,  3.11it/s]"
     ]
    },
    {
     "name": "stdout",
     "output_type": "stream",
     "text": [
      "Batch [62/229] Loss: 0.6773\n",
      "Batch [63/229] Loss: 0.6904\n",
      "Batch [64/229] Loss: 0.6854\n",
      "Batch [65/229] Loss: 0.6906\n"
     ]
    },
    {
     "name": "stderr",
     "output_type": "stream",
     "text": [
      "Epoch 7/10 | Loss: 0.6698:  30%|█████████                     | 69/229 [00:22<00:41,  3.90it/s]"
     ]
    },
    {
     "name": "stdout",
     "output_type": "stream",
     "text": [
      "Batch [66/229] Loss: 0.6854\n",
      "Batch [67/229] Loss: 0.6697\n",
      "Batch [68/229] Loss: 0.6984\n",
      "Batch [69/229] Loss: 0.6698\n"
     ]
    },
    {
     "name": "stderr",
     "output_type": "stream",
     "text": [
      "Epoch 7/10 | Loss: 0.6782:  31%|█████████▎                    | 71/229 [00:23<00:54,  2.90it/s]"
     ]
    },
    {
     "name": "stdout",
     "output_type": "stream",
     "text": [
      "Batch [70/229] Loss: 0.6776\n",
      "Batch [71/229] Loss: 0.7061\n",
      "Batch [72/229] Loss: 0.6984\n",
      "Batch [73/229] Loss: 0.6782\n"
     ]
    },
    {
     "name": "stderr",
     "output_type": "stream",
     "text": [
      "Epoch 7/10 | Loss: 0.6617:  34%|██████████                    | 77/229 [00:25<00:37,  4.04it/s]"
     ]
    },
    {
     "name": "stdout",
     "output_type": "stream",
     "text": [
      "Batch [74/229] Loss: 0.6822\n",
      "Batch [75/229] Loss: 0.6695\n",
      "Batch [76/229] Loss: 0.6538\n",
      "Batch [77/229] Loss: 0.6617\n"
     ]
    },
    {
     "name": "stderr",
     "output_type": "stream",
     "text": [
      "Epoch 7/10 | Loss: 0.6698:  34%|██████████▎                   | 79/229 [00:26<00:48,  3.12it/s]"
     ]
    },
    {
     "name": "stdout",
     "output_type": "stream",
     "text": [
      "Batch [78/229] Loss: 0.6981\n",
      "Batch [79/229] Loss: 0.7061\n",
      "Batch [80/229] Loss: 0.6617\n",
      "Batch [81/229] Loss: 0.6698\n"
     ]
    },
    {
     "name": "stderr",
     "output_type": "stream",
     "text": [
      "Epoch 7/10 | Loss: 0.6722:  37%|███████████▏                  | 85/229 [00:27<00:35,  4.01it/s]"
     ]
    },
    {
     "name": "stdout",
     "output_type": "stream",
     "text": [
      "Batch [82/229] Loss: 0.6618\n",
      "Batch [83/229] Loss: 0.6696\n",
      "Batch [84/229] Loss: 0.6696\n",
      "Batch [85/229] Loss: 0.6722\n"
     ]
    },
    {
     "name": "stderr",
     "output_type": "stream",
     "text": [
      "Epoch 7/10 | Loss: 0.6854:  38%|███████████▍                  | 87/229 [00:28<00:45,  3.13it/s]"
     ]
    },
    {
     "name": "stdout",
     "output_type": "stream",
     "text": [
      "Batch [86/229] Loss: 0.6905\n",
      "Batch [87/229] Loss: 0.6696\n",
      "Batch [88/229] Loss: 0.6777\n",
      "Batch [89/229] Loss: 0.6854\n"
     ]
    },
    {
     "name": "stderr",
     "output_type": "stream",
     "text": [
      "Epoch 7/10 | Loss: 0.6696:  41%|████████████▏                 | 93/229 [00:30<00:36,  3.73it/s]"
     ]
    },
    {
     "name": "stdout",
     "output_type": "stream",
     "text": [
      "Batch [90/229] Loss: 0.6853\n",
      "Batch [91/229] Loss: 0.6696\n",
      "Batch [92/229] Loss: 0.6854\n",
      "Batch [93/229] Loss: 0.6696\n"
     ]
    },
    {
     "name": "stderr",
     "output_type": "stream",
     "text": [
      "Epoch 7/10 | Loss: 0.6697:  41%|████████████▍                 | 95/229 [00:31<00:45,  2.94it/s]"
     ]
    },
    {
     "name": "stdout",
     "output_type": "stream",
     "text": [
      "Batch [94/229] Loss: 0.6774\n",
      "Batch [95/229] Loss: 0.6854\n",
      "Batch [96/229] Loss: 0.6618\n",
      "Batch [97/229] Loss: 0.6697\n"
     ]
    },
    {
     "name": "stderr",
     "output_type": "stream",
     "text": [
      "Epoch 7/10 | Loss: 0.6855:  44%|█████████████▏                | 101/229 [00:32<00:32,  3.95it/s]"
     ]
    },
    {
     "name": "stdout",
     "output_type": "stream",
     "text": [
      "Batch [98/229] Loss: 0.6933\n",
      "Batch [99/229] Loss: 0.6774\n",
      "Batch [100/229] Loss: 0.6854\n",
      "Batch [101/229] Loss: 0.6855\n"
     ]
    },
    {
     "name": "stderr",
     "output_type": "stream",
     "text": [
      "Epoch 7/10 | Loss: 0.6750:  46%|█████████████▊                | 105/229 [00:33<00:33,  3.73it/s]"
     ]
    },
    {
     "name": "stdout",
     "output_type": "stream",
     "text": [
      "Batch [102/229] Loss: 0.6853\n",
      "Batch [103/229] Loss: 0.6618\n",
      "Batch [104/229] Loss: 0.6854\n",
      "Batch [105/229] Loss: 0.6750\n"
     ]
    },
    {
     "name": "stderr",
     "output_type": "stream",
     "text": [
      "Epoch 7/10 | Loss: 0.6905:  46%|█████████████▉                | 106/229 [00:34<00:45,  2.68it/s]"
     ]
    },
    {
     "name": "stdout",
     "output_type": "stream",
     "text": [
      "Batch [106/229] Loss: 0.6904\n",
      "Batch [107/229] Loss: 0.6905\n"
     ]
    },
    {
     "name": "stderr",
     "output_type": "stream",
     "text": [
      "Epoch 7/10 | Loss: 0.6775:  47%|██████████████▏               | 108/229 [00:35<00:36,  3.31it/s]"
     ]
    },
    {
     "name": "stdout",
     "output_type": "stream",
     "text": [
      "Batch [108/229] Loss: 0.6776\n",
      "Batch [109/229] Loss: 0.6775\n"
     ]
    },
    {
     "name": "stderr",
     "output_type": "stream",
     "text": [
      "Epoch 7/10 | Loss: 0.6617:  48%|██████████████▍               | 110/229 [00:36<00:39,  3.00it/s]"
     ]
    },
    {
     "name": "stdout",
     "output_type": "stream",
     "text": [
      "Batch [110/229] Loss: 0.6905\n",
      "Batch [111/229] Loss: 0.6617\n"
     ]
    },
    {
     "name": "stderr",
     "output_type": "stream",
     "text": [
      "Epoch 7/10 | Loss: 0.6904:  49%|██████████████▋               | 112/229 [00:36<00:37,  3.12it/s]"
     ]
    },
    {
     "name": "stdout",
     "output_type": "stream",
     "text": [
      "Batch [112/229] Loss: 0.6671\n",
      "Batch [113/229] Loss: 0.6904\n"
     ]
    },
    {
     "name": "stderr",
     "output_type": "stream",
     "text": [
      "Epoch 7/10 | Loss: 0.6853:  50%|██████████████▉               | 114/229 [00:37<00:40,  2.82it/s]"
     ]
    },
    {
     "name": "stdout",
     "output_type": "stream",
     "text": [
      "Batch [114/229] Loss: 0.6985\n",
      "Batch [115/229] Loss: 0.6853\n"
     ]
    },
    {
     "name": "stderr",
     "output_type": "stream",
     "text": [
      "Epoch 7/10 | Loss: 0.6933:  51%|███████████████▏              | 116/229 [00:37<00:34,  3.27it/s]"
     ]
    },
    {
     "name": "stdout",
     "output_type": "stream",
     "text": [
      "Batch [116/229] Loss: 0.6903\n",
      "Batch [117/229] Loss: 0.6933\n"
     ]
    },
    {
     "name": "stderr",
     "output_type": "stream",
     "text": [
      "Epoch 7/10 | Loss: 0.6697:  52%|███████████████▍              | 118/229 [00:38<00:37,  2.95it/s]"
     ]
    },
    {
     "name": "stdout",
     "output_type": "stream",
     "text": [
      "Batch [118/229] Loss: 0.6697\n"
     ]
    },
    {
     "name": "stderr",
     "output_type": "stream",
     "text": [
      "Epoch 7/10 | Loss: 0.6775:  52%|███████████████▌              | 119/229 [00:38<00:34,  3.16it/s]"
     ]
    },
    {
     "name": "stdout",
     "output_type": "stream",
     "text": [
      "Batch [119/229] Loss: 0.6775\n"
     ]
    },
    {
     "name": "stderr",
     "output_type": "stream",
     "text": [
      "Epoch 7/10 | Loss: 0.6854:  52%|███████████████▋              | 120/229 [00:39<00:33,  3.27it/s]"
     ]
    },
    {
     "name": "stdout",
     "output_type": "stream",
     "text": [
      "Batch [120/229] Loss: 0.6538\n",
      "Batch [121/229] Loss: 0.6854\n"
     ]
    },
    {
     "name": "stderr",
     "output_type": "stream",
     "text": [
      "Epoch 7/10 | Loss: 0.6777:  54%|████████████████              | 123/229 [00:40<00:31,  3.37it/s]"
     ]
    },
    {
     "name": "stdout",
     "output_type": "stream",
     "text": [
      "Batch [122/229] Loss: 0.6696\n",
      "Batch [123/229] Loss: 0.6777\n"
     ]
    },
    {
     "name": "stderr",
     "output_type": "stream",
     "text": [
      "Epoch 7/10 | Loss: 0.6697:  54%|████████████████▏             | 124/229 [00:40<00:30,  3.39it/s]"
     ]
    },
    {
     "name": "stdout",
     "output_type": "stream",
     "text": [
      "Batch [124/229] Loss: 0.6776\n",
      "Batch [125/229] Loss: 0.6697\n"
     ]
    },
    {
     "name": "stderr",
     "output_type": "stream",
     "text": [
      "Epoch 7/10 | Loss: 0.6825:  55%|████████████████▋             | 127/229 [00:41<00:29,  3.41it/s]"
     ]
    },
    {
     "name": "stdout",
     "output_type": "stream",
     "text": [
      "Batch [126/229] Loss: 0.6776\n",
      "Batch [127/229] Loss: 0.6825\n"
     ]
    },
    {
     "name": "stderr",
     "output_type": "stream",
     "text": [
      "Epoch 7/10 | Loss: 0.6982:  56%|████████████████▊             | 128/229 [00:41<00:32,  3.15it/s]"
     ]
    },
    {
     "name": "stdout",
     "output_type": "stream",
     "text": [
      "Batch [128/229] Loss: 0.6852\n",
      "Batch [129/229] Loss: 0.6982\n"
     ]
    },
    {
     "name": "stderr",
     "output_type": "stream",
     "text": [
      "Epoch 7/10 | Loss: 0.6668:  57%|█████████████████             | 130/229 [00:42<00:36,  2.74it/s]"
     ]
    },
    {
     "name": "stdout",
     "output_type": "stream",
     "text": [
      "Batch [130/229] Loss: 0.6853\n",
      "Batch [131/229] Loss: 0.6668\n"
     ]
    },
    {
     "name": "stderr",
     "output_type": "stream",
     "text": [
      "Epoch 7/10 | Loss: 0.6462:  58%|█████████████████▎            | 132/229 [00:42<00:29,  3.30it/s]"
     ]
    },
    {
     "name": "stdout",
     "output_type": "stream",
     "text": [
      "Batch [132/229] Loss: 0.6697\n",
      "Batch [133/229] Loss: 0.6462\n"
     ]
    },
    {
     "name": "stderr",
     "output_type": "stream",
     "text": [
      "Epoch 7/10 | Loss: 0.6853:  59%|█████████████████▌            | 134/229 [00:43<00:31,  2.98it/s]"
     ]
    },
    {
     "name": "stdout",
     "output_type": "stream",
     "text": [
      "Batch [134/229] Loss: 0.6902\n",
      "Batch [135/229] Loss: 0.6853\n"
     ]
    },
    {
     "name": "stderr",
     "output_type": "stream",
     "text": [
      "Epoch 7/10 | Loss: 0.6856:  59%|█████████████████▊            | 136/229 [00:44<00:27,  3.37it/s]"
     ]
    },
    {
     "name": "stdout",
     "output_type": "stream",
     "text": [
      "Batch [136/229] Loss: 0.6952\n",
      "Batch [137/229] Loss: 0.6856\n"
     ]
    },
    {
     "name": "stderr",
     "output_type": "stream",
     "text": [
      "Epoch 7/10 | Loss: 0.6969:  60%|██████████████████            | 138/229 [00:44<00:28,  3.21it/s]"
     ]
    },
    {
     "name": "stdout",
     "output_type": "stream",
     "text": [
      "Batch [138/229] Loss: 0.6616\n",
      "Batch [139/229] Loss: 0.6969\n"
     ]
    },
    {
     "name": "stderr",
     "output_type": "stream",
     "text": [
      "Epoch 7/10 | Loss: 0.6696:  61%|██████████████████▎           | 140/229 [00:45<00:27,  3.22it/s]"
     ]
    },
    {
     "name": "stdout",
     "output_type": "stream",
     "text": [
      "Batch [140/229] Loss: 0.7063\n",
      "Batch [141/229] Loss: 0.6696\n"
     ]
    },
    {
     "name": "stderr",
     "output_type": "stream",
     "text": [
      "Epoch 7/10 | Loss: 0.6903:  62%|██████████████████▌           | 142/229 [00:46<00:27,  3.20it/s]"
     ]
    },
    {
     "name": "stdout",
     "output_type": "stream",
     "text": [
      "Batch [142/229] Loss: 0.6615\n",
      "Batch [143/229] Loss: 0.6903\n"
     ]
    },
    {
     "name": "stderr",
     "output_type": "stream",
     "text": [
      "Epoch 7/10 | Loss: 0.6696:  63%|██████████████████▊           | 144/229 [00:46<00:25,  3.40it/s]"
     ]
    },
    {
     "name": "stdout",
     "output_type": "stream",
     "text": [
      "Batch [144/229] Loss: 0.6697\n",
      "Batch [145/229] Loss: 0.6696\n"
     ]
    },
    {
     "name": "stderr",
     "output_type": "stream",
     "text": [
      "Epoch 7/10 | Loss: 0.6774:  64%|███████████████████▎          | 147/229 [00:47<00:25,  3.26it/s]"
     ]
    },
    {
     "name": "stdout",
     "output_type": "stream",
     "text": [
      "Batch [146/229] Loss: 0.6854\n",
      "Batch [147/229] Loss: 0.6774\n"
     ]
    },
    {
     "name": "stderr",
     "output_type": "stream",
     "text": [
      "Epoch 7/10 | Loss: 0.6982:  65%|███████████████████▍          | 148/229 [00:47<00:22,  3.63it/s]"
     ]
    },
    {
     "name": "stdout",
     "output_type": "stream",
     "text": [
      "Batch [148/229] Loss: 0.6617\n",
      "Batch [149/229] Loss: 0.6982\n"
     ]
    },
    {
     "name": "stderr",
     "output_type": "stream",
     "text": [
      "Epoch 7/10 | Loss: 0.6697:  67%|████████████████████          | 153/229 [00:49<00:18,  4.22it/s]"
     ]
    },
    {
     "name": "stdout",
     "output_type": "stream",
     "text": [
      "Batch [150/229] Loss: 0.6933\n",
      "Batch [151/229] Loss: 0.6775\n",
      "Batch [152/229] Loss: 0.7061\n",
      "Batch [153/229] Loss: 0.6697\n"
     ]
    },
    {
     "name": "stderr",
     "output_type": "stream",
     "text": [
      "Epoch 7/10 | Loss: 0.6774:  69%|████████████████████▌         | 157/229 [00:50<00:17,  4.09it/s]"
     ]
    },
    {
     "name": "stdout",
     "output_type": "stream",
     "text": [
      "Batch [154/229] Loss: 0.6932\n",
      "Batch [155/229] Loss: 0.6904\n",
      "Batch [156/229] Loss: 0.6855\n",
      "Batch [157/229] Loss: 0.6774\n"
     ]
    },
    {
     "name": "stderr",
     "output_type": "stream",
     "text": [
      "Epoch 7/10 | Loss: 0.6776:  69%|████████████████████▊         | 159/229 [00:51<00:25,  2.80it/s]"
     ]
    },
    {
     "name": "stdout",
     "output_type": "stream",
     "text": [
      "Batch [158/229] Loss: 0.6825\n",
      "Batch [159/229] Loss: 0.6982\n",
      "Batch [160/229] Loss: 0.7141\n",
      "Batch [161/229] Loss: 0.6776\n"
     ]
    },
    {
     "name": "stderr",
     "output_type": "stream",
     "text": [
      "Epoch 7/10 | Loss: 0.6776:  72%|█████████████████████▌        | 165/229 [00:53<00:17,  3.72it/s]"
     ]
    },
    {
     "name": "stdout",
     "output_type": "stream",
     "text": [
      "Batch [162/229] Loss: 0.6854\n",
      "Batch [163/229] Loss: 0.6697\n",
      "Batch [164/229] Loss: 0.6696\n",
      "Batch [165/229] Loss: 0.6776\n"
     ]
    },
    {
     "name": "stderr",
     "output_type": "stream",
     "text": [
      "Epoch 7/10 | Loss: 0.6933:  73%|█████████████████████▉        | 167/229 [00:54<00:22,  2.80it/s]"
     ]
    },
    {
     "name": "stdout",
     "output_type": "stream",
     "text": [
      "Batch [166/229] Loss: 0.6774\n",
      "Batch [167/229] Loss: 0.6697\n",
      "Batch [168/229] Loss: 0.6779\n",
      "Batch [169/229] Loss: 0.6933\n"
     ]
    },
    {
     "name": "stderr",
     "output_type": "stream",
     "text": [
      "Epoch 7/10 | Loss: 0.6854:  76%|██████████████████████▋       | 173/229 [00:55<00:15,  3.61it/s]"
     ]
    },
    {
     "name": "stdout",
     "output_type": "stream",
     "text": [
      "Batch [170/229] Loss: 0.6853\n",
      "Batch [171/229] Loss: 0.6764\n",
      "Batch [172/229] Loss: 0.6829\n",
      "Batch [173/229] Loss: 0.6854\n"
     ]
    },
    {
     "name": "stderr",
     "output_type": "stream",
     "text": [
      "Epoch 7/10 | Loss: 0.6619:  76%|██████████████████████▉       | 175/229 [00:56<00:18,  2.99it/s]"
     ]
    },
    {
     "name": "stdout",
     "output_type": "stream",
     "text": [
      "Batch [174/229] Loss: 0.6854\n",
      "Batch [175/229] Loss: 0.6932\n",
      "Batch [176/229] Loss: 0.6701\n",
      "Batch [177/229] Loss: 0.6619\n"
     ]
    },
    {
     "name": "stderr",
     "output_type": "stream",
     "text": [
      "Epoch 7/10 | Loss: 0.6933:  79%|███████████████████████▋      | 181/229 [00:58<00:12,  3.94it/s]"
     ]
    },
    {
     "name": "stdout",
     "output_type": "stream",
     "text": [
      "Batch [178/229] Loss: 0.6641\n",
      "Batch [179/229] Loss: 0.6620\n",
      "Batch [180/229] Loss: 0.6539\n",
      "Batch [181/229] Loss: 0.6933\n"
     ]
    },
    {
     "name": "stderr",
     "output_type": "stream",
     "text": [
      "Epoch 7/10 | Loss: 0.6932:  80%|███████████████████████▉      | 183/229 [00:59<00:14,  3.10it/s]"
     ]
    },
    {
     "name": "stdout",
     "output_type": "stream",
     "text": [
      "Batch [182/229] Loss: 0.6825\n",
      "Batch [183/229] Loss: 0.6873\n",
      "Batch [184/229] Loss: 0.6825\n",
      "Batch [185/229] Loss: 0.6932\n"
     ]
    },
    {
     "name": "stderr",
     "output_type": "stream",
     "text": [
      "Epoch 7/10 | Loss: 0.6744:  83%|████████████████████████▊     | 189/229 [01:00<00:10,  3.91it/s]"
     ]
    },
    {
     "name": "stdout",
     "output_type": "stream",
     "text": [
      "Batch [186/229] Loss: 0.6696\n",
      "Batch [187/229] Loss: 0.6618\n",
      "Batch [188/229] Loss: 0.7061\n",
      "Batch [189/229] Loss: 0.6744\n"
     ]
    },
    {
     "name": "stderr",
     "output_type": "stream",
     "text": [
      "Epoch 7/10 | Loss: 0.6855:  83%|█████████████████████████     | 191/229 [01:01<00:12,  3.04it/s]"
     ]
    },
    {
     "name": "stdout",
     "output_type": "stream",
     "text": [
      "Batch [190/229] Loss: 0.6776\n",
      "Batch [191/229] Loss: 0.6696\n",
      "Batch [192/229] Loss: 0.6764\n",
      "Batch [193/229] Loss: 0.6855\n"
     ]
    },
    {
     "name": "stderr",
     "output_type": "stream",
     "text": [
      "Epoch 7/10 | Loss: 0.6825:  86%|█████████████████████████▊    | 197/229 [01:03<00:08,  3.95it/s]"
     ]
    },
    {
     "name": "stdout",
     "output_type": "stream",
     "text": [
      "Batch [194/229] Loss: 0.6984\n",
      "Batch [195/229] Loss: 0.6540\n",
      "Batch [196/229] Loss: 0.6776\n",
      "Batch [197/229] Loss: 0.6825\n"
     ]
    },
    {
     "name": "stderr",
     "output_type": "stream",
     "text": [
      "Epoch 7/10 | Loss: 0.7240:  87%|██████████████████████████    | 199/229 [01:04<00:10,  2.98it/s]"
     ]
    },
    {
     "name": "stdout",
     "output_type": "stream",
     "text": [
      "Batch [198/229] Loss: 0.7032\n",
      "Batch [199/229] Loss: 0.7244\n",
      "Batch [200/229] Loss: 0.7034\n",
      "Batch [201/229] Loss: 0.7240\n"
     ]
    },
    {
     "name": "stderr",
     "output_type": "stream",
     "text": [
      "Epoch 7/10 | Loss: 0.6952:  90%|██████████████████████████▊   | 205/229 [01:05<00:06,  3.67it/s]"
     ]
    },
    {
     "name": "stdout",
     "output_type": "stream",
     "text": [
      "Batch [202/229] Loss: 0.6955\n",
      "Batch [203/229] Loss: 0.7138\n",
      "Batch [204/229] Loss: 0.6959\n",
      "Batch [205/229] Loss: 0.6952\n"
     ]
    },
    {
     "name": "stderr",
     "output_type": "stream",
     "text": [
      "Epoch 7/10 | Loss: 0.6814:  90%|███████████████████████████   | 207/229 [01:07<00:07,  2.93it/s]"
     ]
    },
    {
     "name": "stdout",
     "output_type": "stream",
     "text": [
      "Batch [206/229] Loss: 0.6824\n",
      "Batch [207/229] Loss: 0.6825\n",
      "Batch [208/229] Loss: 0.7040\n",
      "Batch [209/229] Loss: 0.6814\n"
     ]
    },
    {
     "name": "stderr",
     "output_type": "stream",
     "text": [
      "Epoch 7/10 | Loss: 0.6616:  93%|███████████████████████████▉  | 213/229 [01:08<00:04,  3.99it/s]"
     ]
    },
    {
     "name": "stdout",
     "output_type": "stream",
     "text": [
      "Batch [210/229] Loss: 0.7061\n",
      "Batch [211/229] Loss: 0.6618\n",
      "Batch [212/229] Loss: 0.6858\n",
      "Batch [213/229] Loss: 0.6616\n"
     ]
    },
    {
     "name": "stderr",
     "output_type": "stream",
     "text": [
      "Epoch 7/10 | Loss: 0.6697:  94%|████████████████████████████▏ | 215/229 [01:09<00:04,  3.06it/s]"
     ]
    },
    {
     "name": "stdout",
     "output_type": "stream",
     "text": [
      "Batch [214/229] Loss: 0.6855\n",
      "Batch [215/229] Loss: 0.6982\n",
      "Batch [216/229] Loss: 0.6776\n",
      "Batch [217/229] Loss: 0.6697\n"
     ]
    },
    {
     "name": "stderr",
     "output_type": "stream",
     "text": [
      "Epoch 7/10 | Loss: 0.6911:  97%|████████████████████████████▉ | 221/229 [01:10<00:02,  3.81it/s]"
     ]
    },
    {
     "name": "stdout",
     "output_type": "stream",
     "text": [
      "Batch [218/229] Loss: 0.6854\n",
      "Batch [219/229] Loss: 0.6696\n",
      "Batch [220/229] Loss: 0.6775\n",
      "Batch [221/229] Loss: 0.6911\n"
     ]
    },
    {
     "name": "stderr",
     "output_type": "stream",
     "text": [
      "Epoch 7/10 | Loss: 0.6967:  97%|█████████████████████████████▏| 223/229 [01:12<00:02,  2.86it/s]"
     ]
    },
    {
     "name": "stdout",
     "output_type": "stream",
     "text": [
      "Batch [222/229] Loss: 0.6981\n",
      "Batch [223/229] Loss: 0.6620\n",
      "Batch [224/229] Loss: 0.6775\n",
      "Batch [225/229] Loss: 0.6967\n"
     ]
    },
    {
     "name": "stderr",
     "output_type": "stream",
     "text": [
      "Epoch 7/10 | Loss: 0.6921: 100%|██████████████████████████████| 229/229 [01:13<00:00,  3.12it/s]\n"
     ]
    },
    {
     "name": "stdout",
     "output_type": "stream",
     "text": [
      "Batch [226/229] Loss: 0.6982\n",
      "Batch [227/229] Loss: 0.6904\n",
      "Batch [228/229] Loss: 0.6904\n",
      "Batch [229/229] Loss: 0.6921\n",
      "\n",
      "Epoch 7 Summary:\n",
      "Average Loss: 0.6820\n",
      "\n",
      "Epoch 8/10\n",
      "==================================================\n"
     ]
    },
    {
     "name": "stderr",
     "output_type": "stream",
     "text": [
      "Epoch 8/10 | Loss: 0.6951:   0%|▏                             | 1/229 [00:01<04:34,  1.21s/it]"
     ]
    },
    {
     "name": "stdout",
     "output_type": "stream",
     "text": [
      "Batch [1/229] Loss: 0.6951\n"
     ]
    },
    {
     "name": "stderr",
     "output_type": "stream",
     "text": [
      "Epoch 8/10 | Loss: 0.6854:   1%|▎                             | 2/229 [00:01<02:28,  1.52it/s]"
     ]
    },
    {
     "name": "stdout",
     "output_type": "stream",
     "text": [
      "Batch [2/229] Loss: 0.6697\n",
      "Batch [3/229] Loss: 0.6854\n",
      "Batch [4/229] Loss: 0.6854\n"
     ]
    },
    {
     "name": "stderr",
     "output_type": "stream",
     "text": [
      "Epoch 8/10 | Loss: 0.6698:   3%|▊                             | 6/229 [00:02<01:17,  2.89it/s]"
     ]
    },
    {
     "name": "stdout",
     "output_type": "stream",
     "text": [
      "Batch [5/229] Loss: 0.6856\n",
      "Batch [6/229] Loss: 0.6855\n",
      "Batch [7/229] Loss: 0.6698\n"
     ]
    },
    {
     "name": "stderr",
     "output_type": "stream",
     "text": [
      "Epoch 8/10 | Loss: 0.6852:   3%|█                             | 8/229 [00:02<00:57,  3.88it/s]"
     ]
    },
    {
     "name": "stdout",
     "output_type": "stream",
     "text": [
      "Batch [8/229] Loss: 0.6852\n"
     ]
    },
    {
     "name": "stderr",
     "output_type": "stream",
     "text": [
      "Epoch 8/10 | Loss: 0.6979:   5%|█▍                            | 11/229 [00:04<01:04,  3.38it/s]"
     ]
    },
    {
     "name": "stdout",
     "output_type": "stream",
     "text": [
      "Batch [9/229] Loss: 0.6862\n",
      "Batch [10/229] Loss: 0.6702\n",
      "Batch [11/229] Loss: 0.6979\n"
     ]
    },
    {
     "name": "stderr",
     "output_type": "stream",
     "text": [
      "Epoch 8/10 | Loss: 0.6932:   5%|█▌                            | 12/229 [00:04<00:56,  3.84it/s]"
     ]
    },
    {
     "name": "stdout",
     "output_type": "stream",
     "text": [
      "Batch [12/229] Loss: 0.6932\n"
     ]
    },
    {
     "name": "stderr",
     "output_type": "stream",
     "text": [
      "Epoch 8/10 | Loss: 0.6777:   6%|█▊                            | 14/229 [00:05<01:17,  2.77it/s]"
     ]
    },
    {
     "name": "stdout",
     "output_type": "stream",
     "text": [
      "Batch [13/229] Loss: 0.6854\n",
      "Batch [14/229] Loss: 0.6777\n"
     ]
    },
    {
     "name": "stderr",
     "output_type": "stream",
     "text": [
      "Epoch 8/10 | Loss: 0.6697:   6%|█▊                            | 14/229 [00:05<01:17,  2.77it/s]"
     ]
    },
    {
     "name": "stdout",
     "output_type": "stream",
     "text": [
      "Batch [15/229] Loss: 0.6861\n",
      "Batch [16/229] Loss: 0.6697\n"
     ]
    },
    {
     "name": "stderr",
     "output_type": "stream",
     "text": [
      "Epoch 8/10 | Loss: 0.6853:   8%|██▎                           | 18/229 [00:06<01:09,  3.04it/s]"
     ]
    },
    {
     "name": "stdout",
     "output_type": "stream",
     "text": [
      "Batch [17/229] Loss: 0.6776\n",
      "Batch [18/229] Loss: 0.6774\n",
      "Batch [19/229] Loss: 0.6853\n"
     ]
    },
    {
     "name": "stderr",
     "output_type": "stream",
     "text": [
      "\r",
      "Epoch 8/10 | Loss: 0.7062:   8%|██▎                           | 18/229 [00:06<01:09,  3.04it/s]"
     ]
    },
    {
     "name": "stdout",
     "output_type": "stream",
     "text": [
      "Batch [20/229] Loss: 0.7062\n"
     ]
    },
    {
     "name": "stderr",
     "output_type": "stream",
     "text": [
      "Epoch 8/10 | Loss: 0.6701:  10%|██▉                           | 22/229 [00:08<01:06,  3.12it/s]"
     ]
    },
    {
     "name": "stdout",
     "output_type": "stream",
     "text": [
      "Batch [21/229] Loss: 0.7062\n",
      "Batch [22/229] Loss: 0.7023\n",
      "Batch [23/229] Loss: 0.6701\n"
     ]
    },
    {
     "name": "stderr",
     "output_type": "stream",
     "text": [
      "\r",
      "Epoch 8/10 | Loss: 0.6775:  10%|██▉                           | 22/229 [00:08<01:06,  3.12it/s]"
     ]
    },
    {
     "name": "stdout",
     "output_type": "stream",
     "text": [
      "Batch [24/229] Loss: 0.6775\n"
     ]
    },
    {
     "name": "stderr",
     "output_type": "stream",
     "text": [
      "Epoch 8/10 | Loss: 0.6776:  11%|███▎                          | 25/229 [00:09<01:08,  2.99it/s]"
     ]
    },
    {
     "name": "stdout",
     "output_type": "stream",
     "text": [
      "Batch [25/229] Loss: 0.6853\n",
      "Batch [26/229] Loss: 0.6776\n"
     ]
    },
    {
     "name": "stderr",
     "output_type": "stream",
     "text": [
      "Epoch 8/10 | Loss: 0.6698:  12%|███▌                          | 27/229 [00:09<00:53,  3.74it/s]"
     ]
    },
    {
     "name": "stdout",
     "output_type": "stream",
     "text": [
      "Batch [27/229] Loss: 0.6697\n",
      "Batch [28/229] Loss: 0.6698\n"
     ]
    },
    {
     "name": "stderr",
     "output_type": "stream",
     "text": [
      "Epoch 8/10 | Loss: 0.6853:  13%|███▉                          | 30/229 [00:10<00:56,  3.53it/s]"
     ]
    },
    {
     "name": "stdout",
     "output_type": "stream",
     "text": [
      "Batch [29/229] Loss: 0.6922\n",
      "Batch [30/229] Loss: 0.6853\n"
     ]
    },
    {
     "name": "stderr",
     "output_type": "stream",
     "text": [
      "Epoch 8/10 | Loss: 0.6775:  14%|████                          | 31/229 [00:10<01:04,  3.05it/s]"
     ]
    },
    {
     "name": "stdout",
     "output_type": "stream",
     "text": [
      "Batch [31/229] Loss: 0.6933\n",
      "Batch [32/229] Loss: 0.6775\n"
     ]
    },
    {
     "name": "stderr",
     "output_type": "stream",
     "text": [
      "Epoch 8/10 | Loss: 0.6853:  14%|████▎                         | 33/229 [00:11<00:59,  3.31it/s]"
     ]
    },
    {
     "name": "stdout",
     "output_type": "stream",
     "text": [
      "Batch [33/229] Loss: 0.6853\n"
     ]
    },
    {
     "name": "stderr",
     "output_type": "stream",
     "text": [
      "Epoch 8/10 | Loss: 0.6853:  15%|████▍                         | 34/229 [00:11<00:55,  3.49it/s]"
     ]
    },
    {
     "name": "stdout",
     "output_type": "stream",
     "text": [
      "Batch [34/229] Loss: 0.6853\n"
     ]
    },
    {
     "name": "stderr",
     "output_type": "stream",
     "text": [
      "Epoch 8/10 | Loss: 0.6982:  15%|████▌                         | 35/229 [00:12<01:11,  2.71it/s]"
     ]
    },
    {
     "name": "stdout",
     "output_type": "stream",
     "text": [
      "Batch [35/229] Loss: 0.6854\n",
      "Batch [36/229] Loss: 0.6982\n"
     ]
    },
    {
     "name": "stderr",
     "output_type": "stream",
     "text": [
      "Epoch 8/10 | Loss: 0.6619:  17%|████▉                         | 38/229 [00:12<00:51,  3.73it/s]"
     ]
    },
    {
     "name": "stdout",
     "output_type": "stream",
     "text": [
      "Batch [37/229] Loss: 0.6983\n",
      "Batch [38/229] Loss: 0.6619\n"
     ]
    },
    {
     "name": "stderr",
     "output_type": "stream",
     "text": [
      "Epoch 8/10 | Loss: 0.6853:  17%|█████                         | 39/229 [00:13<01:13,  2.60it/s]"
     ]
    },
    {
     "name": "stdout",
     "output_type": "stream",
     "text": [
      "Batch [39/229] Loss: 0.6696\n",
      "Batch [40/229] Loss: 0.6853\n"
     ]
    },
    {
     "name": "stderr",
     "output_type": "stream",
     "text": [
      "Epoch 8/10 | Loss: 0.6981:  18%|█████▌                        | 42/229 [00:13<00:49,  3.79it/s]"
     ]
    },
    {
     "name": "stdout",
     "output_type": "stream",
     "text": [
      "Batch [41/229] Loss: 0.6775\n",
      "Batch [42/229] Loss: 0.6981\n"
     ]
    },
    {
     "name": "stderr",
     "output_type": "stream",
     "text": [
      "Epoch 8/10 | Loss: 0.6932:  19%|█████▋                        | 43/229 [00:14<01:17,  2.40it/s]"
     ]
    },
    {
     "name": "stdout",
     "output_type": "stream",
     "text": [
      "Batch [43/229] Loss: 0.6932\n",
      "Batch [44/229] Loss: 0.6932\n"
     ]
    },
    {
     "name": "stderr",
     "output_type": "stream",
     "text": [
      "Epoch 8/10 | Loss: 0.6853:  20%|██████                        | 46/229 [00:15<00:47,  3.87it/s]"
     ]
    },
    {
     "name": "stdout",
     "output_type": "stream",
     "text": [
      "Batch [45/229] Loss: 0.6775\n",
      "Batch [46/229] Loss: 0.6853\n"
     ]
    },
    {
     "name": "stderr",
     "output_type": "stream",
     "text": [
      "Epoch 8/10 | Loss: 0.6932:  21%|██████▏                       | 47/229 [00:15<01:09,  2.63it/s]"
     ]
    },
    {
     "name": "stdout",
     "output_type": "stream",
     "text": [
      "Batch [47/229] Loss: 0.6771\n",
      "Batch [48/229] Loss: 0.6932\n"
     ]
    },
    {
     "name": "stderr",
     "output_type": "stream",
     "text": [
      "Epoch 8/10 | Loss: 0.6853:  21%|██████▍                       | 49/229 [00:16<00:59,  3.02it/s]"
     ]
    },
    {
     "name": "stdout",
     "output_type": "stream",
     "text": [
      "Batch [49/229] Loss: 0.6617\n",
      "Batch [50/229] Loss: 0.6853\n"
     ]
    },
    {
     "name": "stderr",
     "output_type": "stream",
     "text": [
      "Epoch 8/10 | Loss: 0.7061:  22%|██████▋                       | 51/229 [00:17<01:09,  2.56it/s]"
     ]
    },
    {
     "name": "stdout",
     "output_type": "stream",
     "text": [
      "Batch [51/229] Loss: 0.6932\n",
      "Batch [52/229] Loss: 0.7061\n"
     ]
    },
    {
     "name": "stderr",
     "output_type": "stream",
     "text": [
      "Epoch 8/10 | Loss: 0.6902:  23%|██████▉                       | 53/229 [00:17<00:51,  3.41it/s]"
     ]
    },
    {
     "name": "stdout",
     "output_type": "stream",
     "text": [
      "Batch [53/229] Loss: 0.6902\n"
     ]
    },
    {
     "name": "stderr",
     "output_type": "stream",
     "text": [
      "Epoch 8/10 | Loss: 0.6775:  24%|███████                       | 54/229 [00:18<00:54,  3.23it/s]"
     ]
    },
    {
     "name": "stdout",
     "output_type": "stream",
     "text": [
      "Batch [54/229] Loss: 0.6775\n"
     ]
    },
    {
     "name": "stderr",
     "output_type": "stream",
     "text": [
      "Epoch 8/10 | Loss: 0.6932:  24%|███████▏                      | 55/229 [00:18<01:02,  2.76it/s]"
     ]
    },
    {
     "name": "stdout",
     "output_type": "stream",
     "text": [
      "Batch [55/229] Loss: 0.6932\n",
      "Batch [56/229] Loss: 0.6932\n"
     ]
    },
    {
     "name": "stderr",
     "output_type": "stream",
     "text": [
      "Epoch 8/10 | Loss: 0.6933:  25%|███████▍                      | 57/229 [00:19<00:53,  3.22it/s]"
     ]
    },
    {
     "name": "stdout",
     "output_type": "stream",
     "text": [
      "Batch [57/229] Loss: 0.6933\n"
     ]
    },
    {
     "name": "stderr",
     "output_type": "stream",
     "text": [
      "Epoch 8/10 | Loss: 0.6982:  25%|███████▌                      | 58/229 [00:19<00:50,  3.39it/s]"
     ]
    },
    {
     "name": "stdout",
     "output_type": "stream",
     "text": [
      "Batch [58/229] Loss: 0.6982\n"
     ]
    },
    {
     "name": "stderr",
     "output_type": "stream",
     "text": [
      "Epoch 8/10 | Loss: 0.6933:  26%|███████▋                      | 59/229 [00:19<01:00,  2.83it/s]"
     ]
    },
    {
     "name": "stdout",
     "output_type": "stream",
     "text": [
      "Batch [59/229] Loss: 0.6932\n",
      "Batch [60/229] Loss: 0.6933\n"
     ]
    },
    {
     "name": "stderr",
     "output_type": "stream",
     "text": [
      "Epoch 8/10 | Loss: 0.6825:  27%|████████                      | 62/229 [00:20<00:44,  3.75it/s]"
     ]
    },
    {
     "name": "stdout",
     "output_type": "stream",
     "text": [
      "Batch [61/229] Loss: 0.6853\n",
      "Batch [62/229] Loss: 0.6825\n"
     ]
    },
    {
     "name": "stderr",
     "output_type": "stream",
     "text": [
      "Epoch 8/10 | Loss: 0.6774:  28%|████████▎                     | 63/229 [00:21<00:59,  2.78it/s]"
     ]
    },
    {
     "name": "stdout",
     "output_type": "stream",
     "text": [
      "Batch [63/229] Loss: 0.6775\n",
      "Batch [64/229] Loss: 0.6774\n"
     ]
    },
    {
     "name": "stderr",
     "output_type": "stream",
     "text": [
      "Epoch 8/10 | Loss: 0.6854:  28%|████████▌                     | 65/229 [00:21<00:52,  3.15it/s]"
     ]
    },
    {
     "name": "stdout",
     "output_type": "stream",
     "text": [
      "Batch [65/229] Loss: 0.6854\n"
     ]
    },
    {
     "name": "stderr",
     "output_type": "stream",
     "text": [
      "Epoch 8/10 | Loss: 0.6775:  29%|████████▋                     | 66/229 [00:21<00:47,  3.42it/s]"
     ]
    },
    {
     "name": "stdout",
     "output_type": "stream",
     "text": [
      "Batch [66/229] Loss: 0.6775\n"
     ]
    },
    {
     "name": "stderr",
     "output_type": "stream",
     "text": [
      "Epoch 8/10 | Loss: 0.6853:  29%|████████▊                     | 67/229 [00:22<00:56,  2.84it/s]"
     ]
    },
    {
     "name": "stdout",
     "output_type": "stream",
     "text": [
      "Batch [67/229] Loss: 0.6854\n",
      "Batch [68/229] Loss: 0.6853\n"
     ]
    },
    {
     "name": "stderr",
     "output_type": "stream",
     "text": [
      "Epoch 8/10 | Loss: 0.6902:  30%|█████████                     | 69/229 [00:22<00:44,  3.58it/s]"
     ]
    },
    {
     "name": "stdout",
     "output_type": "stream",
     "text": [
      "Batch [69/229] Loss: 0.6902\n"
     ]
    },
    {
     "name": "stderr",
     "output_type": "stream",
     "text": [
      "Epoch 8/10 | Loss: 0.6778:  31%|█████████▏                    | 70/229 [00:23<00:48,  3.28it/s]"
     ]
    },
    {
     "name": "stdout",
     "output_type": "stream",
     "text": [
      "Batch [70/229] Loss: 0.6778\n"
     ]
    },
    {
     "name": "stderr",
     "output_type": "stream",
     "text": [
      "Epoch 8/10 | Loss: 0.6896:  31%|█████████▎                    | 71/229 [00:23<00:55,  2.85it/s]"
     ]
    },
    {
     "name": "stdout",
     "output_type": "stream",
     "text": [
      "Batch [71/229] Loss: 0.6854\n",
      "Batch [72/229] Loss: 0.6896\n"
     ]
    },
    {
     "name": "stderr",
     "output_type": "stream",
     "text": [
      "Epoch 8/10 | Loss: 0.7062:  32%|█████████▌                    | 73/229 [00:23<00:38,  4.01it/s]"
     ]
    },
    {
     "name": "stdout",
     "output_type": "stream",
     "text": [
      "Batch [73/229] Loss: 0.7062\n"
     ]
    },
    {
     "name": "stderr",
     "output_type": "stream",
     "text": [
      "Epoch 8/10 | Loss: 0.6902:  32%|█████████▋                    | 74/229 [00:24<00:51,  3.02it/s]"
     ]
    },
    {
     "name": "stdout",
     "output_type": "stream",
     "text": [
      "Batch [74/229] Loss: 0.6902\n"
     ]
    },
    {
     "name": "stderr",
     "output_type": "stream",
     "text": [
      "Epoch 8/10 | Loss: 0.6983:  33%|█████████▊                    | 75/229 [00:24<00:47,  3.24it/s]"
     ]
    },
    {
     "name": "stdout",
     "output_type": "stream",
     "text": [
      "Batch [75/229] Loss: 0.6774\n",
      "Batch [76/229] Loss: 0.6983\n"
     ]
    },
    {
     "name": "stderr",
     "output_type": "stream",
     "text": [
      "Epoch 8/10 | Loss: 0.6932:  34%|██████████                    | 77/229 [00:25<00:45,  3.31it/s]"
     ]
    },
    {
     "name": "stdout",
     "output_type": "stream",
     "text": [
      "Batch [77/229] Loss: 0.6932\n"
     ]
    },
    {
     "name": "stderr",
     "output_type": "stream",
     "text": [
      "Epoch 8/10 | Loss: 0.6854:  34%|██████████▎                   | 79/229 [00:25<00:43,  3.48it/s]"
     ]
    },
    {
     "name": "stdout",
     "output_type": "stream",
     "text": [
      "Batch [78/229] Loss: 0.6775\n",
      "Batch [79/229] Loss: 0.6776\n",
      "Batch [80/229] Loss: 0.6854\n"
     ]
    },
    {
     "name": "stderr",
     "output_type": "stream",
     "text": [
      "Epoch 8/10 | Loss: 0.6854:  35%|██████████▌                   | 81/229 [00:26<00:42,  3.48it/s]"
     ]
    },
    {
     "name": "stdout",
     "output_type": "stream",
     "text": [
      "Batch [81/229] Loss: 0.6854\n"
     ]
    },
    {
     "name": "stderr",
     "output_type": "stream",
     "text": [
      "Epoch 8/10 | Loss: 0.6853:  36%|██████████▋                   | 82/229 [00:27<00:54,  2.72it/s]"
     ]
    },
    {
     "name": "stdout",
     "output_type": "stream",
     "text": [
      "Batch [82/229] Loss: 0.6933\n",
      "Batch [83/229] Loss: 0.6824\n",
      "Batch [84/229] Loss: 0.6853\n"
     ]
    },
    {
     "name": "stderr",
     "output_type": "stream",
     "text": [
      "Epoch 8/10 | Loss: 0.6853:  37%|███████████▏                  | 85/229 [00:27<00:43,  3.30it/s]"
     ]
    },
    {
     "name": "stdout",
     "output_type": "stream",
     "text": [
      "Batch [85/229] Loss: 0.6853\n"
     ]
    },
    {
     "name": "stderr",
     "output_type": "stream",
     "text": [
      "Epoch 8/10 | Loss: 0.6860:  38%|███████████▎                  | 86/229 [00:28<00:44,  3.21it/s]"
     ]
    },
    {
     "name": "stdout",
     "output_type": "stream",
     "text": [
      "Batch [86/229] Loss: 0.6618\n",
      "Batch [87/229] Loss: 0.6853\n",
      "Batch [88/229] Loss: 0.6860\n"
     ]
    },
    {
     "name": "stderr",
     "output_type": "stream",
     "text": [
      "Epoch 8/10 | Loss: 0.6853:  39%|███████████▋                  | 89/229 [00:28<00:42,  3.26it/s]"
     ]
    },
    {
     "name": "stdout",
     "output_type": "stream",
     "text": [
      "Batch [89/229] Loss: 0.6853\n"
     ]
    },
    {
     "name": "stderr",
     "output_type": "stream",
     "text": [
      "Epoch 8/10 | Loss: 0.6775:  39%|███████████▊                  | 90/229 [00:29<00:49,  2.84it/s]"
     ]
    },
    {
     "name": "stdout",
     "output_type": "stream",
     "text": [
      "Batch [90/229] Loss: 0.6853\n",
      "Batch [91/229] Loss: 0.6853\n",
      "Batch [92/229] Loss: 0.6775\n"
     ]
    },
    {
     "name": "stderr",
     "output_type": "stream",
     "text": [
      "Epoch 8/10 | Loss: 0.6853:  41%|████████████▏                 | 93/229 [00:30<00:44,  3.08it/s]"
     ]
    },
    {
     "name": "stdout",
     "output_type": "stream",
     "text": [
      "Batch [93/229] Loss: 0.6853\n"
     ]
    },
    {
     "name": "stderr",
     "output_type": "stream",
     "text": [
      "Epoch 8/10 | Loss: 0.6695:  41%|████████████▎                 | 94/229 [00:31<00:48,  2.77it/s]"
     ]
    },
    {
     "name": "stdout",
     "output_type": "stream",
     "text": [
      "Batch [94/229] Loss: 0.6934\n",
      "Batch [95/229] Loss: 0.6775\n",
      "Batch [96/229] Loss: 0.6695\n"
     ]
    },
    {
     "name": "stderr",
     "output_type": "stream",
     "text": [
      "Epoch 8/10 | Loss: 0.6904:  42%|████████████▋                 | 97/229 [00:31<00:40,  3.25it/s]"
     ]
    },
    {
     "name": "stdout",
     "output_type": "stream",
     "text": [
      "Batch [97/229] Loss: 0.6904\n"
     ]
    },
    {
     "name": "stderr",
     "output_type": "stream",
     "text": [
      "Epoch 8/10 | Loss: 0.6982:  43%|████████████▊                 | 98/229 [00:32<00:45,  2.85it/s]"
     ]
    },
    {
     "name": "stdout",
     "output_type": "stream",
     "text": [
      "Batch [98/229] Loss: 0.6854\n",
      "Batch [99/229] Loss: 0.6774\n",
      "Batch [100/229] Loss: 0.6982\n"
     ]
    },
    {
     "name": "stderr",
     "output_type": "stream",
     "text": [
      "Epoch 8/10 | Loss: 0.6774:  44%|█████████████▏                | 101/229 [00:32<00:37,  3.40it/s]"
     ]
    },
    {
     "name": "stdout",
     "output_type": "stream",
     "text": [
      "Batch [101/229] Loss: 0.6774\n"
     ]
    },
    {
     "name": "stderr",
     "output_type": "stream",
     "text": [
      "Epoch 8/10 | Loss: 0.6982:  45%|█████████████▎                | 102/229 [00:33<00:43,  2.92it/s]"
     ]
    },
    {
     "name": "stdout",
     "output_type": "stream",
     "text": [
      "Batch [102/229] Loss: 0.6904\n",
      "Batch [103/229] Loss: 0.6855\n",
      "Batch [104/229] Loss: 0.6982\n"
     ]
    },
    {
     "name": "stderr",
     "output_type": "stream",
     "text": [
      "Epoch 8/10 | Loss: 0.7061:  46%|█████████████▊                | 105/229 [00:34<00:38,  3.25it/s]"
     ]
    },
    {
     "name": "stdout",
     "output_type": "stream",
     "text": [
      "Batch [105/229] Loss: 0.7061\n"
     ]
    },
    {
     "name": "stderr",
     "output_type": "stream",
     "text": [
      "Epoch 8/10 | Loss: 0.6933:  46%|█████████████▉                | 106/229 [00:34<00:43,  2.82it/s]"
     ]
    },
    {
     "name": "stdout",
     "output_type": "stream",
     "text": [
      "Batch [106/229] Loss: 0.7189\n",
      "Batch [107/229] Loss: 0.6861\n",
      "Batch [108/229] Loss: 0.6933\n"
     ]
    },
    {
     "name": "stderr",
     "output_type": "stream",
     "text": [
      "Epoch 8/10 | Loss: 0.6775:  48%|██████████████▎               | 109/229 [00:35<00:33,  3.57it/s]"
     ]
    },
    {
     "name": "stdout",
     "output_type": "stream",
     "text": [
      "Batch [109/229] Loss: 0.6775\n"
     ]
    },
    {
     "name": "stderr",
     "output_type": "stream",
     "text": [
      "Epoch 8/10 | Loss: 0.6850:  48%|██████████████▍               | 110/229 [00:36<00:42,  2.81it/s]"
     ]
    },
    {
     "name": "stdout",
     "output_type": "stream",
     "text": [
      "Batch [110/229] Loss: 0.6776\n",
      "Batch [111/229] Loss: 0.6926\n",
      "Batch [112/229] Loss: 0.6850\n"
     ]
    },
    {
     "name": "stderr",
     "output_type": "stream",
     "text": [
      "Epoch 8/10 | Loss: 0.6775:  49%|██████████████▊               | 113/229 [00:36<00:31,  3.74it/s]"
     ]
    },
    {
     "name": "stdout",
     "output_type": "stream",
     "text": [
      "Batch [113/229] Loss: 0.6775\n"
     ]
    },
    {
     "name": "stderr",
     "output_type": "stream",
     "text": [
      "Epoch 8/10 | Loss: 0.6824:  50%|██████████████▉               | 114/229 [00:37<00:44,  2.59it/s]"
     ]
    },
    {
     "name": "stdout",
     "output_type": "stream",
     "text": [
      "Batch [114/229] Loss: 0.6933\n",
      "Batch [115/229] Loss: 0.7062\n",
      "Batch [116/229] Loss: 0.6824\n"
     ]
    },
    {
     "name": "stderr",
     "output_type": "stream",
     "text": [
      "Epoch 8/10 | Loss: 0.6695:  51%|███████████████▎              | 117/229 [00:37<00:29,  3.81it/s]"
     ]
    },
    {
     "name": "stdout",
     "output_type": "stream",
     "text": [
      "Batch [117/229] Loss: 0.6695\n"
     ]
    },
    {
     "name": "stderr",
     "output_type": "stream",
     "text": [
      "Epoch 8/10 | Loss: 0.6853:  52%|███████████████▍              | 118/229 [00:38<00:43,  2.55it/s]"
     ]
    },
    {
     "name": "stdout",
     "output_type": "stream",
     "text": [
      "Batch [118/229] Loss: 0.6616\n",
      "Batch [119/229] Loss: 0.6849\n",
      "Batch [120/229] Loss: 0.6853\n"
     ]
    },
    {
     "name": "stderr",
     "output_type": "stream",
     "text": [
      "Epoch 8/10 | Loss: 0.6854:  53%|███████████████▊              | 121/229 [00:39<00:28,  3.73it/s]"
     ]
    },
    {
     "name": "stdout",
     "output_type": "stream",
     "text": [
      "Batch [121/229] Loss: 0.6854\n"
     ]
    },
    {
     "name": "stderr",
     "output_type": "stream",
     "text": [
      "Epoch 8/10 | Loss: 0.6698:  53%|███████████████▉              | 122/229 [00:40<00:39,  2.72it/s]"
     ]
    },
    {
     "name": "stdout",
     "output_type": "stream",
     "text": [
      "Batch [122/229] Loss: 0.6774\n",
      "Batch [123/229] Loss: 0.6903\n",
      "Batch [124/229] Loss: 0.6698\n"
     ]
    },
    {
     "name": "stderr",
     "output_type": "stream",
     "text": [
      "Epoch 8/10 | Loss: 0.6825:  55%|████████████████▍             | 125/229 [00:40<00:26,  3.86it/s]"
     ]
    },
    {
     "name": "stdout",
     "output_type": "stream",
     "text": [
      "Batch [125/229] Loss: 0.6825\n"
     ]
    },
    {
     "name": "stderr",
     "output_type": "stream",
     "text": [
      "Epoch 8/10 | Loss: 0.6903:  55%|████████████████▌             | 126/229 [00:41<00:37,  2.78it/s]"
     ]
    },
    {
     "name": "stdout",
     "output_type": "stream",
     "text": [
      "Batch [126/229] Loss: 0.6854\n",
      "Batch [127/229] Loss: 0.6852\n",
      "Batch [128/229] Loss: 0.6903\n"
     ]
    },
    {
     "name": "stderr",
     "output_type": "stream",
     "text": [
      "Epoch 8/10 | Loss: 0.6776:  56%|████████████████▉             | 129/229 [00:41<00:24,  4.11it/s]"
     ]
    },
    {
     "name": "stdout",
     "output_type": "stream",
     "text": [
      "Batch [129/229] Loss: 0.6776\n"
     ]
    },
    {
     "name": "stderr",
     "output_type": "stream",
     "text": [
      "Epoch 8/10 | Loss: 0.6855:  57%|█████████████████             | 130/229 [00:42<00:35,  2.80it/s]"
     ]
    },
    {
     "name": "stdout",
     "output_type": "stream",
     "text": [
      "Batch [130/229] Loss: 0.6933\n",
      "Batch [131/229] Loss: 0.6774\n",
      "Batch [132/229] Loss: 0.6855\n"
     ]
    },
    {
     "name": "stderr",
     "output_type": "stream",
     "text": [
      "Epoch 8/10 | Loss: 0.6982:  58%|█████████████████▍            | 133/229 [00:42<00:24,  3.88it/s]"
     ]
    },
    {
     "name": "stdout",
     "output_type": "stream",
     "text": [
      "Batch [133/229] Loss: 0.6982\n"
     ]
    },
    {
     "name": "stderr",
     "output_type": "stream",
     "text": [
      "Epoch 8/10 | Loss: 0.6835:  59%|█████████████████▌            | 134/229 [00:43<00:35,  2.70it/s]"
     ]
    },
    {
     "name": "stdout",
     "output_type": "stream",
     "text": [
      "Batch [134/229] Loss: 0.6616\n",
      "Batch [135/229] Loss: 0.6774\n",
      "Batch [136/229] Loss: 0.6835\n"
     ]
    },
    {
     "name": "stderr",
     "output_type": "stream",
     "text": [
      "Epoch 8/10 | Loss: 0.6695:  60%|█████████████████▉            | 137/229 [00:43<00:22,  4.03it/s]"
     ]
    },
    {
     "name": "stdout",
     "output_type": "stream",
     "text": [
      "Batch [137/229] Loss: 0.6695\n"
     ]
    },
    {
     "name": "stderr",
     "output_type": "stream",
     "text": [
      "Epoch 8/10 | Loss: 0.6617:  60%|██████████████████            | 138/229 [00:44<00:33,  2.75it/s]"
     ]
    },
    {
     "name": "stdout",
     "output_type": "stream",
     "text": [
      "Batch [138/229] Loss: 0.6853\n",
      "Batch [139/229] Loss: 0.6837\n",
      "Batch [140/229] Loss: 0.6617\n"
     ]
    },
    {
     "name": "stderr",
     "output_type": "stream",
     "text": [
      "Epoch 8/10 | Loss: 0.6904:  62%|██████████████████▍           | 141/229 [00:45<00:23,  3.78it/s]"
     ]
    },
    {
     "name": "stdout",
     "output_type": "stream",
     "text": [
      "Batch [141/229] Loss: 0.6904\n"
     ]
    },
    {
     "name": "stderr",
     "output_type": "stream",
     "text": [
      "Epoch 8/10 | Loss: 0.6774:  62%|██████████████████▌           | 142/229 [00:46<00:30,  2.86it/s]"
     ]
    },
    {
     "name": "stdout",
     "output_type": "stream",
     "text": [
      "Batch [142/229] Loss: 0.6617\n",
      "Batch [143/229] Loss: 0.6775\n",
      "Batch [144/229] Loss: 0.6774\n"
     ]
    },
    {
     "name": "stderr",
     "output_type": "stream",
     "text": [
      "Epoch 8/10 | Loss: 0.6863:  63%|██████████████████▉           | 145/229 [00:46<00:24,  3.43it/s]"
     ]
    },
    {
     "name": "stdout",
     "output_type": "stream",
     "text": [
      "Batch [145/229] Loss: 0.6863\n"
     ]
    },
    {
     "name": "stderr",
     "output_type": "stream",
     "text": [
      "Epoch 8/10 | Loss: 0.6696:  64%|███████████████████▏          | 146/229 [00:47<00:27,  3.03it/s]"
     ]
    },
    {
     "name": "stdout",
     "output_type": "stream",
     "text": [
      "Batch [146/229] Loss: 0.6774\n",
      "Batch [147/229] Loss: 0.6854\n",
      "Batch [148/229] Loss: 0.6696\n"
     ]
    },
    {
     "name": "stderr",
     "output_type": "stream",
     "text": [
      "Epoch 8/10 | Loss: 0.6775:  66%|███████████████████▋          | 150/229 [00:48<00:24,  3.19it/s]"
     ]
    },
    {
     "name": "stdout",
     "output_type": "stream",
     "text": [
      "Batch [149/229] Loss: 0.6854\n",
      "Batch [150/229] Loss: 0.6775\n"
     ]
    },
    {
     "name": "stderr",
     "output_type": "stream",
     "text": [
      "Epoch 8/10 | Loss: 0.6982:  66%|███████████████████▋          | 150/229 [00:48<00:24,  3.19it/s]"
     ]
    },
    {
     "name": "stdout",
     "output_type": "stream",
     "text": [
      "Batch [151/229] Loss: 0.7191\n",
      "Batch [152/229] Loss: 0.6982\n"
     ]
    },
    {
     "name": "stderr",
     "output_type": "stream",
     "text": [
      "Epoch 8/10 | Loss: 0.6774:  67%|████████████████████          | 153/229 [00:49<00:25,  2.95it/s]"
     ]
    },
    {
     "name": "stdout",
     "output_type": "stream",
     "text": [
      "Batch [153/229] Loss: 0.6774\n"
     ]
    },
    {
     "name": "stderr",
     "output_type": "stream",
     "text": [
      "Epoch 8/10 | Loss: 0.6774:  67%|████████████████████▏         | 154/229 [00:49<00:24,  3.04it/s]"
     ]
    },
    {
     "name": "stdout",
     "output_type": "stream",
     "text": [
      "Batch [154/229] Loss: 0.6904\n",
      "Batch [155/229] Loss: 0.6727\n",
      "Batch [156/229] Loss: 0.6774\n"
     ]
    },
    {
     "name": "stderr",
     "output_type": "stream",
     "text": [
      "Epoch 8/10 | Loss: 0.6949:  69%|████████████████████▌         | 157/229 [00:50<00:24,  2.94it/s]"
     ]
    },
    {
     "name": "stdout",
     "output_type": "stream",
     "text": [
      "Batch [157/229] Loss: 0.6949\n"
     ]
    },
    {
     "name": "stderr",
     "output_type": "stream",
     "text": [
      "Epoch 8/10 | Loss: 0.6904:  69%|████████████████████▋         | 158/229 [00:51<00:23,  3.00it/s]"
     ]
    },
    {
     "name": "stdout",
     "output_type": "stream",
     "text": [
      "Batch [158/229] Loss: 0.6822\n",
      "Batch [159/229] Loss: 0.6904\n",
      "Batch [160/229] Loss: 0.6904\n"
     ]
    },
    {
     "name": "stderr",
     "output_type": "stream",
     "text": [
      "Epoch 8/10 | Loss: 0.6621:  70%|█████████████████████         | 161/229 [00:51<00:21,  3.19it/s]"
     ]
    },
    {
     "name": "stdout",
     "output_type": "stream",
     "text": [
      "Batch [161/229] Loss: 0.6621\n"
     ]
    },
    {
     "name": "stderr",
     "output_type": "stream",
     "text": [
      "Epoch 8/10 | Loss: 0.6895:  71%|█████████████████████▏        | 162/229 [00:52<00:21,  3.19it/s]"
     ]
    },
    {
     "name": "stdout",
     "output_type": "stream",
     "text": [
      "Batch [162/229] Loss: 0.6746\n",
      "Batch [163/229] Loss: 0.6696\n",
      "Batch [164/229] Loss: 0.6895\n"
     ]
    },
    {
     "name": "stderr",
     "output_type": "stream",
     "text": [
      "Epoch 8/10 | Loss: 0.6775:  72%|█████████████████████▋        | 166/229 [00:53<00:19,  3.24it/s]"
     ]
    },
    {
     "name": "stdout",
     "output_type": "stream",
     "text": [
      "Batch [165/229] Loss: 0.7240\n",
      "Batch [166/229] Loss: 0.6775\n"
     ]
    },
    {
     "name": "stderr",
     "output_type": "stream",
     "text": [
      "Epoch 8/10 | Loss: 0.6924:  72%|█████████████████████▋        | 166/229 [00:53<00:19,  3.24it/s]"
     ]
    },
    {
     "name": "stdout",
     "output_type": "stream",
     "text": [
      "Batch [167/229] Loss: 0.6617\n",
      "Batch [168/229] Loss: 0.6924\n"
     ]
    },
    {
     "name": "stderr",
     "output_type": "stream",
     "text": [
      "Epoch 8/10 | Loss: 0.7028:  74%|██████████████████████▏       | 169/229 [00:54<00:18,  3.17it/s]"
     ]
    },
    {
     "name": "stdout",
     "output_type": "stream",
     "text": [
      "Batch [169/229] Loss: 0.7028\n"
     ]
    },
    {
     "name": "stderr",
     "output_type": "stream",
     "text": [
      "Epoch 8/10 | Loss: 0.7002:  74%|██████████████████████▎       | 170/229 [00:55<00:19,  2.96it/s]"
     ]
    },
    {
     "name": "stdout",
     "output_type": "stream",
     "text": [
      "Batch [170/229] Loss: 0.6919\n",
      "Batch [171/229] Loss: 0.6852\n",
      "Batch [172/229] Loss: 0.7002\n"
     ]
    },
    {
     "name": "stderr",
     "output_type": "stream",
     "text": [
      "Epoch 8/10 | Loss: 0.7133:  76%|██████████████████████▋       | 173/229 [00:55<00:18,  3.01it/s]"
     ]
    },
    {
     "name": "stdout",
     "output_type": "stream",
     "text": [
      "Batch [173/229] Loss: 0.7133\n"
     ]
    },
    {
     "name": "stderr",
     "output_type": "stream",
     "text": [
      "Epoch 8/10 | Loss: 0.7371:  76%|██████████████████████▊       | 174/229 [00:56<00:18,  2.97it/s]"
     ]
    },
    {
     "name": "stdout",
     "output_type": "stream",
     "text": [
      "Batch [174/229] Loss: 0.7219\n",
      "Batch [175/229] Loss: 0.7111\n",
      "Batch [176/229] Loss: 0.7371\n"
     ]
    },
    {
     "name": "stderr",
     "output_type": "stream",
     "text": [
      "Epoch 8/10 | Loss: 0.6792:  77%|███████████████████████▏      | 177/229 [00:57<00:17,  3.06it/s]"
     ]
    },
    {
     "name": "stdout",
     "output_type": "stream",
     "text": [
      "Batch [177/229] Loss: 0.6792\n"
     ]
    },
    {
     "name": "stderr",
     "output_type": "stream",
     "text": [
      "Epoch 8/10 | Loss: 0.6746:  78%|███████████████████████▎      | 178/229 [00:57<00:16,  3.17it/s]"
     ]
    },
    {
     "name": "stdout",
     "output_type": "stream",
     "text": [
      "Batch [178/229] Loss: 0.6757\n",
      "Batch [179/229] Loss: 0.6774\n",
      "Batch [180/229] Loss: 0.6746\n"
     ]
    },
    {
     "name": "stderr",
     "output_type": "stream",
     "text": [
      "Epoch 8/10 | Loss: 0.7105:  80%|████████████████████████      | 184/229 [00:58<00:10,  4.16it/s]"
     ]
    },
    {
     "name": "stdout",
     "output_type": "stream",
     "text": [
      "Batch [181/229] Loss: 0.6937\n",
      "Batch [182/229] Loss: 0.6877\n",
      "Batch [183/229] Loss: 0.6767\n",
      "Batch [184/229] Loss: 0.7105\n"
     ]
    },
    {
     "name": "stderr",
     "output_type": "stream",
     "text": [
      "Epoch 8/10 | Loss: 0.6857:  82%|████████████████████████▋     | 188/229 [01:00<00:10,  3.98it/s]"
     ]
    },
    {
     "name": "stdout",
     "output_type": "stream",
     "text": [
      "Batch [185/229] Loss: 0.7186\n",
      "Batch [186/229] Loss: 0.6776\n",
      "Batch [187/229] Loss: 0.6932\n",
      "Batch [188/229] Loss: 0.6857\n"
     ]
    },
    {
     "name": "stderr",
     "output_type": "stream",
     "text": [
      "Epoch 8/10 | Loss: 0.6528:  83%|████████████████████████▉     | 190/229 [01:01<00:14,  2.68it/s]"
     ]
    },
    {
     "name": "stdout",
     "output_type": "stream",
     "text": [
      "Batch [189/229] Loss: 0.6696\n",
      "Batch [190/229] Loss: 0.6987\n",
      "Batch [191/229] Loss: 0.6780\n",
      "Batch [192/229] Loss: 0.6528\n"
     ]
    },
    {
     "name": "stderr",
     "output_type": "stream",
     "text": [
      "Epoch 8/10 | Loss: 0.6740:  86%|█████████████████████████▋    | 196/229 [01:02<00:08,  3.71it/s]"
     ]
    },
    {
     "name": "stdout",
     "output_type": "stream",
     "text": [
      "Batch [193/229] Loss: 0.6999\n",
      "Batch [194/229] Loss: 0.6856\n",
      "Batch [195/229] Loss: 0.7014\n",
      "Batch [196/229] Loss: 0.6740\n"
     ]
    },
    {
     "name": "stderr",
     "output_type": "stream",
     "text": [
      "Epoch 8/10 | Loss: 0.6704:  86%|█████████████████████████▉    | 198/229 [01:04<00:10,  2.93it/s]"
     ]
    },
    {
     "name": "stdout",
     "output_type": "stream",
     "text": [
      "Batch [197/229] Loss: 0.6923\n",
      "Batch [198/229] Loss: 0.6942\n",
      "Batch [199/229] Loss: 0.6843\n",
      "Batch [200/229] Loss: 0.6704\n"
     ]
    },
    {
     "name": "stderr",
     "output_type": "stream",
     "text": [
      "Epoch 8/10 | Loss: 0.6769:  89%|██████████████████████████▋   | 204/229 [01:05<00:06,  3.81it/s]"
     ]
    },
    {
     "name": "stdout",
     "output_type": "stream",
     "text": [
      "Batch [201/229] Loss: 0.6936\n",
      "Batch [202/229] Loss: 0.6987\n",
      "Batch [203/229] Loss: 0.6802\n",
      "Batch [204/229] Loss: 0.6769\n"
     ]
    },
    {
     "name": "stderr",
     "output_type": "stream",
     "text": [
      "Epoch 8/10 | Loss: 0.6848:  90%|██████████████████████████▉   | 206/229 [01:06<00:07,  2.93it/s]"
     ]
    },
    {
     "name": "stdout",
     "output_type": "stream",
     "text": [
      "Batch [205/229] Loss: 0.6906\n",
      "Batch [206/229] Loss: 0.6908\n",
      "Batch [207/229] Loss: 0.6775\n",
      "Batch [208/229] Loss: 0.6848\n"
     ]
    },
    {
     "name": "stderr",
     "output_type": "stream",
     "text": [
      "Epoch 8/10 | Loss: 0.6983:  93%|███████████████████████████▊  | 212/229 [01:08<00:04,  3.84it/s]"
     ]
    },
    {
     "name": "stdout",
     "output_type": "stream",
     "text": [
      "Batch [209/229] Loss: 0.6826\n",
      "Batch [210/229] Loss: 0.6925\n",
      "Batch [211/229] Loss: 0.6933\n",
      "Batch [212/229] Loss: 0.6983\n"
     ]
    },
    {
     "name": "stderr",
     "output_type": "stream",
     "text": [
      "Epoch 8/10 | Loss: 0.6861:  93%|████████████████████████████  | 214/229 [01:09<00:04,  3.14it/s]"
     ]
    },
    {
     "name": "stdout",
     "output_type": "stream",
     "text": [
      "Batch [213/229] Loss: 0.6805\n",
      "Batch [214/229] Loss: 0.6781\n",
      "Batch [215/229] Loss: 0.6901\n",
      "Batch [216/229] Loss: 0.6861\n"
     ]
    },
    {
     "name": "stderr",
     "output_type": "stream",
     "text": [
      "Epoch 8/10 | Loss: 0.6939:  95%|████████████████████████████▌ | 218/229 [01:10<00:03,  3.20it/s]"
     ]
    },
    {
     "name": "stdout",
     "output_type": "stream",
     "text": [
      "Batch [217/229] Loss: 0.6650\n",
      "Batch [218/229] Loss: 0.6891\n",
      "Batch [219/229] Loss: 0.6939\n"
     ]
    },
    {
     "name": "stderr",
     "output_type": "stream",
     "text": [
      "\r",
      "Epoch 8/10 | Loss: 0.6824:  95%|████████████████████████████▌ | 218/229 [01:10<00:03,  3.20it/s]"
     ]
    },
    {
     "name": "stdout",
     "output_type": "stream",
     "text": [
      "Batch [220/229] Loss: 0.6824\n"
     ]
    },
    {
     "name": "stderr",
     "output_type": "stream",
     "text": [
      "Epoch 8/10 | Loss: 0.6888:  97%|████████████████████████████▉ | 221/229 [01:11<00:02,  3.08it/s]"
     ]
    },
    {
     "name": "stdout",
     "output_type": "stream",
     "text": [
      "Batch [221/229] Loss: 0.6888\n"
     ]
    },
    {
     "name": "stderr",
     "output_type": "stream",
     "text": [
      "Epoch 8/10 | Loss: 0.6854:  97%|█████████████████████████████ | 222/229 [01:11<00:02,  3.07it/s]"
     ]
    },
    {
     "name": "stdout",
     "output_type": "stream",
     "text": [
      "Batch [222/229] Loss: 0.6690\n",
      "Batch [223/229] Loss: 0.7108\n",
      "Batch [224/229] Loss: 0.6854\n"
     ]
    },
    {
     "name": "stderr",
     "output_type": "stream",
     "text": [
      "Epoch 8/10 | Loss: 0.6837:  98%|█████████████████████████████▍| 225/229 [01:12<00:01,  3.07it/s]"
     ]
    },
    {
     "name": "stdout",
     "output_type": "stream",
     "text": [
      "Batch [225/229] Loss: 0.6837\n"
     ]
    },
    {
     "name": "stderr",
     "output_type": "stream",
     "text": [
      "Epoch 8/10 | Loss: 0.6827:  99%|█████████████████████████████▌| 226/229 [01:13<00:01,  2.99it/s]"
     ]
    },
    {
     "name": "stdout",
     "output_type": "stream",
     "text": [
      "Batch [226/229] Loss: 0.6698\n",
      "Batch [227/229] Loss: 0.6608\n",
      "Batch [228/229] Loss: 0.6827\n"
     ]
    },
    {
     "name": "stderr",
     "output_type": "stream",
     "text": [
      "Epoch 8/10 | Loss: 0.6988: 100%|██████████████████████████████| 229/229 [01:13<00:00,  3.10it/s]\n"
     ]
    },
    {
     "name": "stdout",
     "output_type": "stream",
     "text": [
      "Batch [229/229] Loss: 0.6988\n",
      "\n",
      "Epoch 8 Summary:\n",
      "Average Loss: 0.6856\n",
      "\n",
      "Epoch 9/10\n",
      "==================================================\n"
     ]
    },
    {
     "name": "stderr",
     "output_type": "stream",
     "text": [
      "Epoch 9/10 | Loss: 0.6830:   1%|▍                             | 3/229 [00:01<01:33,  2.43it/s]"
     ]
    },
    {
     "name": "stdout",
     "output_type": "stream",
     "text": [
      "Batch [1/229] Loss: 0.6776\n",
      "Batch [2/229] Loss: 0.6847\n",
      "Batch [3/229] Loss: 0.7061\n",
      "Batch [4/229] Loss: 0.6830\n"
     ]
    },
    {
     "name": "stderr",
     "output_type": "stream",
     "text": [
      "Epoch 9/10 | Loss: 0.6854:   2%|▋                             | 5/229 [00:02<01:56,  1.93it/s]"
     ]
    },
    {
     "name": "stdout",
     "output_type": "stream",
     "text": [
      "Batch [5/229] Loss: 0.6854\n"
     ]
    },
    {
     "name": "stderr",
     "output_type": "stream",
     "text": [
      "Epoch 9/10 | Loss: 0.7110:   3%|▊                             | 6/229 [00:03<01:52,  1.98it/s]"
     ]
    },
    {
     "name": "stdout",
     "output_type": "stream",
     "text": [
      "Batch [6/229] Loss: 0.6933\n",
      "Batch [7/229] Loss: 0.6776\n",
      "Batch [8/229] Loss: 0.7110\n"
     ]
    },
    {
     "name": "stderr",
     "output_type": "stream",
     "text": [
      "Epoch 9/10 | Loss: 0.6935:   4%|█▏                            | 9/229 [00:04<01:29,  2.45it/s]"
     ]
    },
    {
     "name": "stdout",
     "output_type": "stream",
     "text": [
      "Batch [9/229] Loss: 0.6935\n"
     ]
    },
    {
     "name": "stderr",
     "output_type": "stream",
     "text": [
      "Epoch 9/10 | Loss: 0.6775:   4%|█▎                            | 10/229 [00:04<01:23,  2.61it/s]"
     ]
    },
    {
     "name": "stdout",
     "output_type": "stream",
     "text": [
      "Batch [10/229] Loss: 0.6854\n",
      "Batch [11/229] Loss: 0.6775\n",
      "Batch [12/229] Loss: 0.6775\n"
     ]
    },
    {
     "name": "stderr",
     "output_type": "stream",
     "text": [
      "Epoch 9/10 | Loss: 0.6903:   6%|█▋                            | 13/229 [00:05<01:16,  2.83it/s]"
     ]
    },
    {
     "name": "stdout",
     "output_type": "stream",
     "text": [
      "Batch [13/229] Loss: 0.6903\n"
     ]
    },
    {
     "name": "stderr",
     "output_type": "stream",
     "text": [
      "Epoch 9/10 | Loss: 0.6855:   6%|█▊                            | 14/229 [00:05<01:16,  2.82it/s]"
     ]
    },
    {
     "name": "stdout",
     "output_type": "stream",
     "text": [
      "Batch [14/229] Loss: 0.6903\n",
      "Batch [15/229] Loss: 0.6903\n",
      "Batch [16/229] Loss: 0.6855\n"
     ]
    },
    {
     "name": "stderr",
     "output_type": "stream",
     "text": [
      "Epoch 9/10 | Loss: 0.6774:   7%|██▏                           | 17/229 [00:06<01:09,  3.05it/s]"
     ]
    },
    {
     "name": "stdout",
     "output_type": "stream",
     "text": [
      "Batch [17/229] Loss: 0.6774\n"
     ]
    },
    {
     "name": "stderr",
     "output_type": "stream",
     "text": [
      "Epoch 9/10 | Loss: 0.6933:   8%|██▎                           | 18/229 [00:07<01:10,  2.97it/s]"
     ]
    },
    {
     "name": "stdout",
     "output_type": "stream",
     "text": [
      "Batch [18/229] Loss: 0.6933\n"
     ]
    },
    {
     "name": "stderr",
     "output_type": "stream",
     "text": [
      "Epoch 9/10 | Loss: 0.6783:   8%|██▍                           | 19/229 [00:07<01:09,  3.01it/s]"
     ]
    },
    {
     "name": "stdout",
     "output_type": "stream",
     "text": [
      "Batch [19/229] Loss: 0.6909\n",
      "Batch [20/229] Loss: 0.6783\n"
     ]
    },
    {
     "name": "stderr",
     "output_type": "stream",
     "text": [
      "Epoch 9/10 | Loss: 0.6983:  10%|██▉                           | 22/229 [00:08<01:06,  3.10it/s]"
     ]
    },
    {
     "name": "stdout",
     "output_type": "stream",
     "text": [
      "Batch [21/229] Loss: 0.6978\n",
      "Batch [22/229] Loss: 0.6983\n"
     ]
    },
    {
     "name": "stderr",
     "output_type": "stream",
     "text": [
      "Epoch 9/10 | Loss: 0.6854:  10%|███                           | 23/229 [00:08<01:13,  2.80it/s]"
     ]
    },
    {
     "name": "stdout",
     "output_type": "stream",
     "text": [
      "Batch [23/229] Loss: 0.6853\n",
      "Batch [24/229] Loss: 0.6854\n"
     ]
    },
    {
     "name": "stderr",
     "output_type": "stream",
     "text": [
      "Epoch 9/10 | Loss: 0.6774:  11%|███▎                          | 25/229 [00:09<01:11,  2.85it/s]"
     ]
    },
    {
     "name": "stdout",
     "output_type": "stream",
     "text": [
      "Batch [25/229] Loss: 0.6774\n"
     ]
    },
    {
     "name": "stderr",
     "output_type": "stream",
     "text": [
      "Epoch 9/10 | Loss: 0.6775:  11%|███▍                          | 26/229 [00:09<01:06,  3.05it/s]"
     ]
    },
    {
     "name": "stdout",
     "output_type": "stream",
     "text": [
      "Batch [26/229] Loss: 0.6775\n"
     ]
    },
    {
     "name": "stderr",
     "output_type": "stream",
     "text": [
      "Epoch 9/10 | Loss: 0.6839:  12%|███▌                          | 27/229 [00:10<01:04,  3.11it/s]"
     ]
    },
    {
     "name": "stdout",
     "output_type": "stream",
     "text": [
      "Batch [27/229] Loss: 0.6926\n",
      "Batch [28/229] Loss: 0.6839\n"
     ]
    },
    {
     "name": "stderr",
     "output_type": "stream",
     "text": [
      "Epoch 9/10 | Loss: 0.6780:  13%|███▉                          | 30/229 [00:11<01:04,  3.07it/s]"
     ]
    },
    {
     "name": "stdout",
     "output_type": "stream",
     "text": [
      "Batch [29/229] Loss: 0.7078\n",
      "Batch [30/229] Loss: 0.6780\n"
     ]
    },
    {
     "name": "stderr",
     "output_type": "stream",
     "text": [
      "Epoch 9/10 | Loss: 0.6854:  14%|████                          | 31/229 [00:11<01:15,  2.62it/s]"
     ]
    },
    {
     "name": "stdout",
     "output_type": "stream",
     "text": [
      "Batch [31/229] Loss: 0.7054\n",
      "Batch [32/229] Loss: 0.6854\n"
     ]
    },
    {
     "name": "stderr",
     "output_type": "stream",
     "text": [
      "Epoch 9/10 | Loss: 0.6784:  14%|████▎                         | 33/229 [00:12<01:15,  2.59it/s]"
     ]
    },
    {
     "name": "stdout",
     "output_type": "stream",
     "text": [
      "Batch [33/229] Loss: 0.6775\n",
      "Batch [34/229] Loss: 0.6784\n"
     ]
    },
    {
     "name": "stderr",
     "output_type": "stream",
     "text": [
      "Epoch 9/10 | Loss: 0.7059:  15%|████▌                         | 35/229 [00:12<00:59,  3.27it/s]"
     ]
    },
    {
     "name": "stdout",
     "output_type": "stream",
     "text": [
      "Batch [35/229] Loss: 0.7060\n",
      "Batch [36/229] Loss: 0.7059\n"
     ]
    },
    {
     "name": "stderr",
     "output_type": "stream",
     "text": [
      "Epoch 9/10 | Loss: 0.6616:  17%|█████                         | 39/229 [00:14<00:55,  3.45it/s]"
     ]
    },
    {
     "name": "stdout",
     "output_type": "stream",
     "text": [
      "Batch [37/229] Loss: 0.6982\n",
      "Batch [38/229] Loss: 0.6851\n",
      "Batch [39/229] Loss: 0.6903\n",
      "Batch [40/229] Loss: 0.6616\n"
     ]
    },
    {
     "name": "stderr",
     "output_type": "stream",
     "text": [
      "Epoch 9/10 | Loss: 0.6697:  19%|█████▋                        | 43/229 [00:15<00:54,  3.42it/s]"
     ]
    },
    {
     "name": "stdout",
     "output_type": "stream",
     "text": [
      "Batch [41/229] Loss: 0.6774\n",
      "Batch [42/229] Loss: 0.6984\n",
      "Batch [43/229] Loss: 0.6775\n",
      "Batch [44/229] Loss: 0.6697\n"
     ]
    },
    {
     "name": "stderr",
     "output_type": "stream",
     "text": [
      "Epoch 9/10 | Loss: 0.6774:  21%|██████▏                       | 47/229 [00:16<00:52,  3.44it/s]"
     ]
    },
    {
     "name": "stdout",
     "output_type": "stream",
     "text": [
      "Batch [45/229] Loss: 0.6699\n",
      "Batch [46/229] Loss: 0.6774\n",
      "Batch [47/229] Loss: 0.6774\n"
     ]
    },
    {
     "name": "stderr",
     "output_type": "stream",
     "text": [
      "\r",
      "Epoch 9/10 | Loss: 0.7062:  21%|██████▏                       | 47/229 [00:16<00:52,  3.44it/s]"
     ]
    },
    {
     "name": "stdout",
     "output_type": "stream",
     "text": [
      "Batch [48/229] Loss: 0.7062\n"
     ]
    },
    {
     "name": "stderr",
     "output_type": "stream",
     "text": [
      "Epoch 9/10 | Loss: 0.6982:  22%|██████▌                       | 50/229 [00:18<00:56,  3.15it/s]"
     ]
    },
    {
     "name": "stdout",
     "output_type": "stream",
     "text": [
      "Batch [49/229] Loss: 0.6699\n",
      "Batch [50/229] Loss: 0.6982\n"
     ]
    },
    {
     "name": "stderr",
     "output_type": "stream",
     "text": [
      "Epoch 9/10 | Loss: 0.6696:  22%|██████▋                       | 51/229 [00:18<00:50,  3.55it/s]"
     ]
    },
    {
     "name": "stdout",
     "output_type": "stream",
     "text": [
      "Batch [51/229] Loss: 0.6909\n",
      "Batch [52/229] Loss: 0.6696\n"
     ]
    },
    {
     "name": "stderr",
     "output_type": "stream",
     "text": [
      "Epoch 9/10 | Loss: 0.6854:  24%|███████                       | 54/229 [00:19<00:55,  3.14it/s]"
     ]
    },
    {
     "name": "stdout",
     "output_type": "stream",
     "text": [
      "Batch [53/229] Loss: 0.6883\n",
      "Batch [54/229] Loss: 0.6903\n",
      "Batch [55/229] Loss: 0.6854\n"
     ]
    },
    {
     "name": "stderr",
     "output_type": "stream",
     "text": [
      "Epoch 9/10 | Loss: 0.6774:  24%|███████▎                      | 56/229 [00:19<00:37,  4.56it/s]"
     ]
    },
    {
     "name": "stdout",
     "output_type": "stream",
     "text": [
      "Batch [56/229] Loss: 0.6774\n"
     ]
    },
    {
     "name": "stderr",
     "output_type": "stream",
     "text": [
      "Epoch 9/10 | Loss: 0.6982:  26%|███████▊                      | 60/229 [00:20<00:44,  3.79it/s]"
     ]
    },
    {
     "name": "stdout",
     "output_type": "stream",
     "text": [
      "Batch [57/229] Loss: 0.6855\n",
      "Batch [58/229] Loss: 0.6701\n",
      "Batch [59/229] Loss: 0.6933\n",
      "Batch [60/229] Loss: 0.6982\n"
     ]
    },
    {
     "name": "stderr",
     "output_type": "stream",
     "text": [
      "Epoch 9/10 | Loss: 0.6696:  27%|████████                      | 62/229 [00:21<00:58,  2.84it/s]"
     ]
    },
    {
     "name": "stdout",
     "output_type": "stream",
     "text": [
      "Batch [61/229] Loss: 0.7030\n",
      "Batch [62/229] Loss: 0.6696\n"
     ]
    },
    {
     "name": "stderr",
     "output_type": "stream",
     "text": [
      "Epoch 9/10 | Loss: 0.6854:  28%|████████▎                     | 63/229 [00:22<00:58,  2.85it/s]"
     ]
    },
    {
     "name": "stdout",
     "output_type": "stream",
     "text": [
      "Batch [63/229] Loss: 0.6932\n",
      "Batch [64/229] Loss: 0.6854\n"
     ]
    },
    {
     "name": "stderr",
     "output_type": "stream",
     "text": [
      "Epoch 9/10 | Loss: 0.6779:  28%|████████▌                     | 65/229 [00:23<01:01,  2.69it/s]"
     ]
    },
    {
     "name": "stdout",
     "output_type": "stream",
     "text": [
      "Batch [65/229] Loss: 0.6779\n"
     ]
    },
    {
     "name": "stderr",
     "output_type": "stream",
     "text": [
      "Epoch 9/10 | Loss: 0.6922:  29%|████████▋                     | 66/229 [00:23<00:58,  2.78it/s]"
     ]
    },
    {
     "name": "stdout",
     "output_type": "stream",
     "text": [
      "Batch [66/229] Loss: 0.6922\n"
     ]
    },
    {
     "name": "stderr",
     "output_type": "stream",
     "text": [
      "Epoch 9/10 | Loss: 0.6853:  29%|████████▊                     | 67/229 [00:23<00:58,  2.76it/s]"
     ]
    },
    {
     "name": "stdout",
     "output_type": "stream",
     "text": [
      "Batch [67/229] Loss: 0.6869\n",
      "Batch [68/229] Loss: 0.6853\n"
     ]
    },
    {
     "name": "stderr",
     "output_type": "stream",
     "text": [
      "Epoch 9/10 | Loss: 0.6774:  30%|█████████                     | 69/229 [00:24<00:54,  2.94it/s]"
     ]
    },
    {
     "name": "stdout",
     "output_type": "stream",
     "text": [
      "Batch [69/229] Loss: 0.6774\n"
     ]
    },
    {
     "name": "stderr",
     "output_type": "stream",
     "text": [
      "Epoch 9/10 | Loss: 0.6538:  31%|█████████▏                    | 70/229 [00:24<00:55,  2.89it/s]"
     ]
    },
    {
     "name": "stdout",
     "output_type": "stream",
     "text": [
      "Batch [70/229] Loss: 0.6538\n"
     ]
    },
    {
     "name": "stderr",
     "output_type": "stream",
     "text": [
      "Epoch 9/10 | Loss: 0.6853:  31%|█████████▎                    | 71/229 [00:24<00:49,  3.17it/s]"
     ]
    },
    {
     "name": "stdout",
     "output_type": "stream",
     "text": [
      "Batch [71/229] Loss: 0.6692\n",
      "Batch [72/229] Loss: 0.6853\n"
     ]
    },
    {
     "name": "stderr",
     "output_type": "stream",
     "text": [
      "Epoch 9/10 | Loss: 0.6778:  32%|█████████▋                    | 74/229 [00:26<00:50,  3.07it/s]"
     ]
    },
    {
     "name": "stdout",
     "output_type": "stream",
     "text": [
      "Batch [73/229] Loss: 0.6932\n",
      "Batch [74/229] Loss: 0.6778\n"
     ]
    },
    {
     "name": "stderr",
     "output_type": "stream",
     "text": [
      "Epoch 9/10 | Loss: 0.6904:  33%|█████████▊                    | 75/229 [00:26<00:50,  3.02it/s]"
     ]
    },
    {
     "name": "stdout",
     "output_type": "stream",
     "text": [
      "Batch [75/229] Loss: 0.6775\n",
      "Batch [76/229] Loss: 0.6904\n"
     ]
    },
    {
     "name": "stderr",
     "output_type": "stream",
     "text": [
      "Epoch 9/10 | Loss: 0.6775:  34%|██████████                    | 77/229 [00:27<01:02,  2.44it/s]"
     ]
    },
    {
     "name": "stdout",
     "output_type": "stream",
     "text": [
      "Batch [77/229] Loss: 0.6621\n",
      "Batch [78/229] Loss: 0.6775\n"
     ]
    },
    {
     "name": "stderr",
     "output_type": "stream",
     "text": [
      "Epoch 9/10 | Loss: 0.6900:  34%|██████████▎                   | 79/229 [00:27<00:47,  3.15it/s]"
     ]
    },
    {
     "name": "stdout",
     "output_type": "stream",
     "text": [
      "Batch [79/229] Loss: 0.6853\n",
      "Batch [80/229] Loss: 0.6900\n"
     ]
    },
    {
     "name": "stderr",
     "output_type": "stream",
     "text": [
      "Epoch 9/10 | Loss: 0.6676:  35%|██████████▌                   | 81/229 [00:28<00:53,  2.79it/s]"
     ]
    },
    {
     "name": "stdout",
     "output_type": "stream",
     "text": [
      "Batch [81/229] Loss: 0.6695\n",
      "Batch [82/229] Loss: 0.6676\n"
     ]
    },
    {
     "name": "stderr",
     "output_type": "stream",
     "text": [
      "Epoch 9/10 | Loss: 0.6775:  36%|██████████▊                   | 83/229 [00:29<00:46,  3.16it/s]"
     ]
    },
    {
     "name": "stdout",
     "output_type": "stream",
     "text": [
      "Batch [83/229] Loss: 0.6638\n",
      "Batch [84/229] Loss: 0.6775\n"
     ]
    },
    {
     "name": "stderr",
     "output_type": "stream",
     "text": [
      "Epoch 9/10 | Loss: 0.6774:  37%|███████████▏                  | 85/229 [00:29<00:47,  3.05it/s]"
     ]
    },
    {
     "name": "stdout",
     "output_type": "stream",
     "text": [
      "Batch [85/229] Loss: 0.6779\n",
      "Batch [86/229] Loss: 0.6774\n"
     ]
    },
    {
     "name": "stderr",
     "output_type": "stream",
     "text": [
      "Epoch 9/10 | Loss: 0.6822:  38%|███████████▍                  | 87/229 [00:30<00:42,  3.37it/s]"
     ]
    },
    {
     "name": "stdout",
     "output_type": "stream",
     "text": [
      "Batch [87/229] Loss: 0.6854\n",
      "Batch [88/229] Loss: 0.6822\n"
     ]
    },
    {
     "name": "stderr",
     "output_type": "stream",
     "text": [
      "Epoch 9/10 | Loss: 0.6824:  39%|███████████▋                  | 89/229 [00:30<00:44,  3.16it/s]"
     ]
    },
    {
     "name": "stdout",
     "output_type": "stream",
     "text": [
      "Batch [89/229] Loss: 0.6824\n"
     ]
    },
    {
     "name": "stderr",
     "output_type": "stream",
     "text": [
      "Epoch 9/10 | Loss: 0.6624:  39%|███████████▊                  | 90/229 [00:31<00:41,  3.33it/s]"
     ]
    },
    {
     "name": "stdout",
     "output_type": "stream",
     "text": [
      "Batch [90/229] Loss: 0.6624\n"
     ]
    },
    {
     "name": "stderr",
     "output_type": "stream",
     "text": [
      "Epoch 9/10 | Loss: 0.6775:  40%|███████████▉                  | 91/229 [00:31<00:40,  3.42it/s]"
     ]
    },
    {
     "name": "stdout",
     "output_type": "stream",
     "text": [
      "Batch [91/229] Loss: 0.6980\n",
      "Batch [92/229] Loss: 0.6775\n"
     ]
    },
    {
     "name": "stderr",
     "output_type": "stream",
     "text": [
      "Epoch 9/10 | Loss: 0.6877:  41%|████████████▍                 | 95/229 [00:32<00:36,  3.68it/s]"
     ]
    },
    {
     "name": "stdout",
     "output_type": "stream",
     "text": [
      "Batch [93/229] Loss: 0.6982\n",
      "Batch [94/229] Loss: 0.6774\n",
      "Batch [95/229] Loss: 0.6775\n",
      "Batch [96/229] Loss: 0.6877\n"
     ]
    },
    {
     "name": "stderr",
     "output_type": "stream",
     "text": [
      "Epoch 9/10 | Loss: 0.6853:  44%|█████████████                 | 100/229 [00:34<00:33,  3.88it/s]"
     ]
    },
    {
     "name": "stdout",
     "output_type": "stream",
     "text": [
      "Batch [97/229] Loss: 0.6617\n",
      "Batch [98/229] Loss: 0.7063\n",
      "Batch [99/229] Loss: 0.6776\n",
      "Batch [100/229] Loss: 0.6853\n"
     ]
    },
    {
     "name": "stderr",
     "output_type": "stream",
     "text": [
      "Epoch 9/10 | Loss: 0.6883:  44%|█████████████▏                | 101/229 [00:35<00:51,  2.47it/s]"
     ]
    },
    {
     "name": "stdout",
     "output_type": "stream",
     "text": [
      "Batch [101/229] Loss: 0.7076\n",
      "Batch [102/229] Loss: 0.6883\n"
     ]
    },
    {
     "name": "stderr",
     "output_type": "stream",
     "text": [
      "Epoch 9/10 | Loss: 0.7030:  45%|█████████████▍                | 103/229 [00:35<00:40,  3.09it/s]"
     ]
    },
    {
     "name": "stdout",
     "output_type": "stream",
     "text": [
      "Batch [103/229] Loss: 0.6700\n",
      "Batch [104/229] Loss: 0.7030\n"
     ]
    },
    {
     "name": "stderr",
     "output_type": "stream",
     "text": [
      "Epoch 9/10 | Loss: 0.6774:  46%|█████████████▊                | 105/229 [00:36<00:47,  2.60it/s]"
     ]
    },
    {
     "name": "stdout",
     "output_type": "stream",
     "text": [
      "Batch [105/229] Loss: 0.6775\n",
      "Batch [106/229] Loss: 0.6774\n"
     ]
    },
    {
     "name": "stderr",
     "output_type": "stream",
     "text": [
      "Epoch 9/10 | Loss: 0.6715:  47%|██████████████                | 107/229 [00:36<00:36,  3.35it/s]"
     ]
    },
    {
     "name": "stdout",
     "output_type": "stream",
     "text": [
      "Batch [107/229] Loss: 0.6779\n",
      "Batch [108/229] Loss: 0.6715\n"
     ]
    },
    {
     "name": "stderr",
     "output_type": "stream",
     "text": [
      "Epoch 9/10 | Loss: 0.6787:  48%|██████████████▌               | 111/229 [00:38<00:35,  3.32it/s]"
     ]
    },
    {
     "name": "stdout",
     "output_type": "stream",
     "text": [
      "Batch [109/229] Loss: 0.6853\n",
      "Batch [110/229] Loss: 0.6775\n",
      "Batch [111/229] Loss: 0.6787\n"
     ]
    },
    {
     "name": "stderr",
     "output_type": "stream",
     "text": [
      "\r",
      "Epoch 9/10 | Loss: 0.6854:  48%|██████████████▌               | 111/229 [00:38<00:35,  3.32it/s]"
     ]
    },
    {
     "name": "stdout",
     "output_type": "stream",
     "text": [
      "Batch [112/229] Loss: 0.6854\n"
     ]
    },
    {
     "name": "stderr",
     "output_type": "stream",
     "text": [
      "Epoch 9/10 | Loss: 0.6702:  51%|███████████████▏              | 116/229 [00:39<00:27,  4.07it/s]"
     ]
    },
    {
     "name": "stdout",
     "output_type": "stream",
     "text": [
      "Batch [113/229] Loss: 0.6873\n",
      "Batch [114/229] Loss: 0.6775\n",
      "Batch [115/229] Loss: 0.6853\n",
      "Batch [116/229] Loss: 0.6702\n"
     ]
    },
    {
     "name": "stderr",
     "output_type": "stream",
     "text": [
      "Epoch 9/10 | Loss: 0.6853:  52%|███████████████▌              | 119/229 [00:40<00:31,  3.49it/s]"
     ]
    },
    {
     "name": "stdout",
     "output_type": "stream",
     "text": [
      "Batch [117/229] Loss: 0.6774\n",
      "Batch [118/229] Loss: 0.6854\n",
      "Batch [119/229] Loss: 0.6854\n",
      "Batch [120/229] Loss: 0.6853\n"
     ]
    },
    {
     "name": "stderr",
     "output_type": "stream",
     "text": [
      "Epoch 9/10 | Loss: 0.6773:  54%|████████████████▏             | 124/229 [00:42<00:28,  3.71it/s]"
     ]
    },
    {
     "name": "stdout",
     "output_type": "stream",
     "text": [
      "Batch [121/229] Loss: 0.6853\n",
      "Batch [122/229] Loss: 0.6905\n",
      "Batch [123/229] Loss: 0.6853\n",
      "Batch [124/229] Loss: 0.6773\n"
     ]
    },
    {
     "name": "stderr",
     "output_type": "stream",
     "text": [
      "Epoch 9/10 | Loss: 0.6854:  55%|████████████████▌             | 126/229 [00:43<00:37,  2.78it/s]"
     ]
    },
    {
     "name": "stdout",
     "output_type": "stream",
     "text": [
      "Batch [125/229] Loss: 0.6772\n",
      "Batch [126/229] Loss: 0.6854\n"
     ]
    },
    {
     "name": "stderr",
     "output_type": "stream",
     "text": [
      "Epoch 9/10 | Loss: 0.6987:  55%|████████████████▋             | 127/229 [00:43<00:37,  2.69it/s]"
     ]
    },
    {
     "name": "stdout",
     "output_type": "stream",
     "text": [
      "Batch [127/229] Loss: 0.6853\n",
      "Batch [128/229] Loss: 0.6987\n"
     ]
    },
    {
     "name": "stderr",
     "output_type": "stream",
     "text": [
      "Epoch 9/10 | Loss: 0.6774:  56%|████████████████▉             | 129/229 [00:44<00:40,  2.46it/s]"
     ]
    },
    {
     "name": "stdout",
     "output_type": "stream",
     "text": [
      "Batch [129/229] Loss: 0.6617\n",
      "Batch [130/229] Loss: 0.6774\n"
     ]
    },
    {
     "name": "stderr",
     "output_type": "stream",
     "text": [
      "Epoch 9/10 | Loss: 0.7062:  57%|█████████████████▏            | 131/229 [00:45<00:35,  2.77it/s]"
     ]
    },
    {
     "name": "stdout",
     "output_type": "stream",
     "text": [
      "Batch [131/229] Loss: 0.6855\n",
      "Batch [132/229] Loss: 0.7062\n"
     ]
    },
    {
     "name": "stderr",
     "output_type": "stream",
     "text": [
      "Epoch 9/10 | Loss: 0.6773:  58%|█████████████████▍            | 133/229 [00:46<00:36,  2.63it/s]"
     ]
    },
    {
     "name": "stdout",
     "output_type": "stream",
     "text": [
      "Batch [133/229] Loss: 0.6695\n",
      "Batch [134/229] Loss: 0.6773\n"
     ]
    },
    {
     "name": "stderr",
     "output_type": "stream",
     "text": [
      "Epoch 9/10 | Loss: 0.6695:  59%|█████████████████▋            | 135/229 [00:46<00:31,  2.99it/s]"
     ]
    },
    {
     "name": "stdout",
     "output_type": "stream",
     "text": [
      "Batch [135/229] Loss: 0.6695\n",
      "Batch [136/229] Loss: 0.6695\n"
     ]
    },
    {
     "name": "stderr",
     "output_type": "stream",
     "text": [
      "Epoch 9/10 | Loss: 0.6775:  60%|█████████████████▉            | 137/229 [00:47<00:35,  2.58it/s]"
     ]
    },
    {
     "name": "stdout",
     "output_type": "stream",
     "text": [
      "Batch [137/229] Loss: 0.6853\n",
      "Batch [138/229] Loss: 0.6775\n"
     ]
    },
    {
     "name": "stderr",
     "output_type": "stream",
     "text": [
      "Epoch 9/10 | Loss: 0.6932:  61%|██████████████████▏           | 139/229 [00:48<00:29,  3.06it/s]"
     ]
    },
    {
     "name": "stdout",
     "output_type": "stream",
     "text": [
      "Batch [139/229] Loss: 0.6774\n",
      "Batch [140/229] Loss: 0.6932\n"
     ]
    },
    {
     "name": "stderr",
     "output_type": "stream",
     "text": [
      "Epoch 9/10 | Loss: 0.6905:  62%|██████████████████▍           | 141/229 [00:49<00:33,  2.61it/s]"
     ]
    },
    {
     "name": "stdout",
     "output_type": "stream",
     "text": [
      "Batch [141/229] Loss: 0.6933\n",
      "Batch [142/229] Loss: 0.6905\n"
     ]
    },
    {
     "name": "stderr",
     "output_type": "stream",
     "text": [
      "Epoch 9/10 | Loss: 0.6906:  62%|██████████████████▋           | 143/229 [00:49<00:29,  2.94it/s]"
     ]
    },
    {
     "name": "stdout",
     "output_type": "stream",
     "text": [
      "Batch [143/229] Loss: 0.6695\n",
      "Batch [144/229] Loss: 0.6906\n"
     ]
    },
    {
     "name": "stderr",
     "output_type": "stream",
     "text": [
      "Epoch 9/10 | Loss: 0.6905:  63%|██████████████████▉           | 145/229 [00:50<00:32,  2.58it/s]"
     ]
    },
    {
     "name": "stdout",
     "output_type": "stream",
     "text": [
      "Batch [145/229] Loss: 0.6695\n",
      "Batch [146/229] Loss: 0.6905\n"
     ]
    },
    {
     "name": "stderr",
     "output_type": "stream",
     "text": [
      "Epoch 9/10 | Loss: 0.6774:  64%|███████████████████▎          | 147/229 [00:51<00:31,  2.59it/s]"
     ]
    },
    {
     "name": "stdout",
     "output_type": "stream",
     "text": [
      "Batch [147/229] Loss: 0.6932\n",
      "Batch [148/229] Loss: 0.6774\n"
     ]
    },
    {
     "name": "stderr",
     "output_type": "stream",
     "text": [
      "Epoch 9/10 | Loss: 0.6854:  65%|███████████████████▌          | 149/229 [00:52<00:29,  2.73it/s]"
     ]
    },
    {
     "name": "stdout",
     "output_type": "stream",
     "text": [
      "Batch [149/229] Loss: 0.6848\n",
      "Batch [150/229] Loss: 0.6854\n"
     ]
    },
    {
     "name": "stderr",
     "output_type": "stream",
     "text": [
      "Epoch 9/10 | Loss: 0.6538:  66%|███████████████████▊          | 151/229 [00:52<00:30,  2.54it/s]"
     ]
    },
    {
     "name": "stdout",
     "output_type": "stream",
     "text": [
      "Batch [151/229] Loss: 0.6851\n",
      "Batch [152/229] Loss: 0.6538\n"
     ]
    },
    {
     "name": "stderr",
     "output_type": "stream",
     "text": [
      "Epoch 9/10 | Loss: 0.6536:  67%|████████████████████          | 153/229 [00:53<00:24,  3.06it/s]"
     ]
    },
    {
     "name": "stdout",
     "output_type": "stream",
     "text": [
      "Batch [153/229] Loss: 0.6696\n",
      "Batch [154/229] Loss: 0.6536\n"
     ]
    },
    {
     "name": "stderr",
     "output_type": "stream",
     "text": [
      "Epoch 9/10 | Loss: 0.6855:  69%|████████████████████▋         | 158/229 [00:54<00:19,  3.66it/s]"
     ]
    },
    {
     "name": "stdout",
     "output_type": "stream",
     "text": [
      "Batch [155/229] Loss: 0.6932\n",
      "Batch [156/229] Loss: 0.6904\n",
      "Batch [157/229] Loss: 0.6825\n",
      "Batch [158/229] Loss: 0.6855\n"
     ]
    },
    {
     "name": "stderr",
     "output_type": "stream",
     "text": [
      "Epoch 9/10 | Loss: 0.7112:  71%|█████████████████████▏        | 162/229 [00:56<00:18,  3.71it/s]"
     ]
    },
    {
     "name": "stdout",
     "output_type": "stream",
     "text": [
      "Batch [159/229] Loss: 0.6773\n",
      "Batch [160/229] Loss: 0.7111\n",
      "Batch [161/229] Loss: 0.6854\n",
      "Batch [162/229] Loss: 0.7112\n"
     ]
    },
    {
     "name": "stderr",
     "output_type": "stream",
     "text": [
      "Epoch 9/10 | Loss: 0.6932:  72%|█████████████████████▋        | 166/229 [00:57<00:17,  3.61it/s]"
     ]
    },
    {
     "name": "stdout",
     "output_type": "stream",
     "text": [
      "Batch [163/229] Loss: 0.6848\n",
      "Batch [164/229] Loss: 0.6902\n",
      "Batch [165/229] Loss: 0.6616\n",
      "Batch [166/229] Loss: 0.6932\n"
     ]
    },
    {
     "name": "stderr",
     "output_type": "stream",
     "text": [
      "Epoch 9/10 | Loss: 0.6696:  73%|██████████████████████        | 168/229 [00:58<00:21,  2.82it/s]"
     ]
    },
    {
     "name": "stdout",
     "output_type": "stream",
     "text": [
      "Batch [167/229] Loss: 0.6703\n",
      "Batch [168/229] Loss: 0.6696\n"
     ]
    },
    {
     "name": "stderr",
     "output_type": "stream",
     "text": [
      "Epoch 9/10 | Loss: 0.6696:  74%|██████████████████████▏       | 169/229 [00:58<00:19,  3.04it/s]"
     ]
    },
    {
     "name": "stdout",
     "output_type": "stream",
     "text": [
      "Batch [169/229] Loss: 0.6904\n",
      "Batch [170/229] Loss: 0.6696\n"
     ]
    },
    {
     "name": "stderr",
     "output_type": "stream",
     "text": [
      "Epoch 9/10 | Loss: 0.6695:  75%|██████████████████████▍       | 171/229 [00:59<00:22,  2.53it/s]"
     ]
    },
    {
     "name": "stdout",
     "output_type": "stream",
     "text": [
      "Batch [171/229] Loss: 0.6694\n",
      "Batch [172/229] Loss: 0.6695\n"
     ]
    },
    {
     "name": "stderr",
     "output_type": "stream",
     "text": [
      "Epoch 9/10 | Loss: 0.6985:  76%|██████████████████████▋       | 173/229 [00:59<00:16,  3.30it/s]"
     ]
    },
    {
     "name": "stdout",
     "output_type": "stream",
     "text": [
      "Batch [173/229] Loss: 0.6618\n",
      "Batch [174/229] Loss: 0.6985\n"
     ]
    },
    {
     "name": "stderr",
     "output_type": "stream",
     "text": [
      "Epoch 9/10 | Loss: 0.6948:  77%|███████████████████████▏      | 177/229 [01:01<00:15,  3.35it/s]"
     ]
    },
    {
     "name": "stdout",
     "output_type": "stream",
     "text": [
      "Batch [175/229] Loss: 0.6854\n",
      "Batch [176/229] Loss: 0.6904\n",
      "Batch [177/229] Loss: 0.6695\n",
      "Batch [178/229] Loss: 0.6948\n"
     ]
    },
    {
     "name": "stderr",
     "output_type": "stream",
     "text": [
      "Epoch 9/10 | Loss: 0.6694:  79%|███████████████████████▊      | 182/229 [01:02<00:12,  3.80it/s]"
     ]
    },
    {
     "name": "stdout",
     "output_type": "stream",
     "text": [
      "Batch [179/229] Loss: 0.6900\n",
      "Batch [180/229] Loss: 0.7065\n",
      "Batch [181/229] Loss: 0.6696\n",
      "Batch [182/229] Loss: 0.6694\n"
     ]
    },
    {
     "name": "stderr",
     "output_type": "stream",
     "text": [
      "Epoch 9/10 | Loss: 0.6775:  80%|████████████████████████      | 184/229 [01:03<00:14,  3.11it/s]"
     ]
    },
    {
     "name": "stdout",
     "output_type": "stream",
     "text": [
      "Batch [183/229] Loss: 0.6701\n",
      "Batch [184/229] Loss: 0.6775\n"
     ]
    },
    {
     "name": "stderr",
     "output_type": "stream",
     "text": [
      "Epoch 9/10 | Loss: 0.6469:  81%|████████████████████████▏     | 185/229 [01:04<00:15,  2.89it/s]"
     ]
    },
    {
     "name": "stdout",
     "output_type": "stream",
     "text": [
      "Batch [185/229] Loss: 0.6774\n",
      "Batch [186/229] Loss: 0.6469\n"
     ]
    },
    {
     "name": "stderr",
     "output_type": "stream",
     "text": [
      "Epoch 9/10 | Loss: 0.6698:  82%|████████████████████████▍     | 187/229 [01:05<00:15,  2.67it/s]"
     ]
    },
    {
     "name": "stdout",
     "output_type": "stream",
     "text": [
      "Batch [187/229] Loss: 0.6902\n",
      "Batch [188/229] Loss: 0.6698\n"
     ]
    },
    {
     "name": "stderr",
     "output_type": "stream",
     "text": [
      "Epoch 9/10 | Loss: 0.6825:  83%|████████████████████████▊     | 189/229 [01:05<00:14,  2.67it/s]"
     ]
    },
    {
     "name": "stdout",
     "output_type": "stream",
     "text": [
      "Batch [189/229] Loss: 0.6854\n",
      "Batch [190/229] Loss: 0.6825\n"
     ]
    },
    {
     "name": "stderr",
     "output_type": "stream",
     "text": [
      "Epoch 9/10 | Loss: 0.6902:  83%|█████████████████████████     | 191/229 [01:06<00:13,  2.80it/s]"
     ]
    },
    {
     "name": "stdout",
     "output_type": "stream",
     "text": [
      "Batch [191/229] Loss: 0.6696\n",
      "Batch [192/229] Loss: 0.6902\n"
     ]
    },
    {
     "name": "stderr",
     "output_type": "stream",
     "text": [
      "Epoch 9/10 | Loss: 0.7034:  84%|█████████████████████████▎    | 193/229 [01:07<00:13,  2.69it/s]"
     ]
    },
    {
     "name": "stdout",
     "output_type": "stream",
     "text": [
      "Batch [193/229] Loss: 0.6695\n",
      "Batch [194/229] Loss: 0.7034\n"
     ]
    },
    {
     "name": "stderr",
     "output_type": "stream",
     "text": [
      "Epoch 9/10 | Loss: 0.6695:  85%|█████████████████████████▌    | 195/229 [01:07<00:12,  2.74it/s]"
     ]
    },
    {
     "name": "stdout",
     "output_type": "stream",
     "text": [
      "Batch [195/229] Loss: 0.6932\n",
      "Batch [196/229] Loss: 0.6695\n"
     ]
    },
    {
     "name": "stderr",
     "output_type": "stream",
     "text": [
      "Epoch 9/10 | Loss: 0.6774:  86%|█████████████████████████▊    | 197/229 [01:08<00:11,  2.71it/s]"
     ]
    },
    {
     "name": "stdout",
     "output_type": "stream",
     "text": [
      "Batch [197/229] Loss: 0.6694\n",
      "Batch [198/229] Loss: 0.6774\n"
     ]
    },
    {
     "name": "stderr",
     "output_type": "stream",
     "text": [
      "Epoch 9/10 | Loss: 0.6853:  87%|██████████████████████████    | 199/229 [01:09<00:11,  2.61it/s]"
     ]
    },
    {
     "name": "stdout",
     "output_type": "stream",
     "text": [
      "Batch [199/229] Loss: 0.6775\n",
      "Batch [200/229] Loss: 0.6853\n"
     ]
    },
    {
     "name": "stderr",
     "output_type": "stream",
     "text": [
      "Epoch 9/10 | Loss: 0.6695:  88%|██████████████████████████▎   | 201/229 [01:10<00:10,  2.73it/s]"
     ]
    },
    {
     "name": "stdout",
     "output_type": "stream",
     "text": [
      "Batch [201/229] Loss: 0.6774\n",
      "Batch [202/229] Loss: 0.6695\n"
     ]
    },
    {
     "name": "stderr",
     "output_type": "stream",
     "text": [
      "Epoch 9/10 | Loss: 0.6774:  89%|██████████████████████████▌   | 203/229 [01:10<00:09,  2.82it/s]"
     ]
    },
    {
     "name": "stdout",
     "output_type": "stream",
     "text": [
      "Batch [203/229] Loss: 0.6901\n",
      "Batch [204/229] Loss: 0.6774\n"
     ]
    },
    {
     "name": "stderr",
     "output_type": "stream",
     "text": [
      "Epoch 9/10 | Loss: 0.6775:  90%|██████████████████████████▊   | 205/229 [01:11<00:08,  2.75it/s]"
     ]
    },
    {
     "name": "stdout",
     "output_type": "stream",
     "text": [
      "Batch [205/229] Loss: 0.6856\n",
      "Batch [206/229] Loss: 0.6775\n"
     ]
    },
    {
     "name": "stderr",
     "output_type": "stream",
     "text": [
      "Epoch 9/10 | Loss: 0.6774:  90%|███████████████████████████   | 207/229 [01:12<00:07,  2.91it/s]"
     ]
    },
    {
     "name": "stdout",
     "output_type": "stream",
     "text": [
      "Batch [207/229] Loss: 0.6696\n",
      "Batch [208/229] Loss: 0.6774\n"
     ]
    },
    {
     "name": "stderr",
     "output_type": "stream",
     "text": [
      "Epoch 9/10 | Loss: 0.6853:  91%|███████████████████████████▍  | 209/229 [01:12<00:06,  3.01it/s]"
     ]
    },
    {
     "name": "stdout",
     "output_type": "stream",
     "text": [
      "Batch [209/229] Loss: 0.6616\n",
      "Batch [210/229] Loss: 0.6853\n"
     ]
    },
    {
     "name": "stderr",
     "output_type": "stream",
     "text": [
      "Epoch 9/10 | Loss: 0.6695:  92%|███████████████████████████▋  | 211/229 [01:13<00:05,  3.05it/s]"
     ]
    },
    {
     "name": "stdout",
     "output_type": "stream",
     "text": [
      "Batch [211/229] Loss: 0.6822\n",
      "Batch [212/229] Loss: 0.6695\n"
     ]
    },
    {
     "name": "stderr",
     "output_type": "stream",
     "text": [
      "Epoch 9/10 | Loss: 0.6933:  93%|███████████████████████████▉  | 213/229 [01:14<00:05,  3.17it/s]"
     ]
    },
    {
     "name": "stdout",
     "output_type": "stream",
     "text": [
      "Batch [213/229] Loss: 0.7071\n",
      "Batch [214/229] Loss: 0.6933\n"
     ]
    },
    {
     "name": "stderr",
     "output_type": "stream",
     "text": [
      "Epoch 9/10 | Loss: 0.6853:  94%|████████████████████████████▏ | 215/229 [01:14<00:04,  2.95it/s]"
     ]
    },
    {
     "name": "stdout",
     "output_type": "stream",
     "text": [
      "Batch [215/229] Loss: 0.6774\n",
      "Batch [216/229] Loss: 0.6853\n"
     ]
    },
    {
     "name": "stderr",
     "output_type": "stream",
     "text": [
      "Epoch 9/10 | Loss: 0.6695:  95%|████████████████████████████▍ | 217/229 [01:15<00:04,  2.67it/s]"
     ]
    },
    {
     "name": "stdout",
     "output_type": "stream",
     "text": [
      "Batch [217/229] Loss: 0.6696\n",
      "Batch [218/229] Loss: 0.6695\n"
     ]
    },
    {
     "name": "stderr",
     "output_type": "stream",
     "text": [
      "Epoch 9/10 | Loss: 0.6774:  96%|████████████████████████████▋ | 219/229 [01:16<00:03,  2.84it/s]"
     ]
    },
    {
     "name": "stdout",
     "output_type": "stream",
     "text": [
      "Batch [219/229] Loss: 0.6854\n",
      "Batch [220/229] Loss: 0.6774\n"
     ]
    },
    {
     "name": "stderr",
     "output_type": "stream",
     "text": [
      "Epoch 9/10 | Loss: 0.6774:  97%|████████████████████████████▉ | 221/229 [01:17<00:02,  2.86it/s]"
     ]
    },
    {
     "name": "stdout",
     "output_type": "stream",
     "text": [
      "Batch [221/229] Loss: 0.6826\n",
      "Batch [222/229] Loss: 0.6774\n"
     ]
    },
    {
     "name": "stderr",
     "output_type": "stream",
     "text": [
      "Epoch 9/10 | Loss: 0.6694:  97%|█████████████████████████████▏| 223/229 [01:17<00:02,  2.95it/s]"
     ]
    },
    {
     "name": "stdout",
     "output_type": "stream",
     "text": [
      "Batch [223/229] Loss: 0.6695\n",
      "Batch [224/229] Loss: 0.6694\n"
     ]
    },
    {
     "name": "stderr",
     "output_type": "stream",
     "text": [
      "Epoch 9/10 | Loss: 0.6903:  98%|█████████████████████████████▍| 225/229 [01:18<00:01,  3.01it/s]"
     ]
    },
    {
     "name": "stdout",
     "output_type": "stream",
     "text": [
      "Batch [225/229] Loss: 0.6932\n",
      "Batch [226/229] Loss: 0.6903\n"
     ]
    },
    {
     "name": "stderr",
     "output_type": "stream",
     "text": [
      "Epoch 9/10 | Loss: 0.6696:  99%|█████████████████████████████▋| 227/229 [01:18<00:00,  3.17it/s]"
     ]
    },
    {
     "name": "stdout",
     "output_type": "stream",
     "text": [
      "Batch [227/229] Loss: 0.6932\n",
      "Batch [228/229] Loss: 0.6696\n"
     ]
    },
    {
     "name": "stderr",
     "output_type": "stream",
     "text": [
      "Epoch 9/10 | Loss: 0.6752: 100%|██████████████████████████████| 229/229 [01:19<00:00,  2.88it/s]\n"
     ]
    },
    {
     "name": "stdout",
     "output_type": "stream",
     "text": [
      "Batch [229/229] Loss: 0.6752\n",
      "\n",
      "Epoch 9 Summary:\n",
      "Average Loss: 0.6824\n",
      "\n",
      "Epoch 10/10\n",
      "==================================================\n"
     ]
    },
    {
     "name": "stderr",
     "output_type": "stream",
     "text": [
      "Epoch 10/10 | Loss: 0.6932:   2%|▌                             | 4/229 [00:01<01:16,  2.96it/s]"
     ]
    },
    {
     "name": "stdout",
     "output_type": "stream",
     "text": [
      "Batch [1/229] Loss: 0.6933\n",
      "Batch [2/229] Loss: 0.6615\n",
      "Batch [3/229] Loss: 0.6854\n",
      "Batch [4/229] Loss: 0.6932\n"
     ]
    },
    {
     "name": "stderr",
     "output_type": "stream",
     "text": [
      "Epoch 10/10 | Loss: 0.6982:   3%|▊                             | 6/229 [00:03<01:44,  2.13it/s]"
     ]
    },
    {
     "name": "stdout",
     "output_type": "stream",
     "text": [
      "Batch [5/229] Loss: 0.6695\n",
      "Batch [6/229] Loss: 0.6903\n",
      "Batch [7/229] Loss: 0.6616\n",
      "Batch [8/229] Loss: 0.6982\n"
     ]
    },
    {
     "name": "stderr",
     "output_type": "stream",
     "text": [
      "Epoch 10/10 | Loss: 0.6622:   5%|█▌                            | 12/229 [00:04<01:03,  3.43it/s]"
     ]
    },
    {
     "name": "stdout",
     "output_type": "stream",
     "text": [
      "Batch [9/229] Loss: 0.6854\n",
      "Batch [10/229] Loss: 0.6911\n",
      "Batch [11/229] Loss: 0.6903\n",
      "Batch [12/229] Loss: 0.6622\n"
     ]
    },
    {
     "name": "stderr",
     "output_type": "stream",
     "text": [
      "Epoch 10/10 | Loss: 0.6982:   6%|█▊                            | 14/229 [00:05<01:24,  2.54it/s]"
     ]
    },
    {
     "name": "stdout",
     "output_type": "stream",
     "text": [
      "Batch [13/229] Loss: 0.6775\n",
      "Batch [14/229] Loss: 0.6821\n",
      "Batch [15/229] Loss: 0.6695\n",
      "Batch [16/229] Loss: 0.6982\n"
     ]
    },
    {
     "name": "stderr",
     "output_type": "stream",
     "text": [
      "Epoch 10/10 | Loss: 0.6778:   9%|██▌                           | 20/229 [00:07<00:59,  3.50it/s]"
     ]
    },
    {
     "name": "stdout",
     "output_type": "stream",
     "text": [
      "Batch [17/229] Loss: 0.6774\n",
      "Batch [18/229] Loss: 0.6695\n",
      "Batch [19/229] Loss: 0.6903\n",
      "Batch [20/229] Loss: 0.6778\n"
     ]
    },
    {
     "name": "stderr",
     "output_type": "stream",
     "text": [
      "Epoch 10/10 | Loss: 0.6982:  10%|██▉                           | 22/229 [00:08<01:19,  2.61it/s]"
     ]
    },
    {
     "name": "stdout",
     "output_type": "stream",
     "text": [
      "Batch [21/229] Loss: 0.6853\n",
      "Batch [22/229] Loss: 0.7007\n",
      "Batch [23/229] Loss: 0.6932\n",
      "Batch [24/229] Loss: 0.6982\n"
     ]
    },
    {
     "name": "stderr",
     "output_type": "stream",
     "text": [
      "Epoch 10/10 | Loss: 0.6853:  12%|███▋                          | 28/229 [00:10<00:58,  3.46it/s]"
     ]
    },
    {
     "name": "stdout",
     "output_type": "stream",
     "text": [
      "Batch [25/229] Loss: 0.6853\n",
      "Batch [26/229] Loss: 0.6774\n",
      "Batch [27/229] Loss: 0.6983\n",
      "Batch [28/229] Loss: 0.6853\n"
     ]
    },
    {
     "name": "stderr",
     "output_type": "stream",
     "text": [
      "Epoch 10/10 | Loss: 0.6694:  13%|███▉                          | 30/229 [00:11<01:19,  2.50it/s]"
     ]
    },
    {
     "name": "stdout",
     "output_type": "stream",
     "text": [
      "Batch [29/229] Loss: 0.6932\n",
      "Batch [30/229] Loss: 0.6854\n",
      "Batch [31/229] Loss: 0.6903\n",
      "Batch [32/229] Loss: 0.6694\n"
     ]
    },
    {
     "name": "stderr",
     "output_type": "stream",
     "text": [
      "Epoch 10/10 | Loss: 0.6696:  16%|████▋                         | 36/229 [00:13<00:58,  3.31it/s]"
     ]
    },
    {
     "name": "stdout",
     "output_type": "stream",
     "text": [
      "Batch [33/229] Loss: 0.6932\n",
      "Batch [34/229] Loss: 0.6696\n",
      "Batch [35/229] Loss: 0.6616\n",
      "Batch [36/229] Loss: 0.6696\n"
     ]
    },
    {
     "name": "stderr",
     "output_type": "stream",
     "text": [
      "Epoch 10/10 | Loss: 0.6854:  17%|████▉                         | 38/229 [00:14<01:16,  2.48it/s]"
     ]
    },
    {
     "name": "stdout",
     "output_type": "stream",
     "text": [
      "Batch [37/229] Loss: 0.6932\n",
      "Batch [38/229] Loss: 0.6696\n",
      "Batch [39/229] Loss: 0.6932\n",
      "Batch [40/229] Loss: 0.6854\n"
     ]
    },
    {
     "name": "stderr",
     "output_type": "stream",
     "text": [
      "Epoch 10/10 | Loss: 0.6853:  19%|█████▊                        | 44/229 [00:16<00:59,  3.13it/s]"
     ]
    },
    {
     "name": "stdout",
     "output_type": "stream",
     "text": [
      "Batch [41/229] Loss: 0.6853\n",
      "Batch [42/229] Loss: 0.6774\n",
      "Batch [43/229] Loss: 0.6774\n",
      "Batch [44/229] Loss: 0.6853\n"
     ]
    },
    {
     "name": "stderr",
     "output_type": "stream",
     "text": [
      "Epoch 10/10 | Loss: 0.6774:  20%|██████                        | 46/229 [00:17<01:14,  2.46it/s]"
     ]
    },
    {
     "name": "stdout",
     "output_type": "stream",
     "text": [
      "Batch [45/229] Loss: 0.6898\n",
      "Batch [46/229] Loss: 0.6853\n",
      "Batch [47/229] Loss: 0.7061\n",
      "Batch [48/229] Loss: 0.6774\n"
     ]
    },
    {
     "name": "stderr",
     "output_type": "stream",
     "text": [
      "Epoch 10/10 | Loss: 0.6775:  23%|██████▊                       | 52/229 [00:19<00:51,  3.41it/s]"
     ]
    },
    {
     "name": "stdout",
     "output_type": "stream",
     "text": [
      "Batch [49/229] Loss: 0.7029\n",
      "Batch [50/229] Loss: 0.6775\n",
      "Batch [51/229] Loss: 0.6852\n",
      "Batch [52/229] Loss: 0.6775\n"
     ]
    },
    {
     "name": "stderr",
     "output_type": "stream",
     "text": [
      "Epoch 10/10 | Loss: 0.6777:  24%|███████                       | 54/229 [00:20<01:11,  2.46it/s]"
     ]
    },
    {
     "name": "stdout",
     "output_type": "stream",
     "text": [
      "Batch [53/229] Loss: 0.6853\n",
      "Batch [54/229] Loss: 0.6853\n",
      "Batch [55/229] Loss: 0.6982\n",
      "Batch [56/229] Loss: 0.6777\n"
     ]
    },
    {
     "name": "stderr",
     "output_type": "stream",
     "text": [
      "Epoch 10/10 | Loss: 0.6824:  26%|███████▊                      | 60/229 [00:22<00:51,  3.30it/s]"
     ]
    },
    {
     "name": "stdout",
     "output_type": "stream",
     "text": [
      "Batch [57/229] Loss: 0.6695\n",
      "Batch [58/229] Loss: 0.6853\n",
      "Batch [59/229] Loss: 0.6775\n",
      "Batch [60/229] Loss: 0.6824\n"
     ]
    },
    {
     "name": "stderr",
     "output_type": "stream",
     "text": [
      "Epoch 10/10 | Loss: 0.6919:  27%|████████                      | 62/229 [00:23<01:04,  2.60it/s]"
     ]
    },
    {
     "name": "stdout",
     "output_type": "stream",
     "text": [
      "Batch [61/229] Loss: 0.6785\n",
      "Batch [62/229] Loss: 0.6774\n",
      "Batch [63/229] Loss: 0.6932\n",
      "Batch [64/229] Loss: 0.6919\n"
     ]
    },
    {
     "name": "stderr",
     "output_type": "stream",
     "text": [
      "Epoch 10/10 | Loss: 0.6695:  30%|████████▉                     | 68/229 [00:25<00:45,  3.50it/s]"
     ]
    },
    {
     "name": "stdout",
     "output_type": "stream",
     "text": [
      "Batch [65/229] Loss: 0.6564\n",
      "Batch [66/229] Loss: 0.7111\n",
      "Batch [67/229] Loss: 0.6695\n",
      "Batch [68/229] Loss: 0.6695\n"
     ]
    },
    {
     "name": "stderr",
     "output_type": "stream",
     "text": [
      "Epoch 10/10 | Loss: 0.6853:  31%|█████████▏                    | 70/229 [00:26<01:03,  2.49it/s]"
     ]
    },
    {
     "name": "stdout",
     "output_type": "stream",
     "text": [
      "Batch [69/229] Loss: 0.6695\n",
      "Batch [70/229] Loss: 0.6616\n",
      "Batch [71/229] Loss: 0.6902\n",
      "Batch [72/229] Loss: 0.6853\n"
     ]
    },
    {
     "name": "stderr",
     "output_type": "stream",
     "text": [
      "Epoch 10/10 | Loss: 0.6776:  33%|█████████▉                    | 76/229 [00:28<00:46,  3.29it/s]"
     ]
    },
    {
     "name": "stdout",
     "output_type": "stream",
     "text": [
      "Batch [73/229] Loss: 0.6774\n",
      "Batch [74/229] Loss: 0.6774\n",
      "Batch [75/229] Loss: 0.6853\n",
      "Batch [76/229] Loss: 0.6776\n"
     ]
    },
    {
     "name": "stderr",
     "output_type": "stream",
     "text": [
      "Epoch 10/10 | Loss: 0.6694:  34%|██████████▏                   | 78/229 [00:29<00:58,  2.56it/s]"
     ]
    },
    {
     "name": "stdout",
     "output_type": "stream",
     "text": [
      "Batch [77/229] Loss: 0.6616\n",
      "Batch [78/229] Loss: 0.6935\n",
      "Batch [79/229] Loss: 0.6854\n",
      "Batch [80/229] Loss: 0.6694\n"
     ]
    },
    {
     "name": "stderr",
     "output_type": "stream",
     "text": [
      "Epoch 10/10 | Loss: 0.6696:  37%|███████████                   | 84/229 [00:31<00:43,  3.30it/s]"
     ]
    },
    {
     "name": "stdout",
     "output_type": "stream",
     "text": [
      "Batch [81/229] Loss: 0.6695\n",
      "Batch [82/229] Loss: 0.6853\n",
      "Batch [83/229] Loss: 0.6693\n",
      "Batch [84/229] Loss: 0.6696\n"
     ]
    },
    {
     "name": "stderr",
     "output_type": "stream",
     "text": [
      "Epoch 10/10 | Loss: 0.6695:  38%|███████████▎                  | 86/229 [00:32<01:00,  2.37it/s]"
     ]
    },
    {
     "name": "stdout",
     "output_type": "stream",
     "text": [
      "Batch [85/229] Loss: 0.6932\n",
      "Batch [86/229] Loss: 0.6747\n",
      "Batch [87/229] Loss: 0.6854\n",
      "Batch [88/229] Loss: 0.6695\n"
     ]
    },
    {
     "name": "stderr",
     "output_type": "stream",
     "text": [
      "Epoch 10/10 | Loss: 0.6774:  40%|████████████                  | 92/229 [00:34<00:43,  3.19it/s]"
     ]
    },
    {
     "name": "stdout",
     "output_type": "stream",
     "text": [
      "Batch [89/229] Loss: 0.6853\n",
      "Batch [90/229] Loss: 0.6933\n",
      "Batch [91/229] Loss: 0.6996\n",
      "Batch [92/229] Loss: 0.6774\n"
     ]
    },
    {
     "name": "stderr",
     "output_type": "stream",
     "text": [
      "Epoch 10/10 | Loss: 0.6932:  41%|████████████▎                 | 94/229 [00:35<00:54,  2.48it/s]"
     ]
    },
    {
     "name": "stdout",
     "output_type": "stream",
     "text": [
      "Batch [93/229] Loss: 0.6853\n",
      "Batch [94/229] Loss: 0.6773\n",
      "Batch [95/229] Loss: 0.7061\n",
      "Batch [96/229] Loss: 0.6932\n"
     ]
    },
    {
     "name": "stderr",
     "output_type": "stream",
     "text": [
      "Epoch 10/10 | Loss: 0.6776:  44%|█████████████                 | 100/229 [00:37<00:39,  3.29it/s]"
     ]
    },
    {
     "name": "stdout",
     "output_type": "stream",
     "text": [
      "Batch [97/229] Loss: 0.6536\n",
      "Batch [98/229] Loss: 0.6932\n",
      "Batch [99/229] Loss: 0.6904\n",
      "Batch [100/229] Loss: 0.6776\n"
     ]
    },
    {
     "name": "stderr",
     "output_type": "stream",
     "text": [
      "Epoch 10/10 | Loss: 0.6932:  45%|█████████████▎                | 102/229 [00:38<00:46,  2.71it/s]"
     ]
    },
    {
     "name": "stdout",
     "output_type": "stream",
     "text": [
      "Batch [101/229] Loss: 0.6796\n",
      "Batch [102/229] Loss: 0.6695\n",
      "Batch [103/229] Loss: 0.6774\n",
      "Batch [104/229] Loss: 0.6932\n"
     ]
    },
    {
     "name": "stderr",
     "output_type": "stream",
     "text": [
      "Epoch 10/10 | Loss: 0.6774:  47%|██████████████▏               | 108/229 [00:39<00:32,  3.69it/s]"
     ]
    },
    {
     "name": "stdout",
     "output_type": "stream",
     "text": [
      "Batch [105/229] Loss: 0.6824\n",
      "Batch [106/229] Loss: 0.7239\n",
      "Batch [107/229] Loss: 0.6774\n",
      "Batch [108/229] Loss: 0.6774\n"
     ]
    },
    {
     "name": "stderr",
     "output_type": "stream",
     "text": [
      "Epoch 10/10 | Loss: 0.7320:  48%|██████████████▍               | 110/229 [00:41<00:41,  2.88it/s]"
     ]
    },
    {
     "name": "stdout",
     "output_type": "stream",
     "text": [
      "Batch [109/229] Loss: 0.6932\n",
      "Batch [110/229] Loss: 0.7061\n",
      "Batch [111/229] Loss: 0.6616\n",
      "Batch [112/229] Loss: 0.7320\n"
     ]
    },
    {
     "name": "stderr",
     "output_type": "stream",
     "text": [
      "Epoch 10/10 | Loss: 0.6891:  51%|███████████████▏              | 116/229 [00:42<00:30,  3.76it/s]"
     ]
    },
    {
     "name": "stdout",
     "output_type": "stream",
     "text": [
      "Batch [113/229] Loss: 0.6377\n",
      "Batch [114/229] Loss: 0.6932\n",
      "Batch [115/229] Loss: 0.6853\n",
      "Batch [116/229] Loss: 0.6891\n"
     ]
    },
    {
     "name": "stderr",
     "output_type": "stream",
     "text": [
      "Epoch 10/10 | Loss: 0.6823:  52%|███████████████▍              | 118/229 [00:43<00:39,  2.78it/s]"
     ]
    },
    {
     "name": "stdout",
     "output_type": "stream",
     "text": [
      "Batch [117/229] Loss: 0.6982\n",
      "Batch [118/229] Loss: 0.6932\n",
      "Batch [119/229] Loss: 0.7061\n",
      "Batch [120/229] Loss: 0.6823\n"
     ]
    },
    {
     "name": "stderr",
     "output_type": "stream",
     "text": [
      "Epoch 10/10 | Loss: 0.6744:  54%|████████████████▏             | 124/229 [00:45<00:30,  3.48it/s]"
     ]
    },
    {
     "name": "stdout",
     "output_type": "stream",
     "text": [
      "Batch [121/229] Loss: 0.6775\n",
      "Batch [122/229] Loss: 0.6616\n",
      "Batch [123/229] Loss: 0.6824\n",
      "Batch [124/229] Loss: 0.6744\n"
     ]
    },
    {
     "name": "stderr",
     "output_type": "stream",
     "text": [
      "Epoch 10/10 | Loss: 0.6774:  55%|████████████████▌             | 126/229 [00:46<00:36,  2.79it/s]"
     ]
    },
    {
     "name": "stdout",
     "output_type": "stream",
     "text": [
      "Batch [125/229] Loss: 0.6696\n",
      "Batch [126/229] Loss: 0.6854\n",
      "Batch [127/229] Loss: 0.6853\n",
      "Batch [128/229] Loss: 0.6774\n"
     ]
    },
    {
     "name": "stderr",
     "output_type": "stream",
     "text": [
      "Epoch 10/10 | Loss: 0.6774:  58%|█████████████████▎            | 132/229 [00:47<00:26,  3.68it/s]"
     ]
    },
    {
     "name": "stdout",
     "output_type": "stream",
     "text": [
      "Batch [129/229] Loss: 0.6694\n",
      "Batch [130/229] Loss: 0.7062\n",
      "Batch [131/229] Loss: 0.6696\n",
      "Batch [132/229] Loss: 0.6774\n"
     ]
    },
    {
     "name": "stderr",
     "output_type": "stream",
     "text": [
      "Epoch 10/10 | Loss: 0.6537:  59%|█████████████████▌            | 134/229 [00:49<00:32,  2.92it/s]"
     ]
    },
    {
     "name": "stdout",
     "output_type": "stream",
     "text": [
      "Batch [133/229] Loss: 0.7061\n",
      "Batch [134/229] Loss: 0.6617\n",
      "Batch [135/229] Loss: 0.6981\n",
      "Batch [136/229] Loss: 0.6537\n"
     ]
    },
    {
     "name": "stderr",
     "output_type": "stream",
     "text": [
      "Epoch 10/10 | Loss: 0.6745:  61%|██████████████████▎           | 140/229 [00:50<00:23,  3.80it/s]"
     ]
    },
    {
     "name": "stdout",
     "output_type": "stream",
     "text": [
      "Batch [137/229] Loss: 0.6695\n",
      "Batch [138/229] Loss: 0.6903\n",
      "Batch [139/229] Loss: 0.6774\n",
      "Batch [140/229] Loss: 0.6745\n"
     ]
    },
    {
     "name": "stderr",
     "output_type": "stream",
     "text": [
      "Epoch 10/10 | Loss: 0.6539:  62%|██████████████████▌           | 142/229 [00:51<00:30,  2.81it/s]"
     ]
    },
    {
     "name": "stdout",
     "output_type": "stream",
     "text": [
      "Batch [141/229] Loss: 0.6774\n",
      "Batch [142/229] Loss: 0.6695\n",
      "Batch [143/229] Loss: 0.6615\n",
      "Batch [144/229] Loss: 0.6539\n"
     ]
    },
    {
     "name": "stderr",
     "output_type": "stream",
     "text": [
      "Epoch 10/10 | Loss: 0.6774:  65%|███████████████████▍          | 148/229 [00:53<00:24,  3.35it/s]"
     ]
    },
    {
     "name": "stdout",
     "output_type": "stream",
     "text": [
      "Batch [145/229] Loss: 0.7062\n",
      "Batch [146/229] Loss: 0.6614\n",
      "Batch [147/229] Loss: 0.6695\n",
      "Batch [148/229] Loss: 0.6774\n"
     ]
    },
    {
     "name": "stderr",
     "output_type": "stream",
     "text": [
      "Epoch 10/10 | Loss: 0.6853:  66%|███████████████████▋          | 150/229 [00:54<00:30,  2.60it/s]"
     ]
    },
    {
     "name": "stdout",
     "output_type": "stream",
     "text": [
      "Batch [149/229] Loss: 0.6903\n",
      "Batch [150/229] Loss: 0.6853\n",
      "Batch [151/229] Loss: 0.6536\n",
      "Batch [152/229] Loss: 0.6853\n"
     ]
    },
    {
     "name": "stderr",
     "output_type": "stream",
     "text": [
      "Epoch 10/10 | Loss: 0.6853:  68%|████████████████████▍         | 156/229 [00:56<00:21,  3.44it/s]"
     ]
    },
    {
     "name": "stdout",
     "output_type": "stream",
     "text": [
      "Batch [153/229] Loss: 0.6774\n",
      "Batch [154/229] Loss: 0.6773\n",
      "Batch [155/229] Loss: 0.6824\n",
      "Batch [156/229] Loss: 0.6853\n"
     ]
    },
    {
     "name": "stderr",
     "output_type": "stream",
     "text": [
      "Epoch 10/10 | Loss: 0.6774:  69%|████████████████████▋         | 158/229 [00:57<00:29,  2.43it/s]"
     ]
    },
    {
     "name": "stdout",
     "output_type": "stream",
     "text": [
      "Batch [157/229] Loss: 0.6695\n",
      "Batch [158/229] Loss: 0.6774\n",
      "Batch [159/229] Loss: 0.6774\n",
      "Batch [160/229] Loss: 0.6774\n"
     ]
    },
    {
     "name": "stderr",
     "output_type": "stream",
     "text": [
      "Epoch 10/10 | Loss: 0.6902:  72%|█████████████████████▍        | 164/229 [00:59<00:19,  3.42it/s]"
     ]
    },
    {
     "name": "stdout",
     "output_type": "stream",
     "text": [
      "Batch [161/229] Loss: 0.6932\n",
      "Batch [162/229] Loss: 0.6695\n",
      "Batch [163/229] Loss: 0.7033\n",
      "Batch [164/229] Loss: 0.6902\n"
     ]
    },
    {
     "name": "stderr",
     "output_type": "stream",
     "text": [
      "Epoch 10/10 | Loss: 0.6616:  72%|█████████████████████▋        | 166/229 [01:00<00:23,  2.67it/s]"
     ]
    },
    {
     "name": "stdout",
     "output_type": "stream",
     "text": [
      "Batch [165/229] Loss: 0.6694\n",
      "Batch [166/229] Loss: 0.6773\n",
      "Batch [167/229] Loss: 0.6854\n",
      "Batch [168/229] Loss: 0.6616\n"
     ]
    },
    {
     "name": "stderr",
     "output_type": "stream",
     "text": [
      "Epoch 10/10 | Loss: 0.6981:  75%|██████████████████████▌       | 172/229 [01:01<00:15,  3.62it/s]"
     ]
    },
    {
     "name": "stdout",
     "output_type": "stream",
     "text": [
      "Batch [169/229] Loss: 0.6982\n",
      "Batch [170/229] Loss: 0.6615\n",
      "Batch [171/229] Loss: 0.7004\n",
      "Batch [172/229] Loss: 0.6981\n"
     ]
    },
    {
     "name": "stderr",
     "output_type": "stream",
     "text": [
      "Epoch 10/10 | Loss: 0.6775:  76%|██████████████████████▊       | 174/229 [01:03<00:21,  2.60it/s]"
     ]
    },
    {
     "name": "stdout",
     "output_type": "stream",
     "text": [
      "Batch [173/229] Loss: 0.6982\n",
      "Batch [174/229] Loss: 0.6615\n",
      "Batch [175/229] Loss: 0.6982\n",
      "Batch [176/229] Loss: 0.6775\n"
     ]
    },
    {
     "name": "stderr",
     "output_type": "stream",
     "text": [
      "Epoch 10/10 | Loss: 0.6774:  79%|███████████████████████▌      | 180/229 [01:04<00:13,  3.56it/s]"
     ]
    },
    {
     "name": "stdout",
     "output_type": "stream",
     "text": [
      "Batch [177/229] Loss: 0.6742\n",
      "Batch [178/229] Loss: 0.6826\n",
      "Batch [179/229] Loss: 0.6773\n",
      "Batch [180/229] Loss: 0.6774\n"
     ]
    },
    {
     "name": "stderr",
     "output_type": "stream",
     "text": [
      "Epoch 10/10 | Loss: 0.6622:  80%|████████████████████████      | 184/229 [01:05<00:12,  3.66it/s]"
     ]
    },
    {
     "name": "stdout",
     "output_type": "stream",
     "text": [
      "Batch [181/229] Loss: 0.6587\n",
      "Batch [182/229] Loss: 0.6853\n",
      "Batch [183/229] Loss: 0.7124\n",
      "Batch [184/229] Loss: 0.6622\n"
     ]
    },
    {
     "name": "stderr",
     "output_type": "stream",
     "text": [
      "Epoch 10/10 | Loss: 0.6977:  81%|████████████████████████▎     | 186/229 [01:07<00:16,  2.62it/s]"
     ]
    },
    {
     "name": "stdout",
     "output_type": "stream",
     "text": [
      "Batch [185/229] Loss: 0.6902\n",
      "Batch [186/229] Loss: 0.6790\n",
      "Batch [187/229] Loss: 0.6766\n",
      "Batch [188/229] Loss: 0.6977\n"
     ]
    },
    {
     "name": "stderr",
     "output_type": "stream",
     "text": [
      "Epoch 10/10 | Loss: 0.6537:  84%|█████████████████████████▏    | 192/229 [01:08<00:10,  3.63it/s]"
     ]
    },
    {
     "name": "stdout",
     "output_type": "stream",
     "text": [
      "Batch [189/229] Loss: 0.6853\n",
      "Batch [190/229] Loss: 0.6871\n",
      "Batch [191/229] Loss: 0.6903\n",
      "Batch [192/229] Loss: 0.6537\n"
     ]
    },
    {
     "name": "stderr",
     "output_type": "stream",
     "text": [
      "Epoch 10/10 | Loss: 0.6904:  85%|█████████████████████████▍    | 194/229 [01:10<00:13,  2.63it/s]"
     ]
    },
    {
     "name": "stdout",
     "output_type": "stream",
     "text": [
      "Batch [193/229] Loss: 0.6774\n",
      "Batch [194/229] Loss: 0.6775\n",
      "Batch [195/229] Loss: 0.6980\n",
      "Batch [196/229] Loss: 0.6904\n"
     ]
    },
    {
     "name": "stderr",
     "output_type": "stream",
     "text": [
      "Epoch 10/10 | Loss: 0.7061:  87%|██████████████████████████▏   | 200/229 [01:11<00:08,  3.42it/s]"
     ]
    },
    {
     "name": "stdout",
     "output_type": "stream",
     "text": [
      "Batch [197/229] Loss: 0.6853\n",
      "Batch [198/229] Loss: 0.6932\n",
      "Batch [199/229] Loss: 0.6773\n",
      "Batch [200/229] Loss: 0.7061\n"
     ]
    },
    {
     "name": "stderr",
     "output_type": "stream",
     "text": [
      "Epoch 10/10 | Loss: 0.6694:  88%|██████████████████████████▍   | 202/229 [01:13<00:10,  2.56it/s]"
     ]
    },
    {
     "name": "stdout",
     "output_type": "stream",
     "text": [
      "Batch [201/229] Loss: 0.7060\n",
      "Batch [202/229] Loss: 0.6852\n",
      "Batch [203/229] Loss: 0.6853\n",
      "Batch [204/229] Loss: 0.6694\n"
     ]
    },
    {
     "name": "stderr",
     "output_type": "stream",
     "text": [
      "Epoch 10/10 | Loss: 0.6774:  91%|███████████████████████████▏  | 208/229 [01:14<00:06,  3.31it/s]"
     ]
    },
    {
     "name": "stdout",
     "output_type": "stream",
     "text": [
      "Batch [205/229] Loss: 0.7190\n",
      "Batch [206/229] Loss: 0.6982\n",
      "Batch [207/229] Loss: 0.6776\n",
      "Batch [208/229] Loss: 0.6774\n"
     ]
    },
    {
     "name": "stderr",
     "output_type": "stream",
     "text": [
      "Epoch 10/10 | Loss: 0.6853:  92%|███████████████████████████▌  | 210/229 [01:16<00:07,  2.48it/s]"
     ]
    },
    {
     "name": "stdout",
     "output_type": "stream",
     "text": [
      "Batch [209/229] Loss: 0.6932\n",
      "Batch [210/229] Loss: 0.6774\n",
      "Batch [211/229] Loss: 0.6806\n",
      "Batch [212/229] Loss: 0.6853\n"
     ]
    },
    {
     "name": "stderr",
     "output_type": "stream",
     "text": [
      "Epoch 10/10 | Loss: 0.6903:  94%|████████████████████████████▎ | 216/229 [01:17<00:03,  3.40it/s]"
     ]
    },
    {
     "name": "stdout",
     "output_type": "stream",
     "text": [
      "Batch [213/229] Loss: 0.6932\n",
      "Batch [214/229] Loss: 0.6853\n",
      "Batch [215/229] Loss: 0.6774\n",
      "Batch [216/229] Loss: 0.6903\n"
     ]
    },
    {
     "name": "stderr",
     "output_type": "stream",
     "text": [
      "Epoch 10/10 | Loss: 0.6775:  95%|████████████████████████████▌ | 218/229 [01:19<00:04,  2.60it/s]"
     ]
    },
    {
     "name": "stdout",
     "output_type": "stream",
     "text": [
      "Batch [217/229] Loss: 0.6773\n",
      "Batch [218/229] Loss: 0.6932\n",
      "Batch [219/229] Loss: 0.6854\n",
      "Batch [220/229] Loss: 0.6775\n"
     ]
    },
    {
     "name": "stderr",
     "output_type": "stream",
     "text": [
      "Epoch 10/10 | Loss: 0.6616:  98%|█████████████████████████████▎| 224/229 [01:20<00:01,  3.46it/s]"
     ]
    },
    {
     "name": "stdout",
     "output_type": "stream",
     "text": [
      "Batch [221/229] Loss: 0.6773\n",
      "Batch [222/229] Loss: 0.6899\n",
      "Batch [223/229] Loss: 0.6786\n",
      "Batch [224/229] Loss: 0.6616\n"
     ]
    },
    {
     "name": "stderr",
     "output_type": "stream",
     "text": [
      "Epoch 10/10 | Loss: 0.6537:  99%|█████████████████████████████▌| 226/229 [01:21<00:01,  2.78it/s]"
     ]
    },
    {
     "name": "stdout",
     "output_type": "stream",
     "text": [
      "Batch [225/229] Loss: 0.6695\n",
      "Batch [226/229] Loss: 0.6853\n",
      "Batch [227/229] Loss: 0.6619\n",
      "Batch [228/229] Loss: 0.6537\n"
     ]
    },
    {
     "name": "stderr",
     "output_type": "stream",
     "text": [
      "Epoch 10/10 | Loss: 0.6892: 100%|██████████████████████████████| 229/229 [01:22<00:00,  2.77it/s]\n"
     ]
    },
    {
     "name": "stdout",
     "output_type": "stream",
     "text": [
      "Batch [229/229] Loss: 0.6892\n",
      "\n",
      "Epoch 10 Summary:\n",
      "Average Loss: 0.6822\n",
      "\n",
      "Training completed!\n",
      "Model saved to hemorrhage_model_ben.pth\n",
      "\n",
      "Plotting training metrics...\n",
      "Reading metrics from: batch_losses_ben_20241209_155530.csv\n"
     ]
    },
    {
     "ename": "FileNotFoundError",
     "evalue": "[Errno 2] No such file or directory: 'batch_losses_ben_20241209_155530.csv'",
     "output_type": "error",
     "traceback": [
      "\u001b[0;31m---------------------------------------------------------------------------\u001b[0m",
      "\u001b[0;31mFileNotFoundError\u001b[0m                         Traceback (most recent call last)",
      "Cell \u001b[0;32mIn[33], line 17\u001b[0m\n\u001b[1;32m     15\u001b[0m \u001b[38;5;66;03m# Plot the training metrics\u001b[39;00m\n\u001b[1;32m     16\u001b[0m \u001b[38;5;28mprint\u001b[39m(\u001b[38;5;124m\"\u001b[39m\u001b[38;5;130;01m\\n\u001b[39;00m\u001b[38;5;124mPlotting training metrics...\u001b[39m\u001b[38;5;124m\"\u001b[39m)\n\u001b[0;32m---> 17\u001b[0m \u001b[43mplot_training_metrics\u001b[49m\u001b[43m(\u001b[49m\u001b[38;5;124;43mf\u001b[39;49m\u001b[38;5;124;43m'\u001b[39;49m\u001b[38;5;124;43mbatch_losses_ben_\u001b[39;49m\u001b[38;5;132;43;01m{\u001b[39;49;00m\u001b[43mtraining_timestamp\u001b[49m\u001b[38;5;132;43;01m}\u001b[39;49;00m\u001b[38;5;124;43m.csv\u001b[39;49m\u001b[38;5;124;43m'\u001b[39;49m\u001b[43m,\u001b[49m\u001b[43m \u001b[49m\u001b[43mmetric_type\u001b[49m\u001b[38;5;241;43m=\u001b[39;49m\u001b[38;5;124;43m'\u001b[39;49m\u001b[38;5;124;43mbatch\u001b[39;49m\u001b[38;5;124;43m'\u001b[39;49m\u001b[43m,\u001b[49m\u001b[43m \u001b[49m\u001b[43mdisplay\u001b[49m\u001b[38;5;241;43m=\u001b[39;49m\u001b[38;5;28;43;01mTrue\u001b[39;49;00m\u001b[43m)\u001b[49m\n\u001b[1;32m     18\u001b[0m plot_training_metrics(\u001b[38;5;124mf\u001b[39m\u001b[38;5;124m'\u001b[39m\u001b[38;5;124mepoch_losses_ben_\u001b[39m\u001b[38;5;132;01m{\u001b[39;00mtraining_timestamp\u001b[38;5;132;01m}\u001b[39;00m\u001b[38;5;124m.csv\u001b[39m\u001b[38;5;124m'\u001b[39m, metric_type\u001b[38;5;241m=\u001b[39m\u001b[38;5;124m'\u001b[39m\u001b[38;5;124mepoch\u001b[39m\u001b[38;5;124m'\u001b[39m, display\u001b[38;5;241m=\u001b[39m\u001b[38;5;28;01mTrue\u001b[39;00m)\n\u001b[1;32m     20\u001b[0m \u001b[38;5;66;03m# Test and visualize a specific case\u001b[39;00m\n",
      "Cell \u001b[0;32mIn[30], line 56\u001b[0m, in \u001b[0;36mplot_training_metrics\u001b[0;34m(csv_path, metric_type, save_path, display)\u001b[0m\n\u001b[1;32m     54\u001b[0m \u001b[38;5;250m\u001b[39m\u001b[38;5;124;03m\"\"\"Generate publication-quality training metric plots\"\"\"\u001b[39;00m\n\u001b[1;32m     55\u001b[0m \u001b[38;5;28mprint\u001b[39m(\u001b[38;5;124mf\u001b[39m\u001b[38;5;124m\"\u001b[39m\u001b[38;5;124mReading metrics from: \u001b[39m\u001b[38;5;132;01m{\u001b[39;00mcsv_path\u001b[38;5;132;01m}\u001b[39;00m\u001b[38;5;124m\"\u001b[39m)\n\u001b[0;32m---> 56\u001b[0m df \u001b[38;5;241m=\u001b[39m \u001b[43mpd\u001b[49m\u001b[38;5;241;43m.\u001b[39;49m\u001b[43mread_csv\u001b[49m\u001b[43m(\u001b[49m\u001b[43mcsv_path\u001b[49m\u001b[43m)\u001b[49m\n\u001b[1;32m     57\u001b[0m \u001b[38;5;28mprint\u001b[39m(\u001b[38;5;124mf\u001b[39m\u001b[38;5;124m\"\u001b[39m\u001b[38;5;124mFound \u001b[39m\u001b[38;5;132;01m{\u001b[39;00m\u001b[38;5;28mlen\u001b[39m(df)\u001b[38;5;132;01m}\u001b[39;00m\u001b[38;5;124m \u001b[39m\u001b[38;5;132;01m{\u001b[39;00mmetric_type\u001b[38;5;132;01m}\u001b[39;00m\u001b[38;5;124m records\u001b[39m\u001b[38;5;124m\"\u001b[39m)\n\u001b[1;32m     59\u001b[0m plt\u001b[38;5;241m.\u001b[39mfigure(figsize\u001b[38;5;241m=\u001b[39m(\u001b[38;5;241m12\u001b[39m, \u001b[38;5;241m6\u001b[39m))\n",
      "File \u001b[0;32m/share/pkg.8/python3/3.10.12/install/lib/python3.10/site-packages/pandas/io/parsers/readers.py:912\u001b[0m, in \u001b[0;36mread_csv\u001b[0;34m(filepath_or_buffer, sep, delimiter, header, names, index_col, usecols, dtype, engine, converters, true_values, false_values, skipinitialspace, skiprows, skipfooter, nrows, na_values, keep_default_na, na_filter, verbose, skip_blank_lines, parse_dates, infer_datetime_format, keep_date_col, date_parser, date_format, dayfirst, cache_dates, iterator, chunksize, compression, thousands, decimal, lineterminator, quotechar, quoting, doublequote, escapechar, comment, encoding, encoding_errors, dialect, on_bad_lines, delim_whitespace, low_memory, memory_map, float_precision, storage_options, dtype_backend)\u001b[0m\n\u001b[1;32m    899\u001b[0m kwds_defaults \u001b[38;5;241m=\u001b[39m _refine_defaults_read(\n\u001b[1;32m    900\u001b[0m     dialect,\n\u001b[1;32m    901\u001b[0m     delimiter,\n\u001b[0;32m   (...)\u001b[0m\n\u001b[1;32m    908\u001b[0m     dtype_backend\u001b[38;5;241m=\u001b[39mdtype_backend,\n\u001b[1;32m    909\u001b[0m )\n\u001b[1;32m    910\u001b[0m kwds\u001b[38;5;241m.\u001b[39mupdate(kwds_defaults)\n\u001b[0;32m--> 912\u001b[0m \u001b[38;5;28;01mreturn\u001b[39;00m \u001b[43m_read\u001b[49m\u001b[43m(\u001b[49m\u001b[43mfilepath_or_buffer\u001b[49m\u001b[43m,\u001b[49m\u001b[43m \u001b[49m\u001b[43mkwds\u001b[49m\u001b[43m)\u001b[49m\n",
      "File \u001b[0;32m/share/pkg.8/python3/3.10.12/install/lib/python3.10/site-packages/pandas/io/parsers/readers.py:577\u001b[0m, in \u001b[0;36m_read\u001b[0;34m(filepath_or_buffer, kwds)\u001b[0m\n\u001b[1;32m    574\u001b[0m _validate_names(kwds\u001b[38;5;241m.\u001b[39mget(\u001b[38;5;124m\"\u001b[39m\u001b[38;5;124mnames\u001b[39m\u001b[38;5;124m\"\u001b[39m, \u001b[38;5;28;01mNone\u001b[39;00m))\n\u001b[1;32m    576\u001b[0m \u001b[38;5;66;03m# Create the parser.\u001b[39;00m\n\u001b[0;32m--> 577\u001b[0m parser \u001b[38;5;241m=\u001b[39m \u001b[43mTextFileReader\u001b[49m\u001b[43m(\u001b[49m\u001b[43mfilepath_or_buffer\u001b[49m\u001b[43m,\u001b[49m\u001b[43m \u001b[49m\u001b[38;5;241;43m*\u001b[39;49m\u001b[38;5;241;43m*\u001b[39;49m\u001b[43mkwds\u001b[49m\u001b[43m)\u001b[49m\n\u001b[1;32m    579\u001b[0m \u001b[38;5;28;01mif\u001b[39;00m chunksize \u001b[38;5;129;01mor\u001b[39;00m iterator:\n\u001b[1;32m    580\u001b[0m     \u001b[38;5;28;01mreturn\u001b[39;00m parser\n",
      "File \u001b[0;32m/share/pkg.8/python3/3.10.12/install/lib/python3.10/site-packages/pandas/io/parsers/readers.py:1407\u001b[0m, in \u001b[0;36mTextFileReader.__init__\u001b[0;34m(self, f, engine, **kwds)\u001b[0m\n\u001b[1;32m   1404\u001b[0m     \u001b[38;5;28mself\u001b[39m\u001b[38;5;241m.\u001b[39moptions[\u001b[38;5;124m\"\u001b[39m\u001b[38;5;124mhas_index_names\u001b[39m\u001b[38;5;124m\"\u001b[39m] \u001b[38;5;241m=\u001b[39m kwds[\u001b[38;5;124m\"\u001b[39m\u001b[38;5;124mhas_index_names\u001b[39m\u001b[38;5;124m\"\u001b[39m]\n\u001b[1;32m   1406\u001b[0m \u001b[38;5;28mself\u001b[39m\u001b[38;5;241m.\u001b[39mhandles: IOHandles \u001b[38;5;241m|\u001b[39m \u001b[38;5;28;01mNone\u001b[39;00m \u001b[38;5;241m=\u001b[39m \u001b[38;5;28;01mNone\u001b[39;00m\n\u001b[0;32m-> 1407\u001b[0m \u001b[38;5;28mself\u001b[39m\u001b[38;5;241m.\u001b[39m_engine \u001b[38;5;241m=\u001b[39m \u001b[38;5;28;43mself\u001b[39;49m\u001b[38;5;241;43m.\u001b[39;49m\u001b[43m_make_engine\u001b[49m\u001b[43m(\u001b[49m\u001b[43mf\u001b[49m\u001b[43m,\u001b[49m\u001b[43m \u001b[49m\u001b[38;5;28;43mself\u001b[39;49m\u001b[38;5;241;43m.\u001b[39;49m\u001b[43mengine\u001b[49m\u001b[43m)\u001b[49m\n",
      "File \u001b[0;32m/share/pkg.8/python3/3.10.12/install/lib/python3.10/site-packages/pandas/io/parsers/readers.py:1661\u001b[0m, in \u001b[0;36mTextFileReader._make_engine\u001b[0;34m(self, f, engine)\u001b[0m\n\u001b[1;32m   1659\u001b[0m     \u001b[38;5;28;01mif\u001b[39;00m \u001b[38;5;124m\"\u001b[39m\u001b[38;5;124mb\u001b[39m\u001b[38;5;124m\"\u001b[39m \u001b[38;5;129;01mnot\u001b[39;00m \u001b[38;5;129;01min\u001b[39;00m mode:\n\u001b[1;32m   1660\u001b[0m         mode \u001b[38;5;241m+\u001b[39m\u001b[38;5;241m=\u001b[39m \u001b[38;5;124m\"\u001b[39m\u001b[38;5;124mb\u001b[39m\u001b[38;5;124m\"\u001b[39m\n\u001b[0;32m-> 1661\u001b[0m \u001b[38;5;28mself\u001b[39m\u001b[38;5;241m.\u001b[39mhandles \u001b[38;5;241m=\u001b[39m \u001b[43mget_handle\u001b[49m\u001b[43m(\u001b[49m\n\u001b[1;32m   1662\u001b[0m \u001b[43m    \u001b[49m\u001b[43mf\u001b[49m\u001b[43m,\u001b[49m\n\u001b[1;32m   1663\u001b[0m \u001b[43m    \u001b[49m\u001b[43mmode\u001b[49m\u001b[43m,\u001b[49m\n\u001b[1;32m   1664\u001b[0m \u001b[43m    \u001b[49m\u001b[43mencoding\u001b[49m\u001b[38;5;241;43m=\u001b[39;49m\u001b[38;5;28;43mself\u001b[39;49m\u001b[38;5;241;43m.\u001b[39;49m\u001b[43moptions\u001b[49m\u001b[38;5;241;43m.\u001b[39;49m\u001b[43mget\u001b[49m\u001b[43m(\u001b[49m\u001b[38;5;124;43m\"\u001b[39;49m\u001b[38;5;124;43mencoding\u001b[39;49m\u001b[38;5;124;43m\"\u001b[39;49m\u001b[43m,\u001b[49m\u001b[43m \u001b[49m\u001b[38;5;28;43;01mNone\u001b[39;49;00m\u001b[43m)\u001b[49m\u001b[43m,\u001b[49m\n\u001b[1;32m   1665\u001b[0m \u001b[43m    \u001b[49m\u001b[43mcompression\u001b[49m\u001b[38;5;241;43m=\u001b[39;49m\u001b[38;5;28;43mself\u001b[39;49m\u001b[38;5;241;43m.\u001b[39;49m\u001b[43moptions\u001b[49m\u001b[38;5;241;43m.\u001b[39;49m\u001b[43mget\u001b[49m\u001b[43m(\u001b[49m\u001b[38;5;124;43m\"\u001b[39;49m\u001b[38;5;124;43mcompression\u001b[39;49m\u001b[38;5;124;43m\"\u001b[39;49m\u001b[43m,\u001b[49m\u001b[43m \u001b[49m\u001b[38;5;28;43;01mNone\u001b[39;49;00m\u001b[43m)\u001b[49m\u001b[43m,\u001b[49m\n\u001b[1;32m   1666\u001b[0m \u001b[43m    \u001b[49m\u001b[43mmemory_map\u001b[49m\u001b[38;5;241;43m=\u001b[39;49m\u001b[38;5;28;43mself\u001b[39;49m\u001b[38;5;241;43m.\u001b[39;49m\u001b[43moptions\u001b[49m\u001b[38;5;241;43m.\u001b[39;49m\u001b[43mget\u001b[49m\u001b[43m(\u001b[49m\u001b[38;5;124;43m\"\u001b[39;49m\u001b[38;5;124;43mmemory_map\u001b[39;49m\u001b[38;5;124;43m\"\u001b[39;49m\u001b[43m,\u001b[49m\u001b[43m \u001b[49m\u001b[38;5;28;43;01mFalse\u001b[39;49;00m\u001b[43m)\u001b[49m\u001b[43m,\u001b[49m\n\u001b[1;32m   1667\u001b[0m \u001b[43m    \u001b[49m\u001b[43mis_text\u001b[49m\u001b[38;5;241;43m=\u001b[39;49m\u001b[43mis_text\u001b[49m\u001b[43m,\u001b[49m\n\u001b[1;32m   1668\u001b[0m \u001b[43m    \u001b[49m\u001b[43merrors\u001b[49m\u001b[38;5;241;43m=\u001b[39;49m\u001b[38;5;28;43mself\u001b[39;49m\u001b[38;5;241;43m.\u001b[39;49m\u001b[43moptions\u001b[49m\u001b[38;5;241;43m.\u001b[39;49m\u001b[43mget\u001b[49m\u001b[43m(\u001b[49m\u001b[38;5;124;43m\"\u001b[39;49m\u001b[38;5;124;43mencoding_errors\u001b[39;49m\u001b[38;5;124;43m\"\u001b[39;49m\u001b[43m,\u001b[49m\u001b[43m \u001b[49m\u001b[38;5;124;43m\"\u001b[39;49m\u001b[38;5;124;43mstrict\u001b[39;49m\u001b[38;5;124;43m\"\u001b[39;49m\u001b[43m)\u001b[49m\u001b[43m,\u001b[49m\n\u001b[1;32m   1669\u001b[0m \u001b[43m    \u001b[49m\u001b[43mstorage_options\u001b[49m\u001b[38;5;241;43m=\u001b[39;49m\u001b[38;5;28;43mself\u001b[39;49m\u001b[38;5;241;43m.\u001b[39;49m\u001b[43moptions\u001b[49m\u001b[38;5;241;43m.\u001b[39;49m\u001b[43mget\u001b[49m\u001b[43m(\u001b[49m\u001b[38;5;124;43m\"\u001b[39;49m\u001b[38;5;124;43mstorage_options\u001b[39;49m\u001b[38;5;124;43m\"\u001b[39;49m\u001b[43m,\u001b[49m\u001b[43m \u001b[49m\u001b[38;5;28;43;01mNone\u001b[39;49;00m\u001b[43m)\u001b[49m\u001b[43m,\u001b[49m\n\u001b[1;32m   1670\u001b[0m \u001b[43m\u001b[49m\u001b[43m)\u001b[49m\n\u001b[1;32m   1671\u001b[0m \u001b[38;5;28;01massert\u001b[39;00m \u001b[38;5;28mself\u001b[39m\u001b[38;5;241m.\u001b[39mhandles \u001b[38;5;129;01mis\u001b[39;00m \u001b[38;5;129;01mnot\u001b[39;00m \u001b[38;5;28;01mNone\u001b[39;00m\n\u001b[1;32m   1672\u001b[0m f \u001b[38;5;241m=\u001b[39m \u001b[38;5;28mself\u001b[39m\u001b[38;5;241m.\u001b[39mhandles\u001b[38;5;241m.\u001b[39mhandle\n",
      "File \u001b[0;32m/share/pkg.8/python3/3.10.12/install/lib/python3.10/site-packages/pandas/io/common.py:859\u001b[0m, in \u001b[0;36mget_handle\u001b[0;34m(path_or_buf, mode, encoding, compression, memory_map, is_text, errors, storage_options)\u001b[0m\n\u001b[1;32m    854\u001b[0m \u001b[38;5;28;01melif\u001b[39;00m \u001b[38;5;28misinstance\u001b[39m(handle, \u001b[38;5;28mstr\u001b[39m):\n\u001b[1;32m    855\u001b[0m     \u001b[38;5;66;03m# Check whether the filename is to be opened in binary mode.\u001b[39;00m\n\u001b[1;32m    856\u001b[0m     \u001b[38;5;66;03m# Binary mode does not support 'encoding' and 'newline'.\u001b[39;00m\n\u001b[1;32m    857\u001b[0m     \u001b[38;5;28;01mif\u001b[39;00m ioargs\u001b[38;5;241m.\u001b[39mencoding \u001b[38;5;129;01mand\u001b[39;00m \u001b[38;5;124m\"\u001b[39m\u001b[38;5;124mb\u001b[39m\u001b[38;5;124m\"\u001b[39m \u001b[38;5;129;01mnot\u001b[39;00m \u001b[38;5;129;01min\u001b[39;00m ioargs\u001b[38;5;241m.\u001b[39mmode:\n\u001b[1;32m    858\u001b[0m         \u001b[38;5;66;03m# Encoding\u001b[39;00m\n\u001b[0;32m--> 859\u001b[0m         handle \u001b[38;5;241m=\u001b[39m \u001b[38;5;28;43mopen\u001b[39;49m\u001b[43m(\u001b[49m\n\u001b[1;32m    860\u001b[0m \u001b[43m            \u001b[49m\u001b[43mhandle\u001b[49m\u001b[43m,\u001b[49m\n\u001b[1;32m    861\u001b[0m \u001b[43m            \u001b[49m\u001b[43mioargs\u001b[49m\u001b[38;5;241;43m.\u001b[39;49m\u001b[43mmode\u001b[49m\u001b[43m,\u001b[49m\n\u001b[1;32m    862\u001b[0m \u001b[43m            \u001b[49m\u001b[43mencoding\u001b[49m\u001b[38;5;241;43m=\u001b[39;49m\u001b[43mioargs\u001b[49m\u001b[38;5;241;43m.\u001b[39;49m\u001b[43mencoding\u001b[49m\u001b[43m,\u001b[49m\n\u001b[1;32m    863\u001b[0m \u001b[43m            \u001b[49m\u001b[43merrors\u001b[49m\u001b[38;5;241;43m=\u001b[39;49m\u001b[43merrors\u001b[49m\u001b[43m,\u001b[49m\n\u001b[1;32m    864\u001b[0m \u001b[43m            \u001b[49m\u001b[43mnewline\u001b[49m\u001b[38;5;241;43m=\u001b[39;49m\u001b[38;5;124;43m\"\u001b[39;49m\u001b[38;5;124;43m\"\u001b[39;49m\u001b[43m,\u001b[49m\n\u001b[1;32m    865\u001b[0m \u001b[43m        \u001b[49m\u001b[43m)\u001b[49m\n\u001b[1;32m    866\u001b[0m     \u001b[38;5;28;01melse\u001b[39;00m:\n\u001b[1;32m    867\u001b[0m         \u001b[38;5;66;03m# Binary mode\u001b[39;00m\n\u001b[1;32m    868\u001b[0m         handle \u001b[38;5;241m=\u001b[39m \u001b[38;5;28mopen\u001b[39m(handle, ioargs\u001b[38;5;241m.\u001b[39mmode)\n",
      "\u001b[0;31mFileNotFoundError\u001b[0m: [Errno 2] No such file or directory: 'batch_losses_ben_20241209_155530.csv'"
     ]
    }
   ],
   "source": [
    "if __name__ == \"__main__\":\n",
    "    ROOT_DIR = \"/projectnb/ec523kb/projects/hemorrhage-classification/stage_2_train_sorted_nifti_pruned\"\n",
    "    \n",
    "    print(\"Starting model training...\")\n",
    "    model, training_timestamp = train_hemorrhage_model(\n",
    "        root_dir=ROOT_DIR,\n",
    "        num_epochs=10,\n",
    "        batch_size=8\n",
    "    )\n",
    "    \n",
    "    # Save the trained model\n",
    "    torch.save(model.state_dict(), 'hemorrhage_model_ben.pth')\n",
    "    print(\"Model saved to hemorrhage_model_ben.pth\")\n",
    "    \n",
    "    # Plot the training metrics\n",
    "    print(\"\\nPlotting training metrics...\")\n",
    "    plot_training_metrics(f'batch_losses_ben_{training_timestamp}.csv', metric_type='batch', display=True)\n",
    "    plot_training_metrics(f'epoch_losses_ben_{training_timestamp}.csv', metric_type='epoch', display=True)\n",
    "    \n",
    "    # Test and visualize a specific case\n",
    "    print(\"\\nAnalyzing a specific case...\")\n",
    "    test_file = \"/projectnb/ec523kb/projects/hemorrhage-classification/stage_2_train_sorted_nifti_pruned/ID_0000298a7d/ID_0000298a7d.nii.gz\"\n",
    "    \n",
    "    results, image = analyze_hemorrhage_with_gradcam(model, test_file)\n",
    "    \n",
    "    # Visualize all results\n",
    "    visualize_gradcam_results(image, results, display=True)"
   ]
  },
  {
   "cell_type": "code",
   "execution_count": 32,
   "id": "57fc0109",
   "metadata": {},
   "outputs": [
    {
     "name": "stdout",
     "output_type": "stream",
     "text": [
      "\n",
      "Analyzing new case...\n",
      "\n",
      "Predicted Hemorrhage Types:\n",
      "----------------------------------------\n",
      "No hemorrhages detected\n"
     ]
    },
    {
     "ename": "PermissionError",
     "evalue": "[Errno 13] Permission denied: 'gradcam_results/gradcam_epidural.pdf'",
     "output_type": "error",
     "traceback": [
      "\u001b[0;31m---------------------------------------------------------------------------\u001b[0m",
      "\u001b[0;31mPermissionError\u001b[0m                           Traceback (most recent call last)",
      "Cell \u001b[0;32mIn[32], line 5\u001b[0m\n\u001b[1;32m      3\u001b[0m test_file \u001b[38;5;241m=\u001b[39m \u001b[38;5;124m\"\u001b[39m\u001b[38;5;124m/projectnb/ec523kb/projects/hemorrhage-classification/stage_2_train_sorted_nifti_pruned/ID_1e03295964/ID_1e03295964.nii.gz\u001b[39m\u001b[38;5;124m\"\u001b[39m  \u001b[38;5;66;03m# Replace with new file path\u001b[39;00m\n\u001b[1;32m      4\u001b[0m results, image \u001b[38;5;241m=\u001b[39m analyze_hemorrhage_with_gradcam(model, test_file)\n\u001b[0;32m----> 5\u001b[0m \u001b[43mvisualize_gradcam_results\u001b[49m\u001b[43m(\u001b[49m\u001b[43mimage\u001b[49m\u001b[43m,\u001b[49m\u001b[43m \u001b[49m\u001b[43mresults\u001b[49m\u001b[43m,\u001b[49m\u001b[43m \u001b[49m\u001b[43mdisplay\u001b[49m\u001b[38;5;241;43m=\u001b[39;49m\u001b[38;5;28;43;01mTrue\u001b[39;49;00m\u001b[43m)\u001b[49m\n",
      "Cell \u001b[0;32mIn[30], line 306\u001b[0m, in \u001b[0;36mvisualize_gradcam_results\u001b[0;34m(image, results, save_dir, display)\u001b[0m\n\u001b[1;32m    304\u001b[0m \u001b[38;5;66;03m# Save figure\u001b[39;00m\n\u001b[1;32m    305\u001b[0m save_path \u001b[38;5;241m=\u001b[39m os\u001b[38;5;241m.\u001b[39mpath\u001b[38;5;241m.\u001b[39mjoin(save_dir, \u001b[38;5;124mf\u001b[39m\u001b[38;5;124m'\u001b[39m\u001b[38;5;124mgradcam_\u001b[39m\u001b[38;5;132;01m{\u001b[39;00mh_type\u001b[38;5;241m.\u001b[39mlower()\u001b[38;5;132;01m}\u001b[39;00m\u001b[38;5;124m.pdf\u001b[39m\u001b[38;5;124m'\u001b[39m)\n\u001b[0;32m--> 306\u001b[0m \u001b[43mplt\u001b[49m\u001b[38;5;241;43m.\u001b[39;49m\u001b[43msavefig\u001b[49m\u001b[43m(\u001b[49m\u001b[43msave_path\u001b[49m\u001b[43m,\u001b[49m\u001b[43m \u001b[49m\u001b[43mdpi\u001b[49m\u001b[38;5;241;43m=\u001b[39;49m\u001b[38;5;241;43m300\u001b[39;49m\u001b[43m,\u001b[49m\u001b[43m \u001b[49m\u001b[43mbbox_inches\u001b[49m\u001b[38;5;241;43m=\u001b[39;49m\u001b[38;5;124;43m'\u001b[39;49m\u001b[38;5;124;43mtight\u001b[39;49m\u001b[38;5;124;43m'\u001b[39;49m\u001b[43m)\u001b[49m\n\u001b[1;32m    308\u001b[0m \u001b[38;5;66;03m# Display in notebook if requested\u001b[39;00m\n\u001b[1;32m    309\u001b[0m \u001b[38;5;28;01mif\u001b[39;00m display:\n",
      "File \u001b[0;32m/share/pkg.8/python3/3.10.12/install/lib/python3.10/site-packages/matplotlib/pyplot.py:1023\u001b[0m, in \u001b[0;36msavefig\u001b[0;34m(*args, **kwargs)\u001b[0m\n\u001b[1;32m   1020\u001b[0m \u001b[38;5;129m@_copy_docstring_and_deprecators\u001b[39m(Figure\u001b[38;5;241m.\u001b[39msavefig)\n\u001b[1;32m   1021\u001b[0m \u001b[38;5;28;01mdef\u001b[39;00m \u001b[38;5;21msavefig\u001b[39m(\u001b[38;5;241m*\u001b[39margs, \u001b[38;5;241m*\u001b[39m\u001b[38;5;241m*\u001b[39mkwargs):\n\u001b[1;32m   1022\u001b[0m     fig \u001b[38;5;241m=\u001b[39m gcf()\n\u001b[0;32m-> 1023\u001b[0m     res \u001b[38;5;241m=\u001b[39m \u001b[43mfig\u001b[49m\u001b[38;5;241;43m.\u001b[39;49m\u001b[43msavefig\u001b[49m\u001b[43m(\u001b[49m\u001b[38;5;241;43m*\u001b[39;49m\u001b[43margs\u001b[49m\u001b[43m,\u001b[49m\u001b[43m \u001b[49m\u001b[38;5;241;43m*\u001b[39;49m\u001b[38;5;241;43m*\u001b[39;49m\u001b[43mkwargs\u001b[49m\u001b[43m)\u001b[49m\n\u001b[1;32m   1024\u001b[0m     fig\u001b[38;5;241m.\u001b[39mcanvas\u001b[38;5;241m.\u001b[39mdraw_idle()  \u001b[38;5;66;03m# Need this if 'transparent=True', to reset colors.\u001b[39;00m\n\u001b[1;32m   1025\u001b[0m     \u001b[38;5;28;01mreturn\u001b[39;00m res\n",
      "File \u001b[0;32m/share/pkg.8/python3/3.10.12/install/lib/python3.10/site-packages/matplotlib/figure.py:3378\u001b[0m, in \u001b[0;36mFigure.savefig\u001b[0;34m(self, fname, transparent, **kwargs)\u001b[0m\n\u001b[1;32m   3374\u001b[0m     \u001b[38;5;28;01mfor\u001b[39;00m ax \u001b[38;5;129;01min\u001b[39;00m \u001b[38;5;28mself\u001b[39m\u001b[38;5;241m.\u001b[39maxes:\n\u001b[1;32m   3375\u001b[0m         stack\u001b[38;5;241m.\u001b[39menter_context(\n\u001b[1;32m   3376\u001b[0m             ax\u001b[38;5;241m.\u001b[39mpatch\u001b[38;5;241m.\u001b[39m_cm_set(facecolor\u001b[38;5;241m=\u001b[39m\u001b[38;5;124m'\u001b[39m\u001b[38;5;124mnone\u001b[39m\u001b[38;5;124m'\u001b[39m, edgecolor\u001b[38;5;241m=\u001b[39m\u001b[38;5;124m'\u001b[39m\u001b[38;5;124mnone\u001b[39m\u001b[38;5;124m'\u001b[39m))\n\u001b[0;32m-> 3378\u001b[0m \u001b[38;5;28;43mself\u001b[39;49m\u001b[38;5;241;43m.\u001b[39;49m\u001b[43mcanvas\u001b[49m\u001b[38;5;241;43m.\u001b[39;49m\u001b[43mprint_figure\u001b[49m\u001b[43m(\u001b[49m\u001b[43mfname\u001b[49m\u001b[43m,\u001b[49m\u001b[43m \u001b[49m\u001b[38;5;241;43m*\u001b[39;49m\u001b[38;5;241;43m*\u001b[39;49m\u001b[43mkwargs\u001b[49m\u001b[43m)\u001b[49m\n",
      "File \u001b[0;32m/share/pkg.8/python3/3.10.12/install/lib/python3.10/site-packages/matplotlib/backend_bases.py:2366\u001b[0m, in \u001b[0;36mFigureCanvasBase.print_figure\u001b[0;34m(self, filename, dpi, facecolor, edgecolor, orientation, format, bbox_inches, pad_inches, bbox_extra_artists, backend, **kwargs)\u001b[0m\n\u001b[1;32m   2362\u001b[0m \u001b[38;5;28;01mtry\u001b[39;00m:\n\u001b[1;32m   2363\u001b[0m     \u001b[38;5;66;03m# _get_renderer may change the figure dpi (as vector formats\u001b[39;00m\n\u001b[1;32m   2364\u001b[0m     \u001b[38;5;66;03m# force the figure dpi to 72), so we need to set it again here.\u001b[39;00m\n\u001b[1;32m   2365\u001b[0m     \u001b[38;5;28;01mwith\u001b[39;00m cbook\u001b[38;5;241m.\u001b[39m_setattr_cm(\u001b[38;5;28mself\u001b[39m\u001b[38;5;241m.\u001b[39mfigure, dpi\u001b[38;5;241m=\u001b[39mdpi):\n\u001b[0;32m-> 2366\u001b[0m         result \u001b[38;5;241m=\u001b[39m \u001b[43mprint_method\u001b[49m\u001b[43m(\u001b[49m\n\u001b[1;32m   2367\u001b[0m \u001b[43m            \u001b[49m\u001b[43mfilename\u001b[49m\u001b[43m,\u001b[49m\n\u001b[1;32m   2368\u001b[0m \u001b[43m            \u001b[49m\u001b[43mfacecolor\u001b[49m\u001b[38;5;241;43m=\u001b[39;49m\u001b[43mfacecolor\u001b[49m\u001b[43m,\u001b[49m\n\u001b[1;32m   2369\u001b[0m \u001b[43m            \u001b[49m\u001b[43medgecolor\u001b[49m\u001b[38;5;241;43m=\u001b[39;49m\u001b[43medgecolor\u001b[49m\u001b[43m,\u001b[49m\n\u001b[1;32m   2370\u001b[0m \u001b[43m            \u001b[49m\u001b[43morientation\u001b[49m\u001b[38;5;241;43m=\u001b[39;49m\u001b[43morientation\u001b[49m\u001b[43m,\u001b[49m\n\u001b[1;32m   2371\u001b[0m \u001b[43m            \u001b[49m\u001b[43mbbox_inches_restore\u001b[49m\u001b[38;5;241;43m=\u001b[39;49m\u001b[43m_bbox_inches_restore\u001b[49m\u001b[43m,\u001b[49m\n\u001b[1;32m   2372\u001b[0m \u001b[43m            \u001b[49m\u001b[38;5;241;43m*\u001b[39;49m\u001b[38;5;241;43m*\u001b[39;49m\u001b[43mkwargs\u001b[49m\u001b[43m)\u001b[49m\n\u001b[1;32m   2373\u001b[0m \u001b[38;5;28;01mfinally\u001b[39;00m:\n\u001b[1;32m   2374\u001b[0m     \u001b[38;5;28;01mif\u001b[39;00m bbox_inches \u001b[38;5;129;01mand\u001b[39;00m restore_bbox:\n",
      "File \u001b[0;32m/share/pkg.8/python3/3.10.12/install/lib/python3.10/site-packages/matplotlib/backend_bases.py:2232\u001b[0m, in \u001b[0;36mFigureCanvasBase._switch_canvas_and_return_print_method.<locals>.<lambda>\u001b[0;34m(*args, **kwargs)\u001b[0m\n\u001b[1;32m   2228\u001b[0m     optional_kws \u001b[38;5;241m=\u001b[39m {  \u001b[38;5;66;03m# Passed by print_figure for other renderers.\u001b[39;00m\n\u001b[1;32m   2229\u001b[0m         \u001b[38;5;124m\"\u001b[39m\u001b[38;5;124mdpi\u001b[39m\u001b[38;5;124m\"\u001b[39m, \u001b[38;5;124m\"\u001b[39m\u001b[38;5;124mfacecolor\u001b[39m\u001b[38;5;124m\"\u001b[39m, \u001b[38;5;124m\"\u001b[39m\u001b[38;5;124medgecolor\u001b[39m\u001b[38;5;124m\"\u001b[39m, \u001b[38;5;124m\"\u001b[39m\u001b[38;5;124morientation\u001b[39m\u001b[38;5;124m\"\u001b[39m,\n\u001b[1;32m   2230\u001b[0m         \u001b[38;5;124m\"\u001b[39m\u001b[38;5;124mbbox_inches_restore\u001b[39m\u001b[38;5;124m\"\u001b[39m}\n\u001b[1;32m   2231\u001b[0m     skip \u001b[38;5;241m=\u001b[39m optional_kws \u001b[38;5;241m-\u001b[39m {\u001b[38;5;241m*\u001b[39minspect\u001b[38;5;241m.\u001b[39msignature(meth)\u001b[38;5;241m.\u001b[39mparameters}\n\u001b[0;32m-> 2232\u001b[0m     print_method \u001b[38;5;241m=\u001b[39m functools\u001b[38;5;241m.\u001b[39mwraps(meth)(\u001b[38;5;28;01mlambda\u001b[39;00m \u001b[38;5;241m*\u001b[39margs, \u001b[38;5;241m*\u001b[39m\u001b[38;5;241m*\u001b[39mkwargs: \u001b[43mmeth\u001b[49m\u001b[43m(\u001b[49m\n\u001b[1;32m   2233\u001b[0m \u001b[43m        \u001b[49m\u001b[38;5;241;43m*\u001b[39;49m\u001b[43margs\u001b[49m\u001b[43m,\u001b[49m\u001b[43m \u001b[49m\u001b[38;5;241;43m*\u001b[39;49m\u001b[38;5;241;43m*\u001b[39;49m\u001b[43m{\u001b[49m\u001b[43mk\u001b[49m\u001b[43m:\u001b[49m\u001b[43m \u001b[49m\u001b[43mv\u001b[49m\u001b[43m \u001b[49m\u001b[38;5;28;43;01mfor\u001b[39;49;00m\u001b[43m \u001b[49m\u001b[43mk\u001b[49m\u001b[43m,\u001b[49m\u001b[43m \u001b[49m\u001b[43mv\u001b[49m\u001b[43m \u001b[49m\u001b[38;5;129;43;01min\u001b[39;49;00m\u001b[43m \u001b[49m\u001b[43mkwargs\u001b[49m\u001b[38;5;241;43m.\u001b[39;49m\u001b[43mitems\u001b[49m\u001b[43m(\u001b[49m\u001b[43m)\u001b[49m\u001b[43m \u001b[49m\u001b[38;5;28;43;01mif\u001b[39;49;00m\u001b[43m \u001b[49m\u001b[43mk\u001b[49m\u001b[43m \u001b[49m\u001b[38;5;129;43;01mnot\u001b[39;49;00m\u001b[43m \u001b[49m\u001b[38;5;129;43;01min\u001b[39;49;00m\u001b[43m \u001b[49m\u001b[43mskip\u001b[49m\u001b[43m}\u001b[49m\u001b[43m)\u001b[49m)\n\u001b[1;32m   2234\u001b[0m \u001b[38;5;28;01melse\u001b[39;00m:  \u001b[38;5;66;03m# Let third-parties do as they see fit.\u001b[39;00m\n\u001b[1;32m   2235\u001b[0m     print_method \u001b[38;5;241m=\u001b[39m meth\n",
      "File \u001b[0;32m/share/pkg.8/python3/3.10.12/install/lib/python3.10/site-packages/matplotlib/backends/backend_pdf.py:2813\u001b[0m, in \u001b[0;36mFigureCanvasPdf.print_pdf\u001b[0;34m(self, filename, bbox_inches_restore, metadata)\u001b[0m\n\u001b[1;32m   2811\u001b[0m     file \u001b[38;5;241m=\u001b[39m filename\u001b[38;5;241m.\u001b[39m_file\n\u001b[1;32m   2812\u001b[0m \u001b[38;5;28;01melse\u001b[39;00m:\n\u001b[0;32m-> 2813\u001b[0m     file \u001b[38;5;241m=\u001b[39m \u001b[43mPdfFile\u001b[49m\u001b[43m(\u001b[49m\u001b[43mfilename\u001b[49m\u001b[43m,\u001b[49m\u001b[43m \u001b[49m\u001b[43mmetadata\u001b[49m\u001b[38;5;241;43m=\u001b[39;49m\u001b[43mmetadata\u001b[49m\u001b[43m)\u001b[49m\n\u001b[1;32m   2814\u001b[0m \u001b[38;5;28;01mtry\u001b[39;00m:\n\u001b[1;32m   2815\u001b[0m     file\u001b[38;5;241m.\u001b[39mnewPage(width, height)\n",
      "File \u001b[0;32m/share/pkg.8/python3/3.10.12/install/lib/python3.10/site-packages/matplotlib/backends/backend_pdf.py:714\u001b[0m, in \u001b[0;36mPdfFile.__init__\u001b[0;34m(self, filename, metadata)\u001b[0m\n\u001b[1;32m    712\u001b[0m \u001b[38;5;28mself\u001b[39m\u001b[38;5;241m.\u001b[39moriginal_file_like \u001b[38;5;241m=\u001b[39m \u001b[38;5;28;01mNone\u001b[39;00m\n\u001b[1;32m    713\u001b[0m \u001b[38;5;28mself\u001b[39m\u001b[38;5;241m.\u001b[39mtell_base \u001b[38;5;241m=\u001b[39m \u001b[38;5;241m0\u001b[39m\n\u001b[0;32m--> 714\u001b[0m fh, opened \u001b[38;5;241m=\u001b[39m \u001b[43mcbook\u001b[49m\u001b[38;5;241;43m.\u001b[39;49m\u001b[43mto_filehandle\u001b[49m\u001b[43m(\u001b[49m\u001b[43mfilename\u001b[49m\u001b[43m,\u001b[49m\u001b[43m \u001b[49m\u001b[38;5;124;43m\"\u001b[39;49m\u001b[38;5;124;43mwb\u001b[39;49m\u001b[38;5;124;43m\"\u001b[39;49m\u001b[43m,\u001b[49m\u001b[43m \u001b[49m\u001b[43mreturn_opened\u001b[49m\u001b[38;5;241;43m=\u001b[39;49m\u001b[38;5;28;43;01mTrue\u001b[39;49;00m\u001b[43m)\u001b[49m\n\u001b[1;32m    715\u001b[0m \u001b[38;5;28;01mif\u001b[39;00m \u001b[38;5;129;01mnot\u001b[39;00m opened:\n\u001b[1;32m    716\u001b[0m     \u001b[38;5;28;01mtry\u001b[39;00m:\n",
      "File \u001b[0;32m/share/pkg.8/python3/3.10.12/install/lib/python3.10/site-packages/matplotlib/cbook/__init__.py:494\u001b[0m, in \u001b[0;36mto_filehandle\u001b[0;34m(fname, flag, return_opened, encoding)\u001b[0m\n\u001b[1;32m    492\u001b[0m         fh \u001b[38;5;241m=\u001b[39m bz2\u001b[38;5;241m.\u001b[39mBZ2File(fname, flag)\n\u001b[1;32m    493\u001b[0m     \u001b[38;5;28;01melse\u001b[39;00m:\n\u001b[0;32m--> 494\u001b[0m         fh \u001b[38;5;241m=\u001b[39m \u001b[38;5;28;43mopen\u001b[39;49m\u001b[43m(\u001b[49m\u001b[43mfname\u001b[49m\u001b[43m,\u001b[49m\u001b[43m \u001b[49m\u001b[43mflag\u001b[49m\u001b[43m,\u001b[49m\u001b[43m \u001b[49m\u001b[43mencoding\u001b[49m\u001b[38;5;241;43m=\u001b[39;49m\u001b[43mencoding\u001b[49m\u001b[43m)\u001b[49m\n\u001b[1;32m    495\u001b[0m     opened \u001b[38;5;241m=\u001b[39m \u001b[38;5;28;01mTrue\u001b[39;00m\n\u001b[1;32m    496\u001b[0m \u001b[38;5;28;01melif\u001b[39;00m \u001b[38;5;28mhasattr\u001b[39m(fname, \u001b[38;5;124m'\u001b[39m\u001b[38;5;124mseek\u001b[39m\u001b[38;5;124m'\u001b[39m):\n",
      "\u001b[0;31mPermissionError\u001b[0m: [Errno 13] Permission denied: 'gradcam_results/gradcam_epidural.pdf'"
     ]
    },
    {
     "data": {
      "image/png": "[encoded data removed]",
      "text/plain": [
       "<Figure size 2000x600 with 5 Axes>"
      ]
     },
     "metadata": {},
     "output_type": "display_data"
    }
   ],
   "source": [
    "# Test another specific case\n",
    "print(\"\\nAnalyzing new case...\")\n",
    "test_file = \"/projectnb/ec523kb/projects/hemorrhage-classification/stage_2_train_sorted_nifti_pruned/ID_1e03295964/ID_1e03295964.nii.gz\"  # Replace with new file path\n",
    "results, image = analyze_hemorrhage_with_gradcam(model, test_file)\n",
    "visualize_gradcam_results(image, results, display=True)"
   ]
  },
  {
   "cell_type": "code",
   "execution_count": null,
   "id": "7d3bbfc0",
   "metadata": {},
   "outputs": [],
   "source": [
    "print(\"\\nAnalyzing new case...\")\n",
    "test_file = \"/projectnb/ec523kb/projects/hemorrhage-classification/stage_2_train_sorted_nifti_pruned/ID_2ad3829f51/ID_2ad3829f51.nii.gz\"  # Replace with new file path\n",
    "results, image = analyze_hemorrhage_with_gradcam(model, test_file)\n",
    "visualize_gradcam_results(image, results, display=True)"
   ]
  },
  {
   "cell_type": "code",
   "execution_count": null,
   "id": "a8d6e7d0",
   "metadata": {},
   "outputs": [],
   "source": [
    "# intraparenchymal\n",
    "print(\"\\nAnalyzing new case...\")\n",
    "test_file = \"/projectnb/ec523kb/projects/hemorrhage-classification/stage_2_train_sorted_nifti_pruned/ID_2dfd378443/ID_2dfd378443.nii.gz\"  # Replace with new file path\n",
    "results, image = analyze_hemorrhage_with_gradcam(model, test_file)\n",
    "visualize_gradcam_results(image, results, display=True)"
   ]
  },
  {
   "cell_type": "code",
   "execution_count": null,
   "id": "63e82399",
   "metadata": {},
   "outputs": [],
   "source": []
  },
  {
   "cell_type": "code",
   "execution_count": null,
   "id": "745e7634",
   "metadata": {},
   "outputs": [],
   "source": []
  }
 ],
 "metadata": {
  "kernelspec": {
   "display_name": "Python 3 (ipykernel)",
   "language": "python",
   "name": "python3"
  },
  "language_info": {
   "codemirror_mode": {
    "name": "ipython",
    "version": 3
   },
   "file_extension": ".py",
   "mimetype": "text/x-python",
   "name": "python",
   "nbconvert_exporter": "python",
   "pygments_lexer": "ipython3",
   "version": "3.10.12"
  }
 },
 "nbformat": 4,
 "nbformat_minor": 5
}
